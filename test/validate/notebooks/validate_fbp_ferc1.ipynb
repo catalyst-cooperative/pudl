{
 "cells": [
  {
   "cell_type": "markdown",
   "metadata": {
    "toc-hr-collapsed": true
   },
   "source": [
    "# Validation of FERC Form 1 Fuel by Plant Data \n",
    "This notebook runs sanity checks on the FERC Form 1 Fuel by Plant output compilation. These are the same tests which are run by the `fbp_ferc1` validation tests by PyTest. The notebook and visualizations are meant to be used as a diagnostic tool, to help understand what's wrong when the PyTest based data validations fail for some reason."
   ]
  },
  {
   "cell_type": "code",
   "execution_count": null,
   "metadata": {},
   "outputs": [],
   "source": [
    "%load_ext autoreload\n",
    "%autoreload 2"
   ]
  },
  {
   "cell_type": "code",
   "execution_count": null,
   "metadata": {},
   "outputs": [],
   "source": [
    "import sys\n",
    "import pandas as pd\n",
    "import numpy as np\n",
    "import sqlalchemy as sa\n",
    "import pudl\n",
    "import pudl.validate as pv"
   ]
  },
  {
   "cell_type": "code",
   "execution_count": null,
   "metadata": {},
   "outputs": [],
   "source": [
    "import warnings\n",
    "import logging\n",
    "logger = logging.getLogger()\n",
    "logger.setLevel(logging.INFO)\n",
    "handler = logging.StreamHandler(stream=sys.stdout)\n",
    "formatter = logging.Formatter('%(message)s')\n",
    "handler.setFormatter(formatter)\n",
    "logger.handlers = [handler]"
   ]
  },
  {
   "cell_type": "code",
   "execution_count": null,
   "metadata": {},
   "outputs": [],
   "source": [
    "import matplotlib.pyplot as plt\n",
    "import matplotlib as mpl\n",
    "%matplotlib inline"
   ]
  },
  {
   "cell_type": "code",
   "execution_count": null,
   "metadata": {},
   "outputs": [],
   "source": [
    "plt.style.use('ggplot')\n",
    "mpl.rcParams['figure.figsize'] = (10,4)\n",
    "mpl.rcParams['figure.dpi'] = 150\n",
    "pd.options.display.max_columns = 56"
   ]
  },
  {
   "cell_type": "code",
   "execution_count": null,
   "metadata": {},
   "outputs": [],
   "source": [
    "pudl_settings = pudl.workspace.setup.get_defaults()\n",
    "ferc1_engine = sa.create_engine(pudl_settings['ferc1_db'])\n",
    "pudl_engine = sa.create_engine(pudl_settings['pudl_db'])\n",
    "pudl_settings"
   ]
  },
  {
   "cell_type": "markdown",
   "metadata": {},
   "source": [
    "## Pull `fbp_ferc1` and calculate some useful values\n",
    "First we pull the original (post-ETL) FERC 1 fuel data out of the PUDL database using an output object.  The FERC Form 1 data only exists at annual resolution, so there's no inter-frequency aggregation to think about."
   ]
  },
  {
   "cell_type": "code",
   "execution_count": null,
   "metadata": {},
   "outputs": [],
   "source": [
    "pudl_out = pudl.output.pudltabl.PudlTabl(pudl_engine)\n",
    "fbp_ferc1 = pudl_out.fbp_ferc1()"
   ]
  },
  {
   "cell_type": "code",
   "execution_count": null,
   "metadata": {},
   "outputs": [],
   "source": [
    "import seaborn as sns\n",
    "mpl.pyplot.figure(figsize=(6, 6))\n",
    "sns.regplot(x=\"coal_fraction_mmbtu\", y=\"coal_fraction_cost\", data=fbp_ferc1, scatter_kws={\"alpha\": 0.05}, label=\"coal\", color=\"black\")\n",
    "sns.regplot(x=\"gas_fraction_mmbtu\", y=\"gas_fraction_cost\", data=fbp_ferc1, scatter_kws={\"alpha\": 0.05}, label=\"gas\", color=\"blue\")\n",
    "plt.xlabel(\"Heat Content Fraction\")\n",
    "plt.ylabel(\"Cost Fraction\");"
   ]
  },
  {
   "cell_type": "code",
   "execution_count": null,
   "metadata": {},
   "outputs": [],
   "source": [
    "print(fbp_ferc1[[\"gas_fraction_mmbtu\", \"gas_fraction_cost\"]].corr().iloc[0,1])\n",
    "print(fbp_ferc1[[\"oil_fraction_mmbtu\", \"oil_fraction_cost\"]].corr().iloc[0,1])\n",
    "print(fbp_ferc1[[\"coal_fraction_mmbtu\", \"coal_fraction_cost\"]].corr().iloc[0,1])"
   ]
  },
  {
   "cell_type": "markdown",
   "metadata": {},
   "source": [
    "# Validating Historical Distributions\n",
    "As a sanity check of the testing process itself, we can check to see whether the entire historical distribution has attributes that place it within the extremes of a historical subsampling of the distribution. In this case, we sample each historical year, and look at the range of values taken on by some quantile, and see whether the same quantile for the whole of the dataset fits within that range"
   ]
  },
  {
   "cell_type": "code",
   "execution_count": null,
   "metadata": {},
   "outputs": [],
   "source": [
    "# This is required to get the fuel costs per unit back into the dataframe.... just for sanity checking:\n",
    "for fuel in [\"gas\", \"oil\", \"coal\", \"waste\", \"nuclear\"]:\n",
    "    fbp_ferc1[f\"{fuel}_cost_per_mmbtu\"] = (fbp_ferc1[f\"{fuel}_fraction_cost\"] * fbp_ferc1[\"fuel_cost\"]) /  (fbp_ferc1[f\"{fuel}_fraction_mmbtu\"] * fbp_ferc1[\"fuel_mmbtu\"])"
   ]
  },
  {
   "cell_type": "code",
   "execution_count": null,
   "metadata": {},
   "outputs": [],
   "source": [
    "pv.plot_vs_self(fbp_ferc1, pv.fbp_ferc1_self)"
   ]
  },
  {
   "cell_type": "markdown",
   "metadata": {
    "toc-hr-collapsed": false
   },
   "source": [
    "# Validation Against Fixed Bounds \n",
    "Some of the variables reported in this table have a fixed range of reasonable values, like the heat content per unit of a given fuel type.  These varaibles can be tested for validity against external standards directly.  In general we have two kinds of tests in this section:\n",
    "* **Tails:** are the exteme values too extreme? Typically, this is at the 5% and 95% level, but depending on the distribution, sometimes other thresholds are used.\n",
    "* **Middle:** Is the central value of the distribution where it should be?"
   ]
  },
  {
   "cell_type": "markdown",
   "metadata": {},
   "source": [
    "## Fuel Cost per MMBTU"
   ]
  },
  {
   "cell_type": "code",
   "execution_count": null,
   "metadata": {},
   "outputs": [],
   "source": [
    "pudl.validate.plot_vs_bounds(fbp_ferc1, pv.fbp_ferc1_gas_cost_per_mmbtu_bounds)\n",
    "pudl.validate.plot_vs_bounds(fbp_ferc1, pv.fbp_ferc1_oil_cost_per_mmbtu_bounds)\n",
    "pudl.validate.plot_vs_bounds(fbp_ferc1, pv.fbp_ferc1_coal_cost_per_mmbtu_bounds)"
   ]
  },
  {
   "cell_type": "code",
   "execution_count": null,
   "metadata": {},
   "outputs": [],
   "source": []
  }
 ],
 "metadata": {
  "kernelspec": {
   "display_name": "Python 3",
   "language": "python",
   "name": "python3"
  },
  "language_info": {
   "codemirror_mode": {
    "name": "ipython",
    "version": 3
   },
   "file_extension": ".py",
   "mimetype": "text/x-python",
   "name": "python",
   "nbconvert_exporter": "python",
   "pygments_lexer": "ipython3",
   "version": "3.7.6"
  }
 },
 "nbformat": 4,
 "nbformat_minor": 4
}
