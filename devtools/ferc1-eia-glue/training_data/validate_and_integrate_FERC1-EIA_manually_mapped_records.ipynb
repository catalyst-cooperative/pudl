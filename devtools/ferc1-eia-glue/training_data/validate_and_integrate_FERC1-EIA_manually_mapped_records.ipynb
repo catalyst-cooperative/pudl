{
 "cells": [
  {
   "cell_type": "markdown",
   "id": "d43d8e23-c9f6-4ea0-be78-9dd3eea412e1",
   "metadata": {},
   "source": [
    "# Validate & Integrate FERC1-EIA Manual Matches into the Training Data"
   ]
  },
  {
   "cell_type": "code",
   "execution_count": null,
   "id": "7331b72f-e5a1-4dd9-85d0-8258cde1bf30",
   "metadata": {
    "tags": []
   },
   "outputs": [],
   "source": [
    "%load_ext autoreload\n",
    "%autoreload 2"
   ]
  },
  {
   "cell_type": "code",
   "execution_count": null,
   "id": "d5b032b6-20b8-45a1-8ecf-49740ddd156b",
   "metadata": {
    "tags": []
   },
   "outputs": [],
   "source": [
    "# Standard libraries\n",
    "import logging\n",
    "from pathlib import Path\n",
    "import os\n",
    "import sys\n",
    "\n",
    "# 3rd party libraries\n",
    "import pandas as pd\n",
    "import sqlalchemy as sa\n",
    "import importlib\n",
    "\n",
    "# Local libraries\n",
    "import pudl\n",
    "from pudl.analysis.ferc1_eia_train import *"
   ]
  },
  {
   "cell_type": "code",
   "execution_count": null,
   "id": "a6b515ff-389d-4970-a86e-5b0be4272f12",
   "metadata": {
    "tags": []
   },
   "outputs": [],
   "source": [
    "pudl_settings = pudl.workspace.setup.get_defaults()\n",
    "\n",
    "ferc1_db_engine = sa.create_engine(pudl_settings['ferc1_db'])\n",
    "ferc1_xbrl_engine = sa.create_engine(pudl_settings[\"ferc1_xbrl_db\"])\n",
    "pudl_engine = sa.create_engine(pudl_settings['pudl_db'])\n",
    "\n",
    "pudl_out = pudl.output.pudltabl.PudlTabl(pudl_engine, freq='AS', fill_net_gen=True)"
   ]
  },
  {
   "cell_type": "code",
   "execution_count": null,
   "id": "c2460394-c9b5-4b64-818e-9252f6e53657",
   "metadata": {
    "tags": []
   },
   "outputs": [],
   "source": [
    "# Load useful tables\n",
    "ppe = pudl_out.plant_parts_eia().reset_index()\n",
    "utils_eia860 = pudl_out.utils_eia860()\n",
    "plants_all_ferc1 = pudl_out.plants_all_ferc1()\n",
    "ferc1_eia = pudl_out.ferc1_eia()"
   ]
  },
  {
   "cell_type": "markdown",
   "id": "b6ad6dd1-90e2-498c-92de-b278016ad381",
   "metadata": {
    "tags": []
   },
   "source": [
    "## 1. Manual Mapping \n",
    "Use the Manual Mapping Spreadsheet and the Plant Parts EIA table (PPE) to make check AI matches and add your own. It's helpful to go plant by plant and read the [Override Instructions](https://docs.google.com/document/d/1nJfmUtbSN-RT5U2Z3rJKfOIhWsRFUPNxs9NKTes0SRA/edit#) to learn how to begin fixing/verifying the FERC-EIA connections.\n"
   ]
  },
  {
   "cell_type": "markdown",
   "id": "531a0862-8f74-45b1-8c52-18fbf235dbee",
   "metadata": {},
   "source": [
    "Double check `plant_id_pudl` by copying the `record_id_ferc1` value from the manual mapping spreadsheet into the code below. You can then use plant_id_pudl to sort the PPE."
   ]
  },
  {
   "cell_type": "code",
   "execution_count": null,
   "id": "1730287e-213c-4ba9-bbed-5f840430aeb8",
   "metadata": {},
   "outputs": [],
   "source": [
    "record_id_ferc1 = \"f1_steam_2005_12_145_1_4\"  #record you want to test\n",
    "plants_all_ferc1[plants_all_ferc1[\"record_id\"]==record_id_ferc1].plant_id_pudl"
   ]
  },
  {
   "cell_type": "markdown",
   "id": "bbf22e2e-e1f5-4a9e-883d-b73c0c2c7815",
   "metadata": {},
   "source": [
    "While looking through the PPE table, you might find possible matches that come from a different utility. Use the `utils_eia860` table to find that utility's name and location to see if it's a reasonable match."
   ]
  },
  {
   "cell_type": "code",
   "execution_count": null,
   "id": "f5d17b80-451b-4ac2-b003-939fdfc0cfcb",
   "metadata": {},
   "outputs": [],
   "source": [
    "utility_id_eia = 15466  #utiltiy you want to test\n",
    "utils_eia860[utils_eia860[\"utility_id_eia\"]==utility_id_eia]"
   ]
  },
  {
   "cell_type": "markdown",
   "id": "77d30ba1-fb78-4fa9-a74b-2da9158275b7",
   "metadata": {},
   "source": [
    "Here's how to navigate the PPE. Add, comment, or uncomment these filters as necessary to find what you need. We recommend keeping `true_gran=TRUE` and `ownership_dupe=False` for the most streamline mapping experience."
   ]
  },
  {
   "cell_type": "code",
   "execution_count": null,
   "id": "168c7d7e-a972-44ea-887d-973537cfe1fc",
   "metadata": {},
   "outputs": [],
   "source": [
    "ppe[\n",
    "    (ppe[\"plant_id_pudl\"]==659)\n",
    "    #(ppe[\"plant_name_eia\"].str.contains(\"Pleasant Va\"))\n",
    "    #(ppe[\"utility_id_eia\"]==13781)\n",
    "    #& (ppe[\"report_year\"]==2015)\n",
    "    #& (ppe[\"capacity_mw\"]<10)\n",
    "    & (ppe[\"true_gran\"]==True)\n",
    "    & (ppe[\"ownership_dupe\"]==False)\n",
    "][[\n",
    "    \"record_id_eia\", \n",
    "    \"plant_id_eia\", \n",
    "    \"true_gran\", \n",
    "    \"report_year\", \n",
    "    \"technology_description\", \n",
    "    \"utility_id_eia\", \n",
    "    \"capacity_mw\", \n",
    "    \"net_generation_mwh\", \n",
    "    \"installation_year\", \n",
    "    \"plant_name_eia\", \n",
    "    \"plant_name_ppe\"\n",
    "]].sort_values(\"capacity_mw\", ascending=False)"
   ]
  },
  {
   "cell_type": "markdown",
   "id": "2d49c68b-01ce-436c-9998-571da3d585d6",
   "metadata": {
    "tags": []
   },
   "source": [
    "## 2. Validate Manual Matches\n",
    "Once you've finished checking the maps, make sure everything you want to validate is set to `verified=TRUE`. Then, move the file into the `devtools/ferc1-eia-glue/training_data/add_to_training` directory and run the following functions."
   ]
  },
  {
   "cell_type": "code",
   "execution_count": null,
   "id": "5993e983-bdac-42a9-9bd6-9c7b6a269f5d",
   "metadata": {
    "tags": []
   },
   "outputs": [],
   "source": [
    "current_training_df = pd.read_csv(\n",
    "    importlib.resources.path(\"pudl.package_data.glue\", \"ferc1_eia_train.csv\")\n",
    ")\n",
    "path_to_overrides = \"./add_to_training/\"\n",
    "override_files = [\n",
    "    file for file in os.listdir(path_to_overrides) \n",
    "    if file.endswith(\".xlsx\") \n",
    "    and not file.startswith(\"~$\")\n",
    "]"
   ]
  },
  {
   "cell_type": "markdown",
   "id": "50a00d90-a91d-4ce7-b7a1-578e3b1a9b4d",
   "metadata": {},
   "source": [
    "Validate files in the `add_to_training` directory where `validated=TRUE`"
   ]
  },
  {
   "cell_type": "code",
   "execution_count": null,
   "id": "146d7d73-b17c-405d-bdc2-dea3e7584032",
   "metadata": {
    "tags": []
   },
   "outputs": [],
   "source": [
    "for file in override_files:\n",
    "    \n",
    "    print(f\"VALIDATING {file} ************** \")\n",
    "    file_df = pd.read_excel(path_to_overrides + file)\n",
    "    \n",
    "    validate_override_fixes(\n",
    "        validated_connections=file_df,\n",
    "        utils_eia860=utils_eia860,\n",
    "        ppe=ppe,\n",
    "        ferc1_eia=ferc1_eia,\n",
    "        training_data=current_training_df,\n",
    "        expect_override_overrides=True,\n",
    "        allow_mismatched_utilities=True\n",
    "    )\n",
    "    \n",
    "    print(\" \")"
   ]
  },
  {
   "cell_type": "markdown",
   "id": "eaade2c4-ef2d-4a76-9bc9-648e11116a52",
   "metadata": {
    "tags": []
   },
   "source": [
    "## 3. Add Manual Matches to Training Data\n",
    "When you've finished editing the `<UTILITY>_fix_FERC-EIA_overrides.xlsx` and want to add your changes to the official override csv, move your file to the directory called `add_to_training` and then run the following function. \n",
    "\n",
    "**Note:** If you have changed or marked TRUE any records that have already been overridden and included in the training data, you will want to set `expect_override_overrides = True`. Otherwise, the function will check to see if you have accidentally tampered with values that have already been matched."
   ]
  },
  {
   "cell_type": "code",
   "execution_count": null,
   "id": "2a790162-3b23-4b4b-a9cf-f4cbdf6c7fe7",
   "metadata": {
    "tags": []
   },
   "outputs": [],
   "source": [
    "validate_and_add_to_training(\n",
    "    utils_eia860=utils_eia860,\n",
    "    ppe=ppe,\n",
    "    ferc1_eia=ferc1_eia,\n",
    "    expect_override_overrides=True, \n",
    "    allow_mismatched_utilities=True,\n",
    "    input_dir_path=\"./add_to_training/\"\n",
    ")"
   ]
  }
 ],
 "metadata": {
  "kernelspec": {
   "display_name": "Python 3 (ipykernel)",
   "language": "python",
   "name": "python3"
  },
  "language_info": {
   "codemirror_mode": {
    "name": "ipython",
    "version": 3
   },
   "file_extension": ".py",
   "mimetype": "text/x-python",
   "name": "python",
   "nbconvert_exporter": "python",
   "pygments_lexer": "ipython3",
   "version": "3.10.10"
  }
 },
 "nbformat": 4,
 "nbformat_minor": 5
}
