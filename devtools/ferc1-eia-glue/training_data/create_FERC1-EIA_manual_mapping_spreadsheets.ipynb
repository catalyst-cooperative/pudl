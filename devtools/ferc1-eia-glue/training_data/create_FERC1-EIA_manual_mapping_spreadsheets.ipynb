{
 "cells": [
  {
   "cell_type": "markdown",
   "id": "88346b2b-0b9e-422f-bbd1-38e5ef174640",
   "metadata": {},
   "source": [
    "# Create FERC-EIA Manual Mapping Spreadsheets"
   ]
  },
  {
   "cell_type": "code",
   "execution_count": null,
   "id": "293190c4-6b0b-4f3e-837b-d826bdc66ff9",
   "metadata": {
    "tags": []
   },
   "outputs": [],
   "source": [
    "%load_ext autoreload\n",
    "%autoreload 2"
   ]
  },
  {
   "cell_type": "code",
   "execution_count": null,
   "id": "86a9f2f0-d339-4cb3-a447-b20872153d5a",
   "metadata": {
    "tags": []
   },
   "outputs": [],
   "source": [
    "# Standard libraries\n",
    "import logging\n",
    "from pathlib import Path\n",
    "import os\n",
    "import sys\n",
    "\n",
    "# 3rd party libraries\n",
    "import pandas as pd\n",
    "import sqlalchemy as sa\n",
    "\n",
    "# Local libraries\n",
    "import pudl\n",
    "from pudl.workspace.setup import PudlPaths\n",
    "from pudl.analysis.ferc1_eia_train import *"
   ]
  },
  {
   "cell_type": "code",
   "execution_count": null,
   "id": "17193bc8-a187-4be0-b22b-77370d2d7b96",
   "metadata": {
    "tags": []
   },
   "outputs": [],
   "source": [
    "pudl_engine = sa.create_engine(PudlPaths().pudl_db)\n",
    "pudl_out = pudl.output.pudltabl.PudlTabl(pudl_engine, freq='AS', fill_net_gen=True)"
   ]
  },
  {
   "cell_type": "markdown",
   "id": "4cdbb7ca-835d-4ab6-8af3-38e97c5d4869",
   "metadata": {},
   "source": [
    "## Create Manual Mapping Spreadsheet\n",
    "Run the following function and you'll find excel files called `<UTILITY>_fix_FERC-EIA_overrides.xlsx` in the `devtools/ferc1-eia-glue/manual_mapping_spreadsheets` directory created based on the utility and year inputs you specified above."
   ]
  },
  {
   "cell_type": "code",
   "execution_count": null,
   "id": "b3e2b31b-dd6d-4ec5-9e9b-2fbc9f748398",
   "metadata": {
    "tags": []
   },
   "outputs": [],
   "source": [
    "specified_utilities = {\n",
    "    #'BHE': [12341, 14354, 13407, 17166],\n",
    "    #'Southern':[7140, 195, 12686, 17622]\n",
    "    #'Dominion': [17539, 17554, 19876]\n",
    "    #'Entergy': [11241, 814, 12465, 55937, 13478],\n",
    "    #'Xcel': [13781, 13780, 17718, 15466],\n",
    "    #'NextEra': [6452, 7801]\n",
    "    #'IDACORP': [9191]\n",
    "    'Evergy': [10000, 10005, 56211, 22500]\n",
    "}\n",
    "\n",
    "specified_years = [2020\n",
    "    # 2005, 2006, 2007, 2008, 2009, 2010, 2011, 2012, \n",
    "    # 2013, 2014, 2015, 2016, 2017, 2018, 2019, 2020\n",
    "]"
   ]
  },
  {
   "cell_type": "code",
   "execution_count": null,
   "id": "adc94b4f-6865-4f1a-9d0a-736386275ae5",
   "metadata": {
    "tags": []
   },
   "outputs": [],
   "source": [
    "# Load input tables\n",
    "ppe = pudl_out.plant_parts_eia()\n",
    "ferc1_eia = pudl_out.ferc1_eia()\n",
    "utils_eia860 = pudl_out.utils_eia860()"
   ]
  },
  {
   "cell_type": "code",
   "execution_count": null,
   "id": "a199ef0a-fa2e-445c-80e6-2947cf637150",
   "metadata": {
    "tags": []
   },
   "outputs": [],
   "source": [
    "generate_all_override_spreadsheets(\n",
    "    ferc1_eia=ferc1_eia,\n",
    "    ppe=ppe,\n",
    "    utils_eia860=utils_eia860,\n",
    "    util_dict=specified_utilities, \n",
    "    years=specified_years,\n",
    "    output_dir_path='./manual_mapping_spreadsheets'\n",
    ")"
   ]
  }
 ],
 "metadata": {
  "kernelspec": {
   "display_name": "Python 3 (ipykernel)",
   "language": "python",
   "name": "python3"
  },
  "language_info": {
   "codemirror_mode": {
    "name": "ipython",
    "version": 3
   },
   "file_extension": ".py",
   "mimetype": "text/x-python",
   "name": "python",
   "nbconvert_exporter": "python",
   "pygments_lexer": "ipython3",
   "version": "3.11.2"
  }
 },
 "nbformat": 4,
 "nbformat_minor": 5
}
