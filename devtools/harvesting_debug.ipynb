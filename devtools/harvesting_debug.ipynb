{
 "cells": [
  {
   "cell_type": "code",
   "execution_count": null,
   "metadata": {},
   "outputs": [],
   "source": [
    "%load_ext autoreload\n",
    "%autoreload 2"
   ]
  },
  {
   "cell_type": "code",
   "execution_count": null,
   "metadata": {
    "tags": []
   },
   "outputs": [],
   "source": [
    "import os\n",
    "\n",
    "assert os.environ.get(\"DAGSTER_HOME\"), (\n",
    "    \"The DAGSTER_HOME env var is not set so dagster won't be able to find the assets.\"\n",
    "    \"Set the DAGSTER_HOME env var in this notebook or kill the jupyter server and set\"\n",
    "    \" the DAGSTER_HOME env var in your shell and relaunch jupyter.\"\n",
    ")"
   ]
  },
  {
   "cell_type": "code",
   "execution_count": null,
   "metadata": {},
   "outputs": [],
   "source": [
    "import copy\n",
    "import logging\n",
    "import pathlib\n",
    "import sys\n",
    "\n",
    "import yaml\n",
    "\n",
    "import pudl\n",
    "from pudl.etl import *"
   ]
  },
  {
   "cell_type": "code",
   "execution_count": null,
   "metadata": {},
   "outputs": [],
   "source": [
    "logger = logging.getLogger()\n",
    "logger.setLevel(logging.DEBUG)\n",
    "handler = logging.StreamHandler(stream=sys.stdout)\n",
    "formatter = logging.Formatter(\"%(message)s\")\n",
    "handler.setFormatter(formatter)\n",
    "logger.handlers = [handler]"
   ]
  },
  {
   "cell_type": "markdown",
   "metadata": {},
   "source": [
    "## Load pre harvesting assets\n",
    "To avoid rerunning the extract and transform steps, this notebook loads the most recent pre harvested asset values. **If you are debugging the code changes in the harvesting step, make sure you rematerialize the EIA extract and transform assets for the same years prior to running the following cells.** If you are you are debugging pre harvesting asset code changes' affect on the harvesting process, rerun the pre harvesting asset using dagit then rerun the following cells."
   ]
  },
  {
   "cell_type": "code",
   "execution_count": null,
   "metadata": {
    "tags": []
   },
   "outputs": [],
   "source": [
    "from dagster import AssetKey\n",
    "\n",
    "from pudl.etl import defs\n",
    "from pudl.helpers import convert_cols_dtypes, get_asset_group_keys\n",
    "\n",
    "clean_eia923_asset_names = get_asset_group_keys(\"clean_eia923\", default_assets)\n",
    "clean_eia860_asset_names = get_asset_group_keys(\"clean_eia860\", default_assets)\n",
    "clean_eia_asset_names = clean_eia860_asset_names + clean_eia923_asset_names\n",
    "\n",
    "eia_transformed_dfs = {}\n",
    "with defs.get_asset_value_loader() as loader:\n",
    "    eia_transformed_dfs = {\n",
    "        asset_name: loader.load_asset_value(AssetKey(asset_name))\n",
    "        for asset_name in clean_eia_asset_names\n",
    "    }\n",
    "\n",
    "\n",
    "# Do some final cleanup and assign appropriate types:\n",
    "eia_transformed_dfs = {\n",
    "    name: convert_cols_dtypes(df, data_source=\"eia\")\n",
    "    for name, df in eia_transformed_dfs.items()\n",
    "}\n",
    "\n",
    "# Remove the clean_ prefix from the table names.\n",
    "eia_transformed_dfs = {\n",
    "    table_name.replace(\"clean_\", \"\"): df\n",
    "    for table_name, df in eia_transformed_dfs.items()\n",
    "}"
   ]
  },
  {
   "cell_type": "markdown",
   "metadata": {},
   "source": [
    "# Run harvest w/ debug=True"
   ]
  },
  {
   "cell_type": "code",
   "execution_count": null,
   "metadata": {},
   "outputs": [],
   "source": [
    "%%time\n",
    "# we want to investigate the harvesting of the plants in this case...\n",
    "entity = \"generators\"\n",
    "# create the empty entities df to fill up\n",
    "entities_dfs = {}\n",
    "entities_dfs, eia_transformed_dfs, col_dfs = pudl.transform.eia.harvesting(\n",
    "    entity, eia_transformed_dfs, entities_dfs, debug=True\n",
    ")"
   ]
  },
  {
   "cell_type": "markdown",
   "metadata": {},
   "source": [
    "# Use `col_dfs` to explore harvested values"
   ]
  },
  {
   "cell_type": "code",
   "execution_count": null,
   "metadata": {},
   "outputs": [],
   "source": [
    "pmc = col_dfs[\"prime_mover_code\"]"
   ]
  },
  {
   "cell_type": "code",
   "execution_count": null,
   "metadata": {
    "tags": []
   },
   "outputs": [],
   "source": [
    "pmc.prime_mover_code.unique()"
   ]
  }
 ],
 "metadata": {
  "kernelspec": {
   "display_name": "Python 3 (ipykernel)",
   "language": "python",
   "name": "python3"
  },
  "language_info": {
   "codemirror_mode": {
    "name": "ipython",
    "version": 3
   },
   "file_extension": ".py",
   "mimetype": "text/x-python",
   "name": "python",
   "nbconvert_exporter": "python",
   "pygments_lexer": "ipython3",
   "version": "3.10.9"
  },
  "vscode": {
   "interpreter": {
    "hash": "45ac4012cf3d511abe021e64327549bc8e5a875099e88743f7447e1180329125"
   }
  }
 },
 "nbformat": 4,
 "nbformat_minor": 4
}
