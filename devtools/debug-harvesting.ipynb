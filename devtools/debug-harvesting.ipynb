{
 "cells": [
  {
   "cell_type": "code",
   "execution_count": null,
   "metadata": {},
   "outputs": [],
   "source": [
    "%load_ext autoreload\n",
    "%autoreload 3"
   ]
  },
  {
   "cell_type": "code",
   "execution_count": null,
   "metadata": {
    "tags": []
   },
   "outputs": [],
   "source": [
    "import os\n",
    "\n",
    "import pandas as pd\n",
    "from dagster import AssetKey\n",
    "\n",
    "from pudl.etl import default_assets, defs\n",
    "from pudl.helpers import get_asset_group_keys\n",
    "from pudl.settings import EiaSettings\n",
    "from pudl.transform.eia import EiaEntity, harvest_entity_tables\n",
    "\n",
    "assert os.environ.get(\"DAGSTER_HOME\"), (\n",
    "    \"The DAGSTER_HOME env var is not set so dagster won't be able to find the assets.\"\n",
    "    \"Set the DAGSTER_HOME env var in this notebook or kill the jupyter server and set\"\n",
    "    \" the DAGSTER_HOME env var in your shell and relaunch jupyter.\"\n",
    ")"
   ]
  },
  {
   "cell_type": "markdown",
   "metadata": {},
   "source": [
    "# Load pre-harvesting assets and run harvesting\n",
    "* To avoid rerunning the extract and transform steps, this notebook loads the most recent pre harvested asset values.\n",
    "* **If you are debugging the code changes in the harvesting step, make sure you rematerialize the EIA extract and transform assets for the same years prior to running the following cells.**\n",
    "* If you are you are debugging the effects of pre-harvesting code on the harvesting process, rerun the pre harvesting asset using dagit then rerun the following cells.\n",
    "* Note that because the harvesting process mutates the pre-harvesting assets, they need to be pulled fresh each time you re-run the harvesting step."
   ]
  },
  {
   "cell_type": "code",
   "execution_count": null,
   "metadata": {
    "tags": []
   },
   "outputs": [],
   "source": [
    "%%time\n",
    "\n",
    "clean_assets = get_asset_group_keys(\"clean_eia923\", default_assets)\n",
    "clean_assets += get_asset_group_keys(\"clean_eia860\", default_assets)\n",
    "\n",
    "clean_dfs = {}\n",
    "with defs.get_asset_value_loader() as loader:\n",
    "    clean_dfs = {\n",
    "        asset: loader.load_asset_value(AssetKey(asset)) for asset in clean_assets\n",
    "    }\n",
    "\n",
    "# this Enum defines the valid values of entity\n",
    "# entity = EiaEntity.UTILITIES\n",
    "# entity = EiaEntity.PLANTS\n",
    "# entity = EiaEntity.BOILERS\n",
    "entity = EiaEntity.GENERATORS\n",
    "eia_settings = EiaSettings()\n",
    "entity_df, annual_df, col_dfs = harvest_entity_tables(\n",
    "    entity, clean_dfs, debug=True, eia_settings=eia_settings\n",
    ")"
   ]
  },
  {
   "cell_type": "markdown",
   "metadata": {},
   "source": [
    "# Inspect the harvested results"
   ]
  },
  {
   "cell_type": "markdown",
   "metadata": {},
   "source": [
    "## The entity (static) table"
   ]
  },
  {
   "cell_type": "code",
   "execution_count": null,
   "metadata": {
    "tags": []
   },
   "outputs": [],
   "source": [
    "entity_df"
   ]
  },
  {
   "cell_type": "markdown",
   "metadata": {},
   "source": [
    "## The annual table"
   ]
  },
  {
   "cell_type": "code",
   "execution_count": null,
   "metadata": {
    "tags": []
   },
   "outputs": [],
   "source": [
    "annual_df"
   ]
  },
  {
   "cell_type": "markdown",
   "metadata": {},
   "source": [
    "## Use `col_dfs` to explore harvested values"
   ]
  },
  {
   "cell_type": "code",
   "execution_count": null,
   "metadata": {},
   "outputs": [],
   "source": [
    "pmc = col_dfs[\"prime_mover_code\"]"
   ]
  },
  {
   "cell_type": "code",
   "execution_count": null,
   "metadata": {
    "tags": []
   },
   "outputs": [],
   "source": [
    "pmc.prime_mover_code.unique()"
   ]
  }
 ],
 "metadata": {
  "kernelspec": {
   "display_name": "Python 3 (ipykernel)",
   "language": "python",
   "name": "python3"
  },
  "language_info": {
   "codemirror_mode": {
    "name": "ipython",
    "version": 3
   },
   "file_extension": ".py",
   "mimetype": "text/x-python",
   "name": "python",
   "nbconvert_exporter": "python",
   "pygments_lexer": "ipython3",
   "version": "3.10.10"
  },
  "vscode": {
   "interpreter": {
    "hash": "45ac4012cf3d511abe021e64327549bc8e5a875099e88743f7447e1180329125"
   }
  }
 },
 "nbformat": 4,
 "nbformat_minor": 4
}
