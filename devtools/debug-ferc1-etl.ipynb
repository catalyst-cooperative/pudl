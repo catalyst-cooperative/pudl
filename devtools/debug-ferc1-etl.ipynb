{
 "cells": [
  {
   "cell_type": "markdown",
   "id": "3deb7c75-179c-439f-b30c-beca40e9cecf",
   "metadata": {
    "tags": []
   },
   "source": [
    "# Working with the FERC Form 1 Extract / Transform\n",
    "This notebook steps through PUDL's extract and transform steps for FERC Form 1 to make it easier to test and add new years of data, or new tables from the various spreadsheets that haven't been integrated yet.\n",
    "\n",
    "This notebook deviates from other devtool debug notebooks in that it doesn't make use of the most recently created dagster asset values. Instead, the extraction and transforms steps are rerun within the notebook so we can inspect the outputs of lower level transform functions that don't have their own assets like `process_xbrl` and `transform_start`.\n",
    "\n",
    "**Make sure you've created the raw FERC databases using one of the `ferc_to_sqlite` jobs!**"
   ]
  },
  {
   "cell_type": "markdown",
   "id": "82b608c9-df90-4203-b6ef-ce63bd76f6e9",
   "metadata": {
    "tags": []
   },
   "source": [
    "## Setup"
   ]
  },
  {
   "cell_type": "code",
   "execution_count": null,
   "id": "1fa9ca56-b2c8-4bae-8ba3-ee9050b0ef86",
   "metadata": {},
   "outputs": [],
   "source": [
    "%load_ext autoreload\n",
    "%autoreload 3\n",
    "import logging\n",
    "import sys\n",
    "from pathlib import Path\n",
    "\n",
    "import pandas as pd\n",
    "\n",
    "import pudl\n",
    "\n",
    "pd.options.display.max_columns = None"
   ]
  },
  {
   "cell_type": "markdown",
   "id": "14145b03-fb79-46a6-a0e6-82da0c549d66",
   "metadata": {
    "tags": []
   },
   "source": [
    "## Extract DBF and XBRL Data:"
   ]
  },
  {
   "cell_type": "code",
   "execution_count": null,
   "id": "c04d0db4-16f7-4079-a707-2bbcc9ede5eb",
   "metadata": {
    "tags": []
   },
   "outputs": [],
   "source": [
    "from dagster import build_init_resource_context\n",
    "\n",
    "from pudl.resources import dataset_settings\n",
    "\n",
    "years = [2020, 2021]  # add desired years here\n",
    "configured_dataset_settings = {\"ferc1\": {\"years\": years}}\n",
    "\n",
    "dataset_init_context = build_init_resource_context(config=configured_dataset_settings)\n",
    "configured_dataset_settings = dataset_settings(dataset_init_context)"
   ]
  },
  {
   "cell_type": "code",
   "execution_count": null,
   "id": "38d86bce-6795-44c2-9e8d-84364f406f73",
   "metadata": {
    "tags": []
   },
   "outputs": [],
   "source": [
    "from pudl.extract.ferc1 import extract_dbf, extract_xbrl\n",
    "\n",
    "ferc1_dbf_raw_dfs = extract_dbf(configured_dataset_settings)\n",
    "ferc1_xbrl_raw_dfs = extract_xbrl(configured_dataset_settings)"
   ]
  },
  {
   "cell_type": "code",
   "execution_count": null,
   "id": "abaf36d0-25d0-4d67-8214-e2e48359d25b",
   "metadata": {
    "tags": []
   },
   "outputs": [],
   "source": [
    "ferc1_xbrl_raw_dfs[\"fuel_ferc1\"][\"duration\"].report_year"
   ]
  },
  {
   "cell_type": "code",
   "execution_count": null,
   "id": "e4af4b03-6e71-426b-90b5-89abdf74510e",
   "metadata": {
    "tags": []
   },
   "outputs": [],
   "source": [
    "from dagster import build_op_context\n",
    "\n",
    "from pudl.extract.ferc1 import raw_xbrl_metadata_json\n",
    "from pudl.transform.ferc1 import clean_xbrl_metadata_json\n",
    "\n",
    "context = build_op_context()\n",
    "xbrl_metadata_json_dict = clean_xbrl_metadata_json(raw_xbrl_metadata_json(context))"
   ]
  },
  {
   "cell_type": "markdown",
   "id": "78271302-5323-4a4e-a208-256824a59ca4",
   "metadata": {
    "tags": []
   },
   "source": [
    "## Transform FERC 1 Tables:"
   ]
  },
  {
   "cell_type": "markdown",
   "id": "4bc58f8e-74c3-4f81-a0c3-163f94a74065",
   "metadata": {},
   "source": [
    "### Build Transformers"
   ]
  },
  {
   "cell_type": "code",
   "execution_count": null,
   "id": "d3c488fb-f040-4b61-a584-72c5483397cc",
   "metadata": {
    "tags": []
   },
   "outputs": [],
   "source": [
    "# Get table class information\n",
    "import inspect\n",
    "\n",
    "from pudl.transform.ferc1 import *\n",
    "from pudl.transform.params import *\n",
    "\n",
    "\n",
    "def get_table_classes(module):\n",
    "    classes = [member[1] for member in inspect.getmembers(module, inspect.isclass)]\n",
    "    table_classes = [x for x in classes if x.__name__.endswith(\"Ferc1TableTransformer\")]\n",
    "    return [x for x in table_classes if x.__name__ != \"AbstractFerc1TableTransformer\"]\n",
    "\n",
    "\n",
    "classes = get_table_classes(pudl.transform.ferc1)\n",
    "table_id_dict = {clas.table_id.value: clas for clas in classes}\n",
    "\n",
    "# Loop over selected tables to build the transformers\n",
    "transformers = {}\n",
    "for table in TABLE_NAME_MAP_FERC1.keys():\n",
    "    # this table is in the name map but doesn't have a transform class\n",
    "    if table == \"retained_earnings_appropriations_ferc1\":\n",
    "        continue\n",
    "    transformers[table] = table_id_dict[table](\n",
    "        xbrl_metadata_json=xbrl_metadata_json_dict[table],\n",
    "        cache_dfs=True,\n",
    "        clear_cached_dfs=False,\n",
    "    )"
   ]
  },
  {
   "cell_type": "markdown",
   "id": "0b514045-1045-4b90-821e-c521e0f12190",
   "metadata": {},
   "source": [
    "### Transform Individual Tables"
   ]
  },
  {
   "cell_type": "code",
   "execution_count": null,
   "id": "d8602d7e-42b7-4fdc-956b-b6983d4b4d4e",
   "metadata": {
    "tags": []
   },
   "outputs": [],
   "source": [
    "from pprint import pprint\n",
    "\n",
    "# Pick one table to transform\n",
    "pprint(list(transformers.keys()))"
   ]
  },
  {
   "cell_type": "code",
   "execution_count": null,
   "id": "d594beab-7c93-47e3-acb4-b18ef6d3b16e",
   "metadata": {},
   "outputs": [],
   "source": [
    "table_name = \"other_regulatory_liabilities_ferc1\"\n",
    "TRANSFORMER = transformers[table_name]  # add a table here"
   ]
  },
  {
   "cell_type": "markdown",
   "id": "d030e249-3858-4650-ba2c-8ef62316db37",
   "metadata": {
    "tags": []
   },
   "source": [
    "#### Test each step of the transform process:"
   ]
  },
  {
   "cell_type": "code",
   "execution_count": null,
   "id": "fad4a616-8c8c-4f34-836d-56e604c140a4",
   "metadata": {},
   "outputs": [],
   "source": [
    "xbrl = TRANSFORMER.process_xbrl(\n",
    "    raw_xbrl_instant=ferc1_xbrl_raw_dfs[TRANSFORMER.table_id.value][\"instant\"],\n",
    "    raw_xbrl_duration=ferc1_xbrl_raw_dfs[TRANSFORMER.table_id.value][\"duration\"],\n",
    ")"
   ]
  },
  {
   "cell_type": "code",
   "execution_count": null,
   "id": "84a77350-084c-41d9-9a19-55884482e37e",
   "metadata": {},
   "outputs": [],
   "source": [
    "dbf = TRANSFORMER.process_dbf(raw_dbf=ferc1_dbf_raw_dfs[TRANSFORMER.table_id.value])"
   ]
  },
  {
   "cell_type": "code",
   "execution_count": null,
   "id": "3c5f3389-58c8-40db-b71a-e74a1d4c8c09",
   "metadata": {
    "tags": []
   },
   "outputs": [],
   "source": [
    "start = TRANSFORMER.transform_start(\n",
    "    raw_dbf=ferc1_dbf_raw_dfs[TRANSFORMER.table_id.value],\n",
    "    raw_xbrl_instant=ferc1_xbrl_raw_dfs[TRANSFORMER.table_id.value][\"instant\"],\n",
    "    raw_xbrl_duration=ferc1_xbrl_raw_dfs[TRANSFORMER.table_id.value][\"duration\"],\n",
    ")"
   ]
  },
  {
   "cell_type": "code",
   "execution_count": null,
   "id": "9aa10b65-9200-42c4-8c02-745228b46b7f",
   "metadata": {
    "tags": []
   },
   "outputs": [],
   "source": [
    "main = TRANSFORMER.transform_main(start)"
   ]
  },
  {
   "cell_type": "code",
   "execution_count": null,
   "id": "e4e1e202-a6b0-4fb9-b9cc-eccbc2e3b813",
   "metadata": {},
   "outputs": [],
   "source": [
    "end = TRANSFORMER.transform_end(main)"
   ]
  },
  {
   "cell_type": "markdown",
   "id": "a6b2ad2b-57e3-49bd-ba83-8a68f6c06b17",
   "metadata": {},
   "source": [
    "#### Test all steps together"
   ]
  },
  {
   "cell_type": "code",
   "execution_count": null,
   "id": "87e11c18-f6a1-49b0-92d5-b9ebc38fe920",
   "metadata": {
    "tags": []
   },
   "outputs": [],
   "source": [
    "full = TRANSFORMER.transform(\n",
    "    raw_dbf=ferc1_dbf_raw_dfs[TRANSFORMER.table_id.value],\n",
    "    raw_xbrl_instant=ferc1_xbrl_raw_dfs[TRANSFORMER.table_id.value][\"instant\"],\n",
    "    raw_xbrl_duration=ferc1_xbrl_raw_dfs[TRANSFORMER.table_id.value][\"duration\"],\n",
    ")"
   ]
  },
  {
   "cell_type": "markdown",
   "id": "e795f853-a752-44a6-86ac-644baf291f9b",
   "metadata": {
    "tags": []
   },
   "source": [
    "### Transform All Tables"
   ]
  },
  {
   "cell_type": "code",
   "execution_count": null,
   "id": "08da1d39-6272-435f-8241-8b3879078393",
   "metadata": {
    "tags": []
   },
   "outputs": [],
   "source": [
    "transformed_tables = {}\n",
    "for table_name, transformer in transformers.items():\n",
    "    if table_name == \"plants_steam_ferc1\":\n",
    "        # plants_steam_ferc1 is a special case. It depends on the transformed fuel_ferc1 table.\n",
    "        continue\n",
    "    transformed_tables[transformer.table_id.value] = transformer.transform(\n",
    "        raw_dbf=ferc1_dbf_raw_dfs[transformer.table_id.value],\n",
    "        raw_xbrl_instant=ferc1_xbrl_raw_dfs[transformer.table_id.value][\"instant\"],\n",
    "        raw_xbrl_duration=ferc1_xbrl_raw_dfs[transformer.table_id.value][\"duration\"],\n",
    "    )"
   ]
  },
  {
   "cell_type": "code",
   "execution_count": null,
   "id": "6cc37ac5-594b-425d-aad3-7b6e9b6453da",
   "metadata": {
    "tags": []
   },
   "outputs": [],
   "source": [
    "# Handle special case for \"plants_steam_ferc1\"\n",
    "transformer = transformers[\"plants_steam_ferc1\"]\n",
    "transformed_tables[transformer.table_id.value] = transformer.transform(\n",
    "    raw_dbf=ferc1_dbf_raw_dfs[transformer.table_id.value],\n",
    "    raw_xbrl_instant=ferc1_xbrl_raw_dfs[transformer.table_id.value][\"instant\"],\n",
    "    raw_xbrl_duration=ferc1_xbrl_raw_dfs[transformer.table_id.value][\"duration\"],\n",
    "    transformed_fuel=transformed_tables[\"fuel_ferc1\"],\n",
    ")"
   ]
  }
 ],
 "metadata": {
  "kernelspec": {
   "display_name": "Python 3 (ipykernel)",
   "language": "python",
   "name": "python3"
  },
  "language_info": {
   "codemirror_mode": {
    "name": "ipython",
    "version": 3
   },
   "file_extension": ".py",
   "mimetype": "text/x-python",
   "name": "python",
   "nbconvert_exporter": "python",
   "pygments_lexer": "ipython3",
   "version": "3.11.3"
  }
 },
 "nbformat": 4,
 "nbformat_minor": 5
}
