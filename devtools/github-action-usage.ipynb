{
 "cells": [
  {
   "cell_type": "markdown",
   "id": "48771a28-62cc-4459-8d72-72e73aef95d0",
   "metadata": {},
   "source": [
    "# Purpose\n",
    "Use the GitHub Api to grab and analyze information about our Action usage.\n",
    "\n",
    "You must [create](https://docs.github.com/en/enterprise-server@3.6/authentication/keeping-your-account-and-data-secure/managing-your-personal-access-tokens) and save a Github personal access token and save it set it to the `GITHUB_ACTION_ANALYSIS_ACCESS_TOKEN` env var. You should only need the `public_repo` permission.\n",
    "\n",
    "The calls to the github API are pretty slow and I think we are limit to [5000 requests per hour](https://docs.github.com/en/free-pro-team@latest/rest/rate-limit/rate-limit?apiVersion=2022-11-28#get-rate-limit-status-for-the-authenticated-user)."
   ]
  },
  {
   "cell_type": "code",
   "execution_count": null,
   "id": "0c1d73bc-645d-4197-abb6-f4f60ebff54d",
   "metadata": {},
   "outputs": [],
   "source": [
    "import requests\n",
    "import os\n",
    "\n",
    "from datetime import date, datetime\n",
    "\n",
    "def get_jobs(url: str):\n",
    "    headers = {\n",
    "        \"Accept\": \"application/vnd.github+json\",\n",
    "        \"Authorization\": f\"Bearer {token}\",\n",
    "        \"X-GitHub-Api-Version\": \"2022-11-28\"\n",
    "    }\n",
    "    response = requests.get(url, headers=headers)\n",
    "    return response.json()[\"jobs\"]\n",
    "\n",
    "\n",
    "def get_all_runs(owner: str, repo: str, token: str, min_date: date = None) -> list[dict]:\n",
    "    \"\"\"\n",
    "    Get a list of all action runs for  repository.\n",
    "    \n",
    "    Args:\n",
    "        owner: the github organization name\n",
    "        repo: the name of the repo\n",
    "        token: personal github token\n",
    "        min_date: function defaults to getting all workflow runs.\n",
    "            Can use this arg to limit number of API calls.\n",
    "    Returns:\n",
    "        Returns a list of json responses from the API as dictionaries.\n",
    "    \"\"\"\n",
    "    headers = {\n",
    "        \"Accept\": \"application/vnd.github+json\",\n",
    "        \"Authorization\": f\"Bearer {token}\",\n",
    "        \"X-GitHub-Api-Version\": \"2022-11-28\"\n",
    "    }\n",
    "\n",
    "    url = f\"https://api.github.com/repos/{owner}/{repo}/actions/runs\"\n",
    "    # API documentation https://docs.github.com/en/rest/actions/workflow-runs?apiVersion=2022-11-28#list-workflow-runs-for-a-repository\n",
    "\n",
    "    all_runs = []\n",
    "\n",
    "    invariant = True\n",
    "\n",
    "    page = 1\n",
    "    while invariant:\n",
    "        response = requests.get(url, headers=headers, params={\"page\": page})\n",
    "        \n",
    "        if response.status_code == 200:\n",
    "            data = response.json()[\"workflow_runs\"]\n",
    "            if not data:\n",
    "                break  # No more data, exit the loop\n",
    "            all_runs.extend(data)\n",
    "            page += 1\n",
    "\n",
    "            for run in data:\n",
    "                if min_date:\n",
    "                    run_date = datetime.strptime(run[\"created_at\"], \"%Y-%m-%dT%H:%M:%SZ\").date()\n",
    "                    if run_date < min_date:\n",
    "                        invariant = False\n",
    "                        break\n",
    "                all_runs.append(run)\n",
    "        else:\n",
    "            print(\"Request failed with status code:\", response.status_code)\n",
    "            print(\"Response content:\", response.text)\n",
    "            break\n",
    "\n",
    "    return all_runs\n",
    "\n",
    "# Replace these values with your actual owner, repo, and token\n",
    "owner = \"catalyst-cooperative\"\n",
    "repo = \"pudl\"\n",
    "token = os.environ[\"GITHUB_ACTION_ANALYSIS_ACCESS_TOKEN\"]\n",
    "min_date = date(2023, 8, 31)\n",
    "\n",
    "all_runs = get_all_runs(owner, repo, token, min_date)"
   ]
  },
  {
   "cell_type": "code",
   "execution_count": null,
   "id": "49846e71-8a54-4bb4-925d-674a520bcc7d",
   "metadata": {},
   "outputs": [],
   "source": [
    "all_jobs = []\n",
    "for run in tqdm(all_runs):\n",
    "    jobs = get_jobs(run[\"jobs_url\"])\n",
    "    all_jobs.extend(jobs)"
   ]
  },
  {
   "cell_type": "code",
   "execution_count": null,
   "id": "15ccde6c-5b57-4e79-9921-936fdfbe256e",
   "metadata": {},
   "outputs": [],
   "source": [
    "import pandas as pd\n",
    "import json"
   ]
  },
  {
   "cell_type": "code",
   "execution_count": null,
   "id": "0ea67183-f9ff-4d5c-9f0a-0824d75a1103",
   "metadata": {},
   "outputs": [],
   "source": [
    "jobs_df = pd.read_json(json.dumps(all_jobs), orient=\"records\")\n",
    "jobs_df.info()"
   ]
  },
  {
   "cell_type": "code",
   "execution_count": null,
   "id": "bb9fa631-a69e-4637-8d30-b9087e3f82cc",
   "metadata": {},
   "outputs": [],
   "source": [
    "jobs_df[\"duration\"] = jobs_df.completed_at - jobs_df.started_at"
   ]
  },
  {
   "cell_type": "code",
   "execution_count": null,
   "id": "d27bcc1e-8ea4-4207-91d8-00f96655dae6",
   "metadata": {},
   "outputs": [],
   "source": [
    "jobs_df[\"duration\"].describe()"
   ]
  },
  {
   "cell_type": "code",
   "execution_count": null,
   "id": "4ccf4831-30d5-44b7-b25d-cbd4b76ff1d9",
   "metadata": {},
   "outputs": [],
   "source": [
    "jobs_df.name.value_counts()"
   ]
  },
  {
   "cell_type": "code",
   "execution_count": null,
   "id": "13828408-6e94-4215-8409-b36aac06c083",
   "metadata": {},
   "outputs": [],
   "source": [
    "job_name = \"ci-integration\"\n",
    "jobs_df.query(\"name == @job_name\").duration.describe()"
   ]
  },
  {
   "cell_type": "code",
   "execution_count": null,
   "id": "c59594ca-f902-411f-9a14-ecfe63175ff7",
   "metadata": {},
   "outputs": [],
   "source": [
    "jobs_df.groupby(\"name\").duration.sum() / jobs_df.duration.sum() * 100"
   ]
  },
  {
   "cell_type": "code",
   "execution_count": null,
   "id": "5162a3ea-8b04-4b31-ac26-2cdc500aa56a",
   "metadata": {},
   "outputs": [],
   "source": [
    "jobs_df.duration.isna().value_counts()"
   ]
  },
  {
   "cell_type": "code",
   "execution_count": null,
   "id": "836734a2-b845-49e2-81d8-0cc367ce77ad",
   "metadata": {},
   "outputs": [],
   "source": [
    "monthly_minutes = jobs_df.resample(\"M\", on=\"created_at\").duration.sum().dt.total_seconds() / 60\n",
    "\n",
    "monthly_minutes.plot.bar()"
   ]
  }
 ],
 "metadata": {
  "kernelspec": {
   "display_name": "Python 3 (ipykernel)",
   "language": "python",
   "name": "python3"
  },
  "language_info": {
   "codemirror_mode": {
    "name": "ipython",
    "version": 3
   },
   "file_extension": ".py",
   "mimetype": "text/x-python",
   "name": "python",
   "nbconvert_exporter": "python",
   "pygments_lexer": "ipython3",
   "version": "3.11.4"
  }
 },
 "nbformat": 4,
 "nbformat_minor": 5
}
