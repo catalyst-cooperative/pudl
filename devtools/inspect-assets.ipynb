{
 "cells": [
  {
   "cell_type": "markdown",
   "id": "c07231ee-a317-405b-9aec-56d5131ffb0d",
   "metadata": {},
   "source": [
    "# Inspecting dagster assets\n",
    "This notebooks allows you to inspect dagster asset values. **This is just a template notebook. Do your asset explorations in a copy of this notebook.** \n",
    "\n",
    "Some assets are written to the database in which case you can just pull the tables into pandas or explore them in the database. However, many assets use the default IO Manager which writes asset values to the `$DAGSTER_HOME/storage/` directory as pickle files. Dagster provides a method for inspecting asset values no matter what IO Manager the asset uses."
   ]
  },
  {
   "cell_type": "code",
   "execution_count": 1,
   "id": "de97d7ba-22f7-433e-9f2f-0b9df8b64fc7",
   "metadata": {
    "tags": []
   },
   "outputs": [],
   "source": [
    "import os\n",
    "\n",
    "assert os.environ.get(\"DAGSTER_HOME\"), (\n",
    "    \"The DAGSTER_HOME env var is not set so dagster won't be able to find the assets.\"\n",
    "    \"Set the DAGSTER_HOME env var in this notebook or kill the jupyter server and set\"\n",
    "    \" the DAGSTER_HOME env var in your terminal and relaunch jupyter.\"\n",
    ")"
   ]
  },
  {
   "cell_type": "markdown",
   "id": "c54503cc-19a2-4cd0-8724-f371eebf54e4",
   "metadata": {},
   "source": [
    "## Inspect an asset that uses the `fs_io_manager`"
   ]
  },
  {
   "cell_type": "code",
   "execution_count": 6,
   "id": "d9d4dc6a-4539-436b-bc1a-c887cc5e9d57",
   "metadata": {
    "tags": []
   },
   "outputs": [
    {
     "name": "stderr",
     "output_type": "stream",
     "text": [
      "2024-01-09 18:08:50 -0800 - dagster - DEBUG - system - Loading file from: /Users/bendnorman/catalyst/dagster-pudl-work/dagster_home/storage/_core_eia861__balancing_authority using PickledObjectFilesystemIOManager...\n"
     ]
    }
   ],
   "source": [
    "from dagster import AssetKey\n",
    "\n",
    "from pudl.etl import defs\n",
    "\n",
    "asset_key = \"_core_eia861__balancing_authority\"\n",
    "df = defs.load_asset_value(AssetKey(asset_key))"
   ]
  },
  {
   "cell_type": "markdown",
   "id": "4f41ab9c-6177-4be3-ad00-02762d73d6f0",
   "metadata": {},
   "source": [
    "## Inspect an asset that uses the `pudl_sqlite_io_manager`"
   ]
  },
  {
   "cell_type": "code",
   "execution_count": 5,
   "id": "2d284fa5-6ac0-4807-b958-9954c7871bfe",
   "metadata": {
    "tags": []
   },
   "outputs": [
    {
     "data": {
      "text/html": [
       "<div>\n",
       "<style scoped>\n",
       "    .dataframe tbody tr th:only-of-type {\n",
       "        vertical-align: middle;\n",
       "    }\n",
       "\n",
       "    .dataframe tbody tr th {\n",
       "        vertical-align: top;\n",
       "    }\n",
       "\n",
       "    .dataframe thead th {\n",
       "        text-align: right;\n",
       "    }\n",
       "</style>\n",
       "<table border=\"1\" class=\"dataframe\">\n",
       "  <thead>\n",
       "    <tr style=\"text-align: right;\">\n",
       "      <th></th>\n",
       "      <th>plant_id_eia</th>\n",
       "      <th>generator_id</th>\n",
       "      <th>report_date</th>\n",
       "      <th>net_generation_mwh</th>\n",
       "      <th>data_maturity</th>\n",
       "    </tr>\n",
       "  </thead>\n",
       "  <tbody>\n",
       "    <tr>\n",
       "      <th>0</th>\n",
       "      <td>3</td>\n",
       "      <td>1</td>\n",
       "      <td>2008-01-01</td>\n",
       "      <td>96021.0</td>\n",
       "      <td>final</td>\n",
       "    </tr>\n",
       "    <tr>\n",
       "      <th>1</th>\n",
       "      <td>3</td>\n",
       "      <td>1</td>\n",
       "      <td>2008-02-01</td>\n",
       "      <td>79256.0</td>\n",
       "      <td>final</td>\n",
       "    </tr>\n",
       "    <tr>\n",
       "      <th>2</th>\n",
       "      <td>3</td>\n",
       "      <td>1</td>\n",
       "      <td>2008-03-01</td>\n",
       "      <td>91687.0</td>\n",
       "      <td>final</td>\n",
       "    </tr>\n",
       "    <tr>\n",
       "      <th>3</th>\n",
       "      <td>3</td>\n",
       "      <td>1</td>\n",
       "      <td>2008-04-01</td>\n",
       "      <td>73693.0</td>\n",
       "      <td>final</td>\n",
       "    </tr>\n",
       "    <tr>\n",
       "      <th>4</th>\n",
       "      <td>3</td>\n",
       "      <td>1</td>\n",
       "      <td>2008-05-01</td>\n",
       "      <td>68161.0</td>\n",
       "      <td>final</td>\n",
       "    </tr>\n",
       "    <tr>\n",
       "      <th>...</th>\n",
       "      <td>...</td>\n",
       "      <td>...</td>\n",
       "      <td>...</td>\n",
       "      <td>...</td>\n",
       "      <td>...</td>\n",
       "    </tr>\n",
       "    <tr>\n",
       "      <th>82085</th>\n",
       "      <td>65978</td>\n",
       "      <td>ST7</td>\n",
       "      <td>2023-08-01</td>\n",
       "      <td>236766.0</td>\n",
       "      <td>incremental_ytd</td>\n",
       "    </tr>\n",
       "    <tr>\n",
       "      <th>82086</th>\n",
       "      <td>65978</td>\n",
       "      <td>ST7</td>\n",
       "      <td>2023-09-01</td>\n",
       "      <td>NaN</td>\n",
       "      <td>incremental_ytd</td>\n",
       "    </tr>\n",
       "    <tr>\n",
       "      <th>82087</th>\n",
       "      <td>65978</td>\n",
       "      <td>ST7</td>\n",
       "      <td>2023-10-01</td>\n",
       "      <td>NaN</td>\n",
       "      <td>incremental_ytd</td>\n",
       "    </tr>\n",
       "    <tr>\n",
       "      <th>82088</th>\n",
       "      <td>65978</td>\n",
       "      <td>ST7</td>\n",
       "      <td>2023-11-01</td>\n",
       "      <td>NaN</td>\n",
       "      <td>incremental_ytd</td>\n",
       "    </tr>\n",
       "    <tr>\n",
       "      <th>82089</th>\n",
       "      <td>65978</td>\n",
       "      <td>ST7</td>\n",
       "      <td>2023-12-01</td>\n",
       "      <td>NaN</td>\n",
       "      <td>incremental_ytd</td>\n",
       "    </tr>\n",
       "  </tbody>\n",
       "</table>\n",
       "<p>682090 rows × 5 columns</p>\n",
       "</div>"
      ],
      "text/plain": [
       "       plant_id_eia generator_id report_date  net_generation_mwh    data_maturity\n",
       "0                 3            1  2008-01-01             96021.0            final\n",
       "1                 3            1  2008-02-01             79256.0            final\n",
       "2                 3            1  2008-03-01             91687.0            final\n",
       "3                 3            1  2008-04-01             73693.0            final\n",
       "4                 3            1  2008-05-01             68161.0            final\n",
       "...             ...          ...         ...                 ...              ...\n",
       "82085         65978          ST7  2023-08-01            236766.0  incremental_ytd\n",
       "82086         65978          ST7  2023-09-01                 NaN  incremental_ytd\n",
       "82087         65978          ST7  2023-10-01                 NaN  incremental_ytd\n",
       "82088         65978          ST7  2023-11-01                 NaN  incremental_ytd\n",
       "82089         65978          ST7  2023-12-01                 NaN  incremental_ytd\n",
       "\n",
       "[682090 rows x 5 columns]"
      ]
     },
     "execution_count": 5,
     "metadata": {},
     "output_type": "execute_result"
    }
   ],
   "source": [
    "from dagster import AssetKey\n",
    "\n",
    "from pudl.etl import defs\n",
    "\n",
    "asset_key = \"core_eia923__monthly_generation\"\n",
    "df = defs.load_asset_value(AssetKey(asset_key))\n",
    "\n",
    "df"
   ]
  }
 ],
 "metadata": {
  "kernelspec": {
   "display_name": "Python 3 (ipykernel)",
   "language": "python",
   "name": "python3"
  },
  "language_info": {
   "codemirror_mode": {
    "name": "ipython",
    "version": 3
   },
   "file_extension": ".py",
   "mimetype": "text/x-python",
   "name": "python",
   "nbconvert_exporter": "python",
   "pygments_lexer": "ipython3",
   "version": "3.11.7"
  }
 },
 "nbformat": 4,
 "nbformat_minor": 5
}
