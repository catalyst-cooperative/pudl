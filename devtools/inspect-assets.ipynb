{
 "cells": [
  {
   "cell_type": "markdown",
   "id": "c07231ee-a317-405b-9aec-56d5131ffb0d",
   "metadata": {},
   "source": [
    "# Inspecting dagster assets\n",
    "This notebooks allows you to inspect dagster asset values. **This is just a template notebook. Do your asset explorations in a copy of this notebook.** \n",
    "\n",
    "Some assets are written to the database in which case you can just pull the tables into pandas or explore them in the database. However, many assets use the default IO Manager which writes asset values to the `$DAGSTER_HOME/storage/` directory as pickle files. Dagster provides a method for inspecting asset values no matter what IO Manager the asset uses."
   ]
  },
  {
   "cell_type": "code",
   "execution_count": null,
   "id": "de97d7ba-22f7-433e-9f2f-0b9df8b64fc7",
   "metadata": {
    "tags": []
   },
   "outputs": [],
   "source": [
    "import os\n",
    "\n",
    "assert os.environ.get(\"DAGSTER_HOME\"), (\n",
    "    \"The DAGSTER_HOME env var is not set so dagster won't be able to find the assets.\"\n",
    "    \"Set the DAGSTER_HOME env var in this notebook or kill the jupyter server and set\"\n",
    "    \" the DAGSTER_HOME env var in your terminal and relaunch jupyter.\"\n",
    ")"
   ]
  },
  {
   "cell_type": "markdown",
   "id": "c54503cc-19a2-4cd0-8724-f371eebf54e4",
   "metadata": {},
   "source": [
    "## Inspect an asset that uses the `fs_io_manager`"
   ]
  },
  {
   "cell_type": "code",
   "execution_count": null,
   "id": "d9d4dc6a-4539-436b-bc1a-c887cc5e9d57",
   "metadata": {
    "tags": []
   },
   "outputs": [],
   "source": [
    "from dagster import AssetKey\n",
    "\n",
    "from pudl.etl import defs\n",
    "\n",
    "asset_key = \"_core_eia861__balancing_authority\"\n",
    "df = defs.load_asset_value(AssetKey(asset_key))"
   ]
  },
  {
   "cell_type": "markdown",
   "id": "4f41ab9c-6177-4be3-ad00-02762d73d6f0",
   "metadata": {},
   "source": [
    "## Inspect an asset that uses the `pudl_sqlite_io_manager`"
   ]
  },
  {
   "cell_type": "code",
   "execution_count": null,
   "id": "2d284fa5-6ac0-4807-b958-9954c7871bfe",
   "metadata": {
    "tags": []
   },
   "outputs": [],
   "source": [
    "from dagster import AssetKey\n",
    "\n",
    "from pudl.etl import defs\n",
    "\n",
    "asset_key = \"core_eia923__monthly_generation\"\n",
    "df = defs.load_asset_value(AssetKey(asset_key))\n",
    "\n",
    "df"
   ]
  }
 ],
 "metadata": {
  "kernelspec": {
   "display_name": "Python 3 (ipykernel)",
   "language": "python",
   "name": "python3"
  },
  "language_info": {
   "codemirror_mode": {
    "name": "ipython",
    "version": 3
   },
   "file_extension": ".py",
   "mimetype": "text/x-python",
   "name": "python",
   "nbconvert_exporter": "python",
   "pygments_lexer": "ipython3",
   "version": "3.11.7"
  }
 },
 "nbformat": 4,
 "nbformat_minor": 5
}
