{
 "cells": [
  {
   "cell_type": "markdown",
   "id": "c07231ee-a317-405b-9aec-56d5131ffb0d",
   "metadata": {},
   "source": [
    "# Inspecting dagster assets\n",
    "This notebooks allows you to inspect dagster asset values.\n",
    "\n",
    "Some assets are written to the database in which case you can just pull the tables into pandas or explore them in the database. However, many assets use the default IO Manager which writes asset values to the `$DAGSTER_HOME/storage/` directory as pickle files. Dagster provides a method for inspecting asset values no matter what IO Manager the asset uses."
   ]
  },
  {
   "cell_type": "code",
   "execution_count": null,
   "id": "de97d7ba-22f7-433e-9f2f-0b9df8b64fc7",
   "metadata": {
    "tags": []
   },
   "outputs": [],
   "source": [
    "import os\n",
    "\n",
    "assert os.environ.get(\"DAGSTER_HOME\"), (\n",
    "    \"The DAGSTER_HOME env var is not set so dagster won't be able to find the assets.\"\n",
    "    \"Set the DAGSTER_HOME env var in this notebook or kill the jupyter server and set\"\n",
    "    \" the DAGSTER_HOME env var in your terminal and relaunch jupyter.\"\n",
    ")"
   ]
  },
  {
   "cell_type": "markdown",
   "id": "c54503cc-19a2-4cd0-8724-f371eebf54e4",
   "metadata": {},
   "source": [
    "## Inspect an asset that uses the `fs_io_manager`"
   ]
  },
  {
   "cell_type": "code",
   "execution_count": null,
   "id": "d9d4dc6a-4539-436b-bc1a-c887cc5e9d57",
   "metadata": {
    "tags": []
   },
   "outputs": [],
   "source": [
    "from dagster import AssetKey\n",
    "\n",
    "from pudl.etl import defs\n",
    "\n",
    "asset_key = \"exploded_balance_sheet_assets_ferc1\"\n",
    "df = defs.load_asset_value(AssetKey(asset_key))\n",
    "\n",
    "#df[df.row_type_xbrl == \"correction\"].xbrl_factoid.value_counts()\n",
    "#df[(df.xbrl_factoid.isin([\"operation_expense\", \"maintenance_expense\"]))&(df.rel_diff.notnull())&(df.rel_diff!=0)].sort_values(['utility_id_ferc1', 'report_year', 'xbrl_factoid', 'rel_diff']).head(50)"
   ]
  },
  {
   "cell_type": "code",
   "execution_count": null,
   "id": "b2d99594",
   "metadata": {},
   "outputs": [],
   "source": [
    "df[(df.xbrl_factoid==\"accumulated_depreciation\")&(df.plant_status==\"in_service\")&(df.plant_function==\"total\")]"
   ]
  },
  {
   "cell_type": "code",
   "execution_count": null,
   "id": "467111b1",
   "metadata": {},
   "outputs": [],
   "source": [
    "df[df.xbrl_factoid.isin(factoids)&(df.utility_id_ferc1==9)&(df.report_year==1998)]"
   ]
  },
  {
   "cell_type": "code",
   "execution_count": null,
   "id": "c6f7427a",
   "metadata": {},
   "outputs": [],
   "source": [
    "factoids = ['distribution_maintenance_expense_electric',\n",
    " 'hydraulic_power_generation_maintenance_expense',\n",
    " 'maintenance_of_general_plant',\n",
    " 'nuclear_power_generation_maintenance_expense',\n",
    " 'other_power_generation_maintenance_expense',\n",
    " 'regional_market_maintenance_expense',\n",
    " 'steam_power_generation_maintenance_expense',\n",
    " 'transmission_maintenance_expense_electric']"
   ]
  },
  {
   "cell_type": "code",
   "execution_count": null,
   "id": "951b718d",
   "metadata": {},
   "outputs": [],
   "source": [
    "asset_key = \"calculation_components_xbrl_ferc1\"\n",
    "calcs = defs.load_asset_value(AssetKey(asset_key))\n",
    "\n",
    "calcs[(calcs.xbrl_factoid_parent == \"accumulated_depreciation\")].head(50)"
   ]
  },
  {
   "cell_type": "markdown",
   "id": "4f41ab9c-6177-4be3-ad00-02762d73d6f0",
   "metadata": {},
   "source": [
    "## Inspect an asset that uses the `pudl_sqlite_io_manager`"
   ]
  },
  {
   "cell_type": "code",
   "execution_count": null,
   "id": "2d284fa5-6ac0-4807-b958-9954c7871bfe",
   "metadata": {
    "tags": []
   },
   "outputs": [],
   "source": [
    "from dagster import AssetKey\n",
    "\n",
    "from pudl.etl import defs\n",
    "\n",
    "asset_key = \"emissions_unit_ids_epacems\"\n",
    "df = defs.load_asset_value(AssetKey(asset_key))\n",
    "\n",
    "df"
   ]
  },
  {
   "cell_type": "code",
   "execution_count": null,
   "id": "9f0d118b",
   "metadata": {},
   "outputs": [],
   "source": [
    "from pudl.output.epacems import epacems\n",
    "\n",
    "test_epacems = epacems(states = [\"ID\"], years = [2022])\n",
    "\n",
    "test_epacems[test_epacems.operating_datetime_utc>=\"2022-01-04\"].head(40)"
   ]
  }
 ],
 "metadata": {
  "kernelspec": {
   "display_name": "Python 3 (ipykernel)",
   "language": "python",
   "name": "python3"
  },
  "language_info": {
   "codemirror_mode": {
    "name": "ipython",
    "version": 3
   },
   "file_extension": ".py",
   "mimetype": "text/x-python",
   "name": "python",
   "nbconvert_exporter": "python",
   "pygments_lexer": "ipython3",
   "version": "3.11.5"
  }
 },
 "nbformat": 4,
 "nbformat_minor": 5
}
