{
 "cells": [
  {
   "cell_type": "code",
   "execution_count": null,
   "id": "bd1c7e93",
   "metadata": {},
   "outputs": [],
   "source": [
    "%load_ext autoreload\n",
    "%autoreload 3"
   ]
  },
  {
   "cell_type": "markdown",
   "id": "f786051b-2aa0-44e0-bfd7-fe6827b6e1a3",
   "metadata": {},
   "source": [
    "# Purpose\n",
    "We are in the process of converting some functions in `pudl.output` to be SQL views. This notebook allows us to compare the outputs of the old python functions with the SQL view."
   ]
  },
  {
   "cell_type": "code",
   "execution_count": null,
   "id": "ec08c060-ba49-4466-81a0-315a45993928",
   "metadata": {
    "tags": []
   },
   "outputs": [],
   "source": [
    "import os\n",
    "\n",
    "assert os.environ.get(\"DAGSTER_HOME\"), (\n",
    "    \"The DAGSTER_HOME env var is not set so dagster won't be able to find the assets.\"\n",
    "    \"Set the DAGSTER_HOME env var in this notebook or kill the jupyter server and set\"\n",
    "    \" the DAGSTER_HOME env var in your terminal and relaunch jupyter.\"\n",
    ")"
   ]
  },
  {
   "cell_type": "markdown",
   "id": "6fc58a8b-f879-4675-a5a1-0d2cf67da336",
   "metadata": {},
   "source": [
    "## Step 1: Create a new asset\n",
    "Create a new asset in the same module of the existing output table function. Most output tables are just denormalied versions of the normalized tables so to differentiate them, name the asset `\"denorm_{output_table_name}\"`. For example, if you are converting the `pudl.output.eia860.utilities_eia860()` function, name the asset `denorm_utilities_eia860`. **Don't delete the old oldput table function! We need it later on to test to new asset.**\n",
    "\n",
    "You can create an asset by creating a new function and adding the `@asset` decorator. For now, the only attribute you should add to the decorator is the `compute_type = \"Python\"`. All this does is add a cute tag to the asset in the dag to let people know how the asset is being processed.\n",
    "\n",
    "Next you'll want to figure out what tables the output table depends on. Read through the old output function to see which normalized tables or output functions are being used as inputs to the joins and imputations. Once you have the input table names, add them to the asset function parameters. For example, the `utilities_eia860()` function merges `core_eia__entity_utilities`, `core_eia860__scd_utilities`, and `core_pudl__assn_eia_pudl_utilities` tables together so the asset would look like this:\n",
    "\n",
    "```python\n",
    "@asset(compute_kind=\"Python\")\n",
    "def denorm_utilities_eia860(\n",
    "    core_eia__entity_utilities: pd.DataFrame,\n",
    "    core_eia860__scd_utilities: pd.DataFrame,\n",
    "    core_pudl__assn_eia_pudl_utilities: pd.DataFrame,\n",
    "):\n",
    "    ... # joining logic\n",
    "    return joined_df\n",
    "```\n",
    "\n",
    "Dagster will automatically place the `denorm_utilities_eia860` asset downstream of its input assets. **If the old output function depends on an output table function that hasn't been converted to an asset, you'll need to convert that function to an asset first**.\n",
    "\n",
    "Once the asset has been created and the joining logic is copied over, reload the asset definitions in dagit and materialize the new output table asset. If the asset is succesfully materialized, it won't be present in the database yet. If you don't specify an `io_manager_key` in the asset decorator, the default io manager is used which writes the dataframe to a pickle file in your `DAGSTER_HOME` directory."
   ]
  },
  {
   "cell_type": "markdown",
   "id": "97e3ddbd-882d-4224-b4d6-57ee141b7512",
   "metadata": {},
   "source": [
    "## Step 2: Create the metadata\n",
    "Like the normalized tables, we need to keep track of output table's metadata so the dtypes can be preserved as the table moves between pandas and storage, in this case SQLite. To get a list of field names, load the value of the asset you just created:"
   ]
  },
  {
   "cell_type": "code",
   "execution_count": null,
   "id": "48c79723-28b5-4091-9590-7dedfd23d7df",
   "metadata": {
    "tags": []
   },
   "outputs": [],
   "source": [
    "from dagster import AssetKey\n",
    "\n",
    "from pudl.etl import defs\n",
    "\n",
    "asset_name = \"denorm_generators_eia\"\n",
    "df = defs.load_asset_value(AssetKey(asset_name))\n",
    "df.columns.to_list()"
   ]
  },
  {
   "attachments": {},
   "cell_type": "markdown",
   "id": "90e64e9c-b59b-4a10-a5b1-0d9e901678f3",
   "metadata": {},
   "source": [
    "Once you have the field names, find the appropriate module in `pudl.metadata.resources` to add the metadata too. The metadata of an output table should live in the module of the data source. For example, the `denorm_utilities_eia860` merges eia860 data together so the metadata should live in `pudl.metadata.resources.eia860`. Set `\"etl_group\"` of the resource to `\"outputs\"`.\n",
    "\n",
    "Most output tables just join existing fields together, but some add new fields. If the output table create a new field, you'll need to it to the `pudl.metadata.fields` module.\n",
    "\n",
    "Once the metadata is created, add `io_manager_key=\"pudl_sqlite_io_manager\"` to the asset decorator. This tells the asset to load the returned dataframe to the database instead of a pickle file. **Don't forget this step! If you don't change the `io_manager_key` the table will not be loaded to the database!** Example:\n",
    "\n",
    "```python\n",
    "@asset(io_manager_key=\"pudl_sqlite_io_manager\", compute_kind=\"Python\")\n",
    "def denorm_utilities_eia860(\n",
    "    core_eia__entity_utilities: pd.DataFrame,\n",
    "    core_eia860__scd_utilities: pd.DataFrame,\n",
    "    core_pudl__assn_eia_pudl_utilities: pd.DataFrame,\n",
    "):\n",
    "    ... # joining logic\n",
    "    return joined_df\n",
    "```\n",
    "To quickly check for any issues with the new metadata, go to the Deployments tab in Dagster and click \"Reload\" on the `pudl.etl` module to reload the updated code.\n",
    "\n",
    "Once the metadata is created, you'll need to delete your `pudl.sqlite` file so the next ETL run can create the new database schema. Then rematerialize all of the assets. If the database flags any data integrity errors in the output table, you can adjust the code in the output asset and just rematerialize the asset to test it out. If you need to update the table metadata, you'll need to delete the `pudl.sqlite` database and rematerialize all of the assets."
   ]
  },
  {
   "cell_type": "markdown",
   "id": "576fe615-5ba5-4474-8506-1e8da02d5a2e",
   "metadata": {},
   "source": [
    "## Step 3: Test the output table\n",
    "Once the output table is comfortably loaded into the database it is time to compare it to the old output function to make sure the data hasn't changed.\n",
    "\n",
    "Load the asset value from the database:"
   ]
  },
  {
   "cell_type": "code",
   "execution_count": null,
   "id": "e6e2147a-6bf0-4ebc-91b0-4429cc0af2ca",
   "metadata": {
    "tags": []
   },
   "outputs": [],
   "source": [
    "from pudl.etl import defs\n",
    "asset_name = \"denorm_generators_eia\"\n",
    "new_df = defs.load_asset_value(AssetKey(asset_name))"
   ]
  },
  {
   "cell_type": "markdown",
   "id": "0690ab78-7c07-4ea5-9e93-ce12b6ec0fa7",
   "metadata": {},
   "source": [
    "Create the old output table by calling the old output function:"
   ]
  },
  {
   "cell_type": "code",
   "execution_count": null,
   "id": "af6253bb-e135-4068-8088-4e08c9914054",
   "metadata": {},
   "outputs": [],
   "source": [
    "# Import the old python functions\n",
    "import pudl\n",
    "from pudl.io_managers import pudl_sqlite_io_manager\n",
    "\n",
    "engine = pudl_sqlite_io_manager(None).engine\n",
    "pudl_out = pudl.output.pudltabl.PudlTabl(engine)\n",
    "old_df = pudl_out.gens_eia860()"
   ]
  },
  {
   "cell_type": "markdown",
   "id": "b31ba1a7-27fe-44c0-9fd4-8f33bc97f60d",
   "metadata": {},
   "source": [
    "Align the dataframe columns and index then compare the dataframes:"
   ]
  },
  {
   "cell_type": "code",
   "execution_count": null,
   "id": "26c20586-b001-4f8c-8c89-dca7bf426d72",
   "metadata": {
    "tags": []
   },
   "outputs": [],
   "source": [
    "import pandas as pd\n",
    "\n",
    "key = list(old_df.columns)\n",
    "old_df = old_df.sort_values(by=key).reset_index(drop=True)\n",
    "new_df = new_df.sort_values(by=key).reset_index(drop=True)\n",
    "\n",
    "# Convert to use same schema\n",
    "plant_schema = pudl.metadata.classes.Package.from_resource_ids().get_resource(\"denorm_generators_eia\")\n",
    "old_df_schema = plant_schema.enforce_schema(old_df)\n",
    "\n",
    "pd.testing.assert_frame_equal(old_df_schema, new_df)"
   ]
  },
  {
   "attachments": {},
   "cell_type": "markdown",
   "id": "c4092a8d-21be-4cdb-ae93-12579657f7d1",
   "metadata": {},
   "source": [
    "# Step 4: Update the `PudlTabl` class\n",
    "Wahoo! The output table asset has been created, added to the database and tested against the old function. Now you should:\n",
    "1. Add a deprecation warning to the old output table function. We will remove these functions once all of the output tables have been converted to assets.\n",
    "2. Add the table to the `table_method_map` in the `PudlTabl._register_output_methods`. Generally, this will just look like:\n",
    "\n",
    "```python\n",
    "table_method_map = {\n",
    "    \"table_name\": \"table_name\",\n",
    "    ...\n",
    "}\n",
    "```\n",
    "\n",
    "In some cases there might be a legacy method for getting the table that uses an abbreviation of the table name in the method name. To preserve the\n",
    "existing API, you should instead map the table name to the legacy method name:\n",
    "\n",
    "```python\n",
    "table_method_map = {\n",
    "    \"table_name\": \"legacy_method_name\",\n",
    "    ...\n",
    "}\n",
    "```\n",
    "\n",
    "3. Delete old `PudlTabl` method.\n",
    "\n",
    "All done!"
   ]
  }
 ],
 "metadata": {
  "kernelspec": {
   "display_name": "Python 3 (ipykernel)",
   "language": "python",
   "name": "python3"
  },
  "language_info": {
   "codemirror_mode": {
    "name": "ipython",
    "version": 3
   },
   "file_extension": ".py",
   "mimetype": "text/x-python",
   "name": "python",
   "nbconvert_exporter": "python",
   "pygments_lexer": "ipython3",
   "version": "3.11.2"
  }
 },
 "nbformat": 4,
 "nbformat_minor": 5
}
