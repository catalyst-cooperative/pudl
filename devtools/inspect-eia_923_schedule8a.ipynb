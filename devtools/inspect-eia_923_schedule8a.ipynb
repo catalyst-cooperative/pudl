{
 "cells": [
  {
   "cell_type": "markdown",
   "id": "c07231ee-a317-405b-9aec-56d5131ffb0d",
   "metadata": {},
   "source": [
    "# Inspecting `raw_eia923__byproduct_disposition`"
   ]
  },
  {
   "cell_type": "markdown",
   "id": "4e9ec0a3",
   "metadata": {},
   "source": [
    "## Setup"
   ]
  },
  {
   "cell_type": "code",
   "execution_count": null,
   "id": "de97d7ba-22f7-433e-9f2f-0b9df8b64fc7",
   "metadata": {
    "tags": []
   },
   "outputs": [],
   "source": [
    "import os\n",
    "\n",
    "assert os.environ.get(\"DAGSTER_HOME\"), (\n",
    "    \"The DAGSTER_HOME env var is not set so dagster won't be able to find the assets.\"\n",
    "    \"Set the DAGSTER_HOME env var in this notebook or kill the jupyter server and set\"\n",
    "    \" the DAGSTER_HOME env var in your terminal and relaunch jupyter.\"\n",
    ")"
   ]
  },
  {
   "cell_type": "code",
   "execution_count": null,
   "id": "2d284fa5-6ac0-4807-b958-9954c7871bfe",
   "metadata": {
    "tags": []
   },
   "outputs": [],
   "source": [
    "from dagster import AssetKey\n",
    "\n",
    "from pudl.etl import defs\n",
    "\n",
    "asset_key = \"raw_eia923__byproduct_disposition\"\n",
    "df = defs.load_asset_value(AssetKey(asset_key))\n",
    "\n",
    "df"
   ]
  },
  {
   "cell_type": "markdown",
   "id": "4f41ab9c-6177-4be3-ad00-02762d73d6f0",
   "metadata": {},
   "source": [
    "## Summary of Cleaning "
   ]
  },
  {
   "cell_type": "markdown",
   "id": "e9c2d242",
   "metadata": {},
   "source": [
    "Cleaning steps gathered from inspecting the data in this notebook:\n",
    "1. Use fix_eia_na. There are periods that should be nulls\n",
    "2. Remove duplicates based on report_year, plant_id_eia, and byproduct description. Only 9 duplicate records\n",
    "3. Related, those 9 duplicates, representing 18 rows, have no byproduct description or values. They can be filtered from the data.\n",
    "4. Drop the `early_release` column -- there are no values\n",
    "5. Drop the `data_maturity` column -- there is only one value (\"final\") for all records.\n",
    "6. Add constraints to `byproduct_description` (10 unique values)\n",
    "7. Add constraints to `byproducts_to_report` (2 unique values, null allowed)\n",
    "\n",
    "\n",
    "Questions arised from inspecting:\n",
    "1. What can be interpreted from the data when `byproducts_to_report` is null?\n",
    "2. Is there a standard unit conversion for these? Units are in 1000 tons and mmbtu or 1000 tons."
   ]
  },
  {
   "cell_type": "markdown",
   "id": "acd62579",
   "metadata": {},
   "source": [
    "## Fix NA"
   ]
  },
  {
   "cell_type": "code",
   "execution_count": null,
   "id": "ba1b44f4",
   "metadata": {},
   "outputs": [],
   "source": [
    "from pudl.helpers import fix_eia_na"
   ]
  },
  {
   "cell_type": "code",
   "execution_count": null,
   "id": "2cc7cfa5",
   "metadata": {},
   "outputs": [],
   "source": [
    "df = fix_eia_na(df)"
   ]
  },
  {
   "cell_type": "markdown",
   "id": "d74d9c9e",
   "metadata": {},
   "source": [
    "## Value Counts"
   ]
  },
  {
   "cell_type": "code",
   "execution_count": null,
   "id": "90e2f0c1",
   "metadata": {},
   "outputs": [],
   "source": [
    "df.count()"
   ]
  },
  {
   "cell_type": "code",
   "execution_count": null,
   "id": "108720c0",
   "metadata": {},
   "outputs": [],
   "source": [
    "df[\"byproducts_to_report\"].value_counts()"
   ]
  },
  {
   "cell_type": "code",
   "execution_count": null,
   "id": "4f3ea3f3",
   "metadata": {},
   "outputs": [],
   "source": [
    "df[\"byproduct_description\"].value_counts()"
   ]
  },
  {
   "cell_type": "code",
   "execution_count": null,
   "id": "0b197eb2",
   "metadata": {},
   "outputs": [],
   "source": [
    "df[\"data_maturity\"].value_counts()"
   ]
  },
  {
   "cell_type": "code",
   "execution_count": null,
   "id": "7e8d3242",
   "metadata": {},
   "outputs": [],
   "source": [
    "df[\"report_year\"].value_counts().sort_index()"
   ]
  },
  {
   "cell_type": "code",
   "execution_count": null,
   "id": "67e16a2c",
   "metadata": {},
   "outputs": [],
   "source": [
    "df.describe(include=['object', 'category'])"
   ]
  },
  {
   "cell_type": "markdown",
   "id": "77cc4b84",
   "metadata": {},
   "source": [
    "## Check for Duplicates"
   ]
  },
  {
   "cell_type": "code",
   "execution_count": null,
   "id": "3e7ba5b8",
   "metadata": {},
   "outputs": [],
   "source": [
    "\n",
    "unique_by = [\"report_year\", \"plant_id_eia\", \"byproduct_description\"]\n",
    "duplicates = df.duplicated(subset=unique_by, keep=False)\n",
    "\n",
    "print(df[duplicates])"
   ]
  },
  {
   "cell_type": "markdown",
   "id": "c475ef3e",
   "metadata": {},
   "source": [
    "## Check NULLs"
   ]
  },
  {
   "cell_type": "code",
   "execution_count": null,
   "id": "96df5ae3",
   "metadata": {},
   "outputs": [],
   "source": [
    "df[df[[\"report_year\", \"plant_id_eia\", \"byproduct_description\"]].isnull().any(axis=1)]"
   ]
  },
  {
   "cell_type": "code",
   "execution_count": null,
   "id": "64bf962d",
   "metadata": {},
   "outputs": [],
   "source": [
    "df.isnull().sum()"
   ]
  },
  {
   "cell_type": "markdown",
   "id": "95b9e428",
   "metadata": {},
   "source": [
    "## Check Numeric"
   ]
  },
  {
   "cell_type": "code",
   "execution_count": null,
   "id": "5f92d7e5",
   "metadata": {},
   "outputs": [],
   "source": [
    "df.describe()"
   ]
  },
  {
   "cell_type": "markdown",
   "id": "b0b05048",
   "metadata": {},
   "source": [
    "## Scratch Transform"
   ]
  },
  {
   "cell_type": "code",
   "execution_count": null,
   "id": "c4e1e82e",
   "metadata": {},
   "outputs": [],
   "source": [
    "import pandas as pd\n",
    "import pudl\n",
    "from pudl.metadata import PUDL_PACKAGE\n",
    "\n",
    "df = defs.load_asset_value(AssetKey(asset_key))\n",
    "\n",
    "def _core_eia923__byproduct_disposition(raw_eia923__byproduct_disposition: pd.DataFrame) -> pd.DataFrame:\n",
    "    \"\"\"Transforms the core_eia923__byproduct_disposition table.\n",
    "\n",
    "    Transformations include:\n",
    "\n",
    "    * Replace . values with NA\n",
    "    * Drop rows with NA byproduct_description \n",
    "        * This also removes all duplicates based on report_year, plant_id_eia, and byproduct_description\n",
    "    * Drop early_release column with no data values\n",
    "    * Drop data_maturity column with only a single value (\"final\") for all records\n",
    "\n",
    "    Args:\n",
    "        raw_eia923__byproduct_disposition: The raw ``raw_eia923__byproduct_disposition`` dataframe.\n",
    "\n",
    "    Returns:\n",
    "        Cleaned ``core_eia923__byproduct_disposition`` dataframe ready for harvesting.\n",
    "    \"\"\"\n",
    "    df = raw_eia923__byproduct_disposition\n",
    "\n",
    "    # TODO: Confirm these fields are droppable\n",
    "    # Need to stop dropping fields that contain harvestable entity attributes.\n",
    "    # See https://github.com/catalyst-cooperative/pudl/issues/509\n",
    "    cols_to_drop = [\n",
    "        \"early_release\",\n",
    "        \"data_maturity\",\n",
    "    ]\n",
    "    df = df.drop(cols_to_drop, axis=1)\n",
    "    df = pudl.helpers.fix_eia_na(df)\n",
    "    df = df.dropna(subset=[\"byproduct_description\"])\n",
    "\n",
    "    df = PUDL_PACKAGE.encode(df)\n",
    "\n",
    "    return df"
   ]
  },
  {
   "cell_type": "code",
   "execution_count": null,
   "id": "60587c45",
   "metadata": {},
   "outputs": [],
   "source": [
    "clean_df = _core_eia923__byproduct_disposition(df)"
   ]
  },
  {
   "cell_type": "code",
   "execution_count": null,
   "id": "94c206a3",
   "metadata": {},
   "outputs": [],
   "source": [
    "clean_df.columns"
   ]
  },
  {
   "cell_type": "markdown",
   "id": "7497aaeb",
   "metadata": {},
   "source": []
  },
  {
   "cell_type": "code",
   "execution_count": null,
   "id": "f8c0b666",
   "metadata": {},
   "outputs": [],
   "source": [
    "import matplotlib.pyplot as plt"
   ]
  },
  {
   "cell_type": "code",
   "execution_count": null,
   "id": "55108f9d",
   "metadata": {},
   "outputs": [],
   "source": [
    "def plot_bar(df, x, y):\n",
    "    avg_df = df.groupby(x)[y].mean().reset_index()\n",
    "    plt.bar(avg_df[x], avg_df[y])\n",
    "    plt.xticks(rotation=45)\n",
    "    plt.show()"
   ]
  },
  {
   "cell_type": "code",
   "execution_count": null,
   "id": "cd1f5b91",
   "metadata": {},
   "outputs": [],
   "source": [
    "plot_bar(clean_df, \"report_year\", \"disposal_offsite_1000_tons\")"
   ]
  },
  {
   "cell_type": "code",
   "execution_count": null,
   "id": "85b469d6",
   "metadata": {},
   "outputs": [],
   "source": [
    "plot_bar(clean_df, \"report_year\", \"sold_1000_tons_or_mmbtu\")"
   ]
  },
  {
   "cell_type": "code",
   "execution_count": null,
   "id": "2a400e13",
   "metadata": {},
   "outputs": [],
   "source": [
    "plot_bar(clean_df, \"byproduct_description\", \"used_onsite_1000_tons\")"
   ]
  },
  {
   "cell_type": "code",
   "execution_count": null,
   "id": "5f82e2a4",
   "metadata": {},
   "outputs": [],
   "source": [
    "clean_df"
   ]
  },
  {
   "cell_type": "code",
   "execution_count": null,
   "id": "ef3bd83b",
   "metadata": {},
   "outputs": [],
   "source": [
    "numeric_cols = clean_df.select_dtypes(include='number').columns\n",
    "null_summary = (\n",
    "    clean_df \\\n",
    "        .groupby(\"byproduct_description\")[numeric_cols] \\\n",
    "        .apply(lambda x: x.isnull().sum()) \\\n",
    "        .reset_index()\n",
    ")"
   ]
  },
  {
   "cell_type": "code",
   "execution_count": null,
   "id": "ab6a4b29",
   "metadata": {},
   "outputs": [],
   "source": [
    "null_summary"
   ]
  }
 ],
 "metadata": {
  "kernelspec": {
   "display_name": "Python 3 (ipykernel)",
   "language": "python",
   "name": "python3"
  },
  "language_info": {
   "codemirror_mode": {
    "name": "ipython",
    "version": 3
   },
   "file_extension": ".py",
   "mimetype": "text/x-python",
   "name": "python",
   "nbconvert_exporter": "python",
   "pygments_lexer": "ipython3",
   "version": "3.12.9"
  }
 },
 "nbformat": 4,
 "nbformat_minor": 5
}
