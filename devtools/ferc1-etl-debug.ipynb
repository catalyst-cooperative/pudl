{
 "cells": [
  {
   "cell_type": "markdown",
   "id": "3deb7c75-179c-439f-b30c-beca40e9cecf",
   "metadata": {
    "tags": []
   },
   "source": [
    "# Working with the FERC Form 1 Extract / Transform\n",
    "This notebook steps through PUDL's extract and transform steps for FERC Form 1 to make it easier to test and add new years of data, or new tables from the various spreadsheets that haven't been integrated yet."
   ]
  },
  {
   "cell_type": "markdown",
   "id": "82b608c9-df90-4203-b6ef-ce63bd76f6e9",
   "metadata": {
    "tags": []
   },
   "source": [
    "## Setup"
   ]
  },
  {
   "cell_type": "code",
   "execution_count": null,
   "id": "1fa9ca56-b2c8-4bae-8ba3-ee9050b0ef86",
   "metadata": {},
   "outputs": [],
   "source": [
    "%load_ext autoreload\n",
    "%autoreload 3\n",
    "import pudl\n",
    "import logging\n",
    "import sys\n",
    "from pathlib import Path\n",
    "import pandas as pd\n",
    "pd.options.display.max_columns = None"
   ]
  },
  {
   "cell_type": "code",
   "execution_count": null,
   "id": "e21fea69-9d14-48d6-b0c9-149c37844e95",
   "metadata": {},
   "outputs": [],
   "source": [
    "logger = logging.getLogger()\n",
    "logger.setLevel(logging.INFO)\n",
    "handler = logging.StreamHandler(stream=sys.stdout)\n",
    "formatter = logging.Formatter('%(message)s')\n",
    "handler.setFormatter(formatter)\n",
    "logger.handlers = [handler]"
   ]
  },
  {
   "cell_type": "code",
   "execution_count": null,
   "id": "4a6e60d7-49e6-447c-a523-f88987c28086",
   "metadata": {},
   "outputs": [],
   "source": [
    "pudl_settings = pudl.workspace.setup.get_defaults()"
   ]
  },
  {
   "cell_type": "markdown",
   "id": "f0bac7d3-bb44-4e20-bd02-67afdd4412af",
   "metadata": {
    "tags": []
   },
   "source": [
    "## Pick the tables you want to load"
   ]
  },
  {
   "cell_type": "code",
   "execution_count": null,
   "id": "ebda216d-aa43-4d1b-996a-13f4e6e4fb66",
   "metadata": {
    "tags": []
   },
   "outputs": [],
   "source": [
    "# Choose any tables from the following list and add them to the list of table you want to transform\n",
    "list(pudl.extract.ferc1.TABLE_NAME_MAP_FERC1.keys())"
   ]
  },
  {
   "cell_type": "code",
   "execution_count": null,
   "id": "bd17e444-c01d-41e6-a6ea-68244daf0fbc",
   "metadata": {},
   "outputs": [],
   "source": [
    "tables = [] # Add tables here"
   ]
  },
  {
   "cell_type": "code",
   "execution_count": null,
   "id": "451cb78d-d4c0-47a7-9eef-193f54cfc06d",
   "metadata": {},
   "outputs": [],
   "source": [
    "ferc1_settings = pudl.settings.Ferc1Settings(tables=tables)"
   ]
  },
  {
   "cell_type": "markdown",
   "id": "14145b03-fb79-46a6-a0e6-82da0c549d66",
   "metadata": {
    "tags": []
   },
   "source": [
    "## Extract DBF and XBRL Data:"
   ]
  },
  {
   "cell_type": "code",
   "execution_count": null,
   "id": "40a748a6-02c1-4f64-9b05-7b4a9d6fce9e",
   "metadata": {
    "tags": []
   },
   "outputs": [],
   "source": [
    "# Extract old FERC form 1 data from DBF (2020 -)\n",
    "ferc1_dbf_raw_dfs = pudl.extract.ferc1.extract_dbf(\n",
    "    ferc1_settings=ferc1_settings, pudl_settings=pudl_settings\n",
    ")\n",
    "# Extract new FERC form 1 data from XBRL (2021 + )\n",
    "ferc1_xbrl_raw_dfs = pudl.extract.ferc1.extract_xbrl(\n",
    "    ferc1_settings=ferc1_settings, pudl_settings=pudl_settings\n",
    ")\n",
    "# Extract XBRL metadata\n",
    "xbrl_metadata_json_dict = {table: pudl.extract.ferc1.extract_xbrl_metadata(ferc1_settings, pudl_settings)[table] for table in tables}"
   ]
  },
  {
   "cell_type": "markdown",
   "id": "78271302-5323-4a4e-a208-256824a59ca4",
   "metadata": {
    "tags": []
   },
   "source": [
    "## Transform FERC 1 Tables:"
   ]
  },
  {
   "cell_type": "markdown",
   "id": "4bc58f8e-74c3-4f81-a0c3-163f94a74065",
   "metadata": {},
   "source": [
    "### Build Transformers"
   ]
  },
  {
   "cell_type": "code",
   "execution_count": null,
   "id": "d3c488fb-f040-4b61-a584-72c5483397cc",
   "metadata": {
    "tags": []
   },
   "outputs": [],
   "source": [
    "# Get table class information\n",
    "import inspect\n",
    "from pudl.transform.ferc1 import *\n",
    "from pudl.transform.params import *\n",
    "\n",
    "def get_table_classes(module):\n",
    "    classes = [member[1] for member in inspect.getmembers(module, inspect.isclass)]\n",
    "    table_classes = [x for x in classes if x.__name__.endswith(\"Ferc1TableTransformer\")]\n",
    "    return [x for x in table_classes if x.__name__ != \"AbstractFerc1TableTransformer\"]\n",
    "\n",
    "classes = get_table_classes(pudl.transform.ferc1)\n",
    "table_id_dict = {clas.table_id.value: clas for clas in classes}\n",
    "\n",
    "# Loop over selected tables to build the transformers\n",
    "transformers = {}\n",
    "for table in tables:\n",
    "    transformers[table] = (\n",
    "        table_id_dict[table](\n",
    "            xbrl_metadata_json=xbrl_metadata_json_dict[table],\n",
    "            cache_dfs=True,\n",
    "            clear_cached_dfs=False\n",
    "        )\n",
    "    )"
   ]
  },
  {
   "cell_type": "markdown",
   "id": "0b514045-1045-4b90-821e-c521e0f12190",
   "metadata": {},
   "source": [
    "### Transform Individual Tables"
   ]
  },
  {
   "cell_type": "code",
   "execution_count": null,
   "id": "d594beab-7c93-47e3-acb4-b18ef6d3b16e",
   "metadata": {},
   "outputs": [],
   "source": [
    "# Pick one table to transform\n",
    "# transformers.keys()  # pick a table from this list to focus on\n",
    "TRANSFORMER = transformers[] # add a table here"
   ]
  },
  {
   "cell_type": "markdown",
   "id": "d030e249-3858-4650-ba2c-8ef62316db37",
   "metadata": {
    "tags": []
   },
   "source": [
    "#### Test each step of the transform process:"
   ]
  },
  {
   "cell_type": "code",
   "execution_count": null,
   "id": "fad4a616-8c8c-4f34-836d-56e604c140a4",
   "metadata": {},
   "outputs": [],
   "source": [
    "xbrl = TRANSFORMER.process_xbrl(\n",
    "    raw_xbrl_instant=ferc1_xbrl_raw_dfs[TRANSFORMER.table_id.value][\"instant\"],\n",
    "    raw_xbrl_duration=ferc1_xbrl_raw_dfs[TRANSFORMER.table_id.value][\"duration\"]\n",
    ")"
   ]
  },
  {
   "cell_type": "code",
   "execution_count": null,
   "id": "84a77350-084c-41d9-9a19-55884482e37e",
   "metadata": {},
   "outputs": [],
   "source": [
    "dbf = TRANSFORMER.process_dbf(\n",
    "    raw_dbf=ferc1_dbf_raw_dfs[TRANSFORMER.table_id.value]\n",
    ")"
   ]
  },
  {
   "cell_type": "code",
   "execution_count": null,
   "id": "3c5f3389-58c8-40db-b71a-e74a1d4c8c09",
   "metadata": {
    "tags": []
   },
   "outputs": [],
   "source": [
    "start = TRANSFORMER.transform_start(\n",
    "    raw_dbf=ferc1_dbf_raw_dfs[TRANSFORMER.table_id.value],\n",
    "    raw_xbrl_instant=ferc1_xbrl_raw_dfs[TRANSFORMER.table_id.value][\"instant\"],\n",
    "    raw_xbrl_duration=ferc1_xbrl_raw_dfs[TRANSFORMER.table_id.value][\"duration\"]\n",
    ")"
   ]
  },
  {
   "cell_type": "code",
   "execution_count": null,
   "id": "9aa10b65-9200-42c4-8c02-745228b46b7f",
   "metadata": {
    "tags": []
   },
   "outputs": [],
   "source": [
    "main = TRANSFORMER.transform_main(\n",
    "    start\n",
    ")"
   ]
  },
  {
   "cell_type": "code",
   "execution_count": null,
   "id": "e4e1e202-a6b0-4fb9-b9cc-eccbc2e3b813",
   "metadata": {},
   "outputs": [],
   "source": [
    "end = TRANSFORMER.transform_end(\n",
    "    main\n",
    ")"
   ]
  },
  {
   "cell_type": "markdown",
   "id": "a6b2ad2b-57e3-49bd-ba83-8a68f6c06b17",
   "metadata": {},
   "source": [
    "#### Test all steps together"
   ]
  },
  {
   "cell_type": "code",
   "execution_count": null,
   "id": "87e11c18-f6a1-49b0-92d5-b9ebc38fe920",
   "metadata": {
    "tags": []
   },
   "outputs": [],
   "source": [
    "full = TRANSFORMER.transform(\n",
    "    raw_dbf=ferc1_dbf_raw_dfs[TRANSFORMER.table_id.value],\n",
    "    raw_xbrl_instant=ferc1_xbrl_raw_dfs[TRANSFORMER.table_id.value][\"instant\"],\n",
    "    raw_xbrl_duration=ferc1_xbrl_raw_dfs[TRANSFORMER.table_id.value][\"duration\"]\n",
    ")"
   ]
  },
  {
   "cell_type": "markdown",
   "id": "e795f853-a752-44a6-86ac-644baf291f9b",
   "metadata": {
    "tags": []
   },
   "source": [
    "### Transform All Tables"
   ]
  },
  {
   "cell_type": "code",
   "execution_count": null,
   "id": "08da1d39-6272-435f-8241-8b3879078393",
   "metadata": {
    "tags": []
   },
   "outputs": [],
   "source": [
    "transformed_tables = {}\n",
    "for table_name, transformer in transformers.items():\n",
    "    transformed_tables[transformer.table_id.value] = transformer.transform(\n",
    "        raw_dbf=ferc1_dbf_raw_dfs[transformer.table_id.value],\n",
    "        raw_xbrl_instant=ferc1_xbrl_raw_dfs[transformer.table_id.value][\"instant\"],\n",
    "        raw_xbrl_duration=ferc1_xbrl_raw_dfs[transformer.table_id.value][\"duration\"]\n",
    "    )"
   ]
  },
  {
   "cell_type": "markdown",
   "id": "a4f3c9b0-2c5f-49b5-90e5-f0bc3c858385",
   "metadata": {},
   "source": [
    "### Test the Transform Module"
   ]
  },
  {
   "cell_type": "code",
   "execution_count": null,
   "id": "e88afef9-a6d2-4f3e-b255-4dbbf6817d5d",
   "metadata": {},
   "outputs": [],
   "source": [
    "# The transform module has a script you can call to test the module\n",
    "# This will test allllll the tables\n",
    "!python ../src/pudl/transform/ferc1.py"
   ]
  }
 ],
 "metadata": {
  "kernelspec": {
   "display_name": "Python 3 (ipykernel)",
   "language": "python",
   "name": "python3"
  },
  "language_info": {
   "codemirror_mode": {
    "name": "ipython",
    "version": 3
   },
   "file_extension": ".py",
   "mimetype": "text/x-python",
   "name": "python",
   "nbconvert_exporter": "python",
   "pygments_lexer": "ipython3",
   "version": "3.10.8"
  }
 },
 "nbformat": 4,
 "nbformat_minor": 5
}
