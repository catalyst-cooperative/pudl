{
 "cells": [
  {
   "cell_type": "markdown",
   "id": "8bdecb36-ac56-498c-b47d-9dbad70b0a53",
   "metadata": {},
   "source": [
    "# Use Splink to match FERC1 plants to EIA plant parts\n",
    "\n",
    "This notebook walks through how to use splink to match FERC1 plants to EIA plant parts, as is done in `pudl.analysis.record_linkage.eia_ferc1_record_linkage_model.py`. Splink has several visualizations during the model training process that are helpful for understanding model weights and the input datasets. Thos visualizations are not captured in the PUDL module that implements this model, so this companion notebook provides insight into how to use splink for model development.\n",
    "\n",
    "The [Splink docs](https://moj-analytical-services.github.io/splink/index.html) include helpful tutorials and the Github issues and discussions are also helpful places to look."
   ]
  },
  {
   "cell_type": "code",
   "execution_count": null,
   "id": "b4c2c256-2a16-451d-9ebc-2375bede2cfe",
   "metadata": {},
   "outputs": [],
   "source": [
    "%load_ext autoreload\n",
    "%autoreload 3"
   ]
  },
  {
   "cell_type": "code",
   "execution_count": null,
   "id": "3b506271-7ea3-4219-bb10-1d7ea1a1500a",
   "metadata": {},
   "outputs": [],
   "source": [
    "import jellyfish\n",
    "import sqlalchemy as sa\n",
    "from splink.duckdb.linker import DuckDBLinker\n",
    "from splink.duckdb.blocking_rule_library import block_on\n",
    "import pandas as pd\n",
    "\n",
    "import pudl\n",
    "from pudl.analysis.record_linkage import eia_ferc1_record_linkage as eia_ferc1_model\n",
    "from pudl.analysis.record_linkage.name_cleaner import CompanyNameCleaner\n",
    "from pudl.analysis.record_linkage.embed_dataframe import _fill_fuel_type_from_name\n",
    "from pudl.analysis.record_linkage import eia_ferc1_model_config\n",
    "from pudl.etl import defs"
   ]
  },
  {
   "cell_type": "code",
   "execution_count": null,
   "id": "fc3fc801-aa7e-4bf2-9748-200461f1c1ff",
   "metadata": {},
   "outputs": [],
   "source": [
    "pudl_engine = sa.create_engine(pudl.workspace.setup.PudlPaths().pudl_db)"
   ]
  },
  {
   "cell_type": "markdown",
   "id": "46ea387a-2bd7-4240-81b3-ed82ea275c0a",
   "metadata": {},
   "source": [
    "# Get model inputs and preprocess"
   ]
  },
  {
   "cell_type": "code",
   "execution_count": null,
   "id": "b81d9beb-2385-450a-af45-e4e0541a8df4",
   "metadata": {},
   "outputs": [],
   "source": [
    "out_ferc1__yearly_all_plants = defs.load_asset_value(\"out_ferc1__yearly_all_plants\")\n",
    "out_ferc1__yearly_steam_plants_fuel_by_plant_sched402 = defs.load_asset_value(\"out_ferc1__yearly_steam_plants_fuel_by_plant_sched402\")\n",
    "out_eia__yearly_plant_parts = defs.load_asset_value(\"out_eia__yearly_plant_parts\")"
   ]
  },
  {
   "cell_type": "code",
   "execution_count": null,
   "id": "e0de9346-e759-4d96-924a-177a9bcc55b5",
   "metadata": {},
   "outputs": [],
   "source": [
    "inputs = eia_ferc1_model.get_compiled_input_manager(out_ferc1__yearly_all_plants,\n",
    "                                                    out_ferc1__yearly_steam_plants_fuel_by_plant_sched402,\n",
    "                                                    out_eia__yearly_plant_parts)"
   ]
  },
  {
   "cell_type": "code",
   "execution_count": null,
   "id": "bdc336ed-8dd2-407e-a23b-75a64888abaf",
   "metadata": {},
   "outputs": [],
   "source": [
    "eia_df, ferc_df = eia_ferc1_model.get_input_dfs(inputs)\n",
    "train_df = eia_ferc1_model.get_training_data_df(inputs)"
   ]
  },
  {
   "cell_type": "code",
   "execution_count": null,
   "id": "12d3111a-62e7-4cf4-9631-ede274c0594e",
   "metadata": {},
   "outputs": [],
   "source": [
    "plant_name_cleaner = eia_ferc1_model.plant_name_cleaner\n",
    "utility_name_cleaner = CompanyNameCleaner(legal_term_location=2)"
   ]
  },
  {
   "cell_type": "code",
   "execution_count": null,
   "id": "1908a2d9-c114-484f-b250-fa0ea0990a02",
   "metadata": {},
   "outputs": [],
   "source": [
    "ferc_df[\"plant_name\"] = plant_name_cleaner.apply_name_cleaning(ferc_df[\"plant_name\"])\n",
    "ferc_df[\"utility_name\"] = utility_name_cleaner.apply_name_cleaning(ferc_df[\"utility_name\"])\n",
    "ferc_df[\"fuel_type_code_pudl\"] = _fill_fuel_type_from_name(ferc_df, \"fuel_type_code_pudl\", \"plant_name\")"
   ]
  },
  {
   "cell_type": "code",
   "execution_count": null,
   "id": "688bbcac-23c2-41eb-bf1e-3922abd48ced",
   "metadata": {},
   "outputs": [],
   "source": [
    "eia_df[\"plant_name\"] = plant_name_cleaner.apply_name_cleaning(eia_df[\"plant_name\"])\n",
    "eia_df[\"utility_name\"] = utility_name_cleaner.apply_name_cleaning(eia_df[\"utility_name\"])\n",
    "eia_df[\"fuel_type_code_pudl\"] = _fill_fuel_type_from_name(eia_df, \"fuel_type_code_pudl\", \"plant_name\")"
   ]
  },
  {
   "cell_type": "code",
   "execution_count": null,
   "id": "ca38cd17-63af-45fd-9b4c-f31df3637ce4",
   "metadata": {},
   "outputs": [],
   "source": [
    "ferc_df[\"installation_year\"] = pd.to_datetime(ferc_df[\"installation_year\"], format=\"%Y\")\n",
    "ferc_df[\"construction_year\"] = pd.to_datetime(ferc_df[\"construction_year\"], format=\"%Y\")\n",
    "eia_df[\"installation_year\"] = pd.to_datetime(eia_df[\"installation_year\"], format=\"%Y\")\n",
    "eia_df[\"construction_year\"] = pd.to_datetime(eia_df[\"construction_year\"], format=\"%Y\")"
   ]
  },
  {
   "cell_type": "code",
   "execution_count": null,
   "id": "b80e123a-062f-47e2-906a-d1b6afa4c3e7",
   "metadata": {},
   "outputs": [],
   "source": [
    "def _get_metaphone(row, col_name):\n",
    "    if pd.isnull(row[col_name]):\n",
    "        return None\n",
    "    return jellyfish.metaphone(row[col_name])"
   ]
  },
  {
   "cell_type": "code",
   "execution_count": null,
   "id": "45a2e0bb-c776-45af-a9cb-2aa8989dce17",
   "metadata": {},
   "outputs": [],
   "source": [
    "eia_df[\"plant_name_mphone\"] = eia_df.apply(_get_metaphone, axis=1, args=(\"plant_name\",))\n",
    "ferc_df[\"plant_name_mphone\"] = ferc_df.apply(_get_metaphone, axis=1, args=(\"plant_name\",),)"
   ]
  },
  {
   "cell_type": "code",
   "execution_count": null,
   "id": "5d17b668-cc12-4d96-a7ba-068d5a7227e5",
   "metadata": {},
   "outputs": [],
   "source": [
    "eia_df[\"utility_name_mphone\"] = eia_df.apply(_get_metaphone, axis=1, args=(\"utility_name\",))\n",
    "ferc_df[\"utility_name_mphone\"] = ferc_df.apply(_get_metaphone, axis=1, args=(\"utility_name\",))"
   ]
  },
  {
   "cell_type": "code",
   "execution_count": null,
   "id": "4d9ab6e0-11b3-4b52-bada-c52f0d36bb9b",
   "metadata": {},
   "outputs": [],
   "source": [
    "cols = eia_ferc1_model.ID_COL + eia_ferc1_model.MATCHING_COLS + eia_ferc1_model.EXTRA_COLS\n",
    "eia_df = eia_df[cols]\n",
    "ferc_df = ferc_df[cols]"
   ]
  },
  {
   "cell_type": "markdown",
   "id": "ddaed355-501a-4a38-b7fa-7d1b5f355306",
   "metadata": {},
   "source": [
    "# Set settings dictionary and create linker"
   ]
  },
  {
   "cell_type": "code",
   "execution_count": null,
   "id": "fdc68f8a-e4a0-4b3a-bde3-bea1e0ac1338",
   "metadata": {},
   "outputs": [],
   "source": [
    "settings_dict = {\"link_type\": \"link_only\",\n",
    "                 \"unique_id_column_name\": \"record_id\",\n",
    "                 \"additional_columns_to_retain\": [\"plant_id_pudl\", \"utility_id_pudl\", \"utility_name_mphone\", \"plant_name_mphone\"]}"
   ]
  },
  {
   "cell_type": "code",
   "execution_count": null,
   "id": "730c9bfe-dade-494e-aaec-ae1827f2c9de",
   "metadata": {},
   "outputs": [],
   "source": [
    "linker = DuckDBLinker([eia_df, ferc_df], input_table_aliases = [\"eia_df\", \"ferc_df\"], settings_dict=settings_dict)"
   ]
  },
  {
   "cell_type": "code",
   "execution_count": null,
   "id": "5f4b43ad-61a0-4c7f-957e-3094576db86d",
   "metadata": {},
   "outputs": [],
   "source": [
    "train_table = linker.register_table(train_df, \"training_labels\", overwrite=True)"
   ]
  },
  {
   "cell_type": "markdown",
   "id": "e2777501-8cc5-4a05-95ae-0616a8e9a794",
   "metadata": {},
   "source": [
    "# Data Exploration"
   ]
  },
  {
   "cell_type": "code",
   "execution_count": null,
   "id": "bf24b3ef-2cc0-455b-9f7e-89fd1fca8a1d",
   "metadata": {},
   "outputs": [],
   "source": [
    "linker.completeness_chart(cols=eia_ferc1_model.MATCHING_COLS)"
   ]
  },
  {
   "cell_type": "markdown",
   "id": "213c8564-0abe-4118-8e79-2377e67f220f",
   "metadata": {},
   "source": [
    "Columns with higher cardinality are better for matching. Note the skew in `fuel_type_code_pudl` which means we'll need to use a term frequency adjustment."
   ]
  },
  {
   "cell_type": "code",
   "execution_count": null,
   "id": "5d728332-839c-42ac-bd72-de534a410962",
   "metadata": {},
   "outputs": [],
   "source": [
    "linker.profile_columns(eia_ferc1_model.MATCHING_COLS, top_n=10, bottom_n=5)"
   ]
  },
  {
   "cell_type": "markdown",
   "id": "5c2c6931-0969-4ff6-9586-3bd91ff695de",
   "metadata": {},
   "source": [
    "# Generate blocking rules\n",
    "\n",
    "Define blocking rules to reduce the search space of potential candidate pairs that the matching model must consider. See `pudl.analysis.record_linkage.eia_ferc1_model_config` for blocking rule definitions.\n",
    "\n",
    "From the docs:\n",
    "- \"More generally, we can often specify multiple blocking rules such that it becomes highly implausible that a true match would not meet at least one of these blocking critera. This is the recommended approach in Splink. Generally we would recommend between about 3 and 10, though even more is possible.\"\n",
    "- \"For linkages in DuckDB on a standard laptop, we suggest using blocking rules that create no more than about 20 million comparisons.\""
   ]
  },
  {
   "cell_type": "code",
   "execution_count": null,
   "id": "68d5a3cf-2e0b-426d-aab5-86babd6d2751",
   "metadata": {},
   "outputs": [],
   "source": [
    "linker.cumulative_num_comparisons_from_blocking_rules_chart(eia_ferc1_model_config.BLOCKING_RULES)"
   ]
  },
  {
   "cell_type": "markdown",
   "id": "573573a2-056b-41a0-86a3-6477877acf6c",
   "metadata": {},
   "source": [
    "# Define Comparison Levels"
   ]
  },
  {
   "cell_type": "code",
   "execution_count": null,
   "id": "7d95b129-3422-4069-bfda-a4ad504a6b54",
   "metadata": {},
   "outputs": [],
   "source": [
    "print(eia_ferc1_model_config.plant_name_comparison.human_readable_description)"
   ]
  },
  {
   "cell_type": "code",
   "execution_count": null,
   "id": "b979157e-f46d-4bfb-b9b5-0900e2545753",
   "metadata": {},
   "outputs": [],
   "source": [
    "settings_dict.update({\n",
    "    \"comparisons\": eia_ferc1_model_config.COMPARISONS,\n",
    "    \"blocking_rules_to_generate_predictions\": eia_ferc1_model_config.BLOCKING_RULES,\n",
    "    \"retain_matching_columns\": True,\n",
    "    \"retain_intermediate_calculation_columns\": True,\n",
    "    \"probability_two_random_records_match\": 1/len(eia_df) # this parameter can also be estimated if it's unknown\n",
    "    }\n",
    ")"
   ]
  },
  {
   "cell_type": "markdown",
   "id": "1b3e1002-60cf-43dd-9176-e3f23c76168d",
   "metadata": {},
   "source": [
    "Explanation of probability two random records match calculation:\n",
    "\n",
    "The EIA dataset has n records and FERC dataset has m records, where n > m. Each FERC record matches to one EIA record, so there are n - m EIA record that don't have a match.\n",
    "\n",
    "- If I choose a FERC record first then I have a 1/n chance of choosing the matching EIA record\n",
    "- If I choose an EIA record first then I have a m/n chance of choosing an EIA record that has a FERC match, and then a 1/m chance of choosing the correct matching FERC record. So the probability of choosing two matching records is m/n * 1/m  = 1/n\n",
    "\n",
    "In either case, the probability is 1/n."
   ]
  },
  {
   "cell_type": "code",
   "execution_count": null,
   "id": "5e205d00-da15-4c20-8d7b-a7d08e0ff815",
   "metadata": {},
   "outputs": [],
   "source": [
    "linker.load_settings(settings_dict)"
   ]
  },
  {
   "cell_type": "markdown",
   "id": "19a9aa5f-2fc0-4983-bbcd-dc23a99fd849",
   "metadata": {},
   "source": [
    "# Estimate Model Parameters\n",
    "\n",
    "Now that we have specified our linkage model, we need to estimate the probability_two_random_records_match (if not specified in settings dictionary), u, and m parameters."
   ]
  },
  {
   "cell_type": "code",
   "execution_count": null,
   "id": "c46edb21-cfc7-42ee-b7d0-c862643ddaaa",
   "metadata": {},
   "outputs": [],
   "source": [
    "linker.estimate_u_using_random_sampling(max_pairs=1e7)"
   ]
  },
  {
   "cell_type": "markdown",
   "id": "1f88be00-0d98-4886-8b7f-38b0d4d98ee1",
   "metadata": {},
   "source": [
    "We can estimate m with either training labels or unsupervised, with Expectation Maximization."
   ]
  },
  {
   "cell_type": "code",
   "execution_count": null,
   "id": "5e94256e-337c-48b1-bf3e-9171eadb1d4f",
   "metadata": {},
   "outputs": [],
   "source": [
    "linker.estimate_m_from_pairwise_labels(\"training_labels\")"
   ]
  },
  {
   "cell_type": "code",
   "execution_count": null,
   "id": "8e42cf22-3686-4429-86ce-b52f0bf9a03a",
   "metadata": {},
   "outputs": [],
   "source": [
    "# if we do it unsupervised, we need to define training blocking rules\n",
    "# training_blocking_rule_1 = \"l.plant_name = r.plant_name\"\n",
    "# training_session_1 = linker.estimate_parameters_using_expectation_maximisation(training_blocking_rule_1)\n",
    "# training_session_2 = linker.estimate_parameters_using_expectation_maximisation(block_on([\"utility_name\", \"net_generation_mwh\"]))\n",
    "# training_session_3 = linker.estimate_parameters_using_expectation_maximisation(block_on([\"capacity_mw\", \"fuel_type_code_pudl\"]))"
   ]
  },
  {
   "cell_type": "code",
   "execution_count": null,
   "id": "62e26357-8ac1-41fa-94bc-e2c713f9b5f8",
   "metadata": {},
   "outputs": [],
   "source": [
    "linker.match_weights_chart()"
   ]
  },
  {
   "cell_type": "code",
   "execution_count": null,
   "id": "256d4912-cd26-4c1f-a387-42b76dbbdb13",
   "metadata": {},
   "outputs": [],
   "source": [
    "linker.m_u_parameters_chart()"
   ]
  },
  {
   "cell_type": "code",
   "execution_count": null,
   "id": "5e0e589b-940f-4915-88c3-40ecfc83720c",
   "metadata": {},
   "outputs": [],
   "source": [
    "model_name = \"ferc_eia_demo\""
   ]
  },
  {
   "cell_type": "code",
   "execution_count": null,
   "id": "e6e6ebc9-68e6-4ef2-8d44-2db1680da8dc",
   "metadata": {},
   "outputs": [],
   "source": [
    "# save model settings to a chosen directory\n",
    "settings = linker.save_model_to_json(f\"./model_settings_{model_name}.json\", overwrite=True)"
   ]
  },
  {
   "cell_type": "markdown",
   "id": "ca6af0ea-958c-47a6-97c1-df6daa2ff3dd",
   "metadata": {},
   "source": [
    "# Make Predictions"
   ]
  },
  {
   "cell_type": "code",
   "execution_count": null,
   "id": "ab6087c2-cc1f-48b6-81aa-17287e5422b7",
   "metadata": {},
   "outputs": [],
   "source": [
    "# predict matches above a certain threshold match probability or match weight\n",
    "df_preds = linker.predict(threshold_match_probability=.25)"
   ]
  },
  {
   "cell_type": "code",
   "execution_count": null,
   "id": "30cb64a1-ed4f-4a2b-aa1d-3b765c4a7f8e",
   "metadata": {},
   "outputs": [],
   "source": [
    "sorted_preds_df = df_preds.as_pandas_dataframe().sort_values(by=\"match_probability\", ascending=False)"
   ]
  },
  {
   "cell_type": "code",
   "execution_count": null,
   "id": "124cc657-e841-48d5-b6a9-1a8b61861646",
   "metadata": {},
   "outputs": [],
   "source": [
    "best_match_df = sorted_preds_df.rename(columns={\"record_id_r\": \"record_id_ferc1\", \"record_id_l\": \"record_id_eia\"}).groupby(\"record_id_ferc1\").first()"
   ]
  },
  {
   "cell_type": "markdown",
   "id": "983d5c98-fca6-4f0a-8493-747d738cdfce",
   "metadata": {},
   "source": [
    "# Evaluate Results"
   ]
  },
  {
   "cell_type": "code",
   "execution_count": null,
   "id": "8a974241-c1cd-4220-a75d-1e06ad44e5e1",
   "metadata": {},
   "outputs": [],
   "source": [
    "train_df = train_df.rename(columns={\"record_id_r\": \"record_id_ferc1\", \"record_id_l\": \"record_id_eia\"})"
   ]
  },
  {
   "cell_type": "code",
   "execution_count": null,
   "id": "bd2e9436-5c9c-4039-9d6d-eaf1e97bd233",
   "metadata": {},
   "outputs": [],
   "source": [
    "cols = [col + \"_l\" for col in eia_ferc1_model.MATCHING_COLS]\n",
    "cols += [col + \"_r\" for col in eia_ferc1_model.MATCHING_COLS]\n",
    "extra_cols = [\"plant_id_pudl_l\", \"plant_id_pudl_r\", \"utility_id_pudl_l\", \"utility_id_pudl_r\"]\n",
    "cols.sort()\n",
    "cols = [\"record_id_eia\", \"match_weight\", \"match_probability\"] + cols + extra_cols\n",
    "best_match_df = best_match_df[cols].reset_index()"
   ]
  },
  {
   "cell_type": "code",
   "execution_count": null,
   "id": "45b46c87-97cb-43b3-9e37-1c8b4cc9fddf",
   "metadata": {},
   "outputs": [],
   "source": [
    "def get_true_pos(pred_df, train_df):\n",
    "    return train_df.merge(\n",
    "                pred_df,\n",
    "                how=\"left\",\n",
    "                on=[\"record_id_ferc1\", \"record_id_eia\"],\n",
    "                indicator=True\n",
    "            )._merge.value_counts()[\"both\"]\n",
    "\n",
    "# where an incorrect EIA record is predicted for a FERC record\n",
    "def get_false_pos(pred_df, train_df):\n",
    "    shared_preds = train_df.merge(\n",
    "        pred_df,\n",
    "        how=\"inner\",\n",
    "        on=\"record_id_ferc1\",\n",
    "        suffixes=(\"_true\", \"_pred\")\n",
    "    )\n",
    "    return len(shared_preds[shared_preds.record_id_eia_true != shared_preds.record_id_eia_pred])\n",
    "\n",
    "# in training data but no prediction made\n",
    "def get_false_neg(pred_df, train_df):\n",
    "    return train_df.merge(\n",
    "                pred_df,\n",
    "                how=\"left\",\n",
    "                on=[\"record_id_ferc1\"],\n",
    "                indicator=True\n",
    "            )._merge.value_counts()[\"left_only\"]\n",
    "\n",
    "def get_duplicated_eia_plant_part_matches(pred_df):\n",
    "    return len(pred_df[(pred_df.record_id_eia.notnull()) & (pred_df.record_id_eia.duplicated(keep=\"first\"))])\n",
    "\n",
    "def get_match_at_threshold(df, threshold):\n",
    "    return df[df.match_probability >= threshold]"
   ]
  },
  {
   "cell_type": "code",
   "execution_count": null,
   "id": "37d76eb9-9951-4997-87ec-598727b14cdd",
   "metadata": {},
   "outputs": [],
   "source": [
    "ind = [\".95\", \".9\", \".75\", \".5\", \".25\"]\n",
    "data = {\"true_pos\": [get_true_pos(get_match_at_threshold(best_match_df, threshold=.95), train_df),\n",
    "                     get_true_pos(get_match_at_threshold(best_match_df, threshold=.9), train_df),\n",
    "                     get_true_pos(get_match_at_threshold(best_match_df, threshold=.75), train_df),\n",
    "                     get_true_pos(get_match_at_threshold(best_match_df, threshold=.5), train_df),\n",
    "                     get_true_pos(get_match_at_threshold(best_match_df, threshold=.25), train_df)\n",
    "                    ],\n",
    "        \"false_pos\": [get_false_pos(get_match_at_threshold(best_match_df, threshold=.95), train_df),\n",
    "                      get_false_pos(get_match_at_threshold(best_match_df, threshold=.9), train_df),\n",
    "                      get_false_pos(get_match_at_threshold(best_match_df, threshold=.75), train_df),\n",
    "                      get_false_pos(get_match_at_threshold(best_match_df, threshold=.5), train_df),\n",
    "                      get_false_pos(get_match_at_threshold(best_match_df, threshold=.25), train_df)\n",
    "                     ],\n",
    "        \"false_neg\": [get_false_neg(get_match_at_threshold(best_match_df, threshold=.95), train_df),\n",
    "                      get_false_neg(get_match_at_threshold(best_match_df, threshold=.9), train_df),\n",
    "                      get_false_neg(get_match_at_threshold(best_match_df, threshold=.75), train_df),\n",
    "                      get_false_neg(get_match_at_threshold(best_match_df, threshold=.5), train_df),\n",
    "                      get_false_neg(get_match_at_threshold(best_match_df, threshold=.25), train_df)\n",
    "                     ]\n",
    "       }\n",
    "\n",
    "stats_df = pd.DataFrame(index=ind, data=data)\n",
    "stats_df.loc[:, \"precision\"] = stats_df[\"true_pos\"]/(stats_df[\"true_pos\"] + stats_df[\"false_pos\"])\n",
    "stats_df.loc[:, \"recall\"] = stats_df[\"true_pos\"]/(stats_df[\"true_pos\"] + stats_df[\"false_neg\"])"
   ]
  },
  {
   "cell_type": "code",
   "execution_count": null,
   "id": "b5a17fa4-3147-49cc-9b63-9f63b9929955",
   "metadata": {},
   "outputs": [],
   "source": [
    "stats_df"
   ]
  },
  {
   "cell_type": "code",
   "execution_count": null,
   "id": "6238bb1d-9924-411e-9025-b06268c67a5d",
   "metadata": {},
   "outputs": [],
   "source": [
    "ind = [ \".9\", \".75\", \".5\", \".25\"]\n",
    "data = {\"duplicate_eia_plant_part_matches\": [get_duplicated_eia_plant_part_matches(get_match_at_threshold(best_match_df, threshold=.9)),\n",
    "                                             get_duplicated_eia_plant_part_matches(get_match_at_threshold(best_match_df, threshold=.75)),\n",
    "                                             get_duplicated_eia_plant_part_matches(get_match_at_threshold(best_match_df, threshold=.5)),\n",
    "                                             get_duplicated_eia_plant_part_matches(get_match_at_threshold(best_match_df, threshold=.25))\n",
    "                                            ]\n",
    "       }\n",
    "dupe_df = pd.DataFrame(index=ind, data=data)"
   ]
  },
  {
   "cell_type": "code",
   "execution_count": null,
   "id": "cde2f5f4-d21f-4bc6-8f0c-82dc25bb875e",
   "metadata": {},
   "outputs": [],
   "source": [
    "dupe_df"
   ]
  },
  {
   "cell_type": "code",
   "execution_count": null,
   "id": "6e9d08a3-036e-4528-826c-039839a0832c",
   "metadata": {},
   "outputs": [],
   "source": [
    "best_match_with_overwrites = eia_ferc1_model.get_best_matches(sorted_preds_df, inputs)\n",
    "connected_df = eia_ferc1_model.get_full_records_with_overwrites(best_match_with_overwrites, inputs)"
   ]
  },
  {
   "cell_type": "markdown",
   "id": "3e8f3cd8-a0e8-45a0-91d0-1ffd1a1affa4",
   "metadata": {},
   "source": [
    "# Look at matches"
   ]
  },
  {
   "cell_type": "code",
   "execution_count": null,
   "id": "13311f8e-0a9d-4a72-b5e2-317d05631cda",
   "metadata": {},
   "outputs": [],
   "source": [
    "labels_df = inputs.get_train_df().reset_index()"
   ]
  },
  {
   "cell_type": "code",
   "execution_count": null,
   "id": "c42167f1-23a7-4530-bf6f-92feb71358b0",
   "metadata": {},
   "outputs": [],
   "source": [
    "compare_df._merge.value_counts()"
   ]
  },
  {
   "cell_type": "code",
   "execution_count": null,
   "id": "d035f43d-ded4-4143-ab7c-c45324e3cbdd",
   "metadata": {},
   "outputs": [],
   "source": [
    "incorrect_matches = compare_df[compare_df.record_id_eia_true != compare_df.record_id_eia_pred]\n",
    "incorrect_matches[[\"record_id_ferc1\", \"record_id_eia_true\", \"record_id_eia_pred\", \"match_probability\"]].reset_index(drop=True)"
   ]
  },
  {
   "cell_type": "code",
   "execution_count": null,
   "id": "1f7c163b-6985-4815-83e9-f7759d8533d6",
   "metadata": {},
   "outputs": [],
   "source": [
    "i = 0\n",
    "ferc_id = incorrect_matches.record_id_ferc1.iloc[i]\n",
    "true_eia_id = incorrect_matches.record_id_eia_true.iloc[i]\n",
    "pred_eia_id = incorrect_matches.record_id_eia_pred.iloc[i]"
   ]
  },
  {
   "cell_type": "code",
   "execution_count": null,
   "id": "22f3c6b9-bf4d-4fe7-a4ca-0e63ed3db67f",
   "metadata": {},
   "outputs": [],
   "source": [
    "rec_true = sorted_preds_df[(sorted_preds_df.record_id_r == ferc_id) & (sorted_preds_df.record_id_l == true_eia_id)]\n",
    "rec_pred = sorted_preds_df[(sorted_preds_df.record_id_r == ferc_id) & (sorted_preds_df.record_id_l == pred_eia_id)]"
   ]
  },
  {
   "cell_type": "code",
   "execution_count": null,
   "id": "70e135d0-9357-4f0e-8e7f-7193187935fb",
   "metadata": {},
   "outputs": [],
   "source": [
    "rec_true = rec_true.to_dict(orient=\"records\")\n",
    "linker.waterfall_chart(rec_true, filter_nulls=False)"
   ]
  },
  {
   "cell_type": "code",
   "execution_count": null,
   "id": "700fb929-be71-41c8-b840-2d52becb7e84",
   "metadata": {},
   "outputs": [],
   "source": [
    "rec_pred = rec_pred.to_dict(orient=\"records\")\n",
    "linker.waterfall_chart(rec_pred, filter_nulls=False)"
   ]
  },
  {
   "cell_type": "code",
   "execution_count": null,
   "id": "407b8a8c-5d76-4175-bf81-c32e078d3ea6",
   "metadata": {},
   "outputs": [],
   "source": []
  }
 ],
 "metadata": {
  "kernelspec": {
   "display_name": "Python 3 (ipykernel)",
   "language": "python",
   "name": "python3"
  },
  "language_info": {
   "codemirror_mode": {
    "name": "ipython",
    "version": 3
   },
   "file_extension": ".py",
   "mimetype": "text/x-python",
   "name": "python",
   "nbconvert_exporter": "python",
   "pygments_lexer": "ipython3",
   "version": "3.11.8"
  }
 },
 "nbformat": 4,
 "nbformat_minor": 5
}
