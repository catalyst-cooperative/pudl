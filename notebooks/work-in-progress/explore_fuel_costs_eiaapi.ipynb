{
 "cells": [
  {
   "cell_type": "code",
   "execution_count": null,
   "metadata": {},
   "outputs": [],
   "source": [
    "%load_ext autoreload\n",
    "%autoreload 2"
   ]
  },
  {
   "cell_type": "code",
   "execution_count": null,
   "metadata": {},
   "outputs": [],
   "source": [
    "import pudl\n",
    "import sqlalchemy as sa\n",
    "import sys\n",
    "import os\n",
    "import matplotlib.pyplot as plt\n",
    "import logging\n",
    "import requests\n",
    "import pandas as pd"
   ]
  },
  {
   "cell_type": "code",
   "execution_count": null,
   "metadata": {},
   "outputs": [],
   "source": [
    "# basic setup for logging\n",
    "logger = logging.getLogger()\n",
    "logger.setLevel(logging.INFO)\n",
    "handler = logging.StreamHandler(stream=sys.stdout)\n",
    "formatter = logging.Formatter('%(message)s')\n",
    "handler.setFormatter(formatter)\n",
    "logger.handlers = [handler]\n",
    "pd.options.display.max_columns = None"
   ]
  },
  {
   "cell_type": "code",
   "execution_count": null,
   "metadata": {},
   "outputs": [],
   "source": [
    "def plot_filled_rolled_plant(frc_rf, frc_og):\n",
    "    plant_id =frc_rf[frc_rf.fuel_cost_from_eiaapi].plant_id_eia.sample().values[0]\n",
    "    while len(frc_og[(frc_og.plant_id_eia == plant_id)\n",
    "               & (frc_og.fuel_cost_per_mmbtu.notnull())]) == 0:\n",
    "        plant_id =frc_rf[frc_rf.fuel_cost_from_eiaapi].plant_id_eia.sample().values[0]\n",
    "    for df,frc_type in zip([frc_rf,frc_og,], ['Fill&Roll','Og']):\n",
    "        plant = df[df.plant_id_eia == plant_id]\n",
    "        for fuel in plant.fuel_type_code_pudl.unique():\n",
    "            plant_fuel = plant[plant.fuel_type_code_pudl == fuel]\n",
    "            plt.plot(plant_fuel.report_date, plant_fuel.fuel_cost_per_mmbtu, label=f\"{frc_type} {fuel}\")\n",
    "    plt.ylabel(\"Fuel cost $/mmBTU\")\n",
    "    plt.xlabel(\"Report Date\")\n",
    "    plt.title(f\"Results of FRC Table for {plant_fuel.plant_name_eia.unique()}\")\n",
    "    plt.legend()\n",
    "    plt.show()"
   ]
  },
  {
   "cell_type": "code",
   "execution_count": null,
   "metadata": {},
   "outputs": [],
   "source": [
    "from pudl.workspace.setup import PudlPaths\n",
    "\n",
    "pudl_engine = sa.create_engine(PudlPaths().pudl_db)"
   ]
  },
  {
   "cell_type": "code",
   "execution_count": null,
   "metadata": {},
   "outputs": [],
   "source": [
    "pudl_out = pudl.output.pudltabl.PudlTabl(pudl_engine,freq='AS', roll_fuel_cost=True, fill_fuel_cost=True)"
   ]
  },
  {
   "cell_type": "code",
   "execution_count": null,
   "metadata": {},
   "outputs": [],
   "source": [
    "fc_avg = pudl.output.eia923.get_fuel_cost_avg_eiaapi(pudl.output.eia923.FUEL_COST_CATEGORIES_EIAAPI)\n",
    "frc_og = pudl.output.eia923.fuel_receipts_costs_eia923(\n",
    "    pudl_engine,freq='MS', fill=False,roll=False,) \n",
    "frc_f = pudl.output.eia923.fuel_receipts_costs_eia923(\n",
    "    pudl_engine,freq='MS', fill=True,roll=False,)\n",
    "frc_r = pudl.output.eia923.fuel_receipts_costs_eia923(\n",
    "    pudl_engine,freq='MS', fill=False,roll=True,)\n",
    "frc_rf = pudl.output.eia923.fuel_receipts_costs_eia923(\n",
    "    pudl_engine,freq='MS', fill=True,roll=True,)\n",
    "\n",
    "logger.info(\"Records w/ Fuel cost data:\")\n",
    "logger.info(f\"Original:  {len(frc_og[frc_og.fuel_cost_per_mmbtu.notnull()])/ len(frc_og):.1%}\")\n",
    "logger.info(f\"Roll:      {len(frc_r[frc_r.fuel_cost_per_mmbtu.notnull()])/ len(frc_r):.1%}\")\n",
    "logger.info(f\"Fill/Roll: {len(frc_rf[frc_rf.fuel_cost_per_mmbtu.notnull()])/ len(frc_rf):.1%}\")\n",
    "logger.info(f\"EIA Avg:   {len(fc_avg[fc_avg.fuel_cost_per_unit.notnull()])/len(fc_avg):.1%}\")"
   ]
  },
  {
   "cell_type": "code",
   "execution_count": null,
   "metadata": {},
   "outputs": [],
   "source": [
    "logger.info(\"Total mmBTU w/ Fuel cost data:\")\n",
    "logger.info(f\"Original:  {(frc_og[frc_og.fuel_cost_per_mmbtu.notnull()].total_heat_content_mmbtu.sum())/ (frc_og.total_heat_content_mmbtu.sum()):.1%}\")\n",
    "logger.info(f\"Roll:      {(frc_r[frc_r.fuel_cost_per_mmbtu.notnull()].total_heat_content_mmbtu.sum())/ (frc_r.total_heat_content_mmbtu.sum()):.1%}\")\n",
    "logger.info(f\"Fill/Roll: {(frc_rf[frc_rf.fuel_cost_per_mmbtu.notnull()].total_heat_content_mmbtu.sum())/ (frc_rf.total_heat_content_mmbtu.sum()):.1%}\")\n"
   ]
  },
  {
   "cell_type": "code",
   "execution_count": null,
   "metadata": {},
   "outputs": [],
   "source": [
    "plt.figure(figsize=(8,6))\n",
    "range=(0,10)\n",
    "bins=40\n",
    "alpha=.6\n",
    "\n",
    "plt.hist(frc_rf.fuel_cost_per_mmbtu,range=range,bins=bins,\n",
    "         label='Fill&Rolled',color='cyan',alpha=alpha,\n",
    "         weights=frc_rf.total_heat_content_mmbtu\n",
    "        );\n",
    "plt.hist(frc_f.fuel_cost_per_mmbtu,range=range,bins=bins,\n",
    "         label='Filled',alpha=alpha,color='lime',\n",
    "         weights=frc_f.total_heat_content_mmbtu\n",
    "        );\n",
    "plt.hist(frc_r.fuel_cost_per_mmbtu,range=range,bins=bins,\n",
    "         label='Rolled',alpha=alpha,color='black',\n",
    "         weights=frc_r.total_heat_content_mmbtu\n",
    "        );\n",
    "\n",
    "plt.hist(frc_og.fuel_cost_per_mmbtu,range=range,bins=bins,\n",
    "         label='Original',color='violet',alpha=alpha,\n",
    "         weights=frc_og.total_heat_content_mmbtu\n",
    "        );\n",
    "\n",
    "plt.ylabel(\"mmBTU\")\n",
    "plt.xlabel(\"$/mmBTU\")\n",
    "plt.title(\"Results of FRC Table\")\n",
    "plt.legend()\n",
    "plt.show()"
   ]
  },
  {
   "cell_type": "code",
   "execution_count": null,
   "metadata": {},
   "outputs": [],
   "source": [
    "plot_filled_rolled_plant(frc_rf, frc_og)"
   ]
  },
  {
   "cell_type": "code",
   "execution_count": null,
   "metadata": {},
   "outputs": [],
   "source": []
  }
 ],
 "metadata": {
  "kernelspec": {
   "display_name": "Python 3",
   "language": "python",
   "name": "python3"
  },
  "language_info": {
   "codemirror_mode": {
    "name": "ipython",
    "version": 3
   },
   "file_extension": ".py",
   "mimetype": "text/x-python",
   "name": "python",
   "nbconvert_exporter": "python",
   "pygments_lexer": "ipython3",
   "version": "3.8.6"
  }
 },
 "nbformat": 4,
 "nbformat_minor": 4
}
