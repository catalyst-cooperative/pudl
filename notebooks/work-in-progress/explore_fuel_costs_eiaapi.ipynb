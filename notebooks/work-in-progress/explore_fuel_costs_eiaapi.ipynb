{
 "cells": [
  {
   "cell_type": "code",
   "execution_count": null,
   "metadata": {},
   "outputs": [],
   "source": [
    "%load_ext autoreload\n",
    "%autoreload 2"
   ]
  },
  {
   "cell_type": "code",
   "execution_count": null,
   "metadata": {},
   "outputs": [],
   "source": [
    "import matplotlib.pyplot as plt\n",
    "import pandas as pd\n",
    "\n",
    "import pudl\n",
    "from pudl.etl import defs"
   ]
  },
  {
   "cell_type": "code",
   "execution_count": null,
   "metadata": {},
   "outputs": [],
   "source": [
    "logger = pudl.logging_helpers.get_logger(__name__)"
   ]
  },
  {
   "cell_type": "code",
   "execution_count": null,
   "metadata": {},
   "outputs": [],
   "source": [
    "def plot_filled_rolled_plant(frc):\n",
    "    plant_id =frc[frc.fuel_cost_per_mmbtu_source.isin([\"eiaapi\", \"rolling_avg\"])].plant_id_eia.sample().values[0]\n",
    "    plant = frc[frc.plant_id_eia == plant_id]\n",
    "    for fuel in plant.fuel_type_code_pudl.unique():\n",
    "        plant_fuel = plant[plant.fuel_type_code_pudl == fuel]\n",
    "        # plt.plot(plant_fuel.report_date, plant_fuel.fuel_cost_per_mmbtu, label=f\"Fully Imputed {fuel}\")\n",
    "        for source in plant_fuel.fuel_cost_per_mmbtu_source.unique():\n",
    "            plant_fuel_source = plant_fuel[plant_fuel.fuel_cost_per_mmbtu_source == source]\n",
    "            plt.scatter(plant_fuel_source.report_date, plant_fuel_source.fuel_cost_per_mmbtu, label=f\"{source} {fuel}\")\n",
    "    plt.ylabel(\"Fuel cost $/mmBTU\")\n",
    "    plt.xlabel(\"Report Date\")\n",
    "    plt.title(f\"Results of FRC Table for {plant_fuel.plant_name_eia.values[0]}\")\n",
    "    plt.legend(loc=\"upper left\")\n",
    "    plt.show()"
   ]
  },
  {
   "cell_type": "code",
   "execution_count": null,
   "metadata": {},
   "outputs": [],
   "source": [
    "frc = defs.load_asset_value(\"out_eia923__fuel_receipts_costs\")"
   ]
  },
  {
   "cell_type": "code",
   "execution_count": null,
   "metadata": {},
   "outputs": [],
   "source": [
    "## percentages of records from the various fuel cost sources\n",
    "(frc.fuel_cost_per_mmbtu_source.value_counts(dropna=False)/ len(frc)).round(2)"
   ]
  },
  {
   "cell_type": "code",
   "execution_count": null,
   "metadata": {},
   "outputs": [],
   "source": [
    "# re-run this cell to see a new sample plant\n",
    "plot_filled_rolled_plant(frc)"
   ]
  },
  {
   "cell_type": "code",
   "execution_count": null,
   "metadata": {},
   "outputs": [],
   "source": [
    "(\n",
    "    frc.assign(report_year=lambda x: x.report_date.dt.year)\n",
    "    .groupby([\"report_year\",\"fuel_cost_per_mmbtu_source\"], observed=True)\n",
    "    [[\"fuel_cost_per_mmbtu\"]].sum().unstack([\"fuel_cost_per_mmbtu_source\"])\n",
    "    .plot(title=\"Annual sum of Fuel Cost by Source\",ylabel=\"fuel_cost_per_mmbtu\")\n",
    ")\n",
    "plt.show()"
   ]
  },
  {
   "cell_type": "code",
   "execution_count": null,
   "metadata": {},
   "outputs": [],
   "source": [
    "(\n",
    "    frc.assign(report_year=lambda x: x.report_date.dt.year)\n",
    "    .groupby([\"fuel_cost_per_mmbtu_source\",\"energy_source_code\"], observed=True)\n",
    "    [[\"fuel_cost_per_mmbtu\"]].sum().unstack([\"fuel_cost_per_mmbtu_source\"])\n",
    "    .plot(title=\"Total Fuel Cost by Source\",ylabel=\"fuel_cost_per_mmbtu\")\n",
    ")\n",
    "plt.show()"
   ]
  },
  {
   "cell_type": "code",
   "execution_count": null,
   "metadata": {},
   "outputs": [],
   "source": [
    "(\n",
    "    frc.assign(report_year=lambda x: x.report_date.dt.year)\n",
    "    .groupby([\"fuel_cost_per_mmbtu_source\",\"energy_source_code\"], observed=True)\n",
    "    [[\"total_fuel_cost\"]].sum().unstack([\"fuel_cost_per_mmbtu_source\"])\n",
    "    .plot(title=\"Total Fuel Cost by Fuel Cost Source and Energy Source Code\",ylabel=\"total_fuel_cost\")\n",
    ")\n",
    "plt.show()"
   ]
  },
  {
   "cell_type": "code",
   "execution_count": null,
   "metadata": {},
   "outputs": [],
   "source": [
    "def log_total_mmbtu_by_source(frc, source):\n",
    "    perc = frc[(frc.fuel_cost_per_mmbtu_source == source) &frc.fuel_cost_per_mmbtu.notnull()].fuel_consumed_mmbtu.sum()/ frc.fuel_consumed_mmbtu.sum()\n",
    "    logger.info(f\"{source}:   {perc:.1%}\")\n",
    "logger.info(\"Total mmBTU w/ Fuel cost data:\")\n",
    "log_total_mmbtu_by_source(frc, \"original\")\n",
    "log_total_mmbtu_by_source(frc, \"eiaapi\")\n",
    "log_total_mmbtu_by_source(frc, \"rolling_avg\")\n",
    "log_total_mmbtu_by_source(frc, pd.NA)"
   ]
  },
  {
   "cell_type": "code",
   "execution_count": null,
   "metadata": {},
   "outputs": [],
   "source": [
    "plt.figure(figsize=(8,6))\n",
    "range=(0,10)\n",
    "bins=40\n",
    "alpha=.6\n",
    "for source in [\"original\", \"eiaapi\", \"rolling_avg\"]:\n",
    "    frc_source = frc[frc.fuel_cost_per_mmbtu_source == source]\n",
    "    plt.hist(frc_source.fuel_cost_per_mmbtu,range=range,bins=bins,\n",
    "             label=source,alpha=alpha,\n",
    "             weights=frc_source.fuel_consumed_mmbtu\n",
    "            );\n",
    "plt.ylabel(\"mmBTU\")\n",
    "plt.xlabel(\"$/mmBTU\")\n",
    "plt.title(\"FRC Table by Fuel Cost Source\")\n",
    "plt.legend()\n",
    "plt.show()"
   ]
  }
 ],
 "metadata": {
  "kernelspec": {
   "display_name": "Python 3 (ipykernel)",
   "language": "python",
   "name": "python3"
  },
  "language_info": {
   "codemirror_mode": {
    "name": "ipython",
    "version": 3
   },
   "file_extension": ".py",
   "mimetype": "text/x-python",
   "name": "python",
   "nbconvert_exporter": "python",
   "pygments_lexer": "ipython3",
   "version": "3.12.6"
  }
 },
 "nbformat": 4,
 "nbformat_minor": 4
}
