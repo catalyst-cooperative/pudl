{
 "cells": [
  {
   "cell_type": "markdown",
   "id": "fa12c4de-3887-4ff4-98a1-67c405db006b",
   "metadata": {},
   "source": [
    "# Using the VCE Resource Adequacy Renewable Energy (RARE) Power Dataset Parquet Files"
   ]
  },
  {
   "cell_type": "raw",
   "id": "f513d515-1172-4cff-ba9e-70580e0b9965",
   "metadata": {},
   "source": [
    "The RARE dataset, `vcerare` in PUDL, was produced by Vibrant Clean Energy and is licensed to the public under the Creative Commons Attribution 4.0 International license (CC-BY-4.0). The data consists of hourly, county-level renewable generation profiles for solar PV, onshore, and offshore wind in the continental United States. It was compiled based on outputs from the NOAA HRRR weather model. Visit our [VCE Data Source](https://catalystcoop-pudl.readthedocs.io/en/nightly/data_sources/vcerare.html) page to learn more."
   ]
  },
  {
   "cell_type": "markdown",
   "id": "7ab75607-14f1-4407-8f82-f6c11c935f36",
   "metadata": {},
   "source": [
    "## There are two primary access methods for RARE data"
   ]
  },
  {
   "cell_type": "markdown",
   "id": "95781d44-11f9-4d1f-9d2b-c1e6b3d80f11",
   "metadata": {},
   "source": [
    "* **Raw CSV archives (Zenodo)**\n",
    "* **Processed PUDL Parquet files (S3 bucket)**\n",
    "  \n",
    "\n",
    "If you saw CSV and said: *\"that's for me!\"* -- we're here to say: *\"give Parquet a chance!\"* This notebook is intended to help you navigate and customize this enormous dataset in a way that may actually make your life easier than trying to wrangle it in Excel.\n",
    "\n",
    "### Raw CSV archives (Zenodo)\n",
    "\n",
    "The raw data are separated into CSVs by year (2019 - 2023) and generation source (solar PV, onshore wind, offshore wind). Each file contains an index column for the hour of year (1 - 8760) and value columns containing estimated capacity factor for the county. The files have been optimized for distribution in Excel as they contain as little additional information as possible.\n",
    "\n",
    "See the [Zenodo archive README](https://zenodo.org/records/13937523) for more detail on the raw data schema and contents. \n",
    "\n",
    "### Processed PUDL Parquet files (S3 bucket)\n",
    "\n",
    "The processed data are published as Apache Parquet files--a file format designed for efficient data storage and retreival. These processed files combine all years and generation sources into one table. They also restructure the data from a wide format to a tall format by pulling county into a column value rather than a column header. Additional informational columns are added to the processed data including: \n",
    "\n",
    "* Latitude\n",
    "* Longitude\n",
    "* County FIPS code\n",
    "* Report rear\n",
    "* Datetime UTC\n",
    "* Separate state and county (or Lake) name fields (the raw data is formatted together as county_state)\n",
    "\n",
    "Take a look at our [data dictionary](https://catalystcoop-pudl.readthedocs.io/en/nightly/data_dictionaries/pudl_db.html#out-vcerare-hourly-available-capacity-factor) for more information on the processed table schema."
   ]
  },
  {
   "cell_type": "markdown",
   "id": "d0e861aa-01c8-4174-bac3-4e418b880f9a",
   "metadata": {
    "jp-MarkdownHeadingCollapsed": true
   },
   "source": [
    "## Which one should you use?"
   ]
  },
  {
   "cell_type": "markdown",
   "id": "473c509e-f518-4159-85f3-eb6764e980ca",
   "metadata": {},
   "source": [
    "If you want or need to alter the layout of the data in order to feed it into your model, are interested in a particular subset of the data, want to connect it to geospatial data, or want to view / run analysis on all the data at once, the processed PUDL Parquet files are the way to go! For context, the row limit in Excel is a little more than 1 million rows. The processed PUDL table contains 136,437,000 rows. Below, we'll show you how to wrangle this dataset without blowing up your computer."
   ]
  },
  {
   "cell_type": "markdown",
   "id": "c399ea58-aa9b-45e1-9f0b-57adbc8d949e",
   "metadata": {},
   "source": [
    "## Accessing RARE Parquet files"
   ]
  },
  {
   "cell_type": "code",
   "execution_count": null,
   "id": "77ef0416-3f43-48f2-b71a-76a383006f2c",
   "metadata": {},
   "outputs": [],
   "source": [
    "import altair as alt\n",
    "import io\n",
    "import matplotlib.pyplot as plt\n",
    "import os\n",
    "import pandas as pd\n",
    "import random\n",
    "import sys\n",
    "import pudl\n",
    "pudl_paths = pudl.workspace.setup.PudlPaths()"
   ]
  },
  {
   "cell_type": "code",
   "execution_count": null,
   "id": "49394cc9-116b-4fee-a445-02afcc3215b1",
   "metadata": {},
   "outputs": [],
   "source": [
    "# Load the full RARE dataset from Parquet into pandas\n",
    "rare_df = pd.read_parquet(\n",
    "    pudl_paths.pudl_output / \"parquet/out_vcerare__hourly_available_capacity_factor.parquet\", engine='pyarrow', dtype_backend='pyarrow'\n",
    ")\n",
    "# Display ten random hourly records, to give an overview of what the data looks like\n",
    "rare_df.sample(10)"
   ]
  },
  {
   "cell_type": "markdown",
   "id": "2d9553bd-3c69-4a70-b9e2-11dccd6cbfa5",
   "metadata": {},
   "source": [
    "### Filter the data"
   ]
  },
  {
   "cell_type": "markdown",
   "id": "e87d1575-008c-4df9-a394-aaa3c875fde8",
   "metadata": {},
   "source": [
    "You can use this format to filter the data you'd like to access. Here are some examples: \n",
    "\n",
    "```\n",
    "# Filter by single year\n",
    "filtered_df = rare_df[rare_df[\"report_year\"]==2023]\n",
    "\n",
    "# Filter by multiple years\n",
    "filtered_df = rare_df[rare_df[\"report_year\"].isin([2019, 2020])]\n",
    "\n",
    "# Filter by state\n",
    "filtered_df = rare_df[rare_df[\"state\"]==\"TX\"]\n",
    "```"
   ]
  },
  {
   "cell_type": "code",
   "execution_count": null,
   "id": "82d0cc7c-3b84-4dc8-b07d-4f2f6de8df79",
   "metadata": {
    "jupyter": {
     "outputs_hidden": true
    }
   },
   "outputs": [],
   "source": [
    "# Example filter to pull data from Rhode Island only\n",
    "filtered_df = rare_df[rare_df[\"state\"]==\"RI\"]\n",
    "# Show the first 10 values as a sample view\n",
    "filtered_df.head(10)"
   ]
  },
  {
   "cell_type": "markdown",
   "id": "1e5c6c8d-8a8e-48be-918d-6a9d1e14741f",
   "metadata": {},
   "source": [
    "### Create a simple histogram"
   ]
  },
  {
   "cell_type": "code",
   "execution_count": null,
   "id": "cc41d9ee-3f6b-4da6-8450-6f649bef2744",
   "metadata": {},
   "outputs": [],
   "source": [
    "# Random county_id_fips generator:\n",
    "random_county_id_fips = random.choice(rare_df[\"county_id_fips\"])\n",
    "random_county_id_fips"
   ]
  },
  {
   "cell_type": "code",
   "execution_count": null,
   "id": "cb3e5f29-7c98-44a2-8578-b64a6878733d",
   "metadata": {},
   "outputs": [],
   "source": [
    "# Select a random county by default, or substitute in your own 5-digit county FIPS ID\"\n",
    "hist_year = 2023 # Update to your desired year\n",
    "hist_county_id_fips = random_county_id_fips # If you want, add your custom 5 digit code here instead\n",
    "hist_gen_type = \"onshore_wind\" # Choose from: solar_pv, onshore_wind, offshore_wind"
   ]
  },
  {
   "cell_type": "code",
   "execution_count": null,
   "id": "3915c2de-215f-4b25-b718-15f14ed3dbd6",
   "metadata": {},
   "outputs": [],
   "source": [
    "# This is where we make the plot\n",
    "plot_df = rare_df[\n",
    "    (rare_df[\"report_year\"]==hist_year)\n",
    "    & (rare_df[\"county_id_fips\"]==hist_county_id_fips)\n",
    "]\n",
    "county_name = plot_df[plot_df[\"county_id_fips\"]==hist_county_id_fips].county_or_lake_name.unique()[0]\n",
    "state_name = plot_df[plot_df[\"county_id_fips\"]==hist_county_id_fips].state.unique()[0]\n",
    "\n",
    "# Make the chart\n",
    "plt.hist(plot_df[f\"capacity_factor_{gen_type}\"], bins=100, range=(0, 1))\n",
    "plt.title(\n",
    "    f\"county: {county_name}; state: {state_name}; gen: {hist_gen_type}; max:{plot_df[f\"capacity_factor_{gen_type}\"].max():.2f}\")\n",
    "plt.grid()\n",
    "plt.show()"
   ]
  },
  {
   "cell_type": "markdown",
   "id": "09d939e8-3a3d-4908-9ca3-67e4c69c35d8",
   "metadata": {},
   "source": [
    "### Download the data"
   ]
  },
  {
   "cell_type": "markdown",
   "id": "13289ced-0028-4d79-9e5a-cf79bc464d80",
   "metadata": {},
   "source": [
    "#### Memory check - will it Excel? \n",
    "\n",
    "If you want to know whether your table is capable of being processed as a csv you can use this memory estimator. If the estimated memory exceeds 500 MB it's too big! Cutting columns or making the filter scope smaller will help reduce the file size."
   ]
  },
  {
   "cell_type": "code",
   "execution_count": null,
   "id": "47400458-83f7-4a6b-abea-55ae9618bf27",
   "metadata": {},
   "outputs": [],
   "source": [
    "# test_df = the name of the table you want to test\n",
    "test_df = plot_df # You can edit this to the name of the df you want to test the memory of\n",
    "\n",
    "# Calculate the memory usage in bytes, including the index\n",
    "mem_usage_bytes = test_df.memory_usage(deep=True).sum()\n",
    "# Convert bytes to megabytes\n",
    "mem_usage_mb = mem_usage_bytes / (1024 * 1024)\n",
    "csv_size_estimate_mb = mem_usage_mb * 2  # Rough multiplier for CSV size\n",
    "print(f\"Estimated CSV size: {csv_size_estimate_mb:.2f} MB\")"
   ]
  },
  {
   "cell_type": "markdown",
   "id": "17bff202-4766-44e1-8442-86108335162b",
   "metadata": {},
   "source": [
    "#### Download!\n",
    "Specify your desired download location by filling in the `download_path` and running this cell will output the data to that location under the name `rare_power_data.csv`."
   ]
  },
  {
   "cell_type": "code",
   "execution_count": null,
   "id": "7c880907-818c-47e0-bfc9-2ee270d8893d",
   "metadata": {},
   "outputs": [],
   "source": [
    "# Add the df you want to download\n",
    "download_df = plot_df # Change this to whatever df you want to download\n",
    "# Add the file path you want to download the data to\n",
    "# Leave this blank to save the data in the same folder as this notebook.\n",
    "download_path = \"\" \n",
    "# e.g. download_path = \"/home/user/Desktop/folder/data_folder/\"\n",
    "download_df.to_csv(download_path+\"rare_power_data.csv\")"
   ]
  },
  {
   "cell_type": "markdown",
   "id": "1366a604-3f7a-4f31-a495-e8d83e1089d3",
   "metadata": {},
   "source": [
    "## Explore the data"
   ]
  },
  {
   "cell_type": "code",
   "execution_count": null,
   "id": "464b1c0d-bf46-4683-9ce3-290e07524266",
   "metadata": {},
   "outputs": [],
   "source": [
    "state = \"RI\" # Input your desired state\n",
    "annual_year = 2023 # Input your desired year"
   ]
  },
  {
   "cell_type": "code",
   "execution_count": null,
   "id": "ae747759-1553-4dd1-94b6-7e101a1bac35",
   "metadata": {
    "jupyter": {
     "source_hidden": true
    }
   },
   "outputs": [],
   "source": [
    "cap_fac_cols = ['solar_pv', 'onshore_wind', 'offshore_wind']\n",
    "\n",
    "# Remove capacity_factor prefix from columns\n",
    "rare_df_copy = rare_df.copy()\n",
    "rare_df_copy.columns = [\n",
    "    col.replace('capacity_factor_', '') if col.startswith('capacity_factor_') else col\n",
    "    for col in rare_df_copy.columns\n",
    "]\n",
    "\n",
    "# Filter based on year and state\n",
    "rare_year_state_subset_raw = rare_df_copy[\n",
    "    (rare_df_copy[\"report_year\"] == annual_year) & (rare_df_copy[\"state\"] == state)\n",
    "]\n",
    "\n",
    "# Calculate both mean and variance, then stack and reshape\n",
    "agg_funcs = {col: ['mean', 'var'] for col in cap_fac_cols}\n",
    "stats_df = rare_year_state_subset_raw.groupby(\n",
    "    [\"report_year\", \"state\", \"county_or_lake_name\", \"county_id_fips\"]\n",
    ").agg(agg_funcs)\n",
    "\n",
    "# Stack and reshape to combine mean and variance\n",
    "rare_year_state_subset_final = stats_df.stack(level=0).reset_index()\n",
    "rare_year_state_subset_final.columns = [\"report_year\", \"state\", \"county_or_lake_name\", \"county_id_fips\", \"gen_type\", \"average_capacity_factor\", \"average_variance\"]"
   ]
  },
  {
   "cell_type": "code",
   "execution_count": null,
   "id": "f6ba26c6-da82-4498-ad5e-646ed1c7bd04",
   "metadata": {
    "jupyter": {
     "source_hidden": true
    }
   },
   "outputs": [],
   "source": [
    "# Define the data source for the chart\n",
    "source = rare_year_state_subset_final\n",
    "\n",
    "# Set the color scheme for the chart\n",
    "color = alt.Color('gen_type:N').scale(\n",
    "    domain=['solar_pv', 'onshore_wind', 'offshore_wind'],\n",
    "    range=['#e7ba52', '#69b373', '#aec7e8']\n",
    ")\n",
    "\n",
    "# We create two selections:\n",
    "# - a brush that is active on the top panel\n",
    "# - a multi-click that is active on the bottom panel\n",
    "brush = alt.selection_interval(encodings=['x'])\n",
    "click = alt.selection_point(encodings=['color'])\n",
    "\n",
    "# Top panel is scatter plot of temperature vs time\n",
    "points = alt.Chart().mark_point().encode(\n",
    "    alt.X('average_variance:Q', title='Annual Variance'),\n",
    "    alt.Y('average_capacity_factor:Q', title='Annual Average Capacity Factor')\n",
    "        .scale(domain=[0, 1]),\n",
    "    color=alt.condition(brush, color, alt.value('lightgray')),\n",
    "    tooltip=[\n",
    "        alt.Tooltip('county_or_lake_name:N', title='County Name'),\n",
    "        alt.Tooltip('county_id_fips:N', title='FIPS ID'),\n",
    "        alt.Tooltip('average_capacity_factor:Q', title='Average Annual Capacity Factor', format='.2f'),  # Rounded to 2 decimals\n",
    "        alt.Tooltip('average_variance:Q', title='Average Annual Variance', format='.2f'),  # Rounded to 2 decimals\n",
    "    ]\n",
    ").properties(\n",
    "    width=550,\n",
    "    height=300\n",
    ").add_params(\n",
    "    brush\n",
    ").transform_filter(\n",
    "    click\n",
    ")\n",
    "\n",
    "# Bottom panel is a bar chart of average capacity factor per generation type\n",
    "bars = alt.Chart().mark_bar().encode(\n",
    "    x=alt.X('average(average_capacity_factor):Q', title='Average Capacity Factor (Excluding Outliers)'),\n",
    "    y=alt.Y('gen_type:N', title='Generation Type'),\n",
    "    color=alt.condition(click, color, alt.value('lightgray')),\n",
    "    tooltip=[\n",
    "        alt.Tooltip('gen_type:N', title='Generation Type'),\n",
    "        alt.Tooltip('average(average_capacity_factor):Q', title='Average Capacity Factor', format='.2f')\n",
    "    ]\n",
    ").transform_filter(\n",
    "    (alt.datum.average_capacity_factor > 0) & brush\n",
    ").properties(\n",
    "    width=550,\n",
    ").add_params(\n",
    "    click\n",
    ")\n",
    "\n",
    "alt.vconcat(\n",
    "    points,\n",
    "    bars,\n",
    "    data=source,\n",
    "    title=f\"Average Capacity Factor vs. Variance for Counties in {state} in {year}\"\n",
    ").configure_title(\n",
    "    fontSize=24,\n",
    "    anchor=\"middle\",\n",
    "    dy=-10,\n",
    ").configure_axis(\n",
    "    titleFontSize=16,  # Adjust the axis title font size\n",
    "    titleFontWeight='bold',  # Set axis title to bold\n",
    "    titleColor='black',  # Set axis title color\n",
    "    labelFontSize=12,  # Adjust the axis label font size\n",
    "    labelColor='gray',\n",
    "    titlePadding=10,\n",
    ")"
   ]
  },
  {
   "cell_type": "code",
   "execution_count": null,
   "id": "86744336-fc2b-4841-b22f-ed2845307b11",
   "metadata": {},
   "outputs": [],
   "source": [
    "county_id_fips = \"25027\" #Input your desired county_id_fips\n",
    "monthly_year = 2023 # Input your desired year"
   ]
  },
  {
   "cell_type": "code",
   "execution_count": null,
   "id": "e999de13-0ae1-4014-b451-d7d589262ed3",
   "metadata": {
    "jupyter": {
     "source_hidden": true
    }
   },
   "outputs": [],
   "source": [
    "rare_county_year_subset = rare_df_copy[\n",
    "    (rare_df_copy[\"county_id_fips\"] == county_id_fips)\n",
    "    & (rare_df_copy[\"report_year\"] == monthly_year)\n",
    "][cap_fac_cols + [\"datetime_utc\"]].set_index(\"datetime_utc\")\n",
    "\n",
    "# Update resampling to use 'ME' instead of 'M'\n",
    "rare_county_subset_monthly = rare_county_year_subset.resample('ME').agg(['mean', 'var']).stack(level=-2, future_stack=True).reset_index().rename(columns={\"level_1\": \"gen_type\"})\n",
    "\n",
    "# Format the 'year_month' column\n",
    "rare_county_subset_monthly['year_month'] = rare_county_subset_monthly['datetime_utc'].dt.strftime('%Y-%B')"
   ]
  },
  {
   "cell_type": "code",
   "execution_count": null,
   "id": "58037d28-fd0d-46b6-a41e-8f0feb069f48",
   "metadata": {
    "jupyter": {
     "source_hidden": true
    }
   },
   "outputs": [],
   "source": [
    "source = rare_county_subset_monthly\n",
    "\n",
    "# Base chart with 'year_month' on the x-axis and custom colors for 'gen_type'\n",
    "base = alt.Chart(source).encode(\n",
    "    x=alt.X('year_month:N', title=f\"Month of Year {year}\"),  # Set x-axis title here\n",
    "    color=alt.Color('gen_type:N', scale=alt.Scale(domain=list(custom_colors.keys()), range=list(custom_colors.values())))\n",
    ")\n",
    "\n",
    "# Fold the 'mean' and 'var' columns into a key-value format\n",
    "folded = base.transform_fold(\n",
    "    ['mean', 'var'],  # Columns to fold\n",
    "    as_=['Statistic', 'Value']  # New column names after folding\n",
    ")\n",
    "\n",
    "# Create the line chart for both mean and variance\n",
    "lines = folded.mark_line().encode(\n",
    "    y='Value:Q',  # Use the folded 'Value' for y-axis\n",
    "    strokeDash='Statistic:N'  # Differentiate 'mean' and 'var' by dash style\n",
    ")\n",
    "\n",
    "# Combine the lines into a layered chart\n",
    "chart = lines.properties(\n",
    "    title=f\"Monthly Average Capacity Factor and Variance by Generation Type in county FIPS ID {county_id_fips} in {year}\",\n",
    "    width=600,\n",
    "    height=400\n",
    ").configure_title(\n",
    "    fontSize=24,\n",
    "    anchor=\"middle\",\n",
    "    dy=-10,\n",
    ").configure_axis(\n",
    "    titleFontSize=16,  # Adjust the axis title font size\n",
    "    titleFontWeight='bold',  # Set axis title to bold\n",
    "    titleColor='black',  # Set axis title color\n",
    "    labelFontSize=12,  # Adjust the axis label font size\n",
    "    labelColor='gray',\n",
    "    titlePadding=10,\n",
    ")\n",
    "\n",
    "chart.display()\n"
   ]
  },
  {
   "cell_type": "code",
   "execution_count": null,
   "id": "5f2bf3ce-b316-4b64-96e0-c1d39b84d6e4",
   "metadata": {},
   "outputs": [],
   "source": []
  }
 ],
 "metadata": {
  "kernelspec": {
   "display_name": "Python 3 (ipykernel)",
   "language": "python",
   "name": "python3"
  },
  "language_info": {
   "codemirror_mode": {
    "name": "ipython",
    "version": 3
   },
   "file_extension": ".py",
   "mimetype": "text/x-python",
   "name": "python",
   "nbconvert_exporter": "python",
   "pygments_lexer": "ipython3",
   "version": "3.12.6"
  }
 },
 "nbformat": 4,
 "nbformat_minor": 5
}
