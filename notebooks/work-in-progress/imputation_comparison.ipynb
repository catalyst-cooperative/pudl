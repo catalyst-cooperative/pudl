{
 "cells": [
  {
   "cell_type": "markdown",
   "id": "b033730b-15b6-49fc-afb8-2977408e2dab",
   "metadata": {},
   "source": [
    "# Compare EIA 930 imputation methods"
   ]
  },
  {
   "cell_type": "code",
   "execution_count": null,
   "id": "7bc244b5-ef9b-497e-9c08-9ac2daa3b97f",
   "metadata": {},
   "outputs": [],
   "source": [
    "import pandas as pd\n",
    "import matplotlib.pyplot as plt\n",
    "\n",
    "from pudl.analysis.timeseries_evaluation import plot_imputation, _filter_df\n",
    "from pudl.analysis.timeseries_cleaning import melt_imputed_timeseries_matrix\n",
    "from pudl.etl import defs"
   ]
  },
  {
   "cell_type": "markdown",
   "id": "4116c4cd-065c-4c7a-a85a-89b6efb98314",
   "metadata": {},
   "source": [
    "Helper function to load a dataframe with simulated and actual data."
   ]
  },
  {
   "cell_type": "code",
   "execution_count": null,
   "id": "14743411-d127-470c-b537-7951e8f65fbc",
   "metadata": {},
   "outputs": [],
   "source": [
    "def _load_comparison_data(\n",
    "    base_asset: str,\n",
    "    id_cols: list[str],\n",
    "    value_col: str = \"demand_imputed_pudl_mwh\",\n",
    ") -> pd.DataFrame:\n",
    "    simulated_df = defs.load_asset_value(f\"_{base_asset}_simulated\").rename(\n",
    "        columns={value_col: \"simulated_demand\", f\"{value_col}_imputation_code\": \"simulated_demand_imputation_code\"}\n",
    "    )\n",
    "    imputed_df = defs.load_asset_value(base_asset).rename(\n",
    "        columns={value_col: \"imputed_demand\", f\"{value_col}_imputation_code\": \"imputed_demand_imputation_code\"}\n",
    "    )\n",
    "    print(f\"Mean percent error for {base_asset}: \", defs.load_asset_value(f\"_{base_asset}_score\"))\n",
    "\n",
    "    # Get months with simulated data\n",
    "    simulated_month_id_cols = [\"month\"] + id_cols\n",
    "    simulated_df[\"month\"] = simulated_df[\"datetime\"].dt.to_period(\"M\")\n",
    "    simulated_months = simulated_df[simulated_df[\"simulated_demand_imputation_code\"] == \"simulated\"].drop_duplicates(\n",
    "        subset=simulated_month_id_cols\n",
    "    )[simulated_month_id_cols]\n",
    "    simulated_df = simulated_df.merge(simulated_months, on=simulated_month_id_cols)\n",
    "\n",
    "    return simulated_df.merge(\n",
    "        imputed_df, on=[\"datetime_utc\"] + id_cols\n",
    "    )\n",
    "\n",
    "\n",
    "def _get_highest_error_months(\n",
    "    comparison_df: pd.DataFrame,\n",
    "    id_col: str,\n",
    "):\n",
    "    comparison_df[\"error\"] = (comparison_df[\"simulated_demand\"] - comparison_df[\"imputed_demand\"]).abs()\n",
    "    return comparison_df[\n",
    "        [id_col, \"datetime_utc\", \"error\"]\n",
    "    ].groupby(\n",
    "        [id_col, pd.Grouper(key='datetime_utc', freq='MS')]\n",
    "    ).mean()[\"error\"].sort_values(ascending=False).head(30).reset_index()\n",
    "\n",
    "\n",
    "def _get_last_day_of_month(date_str):\n",
    "    return pd.to_datetime(date_str).to_period('M').to_timestamp('M').strftime(\"%Y-%m-%d\")\n",
    "\n",
    "\n",
    "def _plot_month(comparison_df, simulated_months_df, id_col: str, month_idx: int):\n",
    "    month = simulated_months_df.iloc[month_idx]\n",
    "    entity_id = month[id_col]\n",
    "    start_date = month[\"datetime_utc\"]\n",
    "    end_date = _get_last_day_of_month(start_date)\n",
    "    plot_imputation(\n",
    "        comparison_df,\n",
    "        idx_cols=[id_col],\n",
    "        idx_vals=(entity_id),\n",
    "        start_date=start_date,\n",
    "        end_date=end_date,\n",
    "        reported_col=\"imputed_demand\",\n",
    "        imputed_col=\"simulated_demand\",\n",
    "        time_col=\"datetime_utc\",\n",
    "    )"
   ]
  },
  {
   "cell_type": "markdown",
   "id": "e042f728-54b0-488b-8694-8a9e27acad6b",
   "metadata": {},
   "source": [
    "## Analyze Combined Imputation"
   ]
  },
  {
   "cell_type": "code",
   "execution_count": null,
   "id": "0bf85ea4-1014-4af7-99c5-17f7120f3b41",
   "metadata": {},
   "outputs": [],
   "source": [
    "comparison_df = _load_comparison_data(\"_out_eia930__combined_imputed_demand\", id_cols=[\"generic_id\"])"
   ]
  },
  {
   "cell_type": "markdown",
   "id": "6c4eb9d6-6234-422d-b38a-d0327d485ed5",
   "metadata": {},
   "source": [
    "### Find cases with largest diff between simulated and actual"
   ]
  },
  {
   "cell_type": "code",
   "execution_count": null,
   "id": "021fb045-090a-4907-acc1-53ee4e28d9bf",
   "metadata": {},
   "outputs": [],
   "source": [
    "simulated_months = _get_highest_error_months(comparison_df, id_col=\"generic_id\")\n",
    "simulated_months"
   ]
  },
  {
   "cell_type": "code",
   "execution_count": null,
   "id": "05338151-aa2e-4cbf-94a9-e415b456b502",
   "metadata": {},
   "outputs": [],
   "source": [
    "_plot_month(comparison_df, simulated_months, \"generic_id\", 0)"
   ]
  },
  {
   "cell_type": "code",
   "execution_count": null,
   "id": "f2891608-a73c-4b49-8817-aff7c6e2cad7",
   "metadata": {},
   "outputs": [],
   "source": [
    "_plot_month(comparison_df, simulated_months, \"generic_id\", 1)"
   ]
  },
  {
   "cell_type": "code",
   "execution_count": null,
   "id": "a8826fc9-b258-4194-ae4b-c44627bfee83",
   "metadata": {},
   "outputs": [],
   "source": [
    "_plot_month(comparison_df, simulated_months, \"generic_id\", 2)"
   ]
  },
  {
   "cell_type": "markdown",
   "id": "d890f50f-8024-432c-ac54-6c40ce8b2357",
   "metadata": {},
   "source": [
    "## Analyze BA Imputation"
   ]
  },
  {
   "cell_type": "code",
   "execution_count": null,
   "id": "d846e220-e3a3-458e-8d34-9c11a46bdab4",
   "metadata": {},
   "outputs": [],
   "source": [
    "comparison_df = _load_comparison_data(\"out_eia930__hourly_operations\", id_cols=[\"balancing_authority_code_eia\"])"
   ]
  },
  {
   "cell_type": "code",
   "execution_count": null,
   "id": "fc70f5f9-c030-4ae8-8b4f-1311e9b917d6",
   "metadata": {},
   "outputs": [],
   "source": [
    "simulated_months = _get_highest_error_months(comparison_df, id_col=\"balancing_authority_code_eia\")\n",
    "simulated_months"
   ]
  },
  {
   "cell_type": "code",
   "execution_count": null,
   "id": "ebd801e6-b254-471e-a0c6-4154a6f81112",
   "metadata": {},
   "outputs": [],
   "source": [
    "_plot_month(comparison_df, simulated_months, \"balancing_authority_code_eia\", 0)"
   ]
  },
  {
   "cell_type": "code",
   "execution_count": null,
   "id": "0ce8b1fa-a510-4ead-ab72-c6ae33116fdb",
   "metadata": {},
   "outputs": [],
   "source": [
    "_plot_month(comparison_df, simulated_months, \"balancing_authority_code_eia\", 1)"
   ]
  },
  {
   "cell_type": "code",
   "execution_count": null,
   "id": "b04353dd-4eec-47e4-ae8d-b3fbfea19f87",
   "metadata": {},
   "outputs": [],
   "source": [
    "_plot_month(comparison_df, simulated_months, \"balancing_authority_code_eia\", 2)"
   ]
  },
  {
   "cell_type": "markdown",
   "id": "4975ccd0-7aa3-4e15-89e4-73190edd6145",
   "metadata": {},
   "source": [
    "## Analyze Subregion Imputation"
   ]
  },
  {
   "cell_type": "code",
   "execution_count": null,
   "id": "23f178e4-a58c-4339-a96a-463fb9bbd724",
   "metadata": {},
   "outputs": [],
   "source": [
    "comparison_df = _load_comparison_data(\n",
    "    \"out_eia930__hourly_subregion_demand\",\n",
    "    id_cols=[\"balancing_authority_code_eia\", \"balancing_authority_subregion_code_eia\"],\n",
    ")"
   ]
  },
  {
   "cell_type": "code",
   "execution_count": null,
   "id": "a93a3d9c-e255-4a67-9745-f37fa15a52ff",
   "metadata": {},
   "outputs": [],
   "source": [
    "simulated_months = _get_highest_error_months(comparison_df, id_col=\"combined_subregion_ba_id\")\n",
    "simulated_months"
   ]
  },
  {
   "cell_type": "code",
   "execution_count": null,
   "id": "64f30705-4fd0-4e6e-9eca-3ce33afd02d8",
   "metadata": {},
   "outputs": [],
   "source": [
    "_plot_month(comparison_df, simulated_months, \"combined_subregion_ba_id\", 0)"
   ]
  },
  {
   "cell_type": "code",
   "execution_count": null,
   "id": "7c668898-e460-4333-b9fa-aae7975b9dd1",
   "metadata": {},
   "outputs": [],
   "source": [
    "_plot_month(comparison_df, simulated_months, \"combined_subregion_ba_id\", 1)"
   ]
  },
  {
   "cell_type": "code",
   "execution_count": null,
   "id": "c76b5e89-b02d-4405-89d8-2f56f777a94a",
   "metadata": {},
   "outputs": [],
   "source": [
    "_plot_month(comparison_df, simulated_months, \"combined_subregion_ba_id\", 2)"
   ]
  }
 ],
 "metadata": {
  "kernelspec": {
   "display_name": "Python 3 (ipykernel)",
   "language": "python",
   "name": "python3"
  },
  "language_info": {
   "codemirror_mode": {
    "name": "ipython",
    "version": 3
   },
   "file_extension": ".py",
   "mimetype": "text/x-python",
   "name": "python",
   "nbconvert_exporter": "python",
   "pygments_lexer": "ipython3",
   "version": "3.12.10"
  }
 },
 "nbformat": 4,
 "nbformat_minor": 5
}
