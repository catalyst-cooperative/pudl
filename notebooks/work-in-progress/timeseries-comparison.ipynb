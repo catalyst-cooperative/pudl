{
 "cells": [
  {
   "cell_type": "markdown",
   "metadata": {
    "tags": []
   },
   "source": [
    "# Notebook Preamble"
   ]
  },
  {
   "cell_type": "markdown",
   "metadata": {},
   "source": [
    "## IPython Magic"
   ]
  },
  {
   "cell_type": "code",
   "execution_count": null,
   "metadata": {
    "editable": true,
    "slideshow": {
     "slide_type": ""
    },
    "tags": []
   },
   "outputs": [],
   "source": [
    "%load_ext autoreload\n",
    "%autoreload 3\n"
   ]
  },
  {
   "cell_type": "markdown",
   "metadata": {
    "tags": []
   },
   "source": [
    "## Notebook Imports"
   ]
  },
  {
   "cell_type": "code",
   "execution_count": null,
   "metadata": {},
   "outputs": [],
   "source": [
    "# 3rd Party Imports:\n",
    "import matplotlib\n",
    "import matplotlib.pyplot as plt\n",
    "import pandas as pd\n",
    "import matplotx\n",
    "import numpy as np\n",
    "import duckdb\n",
    "import sqlalchemy as sa\n",
    "from dagster import AssetKey\n",
    "from pathlib import Path\n",
    "import os\n",
    "\n",
    "# Local Imports\n",
    "import pudl\n",
    "from pudl.etl import defs\n",
    "from pudl.output.pudltabl import PudlTabl\n",
    "from pudl.workspace.setup import PudlPaths\n",
    "\n",
    "logger = pudl.logging_helpers.get_logger(\"pudl\")"
   ]
  },
  {
   "cell_type": "markdown",
   "metadata": {},
   "source": [
    "## Visualization Settings"
   ]
  },
  {
   "cell_type": "code",
   "execution_count": null,
   "metadata": {},
   "outputs": [],
   "source": [
    "%matplotlib inline"
   ]
  },
  {
   "cell_type": "code",
   "execution_count": null,
   "metadata": {},
   "outputs": [],
   "source": [
    "matplotlib.rcParams[\"figure.figsize\"] = (10, 6)\n",
    "matplotlib.rcParams[\"figure.dpi\"] = 150\n",
    "matplotlib.style.use(matplotx.styles.onedark)\n",
    "pd.set_option(\"display.max_columns\", 100)\n",
    "pd.set_option(\"display.max_rows\", 300)\n",
    "pd.set_option(\"display.max_colwidth\", 1000)"
   ]
  },
  {
   "cell_type": "markdown",
   "metadata": {},
   "source": [
    "# Data access shortcuts"
   ]
  },
  {
   "cell_type": "code",
   "execution_count": null,
   "metadata": {},
   "outputs": [],
   "source": [
    "def get_table(table: str):\n",
    "    return defs.load_asset_value(AssetKey(table))\n",
    "\n",
    "def get_parquet(table: str) -> pd.DataFrame:\n",
    "    return pd.read_parquet(Path(os.environ[\"PUDL_OUTPUT\"]) / f\"parquet/{table}.parquet\")"
   ]
  },
  {
   "cell_type": "code",
   "execution_count": null,
   "metadata": {},
   "outputs": [],
   "source": [
    "from pudl.analysis.timeseries_evaluation import plot_imputation"
   ]
  },
  {
   "cell_type": "code",
   "execution_count": null,
   "metadata": {},
   "outputs": [],
   "source": [
    "eia930_sub = get_table(\"out_eia930__hourly_subregion_demand\")"
   ]
  },
  {
   "cell_type": "code",
   "execution_count": null,
   "metadata": {},
   "outputs": [],
   "source": [
    "get_table(\"core_pudl__codes_imputation_reasons\")"
   ]
  },
  {
   "cell_type": "markdown",
   "metadata": {},
   "source": [
    "# Find some bad data\n",
    "\n",
    "Calculate the proportion of imputed values by subregion to identify areas with a lot of imputation happening so we can see what the results look like."
   ]
  },
  {
   "cell_type": "code",
   "execution_count": null,
   "metadata": {},
   "outputs": [],
   "source": [
    "bad_data = (\n",
    "    eia930_sub.groupby(\n",
    "        [\n",
    "            \"balancing_authority_code_eia\",\n",
    "            \"balancing_authority_subregion_code_eia\",\n",
    "            eia930_sub[\"datetime_utc\"].dt.year  # Extract the year from datetime_utc\n",
    "        ], observed=True)\n",
    "    [\"demand_imputed_pudl_mwh_imputation_code\"]\n",
    "    .apply(lambda x: x.notnull().mean()).sort_values(ascending=False)\n",
    ")\n",
    "bad_data.head(50).tail(25)"
   ]
  },
  {
   "cell_type": "code",
   "execution_count": null,
   "metadata": {},
   "outputs": [],
   "source": [
    "idx_cols = [\"balancing_authority_code_eia\", \"balancing_authority_subregion_code_eia\"]\n",
    "reported_col = \"demand_reported_mwh\"\n",
    "imputed_col = \"demand_imputed_pudl_mwh\"\n",
    "\n",
    "plot_imputation(\n",
    "    eia930_sub,\n",
    "    idx_cols=idx_cols,\n",
    "    idx_vals=(\"CISO\", \"PGAE\"),\n",
    "    start_date=\"2019-02-01\",\n",
    "    end_date=\"2019-02-20\",\n",
    "    reported_col=reported_col,\n",
    "    imputed_col=imputed_col,\n",
    ")\n",
    "\n",
    "plot_imputation(\n",
    "    eia930_sub,\n",
    "    idx_cols=idx_cols,\n",
    "    idx_vals=(\"CISO\", \"VEA\"),\n",
    "    start_date=\"2019-02-01\",\n",
    "    end_date=\"2019-02-20\",\n",
    "    reported_col=reported_col,\n",
    "    imputed_col=imputed_col,\n",
    ")\n",
    "\n",
    "plot_imputation(\n",
    "    eia930_sub,\n",
    "    idx_cols=idx_cols,\n",
    "    idx_vals=(\"SWPP\", \"INDN\"),\n",
    "    start_date=\"2019-12-01\",\n",
    "    end_date=\"2019-12-31\",\n",
    "    reported_col=reported_col,\n",
    "    imputed_col=imputed_col,\n",
    ")\n",
    "\n",
    "plot_imputation(\n",
    "    eia930_sub,\n",
    "    idx_cols=idx_cols,\n",
    "    idx_vals=(\"SWPP\", \"INDN\"),\n",
    "    start_date=\"2024-12-01\",\n",
    "    end_date=\"2024-12-31\",\n",
    "    reported_col=reported_col,\n",
    "    imputed_col=imputed_col,\n",
    ")\n",
    "\n",
    "plot_imputation(\n",
    "    eia930_sub,\n",
    "    idx_cols=idx_cols,\n",
    "    idx_vals=(\"PNM\", \"KCEC\"),\n",
    "    start_date=\"2022-06-15\",\n",
    "    end_date=\"2022-07-15\",\n",
    "    reported_col=reported_col,\n",
    "    imputed_col=imputed_col,\n",
    ")\n",
    "\n",
    "plot_imputation(\n",
    "    eia930_sub,\n",
    "    idx_cols=idx_cols,\n",
    "    idx_vals=(\"CISO\", \"VEA\"),\n",
    "    start_date=\"2019-12-01\",\n",
    "    end_date=\"2019-12-31\",\n",
    "    reported_col=reported_col,\n",
    "    imputed_col=imputed_col,\n",
    ")\n"
   ]
  },
  {
   "cell_type": "code",
   "execution_count": null,
   "metadata": {},
   "outputs": [],
   "source": [
    "assert False"
   ]
  },
  {
   "cell_type": "markdown",
   "metadata": {},
   "source": [
    "# Time series correlation scatterplot"
   ]
  },
  {
   "cell_type": "code",
   "execution_count": null,
   "metadata": {},
   "outputs": [],
   "source": [
    "new_imputed = pd.read_parquet(\"s3://pudl.catalyst.coop/nightly/out_ferc714__hourly_planning_area_demand.parquet\")\n",
    "old_imputed = pd.read_parquet(\"s3://pudl.catalyst.coop/nightly/_out_ferc714__hourly_imputed_demand.parquet\")"
   ]
  },
  {
   "cell_type": "code",
   "execution_count": null,
   "metadata": {},
   "outputs": [],
   "source": [
    "both_imputed = pd.merge(\n",
    "    new_imputed.set_index([\"respondent_id_ferc714\", \"datetime_utc\"]),\n",
    "    old_imputed.set_index([\"respondent_id_ferc714\", \"datetime_utc\"]),\n",
    "    left_index=True,\n",
    "    right_index=True,\n",
    "    suffixes=(\"_new\", \"_old\"),\n",
    "    how=\"outer\",\n",
    ")\n",
    "# Reset the index to make `respondent_id_ferc714` a data column\n",
    "both_imputed = both_imputed.reset_index()\n",
    "both_imputed.info()"
   ]
  },
  {
   "cell_type": "code",
   "execution_count": null,
   "metadata": {},
   "outputs": [],
   "source": [
    "import matplotlib.pyplot as plt\n",
    "import seaborn as sns\n",
    "\n",
    "# Assign a discrete color to each `respondent_id_ferc714`\n",
    "unique_ids = both_imputed[\"respondent_id_ferc714\"].unique()\n",
    "palette = sns.color_palette(\"tab20\", len(unique_ids))\n",
    "color_map = {rid: palette[i] for i, rid in enumerate(unique_ids)}\n",
    "colors = both_imputed[\"respondent_id_ferc714\"].map(color_map)\n",
    "\n",
    "# Create the scatter plot\n",
    "plt.figure(figsize=(12, 12))\n",
    "plt.scatter(\n",
    "    both_imputed[\"demand_mwh\"],\n",
    "    both_imputed[\"demand_imputed_pudl_mwh\"],\n",
    "    c=colors,\n",
    "    s=0.1,\n",
    ")\n",
    "\n",
    "# Set both axes to logarithmic scale\n",
    "plt.xscale(\"log\")\n",
    "plt.yscale(\"log\")\n",
    "plt.xlim(1e-1, 1e6)\n",
    "plt.ylim(1e-1, 1e6)\n",
    "\n",
    "# Add gridlines\n",
    "plt.grid(True, which=\"both\", linestyle=\"--\", linewidth=0.5)\n",
    "\n",
    "# Optionally add labels and a title\n",
    "plt.xlabel(\"Old Imputed FERC-714 Planning Area Demand [MWh]\")\n",
    "plt.ylabel(\"New Imputed FERC-714 Planning Area Demand [MWh]\")\n",
    "plt.title(\"Log-Log Scatter Plot of Old vs New Imputed Demand\")\n",
    "\n",
    "plt.show()"
   ]
  },
  {
   "cell_type": "code",
   "execution_count": null,
   "metadata": {},
   "outputs": [],
   "source": [
    "assert False"
   ]
  },
  {
   "cell_type": "code",
   "execution_count": null,
   "metadata": {},
   "outputs": [],
   "source": [
    "out_sub_eia930 = get_table(\"out_eia930__hourly_subregion_demand\")\n",
    "core_sub_eia930 = get_table(\"core_eia930__hourly_subregion_demand\")"
   ]
  },
  {
   "cell_type": "code",
   "execution_count": null,
   "metadata": {},
   "outputs": [],
   "source": [
    "core_sub_eia930"
   ]
  },
  {
   "cell_type": "markdown",
   "metadata": {},
   "source": [
    "## subregion output EIA-930 notes\n",
    "- There's no EIA imputation for the subregions, but for naming clarity purposes, do we want to rename `demand_imputed_mwh` so that it will be consistent with the names of the PUDL imputed columns that will exist in other tables?\n",
    "- It would be nice if the table were sorted by BA Code, subregion code, and time to ensure contiguous time series.\n",
    "- Looking at `CISO` I see that there are **more** NA values in the imputed column than the reported column. Is that expected? I would have thought we'd fill in the missing values.\n"
   ]
  },
  {
   "cell_type": "code",
   "execution_count": null,
   "metadata": {},
   "outputs": [],
   "source": [
    "out_sub_eia930"
   ]
  }
 ],
 "metadata": {
  "kernelspec": {
   "display_name": "pudl-dev",
   "language": "python",
   "name": "python3"
  },
  "language_info": {
   "codemirror_mode": {
    "name": "ipython",
    "version": 3
   },
   "file_extension": ".py",
   "mimetype": "text/x-python",
   "name": "python",
   "nbconvert_exporter": "python",
   "pygments_lexer": "ipython3",
   "version": "3.12.9"
  },
  "toc-autonumbering": true
 },
 "nbformat": 4,
 "nbformat_minor": 4
}
