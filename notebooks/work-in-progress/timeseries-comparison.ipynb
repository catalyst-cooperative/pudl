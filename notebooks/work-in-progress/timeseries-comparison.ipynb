{
 "cells": [
  {
   "cell_type": "code",
   "execution_count": null,
   "metadata": {
    "editable": true,
    "slideshow": {
     "slide_type": ""
    },
    "tags": []
   },
   "outputs": [],
   "source": [
    "%load_ext autoreload\n",
    "%autoreload 3"
   ]
  },
  {
   "cell_type": "code",
   "execution_count": null,
   "metadata": {},
   "outputs": [],
   "source": [
    "import matplotlib\n",
    "import matplotlib.pyplot as plt\n",
    "import pandas as pd\n",
    "from pathlib import Path\n",
    "import os\n",
    "\n",
    "try:\n",
    "    import pudl\n",
    "    from pudl.etl import defs\n",
    "    from pudl.analysis.timeseries_evaluation import plot_imputation, plot_correlation, plot_compare_imputation\n",
    "    from dagster import AssetKey\n",
    "    logger = pudl.logging_helpers.get_logger(\"pudl\")\n",
    "except ImportError:\n",
    "    print(\"PUDL not installed in Python environment\")\n",
    "    pass"
   ]
  },
  {
   "cell_type": "markdown",
   "metadata": {},
   "source": [
    "## Visualization Settings"
   ]
  },
  {
   "cell_type": "code",
   "execution_count": null,
   "metadata": {},
   "outputs": [],
   "source": [
    "%matplotlib inline"
   ]
  },
  {
   "cell_type": "code",
   "execution_count": null,
   "metadata": {},
   "outputs": [],
   "source": [
    "matplotlib.rcParams[\"figure.figsize\"] = (10, 6)\n",
    "matplotlib.rcParams[\"figure.dpi\"] = 150\n",
    "pd.set_option(\"display.max_columns\", 100)\n",
    "pd.set_option(\"display.max_rows\", 300)\n",
    "pd.set_option(\"display.max_colwidth\", 1000)\n",
    "\n",
    "# Nice dark theme for Matplotlib... but only if you have matplotx installed.\n",
    "try:\n",
    "    import matplotx\n",
    "    matplotlib.style.use(matplotx.styles.onedark)\n",
    "except ImportError:\n",
    "    pass"
   ]
  },
  {
   "cell_type": "markdown",
   "metadata": {},
   "source": [
    "# Data access shortcuts"
   ]
  },
  {
   "cell_type": "code",
   "execution_count": null,
   "metadata": {},
   "outputs": [],
   "source": [
    "try:\n",
    "    import pudl\n",
    "    def get_parquet(table: str) -> pd.DataFrame:\n",
    "        \"\"\"Read data from local PUDL Parquet outputs.\"\"\"\n",
    "        return pd.read_parquet(Path(os.environ[\"PUDL_OUTPUT\"]) / f\"parquet/{table}.parquet\")\n",
    "\n",
    "    def get_asset(table: str) -> pd.DataFrame:\n",
    "        \"\"\"Read data from locally persisted Dagster assets.\"\"\"\n",
    "        return defs.load_asset_value(AssetKey(table))\n",
    "except ImportError:\n",
    "    print(\"PUDL not installed in Python environment\")\n",
    "    pass\n",
    "\n",
    "def get_s3_tmp(table: str) -> pd.DataFrame:\n",
    "    \"\"\"Read data from our AWS open data registry S3 bucket.\"\"\"\n",
    "    return pd.read_parquet(f\"s3://pudl.catalyst.coop/tmp/eia930/{table}.parquet\")\n",
    "\n",
    "def get_s3_nightly(table: str) -> pd.DataFrame:\n",
    "    \"\"\"Read data from our AWS open data registry S3 bucket.\"\"\"\n",
    "    return pd.read_parquet(f\"s3://pudl.catalyst.coop/nightly/{table}.parquet\")\n"
   ]
  },
  {
   "cell_type": "markdown",
   "metadata": {},
   "source": [
    "## Read in remote data"
   ]
  },
  {
   "cell_type": "code",
   "execution_count": null,
   "metadata": {},
   "outputs": [],
   "source": [
    "eia930_sub = get_asset(\"out_eia930__hourly_subregion_demand\")\n",
    "eia930_ops = get_asset(\"core_eia930__hourly_operations\")\n",
    "eia930_ba = get_asset(\"out_eia930__hourly_operations\")"
   ]
  },
  {
   "cell_type": "code",
   "execution_count": null,
   "metadata": {},
   "outputs": [],
   "source": [
    "eia930_sub.info(show_counts=True)"
   ]
  },
  {
   "cell_type": "code",
   "execution_count": null,
   "metadata": {},
   "outputs": [],
   "source": [
    "eia930_sub.loc[\n",
    "    (eia930_sub.demand_imputed_pudl_mwh_imputation_code.isna())\n",
    "    & (eia930_sub.demand_imputed_pudl_mwh.notna())\n",
    "]"
   ]
  },
  {
   "cell_type": "code",
   "execution_count": null,
   "metadata": {},
   "outputs": [],
   "source": [
    "imputation_codes = get_asset(\"core_pudl__codes_imputation_reasons\")\n",
    "imputation_codes"
   ]
  },
  {
   "cell_type": "markdown",
   "metadata": {},
   "source": [
    "# Find some imputed data\n",
    "\n",
    "Calculate the proportion of imputed values by subregion to identify areas with a lot of imputation happening so we can see what the results look like."
   ]
  },
  {
   "cell_type": "code",
   "execution_count": null,
   "metadata": {},
   "outputs": [],
   "source": [
    "bad_data = (\n",
    "    eia930_sub.groupby(\n",
    "        [\n",
    "            \"balancing_authority_code_eia\",\n",
    "            \"balancing_authority_subregion_code_eia\",\n",
    "            eia930_sub[\"datetime_utc\"].dt.year  # Extract the year from datetime_utc\n",
    "        ], observed=True)\n",
    "    [\"demand_imputed_pudl_mwh_imputation_code\"]\n",
    "    .apply(lambda x: x.notnull().mean()).sort_values(ascending=False)\n",
    ")\n",
    "bad_data.head(50).tail(25)"
   ]
  },
  {
   "cell_type": "code",
   "execution_count": null,
   "metadata": {},
   "outputs": [],
   "source": [
    "idx_cols = [\"balancing_authority_code_eia\", \"balancing_authority_subregion_code_eia\"]\n",
    "reported_col = \"demand_reported_mwh\"\n",
    "imputed_col = \"demand_imputed_pudl_mwh\""
   ]
  },
  {
   "cell_type": "code",
   "execution_count": null,
   "metadata": {},
   "outputs": [],
   "source": [
    "plot_imputation(\n",
    "    eia930_sub,\n",
    "    idx_cols=idx_cols,\n",
    "    idx_vals=(\"SWPP\", \"OPPD\"),\n",
    "    start_date=\"2019-11-01\",\n",
    "    end_date=\"2019-12-31\",\n",
    "    reported_col=reported_col,\n",
    "    imputed_col=imputed_col,\n",
    ")"
   ]
  },
  {
   "cell_type": "code",
   "execution_count": null,
   "metadata": {},
   "outputs": [],
   "source": [
    "plot_imputation(\n",
    "    eia930_sub,\n",
    "    idx_cols=idx_cols,\n",
    "    idx_vals=(\"CISO\", \"PGAE\"),\n",
    "    start_date=\"2019-02-01\",\n",
    "    end_date=\"2019-02-20\",\n",
    "    reported_col=reported_col,\n",
    "    imputed_col=imputed_col,\n",
    ")"
   ]
  },
  {
   "cell_type": "code",
   "execution_count": null,
   "metadata": {},
   "outputs": [],
   "source": [
    "plot_imputation(\n",
    "    eia930_sub,\n",
    "    idx_cols=idx_cols,\n",
    "    idx_vals=(\"CISO\", \"VEA\"),\n",
    "    start_date=\"2019-02-01\",\n",
    "    end_date=\"2019-02-20\",\n",
    "    reported_col=reported_col,\n",
    "    imputed_col=imputed_col,\n",
    ")"
   ]
  },
  {
   "cell_type": "code",
   "execution_count": null,
   "metadata": {},
   "outputs": [],
   "source": [
    "plot_imputation(\n",
    "    eia930_sub,\n",
    "    idx_cols=idx_cols,\n",
    "    idx_vals=(\"SWPP\", \"INDN\"),\n",
    "    start_date=\"2019-12-01\",\n",
    "    end_date=\"2019-12-31\",\n",
    "    reported_col=reported_col,\n",
    "    imputed_col=imputed_col,\n",
    ")"
   ]
  },
  {
   "cell_type": "code",
   "execution_count": null,
   "metadata": {},
   "outputs": [],
   "source": [
    "plot_imputation(\n",
    "    eia930_sub,\n",
    "    idx_cols=idx_cols,\n",
    "    idx_vals=(\"SWPP\", \"INDN\"),\n",
    "    start_date=\"2024-12-01\",\n",
    "    end_date=\"2024-12-31\",\n",
    "    reported_col=reported_col,\n",
    "    imputed_col=imputed_col,\n",
    ")"
   ]
  },
  {
   "cell_type": "code",
   "execution_count": null,
   "metadata": {},
   "outputs": [],
   "source": [
    "plot_imputation(\n",
    "    eia930_sub,\n",
    "    idx_cols=idx_cols,\n",
    "    idx_vals=(\"PNM\", \"KCEC\"),\n",
    "    start_date=\"2022-06-15\",\n",
    "    end_date=\"2022-07-15\",\n",
    "    reported_col=reported_col,\n",
    "    imputed_col=imputed_col,\n",
    ")"
   ]
  },
  {
   "cell_type": "code",
   "execution_count": null,
   "metadata": {},
   "outputs": [],
   "source": [
    "plot_imputation(\n",
    "    eia930_sub,\n",
    "    idx_cols=idx_cols,\n",
    "    idx_vals=(\"CISO\", \"VEA\"),\n",
    "    start_date=\"2019-12-01\",\n",
    "    end_date=\"2019-12-31\",\n",
    "    reported_col=reported_col,\n",
    "    imputed_col=imputed_col,\n",
    ")\n"
   ]
  },
  {
   "cell_type": "markdown",
   "metadata": {},
   "source": [
    "## Repeat with BA data"
   ]
  },
  {
   "cell_type": "code",
   "execution_count": null,
   "metadata": {},
   "outputs": [],
   "source": [
    "bad_data = (\n",
    "    eia930_ba.groupby(\n",
    "        [\n",
    "            \"balancing_authority_code_eia\",\n",
    "            eia930_ba[\"datetime_utc\"].dt.year  # Extract the year from datetime_utc\n",
    "        ], observed=True)\n",
    "    [\"demand_imputed_pudl_mwh_imputation_code\"]\n",
    "    .apply(lambda x: x.notnull().mean()).sort_values(ascending=False)\n",
    ")\n",
    "bad_data.head(50).tail(25)"
   ]
  },
  {
   "cell_type": "code",
   "execution_count": null,
   "metadata": {},
   "outputs": [],
   "source": [
    "idx_cols = [\"balancing_authority_code_eia\"]\n",
    "plot_imputation(\n",
    "    eia930_ba,\n",
    "    idx_cols=idx_cols,\n",
    "    idx_vals=(\"SC\",),\n",
    "    start_date=\"2017-12-01\",\n",
    "    end_date=\"2017-12-31\",\n",
    "    reported_col=reported_col,\n",
    "    imputed_col=imputed_col,\n",
    ")\n",
    "\n",
    "plot_imputation(\n",
    "    eia930_ba,\n",
    "    idx_cols=idx_cols,\n",
    "    idx_vals=(\"SEC\",),\n",
    "    start_date=\"2017-11-01\",\n",
    "    end_date=\"2017-12-15\",\n",
    "    reported_col=reported_col,\n",
    "    imputed_col=imputed_col,\n",
    ")\n",
    "plot_imputation(\n",
    "    eia930_ba,\n",
    "    idx_cols=idx_cols,\n",
    "    idx_vals=(\"GVL\",),\n",
    "    start_date=\"2019-02-01\",\n",
    "    end_date=\"2019-03-01\",\n",
    "    reported_col=reported_col,\n",
    "    imputed_col=imputed_col,\n",
    ")\n",
    "plot_imputation(\n",
    "    eia930_ba,\n",
    "    idx_cols=idx_cols,\n",
    "    idx_vals=(\"BANC\",),\n",
    "    start_date=\"2019-04-01\",\n",
    "    end_date=\"2019-05-01\",\n",
    "    reported_col=reported_col,\n",
    "    imputed_col=imputed_col,\n",
    ")"
   ]
  },
  {
   "cell_type": "code",
   "execution_count": null,
   "metadata": {},
   "outputs": [],
   "source": [
    "assert False"
   ]
  },
  {
   "cell_type": "code",
   "execution_count": null,
   "metadata": {},
   "outputs": [],
   "source": [
    "eia930_ba"
   ]
  },
  {
   "cell_type": "markdown",
   "metadata": {},
   "source": [
    "# Is subregion demand data consistent with BA-level reporting?\n",
    "\n",
    "- Investigate how consistent the more granular subregion data is with the BA-level data.\n",
    "- Sum up all reported demand for each of them and look at the proportional difference.\n",
    "- Plot the correlation between the aggregated subregion data and the BA-level data.\n",
    "- Look more closely at some individual spans of time where the differences are significant."
   ]
  },
  {
   "cell_type": "code",
   "execution_count": null,
   "metadata": {},
   "outputs": [],
   "source": [
    "eia930_bas = (\n",
    "    eia930_ops\n",
    "    .loc[:, [\"balancing_authority_code_eia\", \"datetime_utc\", \"demand_reported_mwh\"]]\n",
    "    .set_index([\"balancing_authority_code_eia\", \"datetime_utc\"])\n",
    ")"
   ]
  },
  {
   "cell_type": "code",
   "execution_count": null,
   "metadata": {},
   "outputs": [],
   "source": [
    "eia930_sub_agg = (\n",
    "    eia930_sub.groupby([\"balancing_authority_code_eia\", \"datetime_utc\"])[\n",
    "        \"demand_reported_mwh\"\n",
    "    ].sum().to_frame()\n",
    ")"
   ]
  },
  {
   "cell_type": "code",
   "execution_count": null,
   "metadata": {},
   "outputs": [],
   "source": [
    "eia930_both = pd.merge(\n",
    "    eia930_bas,\n",
    "    eia930_sub_agg,\n",
    "    left_index=True,\n",
    "    right_index=True,\n",
    "    how=\"inner\",\n",
    "    suffixes=(\"_ba\", \"_sub\")\n",
    ")"
   ]
  },
  {
   "cell_type": "markdown",
   "metadata": {},
   "source": [
    "## Bulk proportions\n",
    "\n",
    "Note that our BA-level data has not yet been imputed, so this isn't a perfect compairson.\n",
    "\n",
    "Differences as (BA-sum(subregions))/BA (from Alicia Wongel)\n",
    "\n",
    "| Balancing Authority | Difference (%) |\n",
    "|---------------------|----------------|\n",
    "| CISO               | 0.005%         |\n",
    "| ERCO               | -0.042%        |\n",
    "| ISNE               | 0.060%         |\n",
    "| MISO               | 0.035%         |\n",
    "| PJM                | 1.604%         |\n",
    "| SWPP               | 0.022%         |\n",
    "| NYIS               | 0.031%         |\n",
    "\n",
    "Looking below, in general the bulk demand is only off by a fraction of a percent, with the exception of ERCOT (5% off) and PJM (18% off) -- but again the BA level data here still has all of its outliers and weirdness."
   ]
  },
  {
   "cell_type": "code",
   "execution_count": null,
   "metadata": {},
   "outputs": [],
   "source": [
    "ba_totals = eia930_both.groupby(\"balancing_authority_code_eia\").sum()\n",
    "ba_totals[\"pct_diff\"] = (ba_totals[\"demand_reported_mwh_ba\"] - ba_totals[\"demand_reported_mwh_sub\"]) / ba_totals[\"demand_reported_mwh_ba\"]\n",
    "ba_totals"
   ]
  },
  {
   "cell_type": "markdown",
   "metadata": {},
   "source": [
    "## Correlation plot by BA\n",
    "\n",
    "- Many differences between these two time series could be washed out by the aggregation.\n",
    "- Plotting the individual data points will let us see whether there are any systematic differences between the two.\n",
    "- This obscures the time dimension, but is still useful for a quick check.\n",
    "- Interestingly, even though the bulk difference above for ISNE was less than 1%, it seems to have more scatter than the other BAs.\n",
    "- However, the scatter seems to be more or less evenly distributed above and below the line of 1:1 correlation, so it's cancelling out.\n",
    "- PJM has less scatter, but it's all below the line, leading to a bigger overall bulk difference."
   ]
  },
  {
   "cell_type": "code",
   "execution_count": null,
   "metadata": {},
   "outputs": [],
   "source": [
    "all_bas = list(eia930_both.index.get_level_values(0).unique())\n",
    "\n",
    "plot_correlation(\n",
    "    eia930_both.reset_index(),\n",
    "    idx_cols=[\"balancing_authority_code_eia\"],\n",
    "    idx_vals=all_bas,\n",
    "    timeseries_x=\"demand_reported_mwh_ba\",\n",
    "    timeseries_y=\"demand_reported_mwh_sub\",\n",
    "    xlabel=\"BA Reported Demand [MWh]\",\n",
    "    ylabel=\"Aggregated Subregion Demand [MWh]\",\n",
    "    title=\"Correlation between BA Reported Demand and Aggregated Subregion Demand\",\n",
    "    xylim=(1e3, 2e5),\n",
    "    alpha=0.1,\n",
    ")"
   ]
  },
  {
   "cell_type": "markdown",
   "metadata": {},
   "source": [
    "## Identify months with large discrepancies\n",
    "- Which individual periods of time are most responsible for the differences between the BA-level and subregion-level data?\n",
    "- A handful of months seem to just have missing (zero) subregional data.\n",
    "- However, ISNE doesn't seem to show up much in the top fractional differences on a monthly basis."
   ]
  },
  {
   "cell_type": "code",
   "execution_count": null,
   "metadata": {},
   "outputs": [],
   "source": [
    "eia930_bymonth = eia930_both.reset_index()\n",
    "eia930_bymonth = eia930_bymonth.groupby(\n",
    "    [\n",
    "        \"balancing_authority_code_eia\",\n",
    "        eia930_bymonth[\"datetime_utc\"].dt.to_period(\"M\")\n",
    "    ]\n",
    ")[[\"demand_reported_mwh_ba\", \"demand_reported_mwh_sub\"]].sum()\n",
    "eia930_bymonth[\"frac_diff\"] = (\n",
    "    eia930_bymonth[\"demand_reported_mwh_ba\"] - eia930_bymonth[\"demand_reported_mwh_sub\"]\n",
    ") / eia930_bymonth[\"demand_reported_mwh_ba\"]\n",
    "eia930_bymonth.sort_values(\"frac_diff\", ascending=False).head(25)"
   ]
  },
  {
   "cell_type": "code",
   "execution_count": null,
   "metadata": {},
   "outputs": [],
   "source": [
    "eia930_bymonth.sort_values(\"frac_diff\", ascending=False).loc[\"ISNE\"].head(25)"
   ]
  },
  {
   "cell_type": "code",
   "execution_count": null,
   "metadata": {},
   "outputs": [],
   "source": [
    "isne_ba = eia930_both.sort_index().loc[(\"ISNE\", slice(\"2019-02-01\",\"2019-02-28\")), \"demand_reported_mwh_ba\"].reset_index()\n",
    "isne_sub = eia930_both.sort_index().loc[(\"ISNE\", slice(\"2019-02-01\",\"2019-02-28\")), \"demand_reported_mwh_sub\"].reset_index()\n",
    "plt.plot(isne_ba[\"datetime_utc\"], isne_ba[\"demand_reported_mwh_ba\"], label=\"BA Reported\", lw=1)\n",
    "plt.plot(isne_sub[\"datetime_utc\"], isne_sub[\"demand_reported_mwh_sub\"], label=\"Subregion Reported\", lw=1)\n",
    "plt.title(\"ISNE BA vs. Subregion Demand\")\n",
    "plt.ylabel(\"Demand [MWh]\")\n",
    "plt.legend()"
   ]
  },
  {
   "cell_type": "markdown",
   "metadata": {},
   "source": [
    "## Compare old and new FERC-714 Imputations\n",
    "\n",
    "- This currently takes a long time to run, so it's below the assert False"
   ]
  },
  {
   "cell_type": "code",
   "execution_count": null,
   "metadata": {},
   "outputs": [],
   "source": [
    "# For pulling data from S3:\n",
    "new_imputed = get_asset(\"out_ferc714__hourly_planning_area_demand\")\n",
    "old_imputed = pd.read_parquet(\"_out_ferc714__hourly_imputed_demand.parquet\")\n",
    "\n",
    "# For running locally w/ PUDL environment.\n",
    "#new_imputed = get_asset(\"out_ferc714__hourly_planning_area_demand\")\n",
    "#old_imputed = pd.read_parquet(\"_out_ferc714__hourly_imputed_demand.parquet\")"
   ]
  },
  {
   "cell_type": "code",
   "execution_count": null,
   "metadata": {},
   "outputs": [],
   "source": [
    "new_imputed.info()"
   ]
  },
  {
   "cell_type": "code",
   "execution_count": null,
   "metadata": {},
   "outputs": [],
   "source": [
    "ferc714_both = pd.merge(\n",
    "    left=new_imputed.loc[:, [\"respondent_id_ferc714\", \"datetime_utc\", \"demand_imputed_pudl_mwh\"]],\n",
    "    right=old_imputed.loc[:, [\"respondent_id_ferc714\", \"datetime_utc\", \"demand_mwh\"]],\n",
    "    on=[\"respondent_id_ferc714\", \"datetime_utc\"],\n",
    "    how=\"outer\",\n",
    ").rename(\n",
    "    columns={\n",
    "        \"demand_imputed_pudl_mwh\": \"demand_mwh_new\",\n",
    "        \"demand_mwh\": \"demand_mwh_old\",\n",
    "    }\n",
    ")\n",
    "ferc714_both.info()"
   ]
  },
  {
   "cell_type": "code",
   "execution_count": null,
   "metadata": {},
   "outputs": [],
   "source": [
    "all_rids = list(ferc714_both[\"respondent_id_ferc714\"].unique())\n",
    "\n",
    "plot_correlation(\n",
    "    ferc714_both,\n",
    "    idx_cols=[\"respondent_id_ferc714\"],\n",
    "    idx_vals=all_rids,\n",
    "    timeseries_x=\"demand_mwh_old\",\n",
    "    timeseries_y=\"demand_mwh_new\",\n",
    "    xlabel=\"Old Imputed Demand [MWh]\",\n",
    "    ylabel=\"New Imputed Demand [MWh]\",\n",
    "    title=\"Correlation between Old and New FERC-714 Imputed Planning Area Demand\",\n",
    "    xylim=(1, 2e5),\n",
    "    legend=False,\n",
    "    alpha=0.2,\n",
    ")"
   ]
  },
  {
   "cell_type": "code",
   "execution_count": null,
   "metadata": {},
   "outputs": [],
   "source": []
  }
 ],
 "metadata": {
  "kernelspec": {
   "display_name": "Python 3 (ipykernel)",
   "language": "python",
   "name": "python3"
  },
  "language_info": {
   "codemirror_mode": {
    "name": "ipython",
    "version": 3
   },
   "file_extension": ".py",
   "mimetype": "text/x-python",
   "name": "python",
   "nbconvert_exporter": "python",
   "pygments_lexer": "ipython3",
   "version": "3.12.9"
  },
  "toc-autonumbering": true
 },
 "nbformat": 4,
 "nbformat_minor": 4
}
