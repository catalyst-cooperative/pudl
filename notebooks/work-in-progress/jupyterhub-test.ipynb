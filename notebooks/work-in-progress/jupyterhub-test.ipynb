{
 "cells": [
  {
   "attachments": {},
   "cell_type": "markdown",
   "metadata": {},
   "source": [
    "## Install Software"
   ]
  },
  {
   "cell_type": "code",
   "execution_count": null,
   "metadata": {},
   "outputs": [],
   "source": [
    "!conda install --yes --quiet python-snappy\n",
    "!pip install --quiet git+https://github.com/catalyst-cooperative/pudl.git@sprint27\n",
    "!cp ~/shared/shared-pudl.yml ~/.pudl.yml"
   ]
  },
  {
   "cell_type": "code",
   "execution_count": null,
   "metadata": {},
   "outputs": [],
   "source": [
    "import pudl\n",
    "import sqlalchemy as sa\n",
    "import pandas as pd\n",
    "import numpy as np"
   ]
  },
  {
   "cell_type": "code",
   "execution_count": null,
   "metadata": {},
   "outputs": [],
   "source": [
    "from pudl.workspace.setup import PudlPaths\n",
    "\n",
    "ferc1_engine = sa.create_engine(PudlPaths().sqlite_db_uri(\"ferc1\"))\n",
    "pudl_engine = sa.create_engine(PudlPaths().pudl_db)\n",
    "pudl_out = pudl.output.pudltabl.PudlTabl(pudl_engine=pudl_engine)"
   ]
  },
  {
   "cell_type": "code",
   "execution_count": null,
   "metadata": {},
   "outputs": [],
   "source": [
    "frc_eia923 = pudl_out.frc_eia923()\n",
    "frc_eia923.memory_usage(deep=True).sum()/(1024*1024)"
   ]
  },
  {
   "cell_type": "code",
   "execution_count": null,
   "metadata": {},
   "outputs": [],
   "source": [
    "gens_eia860 = pudl_out.gens_eia860()\n",
    "gens_eia860.memory_usage(deep=True).sum()/(1024*1024)"
   ]
  },
  {
   "cell_type": "code",
   "execution_count": null,
   "metadata": {},
   "outputs": [],
   "source": [
    "pudl_tables = (\n",
    "    pd.read_sql(\"SELECT name FROM sqlite_master WHERE type='table' AND name NOT LIKE 'sqlite_%';\", pudl_engine)\n",
    "    .name.to_list()\n",
    ")\n",
    "display(pudl_tables)\n",
    "random_table = np.random.choice(pudl_tables)\n",
    "print(f\"\"\"\n",
    "======================================================================\n",
    "Random Table: {random_table}\n",
    "======================================================================\n",
    "\"\"\")\n",
    "pd.read_sql(f\"PRAGMA table_info({random_table});\", pudl_engine)"
   ]
  },
  {
   "cell_type": "code",
   "execution_count": null,
   "metadata": {},
   "outputs": [],
   "source": []
  }
 ],
 "metadata": {
  "kernelspec": {
   "display_name": "Python 3",
   "language": "python",
   "name": "python3"
  },
  "language_info": {
   "codemirror_mode": {
    "name": "ipython",
    "version": 3
   },
   "file_extension": ".py",
   "mimetype": "text/x-python",
   "name": "python",
   "nbconvert_exporter": "python",
   "pygments_lexer": "ipython3",
   "version": "3.8.6"
  }
 },
 "nbformat": 4,
 "nbformat_minor": 4
}
