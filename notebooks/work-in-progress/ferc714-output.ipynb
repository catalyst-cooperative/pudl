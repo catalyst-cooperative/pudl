{
 "cells": [
  {
   "cell_type": "code",
   "execution_count": 1,
   "metadata": {},
   "outputs": [],
   "source": [
    "%load_ext autoreload\n",
    "%autoreload 2"
   ]
  },
  {
   "cell_type": "code",
   "execution_count": 2,
   "metadata": {},
   "outputs": [],
   "source": [
    "# Standard libraries\n",
    "import logging\n",
    "import os\n",
    "import pathlib\n",
    "import sys\n",
    "\n",
    "# 3rd party libraries\n",
    "import matplotlib.pyplot as plt\n",
    "import matplotlib as mpl\n",
    "import numpy as np\n",
    "import pandas as pd\n",
    "import seaborn as sns\n",
    "import sqlalchemy as sa\n",
    "\n",
    "# Local libraries\n",
    "import pudl\n",
    "import pudl.output.ferc714"
   ]
  },
  {
   "attachments": {},
   "cell_type": "markdown",
   "metadata": {},
   "source": [
    "# Configure Display Parameters"
   ]
  },
  {
   "cell_type": "code",
   "execution_count": 3,
   "metadata": {},
   "outputs": [],
   "source": [
    "sns.set()\n",
    "%matplotlib inline\n",
    "mpl.rcParams['figure.figsize'] = (10,4)\n",
    "mpl.rcParams['figure.dpi'] = 150\n",
    "pd.options.display.max_columns = 100\n",
    "pd.options.display.max_rows = 100"
   ]
  },
  {
   "attachments": {},
   "cell_type": "markdown",
   "metadata": {},
   "source": [
    "# Use Python Logging facilities\n",
    "* Using a logger from the beginning will make the transition into the PUDL package easier.\n",
    "* Creating a logging handler here will also allow you to see the logging output coming from PUDL and other underlying packages."
   ]
  },
  {
   "cell_type": "code",
   "execution_count": 4,
   "metadata": {},
   "outputs": [],
   "source": [
    "logger=logging.getLogger()\n",
    "logger.setLevel(logging.INFO)\n",
    "handler = logging.StreamHandler(stream=sys.stdout)\n",
    "formatter = logging.Formatter('%(message)s')\n",
    "handler.setFormatter(formatter)\n",
    "logger.handlers = [handler]"
   ]
  },
  {
   "attachments": {},
   "cell_type": "markdown",
   "metadata": {},
   "source": [
    "# Define Functions"
   ]
  },
  {
   "attachments": {},
   "cell_type": "markdown",
   "metadata": {},
   "source": [
    "# Define Notebook Parameters"
   ]
  },
  {
   "cell_type": "code",
   "execution_count": 5,
   "metadata": {},
   "outputs": [
    {
     "data": {
      "text/plain": [
       "{'pudl_in': '/home/zane/code/catalyst/pudl-work',\n",
       " 'data_dir': '/home/zane/code/catalyst/pudl-work/data',\n",
       " 'settings_dir': '/home/zane/code/catalyst/pudl-work/settings',\n",
       " 'pudl_out': '/home/zane/code/catalyst/pudl-work',\n",
       " 'sqlite_dir': '/home/zane/code/catalyst/pudl-work/sqlite',\n",
       " 'parquet_dir': '/home/zane/code/catalyst/pudl-work/parquet',\n",
       " 'datapkg_dir': '/home/zane/code/catalyst/pudl-work/datapkg',\n",
       " 'notebook_dir': '/home/zane/code/catalyst/pudl-work/notebook',\n",
       " 'ferc1_db': 'sqlite:////home/zane/code/catalyst/pudl-work/sqlite/ferc1.sqlite',\n",
       " 'pudl_db': 'sqlite:////home/zane/code/catalyst/pudl-work/sqlite/pudl.sqlite'}"
      ]
     },
     "metadata": {},
     "output_type": "display_data"
    },
    {
     "data": {
      "text/plain": [
       "Engine(sqlite:////home/zane/code/catalyst/pudl-work/sqlite/ferc1.sqlite)"
      ]
     },
     "metadata": {},
     "output_type": "display_data"
    },
    {
     "data": {
      "text/plain": [
       "Engine(sqlite:////home/zane/code/catalyst/pudl-work/sqlite/pudl.sqlite)"
      ]
     },
     "metadata": {},
     "output_type": "display_data"
    }
   ],
   "source": [
    "from pudl.workspace.setup import PudlPaths\n",
    "\n",
    "ferc1_engine = sa.create_engine(PudlPaths().sqlite_db_uri(\"ferc1\"))\n",
    "display(ferc1_engine)\n",
    "\n",
    "pudl_engine = sa.create_engine(PudlPaths().pudl_db)\n",
    "display(pudl_engine)"
   ]
  },
  {
   "attachments": {},
   "cell_type": "markdown",
   "metadata": {},
   "source": [
    "# Load Data"
   ]
  },
  {
   "cell_type": "code",
   "execution_count": 6,
   "metadata": {},
   "outputs": [],
   "source": [
    "pudl_out = pudl.output.pudltabl.PudlTabl(pudl_engine=pudl_engine)"
   ]
  },
  {
   "cell_type": "code",
   "execution_count": 7,
   "metadata": {},
   "outputs": [
    {
     "name": "stdout",
     "output_type": "stream",
     "text": [
      "Running the interim EIA 861 ETL process! (~2 minutes)\n",
      "Extracting eia861 spreadsheet data.\n"
     ]
    },
    {
     "name": "stderr",
     "output_type": "stream",
     "text": [
      "/home/zane/code/catalyst/pudl/src/pudl/extract/eia861.py:39: UserWarning: Integration of EIA 861 into PUDL is still experimental and incomplete.\n",
      "The data has not yet been validated, and the structure may change.\n",
      "  warnings.warn(\n"
     ]
    },
    {
     "name": "stdout",
     "output_type": "stream",
     "text": [
      "WARNING *** OLE2 inconsistency: SSCS size is 0 but SSAT size is non-zero\n",
      "WARNING *** OLE2 inconsistency: SSCS size is 0 but SSAT size is non-zero\n",
      "WARNING *** OLE2 inconsistency: SSCS size is 0 but SSAT size is non-zero\n",
      "WARNING *** OLE2 inconsistency: SSCS size is 0 but SSAT size is non-zero\n",
      "WARNING *** OLE2 inconsistency: SSCS size is 0 but SSAT size is non-zero\n",
      "WARNING *** OLE2 inconsistency: SSCS size is 0 but SSAT size is non-zero\n",
      "WARNING *** OLE2 inconsistency: SSCS size is 0 but SSAT size is non-zero\n",
      "WARNING *** OLE2 inconsistency: SSCS size is 0 but SSAT size is non-zero\n",
      "WARNING *** OLE2 inconsistency: SSCS size is 0 but SSAT size is non-zero\n",
      "WARNING *** OLE2 inconsistency: SSCS size is 0 but SSAT size is non-zero\n",
      "WARNING *** OLE2 inconsistency: SSCS size is 0 but SSAT size is non-zero\n",
      "WARNING *** OLE2 inconsistency: SSCS size is 0 but SSAT size is non-zero\n",
      "Transforming raw EIA 861 DataFrames for service_territory_eia861 concatenated across all years.\n",
      "Assigned state FIPS codes for 100.00% of records.\n",
      "Assigned county FIPS codes for 99.64% of records.\n",
      "Transforming raw EIA 861 DataFrames for balancing_authority_eia861 concatenated across all years.\n",
      "Started with 37622 missing BA Codes out of 38882 records (96.76%)\n",
      "Ended with 12674 missing BA Codes out of 38882 records (32.60%)\n",
      "Transforming raw EIA 861 DataFrames for sales_eia861 concatenated across all years.\n",
      "Tidying the EIA 861 Sales table.\n",
      "Dropped 0 duplicate records from EIA 861 Demand Response table, out of a total of 301045 records (0.0000% of all records). \n",
      "Performing value transformations on EIA 861 Sales table.\n",
      "Transforming raw EIA 861 DataFrames for advanced_metering_infrastructure_eia861 concatenated across all years.\n",
      "Tidying the EIA 861 Advanced Metering Infrastructure table.\n",
      "Transforming raw EIA 861 DataFrames for demand_response_eia861 concatenated across all years.\n",
      "Tidying the EIA 861 Demand Response table.\n",
      "Dropped 0 duplicate records from EIA 861 Demand Response table, out of a total of 10644 records (0.0000% of all records). \n",
      "Performing value transformations on EIA 861 Demand Response table.\n",
      "Transforming raw EIA 861 DataFrames for distribution_systems_eia861 concatenated across all years.\n",
      "Transforming raw EIA 861 DataFrames for dynamic_pricing_eia861 concatenated across all years.\n",
      "Tidying the EIA 861 Dynamic Pricing table.\n",
      "Performing value transformations on EIA 861 Dynamic Pricing table.\n",
      "Transforming raw EIA 861 DataFrames for green_pricing_eia861 concatenated across all years.\n",
      "Tidying the EIA 861 Green Pricing table.\n",
      "Performing value transformations on EIA 861 Green Pricing table.\n",
      "Transforming raw EIA 861 DataFrames for mergers_eia861 concatenated across all years.\n",
      "Transforming raw EIA 861 DataFrames for net_metering_eia861 concatenated across all years.\n",
      "Tidying the EIA 861 Net Metering table.\n",
      "Transforming raw EIA 861 DataFrames for non_net_metering_eia861 concatenated across all years.\n",
      "Tidying the EIA 861 Non Net Metering table.\n",
      "Building an EIA 861 BA-Util-State-Date association table.\n",
      "Building an EIA 861 Util-State-Date association table.\n",
      "Completing normalization of balancing_authority_eia861.\n"
     ]
    },
    {
     "name": "stderr",
     "output_type": "stream",
     "text": [
      "/home/zane/miniconda3/envs/pudl-dev/lib/python3.8/site-packages/pandas/core/missing.py:49: FutureWarning: elementwise comparison failed; returning scalar instead, but in the future will perform elementwise comparison\n",
      "  mask = arr == x\n"
     ]
    },
    {
     "name": "stdout",
     "output_type": "stream",
     "text": [
      "Running the interim FERC 714 ETL process! (~11 minutes)\n",
      "Extracting respondent_id_ferc714 from CSV into pandas DataFrame.\n",
      "Extracting id_certification_ferc714 from CSV into pandas DataFrame.\n",
      "Extracting gen_plants_ba_ferc714 from CSV into pandas DataFrame.\n"
     ]
    },
    {
     "name": "stderr",
     "output_type": "stream",
     "text": [
      "/home/zane/code/catalyst/pudl/src/pudl/extract/ferc714.py:82: UserWarning: Integration of FERC 714 into PUDL is still experimental and incomplete.\n",
      "The data has not yet been validated, and the structure may change.\n",
      "  warnings.warn(\n"
     ]
    },
    {
     "name": "stdout",
     "output_type": "stream",
     "text": [
      "Extracting demand_monthly_ba_ferc714 from CSV into pandas DataFrame.\n",
      "Extracting net_energy_load_ba_ferc714 from CSV into pandas DataFrame.\n",
      "Extracting adjacency_ba_ferc714 from CSV into pandas DataFrame.\n",
      "Extracting interchange_ba_ferc714 from CSV into pandas DataFrame.\n",
      "Extracting lambda_hourly_ba_ferc714 from CSV into pandas DataFrame.\n",
      "Extracting lambda_description_ferc714 from CSV into pandas DataFrame.\n",
      "Extracting description_pa_ferc714 from CSV into pandas DataFrame.\n",
      "Extracting demand_forecast_pa_ferc714 from CSV into pandas DataFrame.\n",
      "Extracting demand_hourly_pa_ferc714 from CSV into pandas DataFrame.\n",
      "Transforming respondent_id_ferc714.\n",
      "Transforming id_certification_ferc714.\n",
      "Transforming gen_plants_ba_ferc714.\n",
      "Transforming demand_monthly_ba_ferc714.\n",
      "Transforming net_energy_load_ba_ferc714.\n",
      "Transforming adjacency_ba_ferc714.\n",
      "Transforming interchange_ba_ferc714.\n",
      "Transforming lambda_hourly_ba_ferc714.\n",
      "Transforming lambda_description_ferc714.\n",
      "Transforming description_pa_ferc714.\n",
      "Transforming demand_forecast_pa_ferc714.\n",
      "Transforming demand_hourly_pa_ferc714.\n"
     ]
    },
    {
     "name": "stderr",
     "output_type": "stream",
     "text": [
      "/home/zane/miniconda3/envs/pudl-dev/lib/python3.8/site-packages/pandas/core/missing.py:49: FutureWarning: elementwise comparison failed; returning scalar instead, but in the future will perform elementwise comparison\n",
      "  mask = arr == x\n"
     ]
    },
    {
     "name": "stdout",
     "output_type": "stream",
     "text": [
      "We've already got the 2010 Census GeoDB.\n",
      "Extracting the GeoDB into a GeoDataFrame\n"
     ]
    },
    {
     "name": "stderr",
     "output_type": "stream",
     "text": [
      "/home/zane/miniconda3/envs/pudl-dev/lib/python3.8/site-packages/pandas/core/missing.py:49: FutureWarning: elementwise comparison failed; returning scalar instead, but in the future will perform elementwise comparison\n",
      "  mask = arr == x\n"
     ]
    },
    {
     "name": "stdout",
     "output_type": "stream",
     "text": [
      "CPU times: user 10min 52s, sys: 60 s, total: 11min 52s\n",
      "Wall time: 12min 39s\n"
     ]
    }
   ],
   "source": [
    "%%time\n",
    "ferc714_out = pudl.output.ferc714.Respondents(pudl_out)\n",
    "annualized = ferc714_out.annualize()\n",
    "categorized = ferc714_out.categorize()\n",
    "summarized = ferc714_out.summarize_demand()\n",
    "fipsified = ferc714_out.fipsify()\n",
    "counties_gdf = ferc714_out.georef_counties()"
   ]
  },
  {
   "cell_type": "code",
   "execution_count": 8,
   "metadata": {},
   "outputs": [
    {
     "name": "stdout",
     "output_type": "stream",
     "text": [
      "<class 'pandas.core.frame.DataFrame'>\n",
      "Int64Index: 2968 entries, 0 to 2785\n",
      "Data columns (total 10 columns):\n",
      " #   Column                        Non-Null Count  Dtype         \n",
      "---  ------                        --------------  -----         \n",
      " 0   eia_code                      2954 non-null   Int64         \n",
      " 1   respondent_type               2870 non-null   category      \n",
      " 2   respondent_id_ferc714         2968 non-null   Int64         \n",
      " 3   respondent_name_ferc714       2968 non-null   string        \n",
      " 4   report_date                   2968 non-null   datetime64[ns]\n",
      " 5   balancing_authority_id_eia    1806 non-null   Int64         \n",
      " 6   balancing_authority_code_eia  1176 non-null   category      \n",
      " 7   balancing_authority_name_eia  1806 non-null   string        \n",
      " 8   utility_id_eia                1064 non-null   Int64         \n",
      " 9   utility_name_eia              994 non-null    string        \n",
      "dtypes: Int64(4), category(2), datetime64[ns](1), string(3)\n",
      "memory usage: 229.3 KB\n"
     ]
    }
   ],
   "source": [
    "categorized.info()"
   ]
  },
  {
   "cell_type": "code",
   "execution_count": 9,
   "metadata": {},
   "outputs": [
    {
     "name": "stdout",
     "output_type": "stream",
     "text": [
      "<class 'pandas.core.frame.DataFrame'>\n",
      "Int64Index: 2968 entries, 0 to 2967\n",
      "Data columns (total 11 columns):\n",
      " #   Column                        Non-Null Count  Dtype         \n",
      "---  ------                        --------------  -----         \n",
      " 0   report_date                   2968 non-null   datetime64[ns]\n",
      " 1   respondent_id_ferc714         2968 non-null   Int64         \n",
      " 2   demand_annual_mwh             2968 non-null   float64       \n",
      " 3   eia_code                      2954 non-null   Int64         \n",
      " 4   respondent_type               2870 non-null   category      \n",
      " 5   respondent_name_ferc714       2968 non-null   string        \n",
      " 6   balancing_authority_id_eia    1806 non-null   Int64         \n",
      " 7   balancing_authority_code_eia  1176 non-null   category      \n",
      " 8   balancing_authority_name_eia  1806 non-null   string        \n",
      " 9   utility_id_eia                1064 non-null   Int64         \n",
      " 10  utility_name_eia              994 non-null    string        \n",
      "dtypes: Int64(4), category(2), datetime64[ns](1), float64(1), string(3)\n",
      "memory usage: 252.5 KB\n"
     ]
    }
   ],
   "source": [
    "summarized.info()"
   ]
  },
  {
   "cell_type": "code",
   "execution_count": 10,
   "metadata": {},
   "outputs": [
    {
     "name": "stdout",
     "output_type": "stream",
     "text": [
      "<class 'pandas.core.frame.DataFrame'>\n",
      "Int64Index: 99747 entries, 0 to 2785\n",
      "Data columns (total 14 columns):\n",
      " #   Column                        Non-Null Count  Dtype         \n",
      "---  ------                        --------------  -----         \n",
      " 0   eia_code                      99733 non-null  Int64         \n",
      " 1   respondent_type               99649 non-null  category      \n",
      " 2   respondent_id_ferc714         99747 non-null  Int64         \n",
      " 3   respondent_name_ferc714       99747 non-null  string        \n",
      " 4   report_date                   99747 non-null  datetime64[ns]\n",
      " 5   balancing_authority_id_eia    91893 non-null  Int64         \n",
      " 6   balancing_authority_code_eia  82262 non-null  category      \n",
      " 7   balancing_authority_name_eia  91893 non-null  string        \n",
      " 8   utility_id_eia                7756 non-null   Int64         \n",
      " 9   utility_name_eia              7339 non-null   string        \n",
      " 10  state                         98255 non-null  string        \n",
      " 11  county                        98255 non-null  string        \n",
      " 12  state_id_fips                 98255 non-null  string        \n",
      " 13  county_id_fips                98238 non-null  string        \n",
      "dtypes: Int64(4), category(2), datetime64[ns](1), string(7)\n",
      "memory usage: 10.5 MB\n"
     ]
    }
   ],
   "source": [
    "fipsified.info()"
   ]
  },
  {
   "cell_type": "code",
   "execution_count": 11,
   "metadata": {},
   "outputs": [
    {
     "name": "stdout",
     "output_type": "stream",
     "text": [
      "<class 'geopandas.geodataframe.GeoDataFrame'>\n",
      "Int64Index: 99747 entries, 0 to 99746\n",
      "Data columns (total 16 columns):\n",
      " #   Column                        Non-Null Count  Dtype         \n",
      "---  ------                        --------------  -----         \n",
      " 0   county_id_fips                98238 non-null  string        \n",
      " 1   county_name_census            98221 non-null  object        \n",
      " 2   geometry                      98221 non-null  geometry      \n",
      " 3   eia_code                      99733 non-null  Int64         \n",
      " 4   respondent_type               99649 non-null  category      \n",
      " 5   respondent_id_ferc714         99747 non-null  Int64         \n",
      " 6   respondent_name_ferc714       99747 non-null  string        \n",
      " 7   report_date                   99747 non-null  datetime64[ns]\n",
      " 8   balancing_authority_id_eia    91893 non-null  Int64         \n",
      " 9   balancing_authority_code_eia  82262 non-null  category      \n",
      " 10  balancing_authority_name_eia  91893 non-null  string        \n",
      " 11  utility_id_eia                7756 non-null   Int64         \n",
      " 12  utility_name_eia              7339 non-null   string        \n",
      " 13  state                         98255 non-null  string        \n",
      " 14  county                        98255 non-null  string        \n",
      " 15  state_id_fips                 98255 non-null  string        \n",
      "dtypes: Int64(4), category(2), datetime64[ns](1), geometry(1), object(1), string(7)\n",
      "memory usage: 12.0+ MB\n"
     ]
    }
   ],
   "source": [
    "counties_gdf.info()"
   ]
  },
  {
   "cell_type": "code",
   "execution_count": 12,
   "metadata": {},
   "outputs": [],
   "source": [
    "# This takes 45 minutes so...\n",
    "#respondents_gdf = ferc714_out.georef_respondents()\n",
    "#display(respondents_gdf.info())\n",
    "#respondents_gdf.sample(10)"
   ]
  }
 ],
 "metadata": {
  "kernelspec": {
   "display_name": "Python 3",
   "language": "python",
   "name": "python3"
  },
  "language_info": {
   "codemirror_mode": {
    "name": "ipython",
    "version": 3
   },
   "file_extension": ".py",
   "mimetype": "text/x-python",
   "name": "python",
   "nbconvert_exporter": "python",
   "pygments_lexer": "ipython3",
   "version": "3.8.5"
  }
 },
 "nbformat": 4,
 "nbformat_minor": 4
}
