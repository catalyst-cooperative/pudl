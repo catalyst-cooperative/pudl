{
 "cells": [
  {
   "cell_type": "markdown",
   "id": "3562abdd-9414-4090-a5fa-0bd5f8882ca4",
   "metadata": {},
   "source": [
    "# Introducing: A first step toward SEC 10-K integration\n",
    "\n",
    "## TODO:\n",
    "\n",
    "* summarize the implications of the below.\n",
    "* pull in additional narratives from sec10k-data-review.ipynb"
   ]
  },
  {
   "cell_type": "markdown",
   "id": "56de5ac6-1391-4b3c-b52d-d0df9f2f575f",
   "metadata": {},
   "source": [
    "# Subsidiaries case study: Xcel Energy\n",
    "\n",
    "We can better understand the strengths and weaknesses of the subsidiary links in this dataset if we look at an example.\n",
    "\n",
    "Xcel Energy is a multi-state utility holding company with several major subsidiary utilities operating in in Colorado, Minnesota, New Mexico, and Wisconsin. We can select some of its parent-subsidiary relationships from 2001, 2012 and 2023 from the PUDL outputs using the following query:"
   ]
  },
  {
   "cell_type": "code",
   "execution_count": null,
   "id": "3e078b8e-5e73-4dff-b538-6366b35d9676",
   "metadata": {},
   "outputs": [],
   "source": [
    "import pandas as pd\n",
    "xcel_subs = (\n",
    "    pd.read_parquet(\n",
    "        \"s3://pudl.catalyst.coop/v2025.9.1/out_sec10k__parents_and_subsidiaries.parquet\",\n",
    "        columns=[\n",
    "            \"report_date\",\n",
    "            \"parent_company_central_index_key\",\n",
    "            \"parent_company_utility_id_eia\",\n",
    "            \"parent_company_name\",\n",
    "            \"subsidiary_company_id_sec10k\",\n",
    "            \"subsidiary_company_central_index_key\",\n",
    "            \"subsidiary_company_utility_id_eia\",\n",
    "            \"subsidiary_company_name\",\n",
    "            \"fraction_owned\",\n",
    "            \"filename_sec10k\",\n",
    "        ],\n",
    "        dtype_backend=\"pyarrow\"\n",
    "    ).query(\"parent_company_central_index_key == '0000072903'\")\n",
    "    .query(\"report_date.dt.year.isin([2001, 2012, 2023])\")\n",
    ")"
   ]
  },
  {
   "cell_type": "markdown",
   "id": "ffaee70f-0661-46a0-9b60-f408f3f7b8ba",
   "metadata": {},
   "source": [
    "Looking at this sample of the data:\n",
    "\n",
    "* We can see that Xcel has successfully been linked to a corresponding EIA Utility ID."
   ]
  },
  {
   "cell_type": "code",
   "execution_count": null,
   "id": "43f7c3cc-8271-45aa-b600-395a0d51bdf9",
   "metadata": {},
   "outputs": [],
   "source": [
    "xcel_subs[[\"parent_company_name\",\"parent_company_central_index_key\",\"parent_company_utility_id_eia\"]].drop_duplicates()"
   ]
  },
  {
   "cell_type": "markdown",
   "id": "5d766b2e-9dd4-4d12-860a-110747616e5a",
   "metadata": {},
   "source": [
    "* In 2023, 4 of 18 listed Xcel subsidiaries have been associated with their own SEC 10-K filer CIK. In 2001, it was 3 out of 23.\n"
   ]
  },
  {
   "cell_type": "code",
   "execution_count": null,
   "id": "040de189-88df-4711-8b26-c9fe99891a49",
   "metadata": {
    "jupyter": {
     "source_hidden": true
    }
   },
   "outputs": [],
   "source": [
    "(\n",
    "    xcel_subs.assign(year=xcel_subs.report_date.dt.year)\n",
    "    .groupby(\"year\")\n",
    "    .subsidiary_company_central_index_key\n",
    "    .agg([\n",
    "        (\"cik_fraction\", lambda x: x.notna().mean()),\n",
    "        (\"cik_count\", lambda x: x.notna().sum()),\n",
    "        (\"total\", lambda x: len(x)),\n",
    "    ])\n",
    "    .sort_index(ascending=False)\n",
    ")"
   ]
  },
  {
   "cell_type": "markdown",
   "id": "738e1433-5643-4d60-af65-001615160d99",
   "metadata": {},
   "source": [
    "* Across both years, only 1 subsidiary company was linked to its own EIA Utility ID."
   ]
  },
  {
   "cell_type": "code",
   "execution_count": null,
   "id": "e573b04e-7986-41a6-a8ac-9dde439c1fa8",
   "metadata": {
    "jupyter": {
     "source_hidden": true
    }
   },
   "outputs": [],
   "source": [
    "(\n",
    "    xcel_subs.assign(year=xcel_subs.report_date.dt.year)\n",
    "    .groupby(\"year\")\n",
    "    .subsidiary_company_utility_id_eia\n",
    "    .agg([\n",
    "        (\"eia_count\", lambda x: x.notna().sum()),\n",
    "        (\"total\", lambda x: len(x))\n",
    "    ])\n",
    "    .sort_index(ascending=False)\n",
    ")"
   ]
  },
  {
   "cell_type": "markdown",
   "id": "a421c86a-11d7-4375-ab8c-bedb117fcc5f",
   "metadata": {},
   "source": [
    "* A subsidiary called \"Northern States Power Company\" was linked to CIKs in Wisconsin and Minnesota in 2023 and 2012, but not in 2001, likely due to differences in how the name was spelled. The 2001 instance in Wisconsin is the only one linked to an EIA utility."
   ]
  },
  {
   "cell_type": "code",
   "execution_count": null,
   "id": "8b76b6fe-d1b1-4ab9-a3b5-f0af8b53c212",
   "metadata": {
    "jupyter": {
     "source_hidden": true
    }
   },
   "outputs": [],
   "source": [
    "(\n",
    "    xcel_subs.assign(year=xcel_subs.report_date.dt.year)\n",
    "    .loc[xcel_subs.subsidiary_company_name.str.startswith(\"northern states\"),\n",
    "        [\"subsidiary_company_central_index_key\",\"subsidiary_company_utility_id_eia\",\"year\",\"subsidiary_company_name\",\"filename_sec10k\",\"subsidiary_company_id_sec10k\"]\n",
    "    ]\n",
    "    .sort_values([\"subsidiary_company_name\",\"year\", \"subsidiary_company_central_index_key\"])\n",
    ")"
   ]
  },
  {
   "cell_type": "markdown",
   "id": "f6ca46a2-d848-4df8-bc3b-81aa663e1fb6",
   "metadata": {},
   "source": [
    "* No ownership fraction information was captured for any of the subsidiaries."
   ]
  },
  {
   "cell_type": "code",
   "execution_count": null,
   "id": "151116df-32b5-4d71-bbc8-c826293cf32e",
   "metadata": {
    "jupyter": {
     "source_hidden": true
    }
   },
   "outputs": [],
   "source": [
    "(\n",
    "    xcel_subs.assign(year=xcel_subs.report_date.dt.year)\n",
    "    .groupby(\"year\")\n",
    "    .fraction_owned\n",
    "    .agg([\n",
    "        (\"with_ownership\", lambda x: x.notna().sum()),\n",
    "        (\"total\", lambda x: len(x))\n",
    "    ])\n",
    "    .sort_index(ascending=False)\n",
    ")"
   ]
  }
 ],
 "metadata": {
  "kernelspec": {
   "display_name": "Python 3 (ipykernel)",
   "language": "python",
   "name": "python3"
  },
  "language_info": {
   "codemirror_mode": {
    "name": "ipython",
    "version": 3
   },
   "file_extension": ".py",
   "mimetype": "text/x-python",
   "name": "python",
   "nbconvert_exporter": "python",
   "pygments_lexer": "ipython3",
   "version": "3.13.7"
  }
 },
 "nbformat": 4,
 "nbformat_minor": 5
}
