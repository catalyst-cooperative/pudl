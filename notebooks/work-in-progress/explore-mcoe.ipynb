{
 "cells": [
  {
   "attachments": {},
   "cell_type": "markdown",
   "metadata": {},
   "source": [
    "## Explore Marginal and Captial Cost of Power Plants\n"
   ]
  },
  {
   "cell_type": "code",
   "execution_count": null,
   "metadata": {},
   "outputs": [],
   "source": [
    "%load_ext autoreload\n",
    "%autoreload 2"
   ]
  },
  {
   "cell_type": "code",
   "execution_count": null,
   "metadata": {},
   "outputs": [],
   "source": [
    "import pandas as pd\n",
    "import pudl\n",
    "import pudl.constants as pc\n",
    "import pudl.extract.ferc1\n",
    "import sqlalchemy as sa\n",
    "\n",
    "import matplotlib.pyplot as plt\n",
    "import matplotlib as mpl\n",
    "import logging\n",
    "import sys\n",
    "from textwrap import wrap\n",
    "import random\n",
    "%matplotlib inline\n",
    "pd.options.display.max_columns = None"
   ]
  },
  {
   "cell_type": "code",
   "execution_count": null,
   "metadata": {},
   "outputs": [],
   "source": [
    "# basic setup for logging\n",
    "logger = logging.getLogger()\n",
    "logger.setLevel(logging.INFO)\n",
    "handler = logging.StreamHandler(stream=sys.stdout)\n",
    "formatter = logging.Formatter('%(message)s')\n",
    "handler.setFormatter(formatter)\n",
    "logger.handlers = [handler]"
   ]
  },
  {
   "attachments": {},
   "cell_type": "markdown",
   "metadata": {},
   "source": [
    "### Prep the EIA and FERC Data"
   ]
  },
  {
   "cell_type": "code",
   "execution_count": null,
   "metadata": {},
   "outputs": [],
   "source": [
    "from pudl.workspace.setup import PudlPaths\n",
    "\n",
    "pudl_engine = sa.create_engine(PudlPaths().pudl_db)\n",
    "start_date=None\n",
    "end_date=None\n",
    "freq='AS'"
   ]
  },
  {
   "cell_type": "code",
   "execution_count": null,
   "metadata": {},
   "outputs": [],
   "source": [
    "pudl_out = pudl.output.pudltabl.PudlTabl(pudl_engine,freq='AS',rolling=True)"
   ]
  },
  {
   "cell_type": "code",
   "execution_count": null,
   "metadata": {},
   "outputs": [],
   "source": [
    "def grab_renew_cost():\n",
    "    renew_costs_lbl = (\n",
    "        pd.read_excel(\n",
    "            'https://emp.lbl.gov/sites/default/files/2018_wtmr_data_file.xlsx', \n",
    "            sheet_name='Figure 56',skiprows=6,)\n",
    "        .rename(columns={'Unnamed: 0':'report_year',\n",
    "                         '2018 $/MWh':'price_gas_per_mwh',\n",
    "                         '2018 $/MWh.1':'price_solar_per_mwh',\n",
    "                         '2018 $/MWh.2':'price_wind_per_mwh'}, ))\n",
    "    return renew_costs_lbl"
   ]
  },
  {
   "cell_type": "code",
   "execution_count": null,
   "metadata": {},
   "outputs": [],
   "source": [
    "def prep_mcoe_eia(pudl_out):\n",
    "    mcoe_eia = pudl_out.mcoe()\n",
    "    mcoe_eia = mcoe_eia.assign(\n",
    "        report_year = mcoe_eia.report_date.dt.year,\n",
    "        fuel_cost = mcoe_eia.fuel_cost_per_mwh * mcoe_eia.net_generation_mwh)\n",
    "    mcoe_grouped = (\n",
    "        mcoe_eia.groupby(by=['report_year','plant_id_pudl',])\n",
    "        .agg({'capacity_mw':'sum',\n",
    "              'fuel_cost_per_mwh': 'mean',\n",
    "              'fuel_cost': 'sum',\n",
    "              'net_generation_mwh': 'sum'\n",
    "             })\n",
    "        .reset_index()\n",
    "    )\n",
    "    return mcoe_grouped"
   ]
  },
  {
   "cell_type": "code",
   "execution_count": null,
   "metadata": {},
   "outputs": [],
   "source": [
    "def get_non_fuel_cols(pudl_out):\n",
    "    steam_ferc1 = pudl_out.plants_steam_ferc1()\n",
    "    # add in a non-fuel opex column\n",
    "    fuel_total_cols = ['opex_fuel','opex_production_total',\n",
    "                       'opex_per_mwh','opex_nonfuel_per_mwh', 'opex_fuel_per_mwh']\n",
    "    opex_non_fuel_total_cols = [x for x in steam_ferc1.filter(like='opex').columns \n",
    "                                if x not in fuel_total_cols]\n",
    "    return opex_non_fuel_total_cols"
   ]
  },
  {
   "cell_type": "code",
   "execution_count": null,
   "metadata": {},
   "outputs": [],
   "source": [
    "def grab_steam_ferc1(pudl_out):\n",
    "    steam_ferc1 = pudl_out.plants_steam_ferc1()\n",
    "    opex_non_fuel_total_cols = get_non_fuel_cols(pudl_out)\n",
    "    steam_ferc1 = (\n",
    "        steam_ferc1.assign(\n",
    "            opex_non_fuel_total=steam_ferc1[opex_non_fuel_total_cols].sum(axis=1),\n",
    "            capex_total_calc=steam_ferc1[['capex_land','capex_structures','capex_equipment']].sum(axis=1),\n",
    "        )\n",
    "    )\n",
    "    return steam_ferc1"
   ]
  },
  {
   "cell_type": "code",
   "execution_count": null,
   "metadata": {},
   "outputs": [],
   "source": [
    "def prep_mcoe_ferc(pudl_out):\n",
    "    steam_grouped = (\n",
    "        grab_steam_ferc1(pudl_out)\n",
    "        .groupby(by=['plant_id_pudl','report_year']).sum()\n",
    "        .reset_index()\n",
    "    )\n",
    "    return steam_grouped"
   ]
  },
  {
   "cell_type": "code",
   "execution_count": null,
   "metadata": {},
   "outputs": [],
   "source": [
    "def add_plant_info(pudl_out, mcoe_ferc_eia):\n",
    "    # plant-level info \n",
    "    plants = pudl_out.plants_eia860()\n",
    "    info_cols = ['plant_id_pudl', 'state', 'report_date','plant_name_eia']\n",
    "    plants= (plants[info_cols]\n",
    "             .drop_duplicates()\n",
    "             .assign(report_year=plants.report_date.dt.year)\n",
    "             .drop(columns=['report_date']))\n",
    "\n",
    "    plants_f1 = pudl_out.plants_steam_ferc1()\n",
    "\n",
    "    # merge in plant-level data\n",
    "    mcoe_ferc_eia = (\n",
    "        pd.merge(mcoe_ferc_eia,plants,)\n",
    "        .merge(plants_f1[['plant_name_ferc1','plant_id_pudl']].drop_duplicates(subset='plant_id_pudl'))\n",
    "    )\n",
    "    mcoe_ferc_eia.plant_name_eia = mcoe_ferc_eia.plant_name_eia.fillna(value=mcoe_ferc_eia.plant_name_ferc1)\n",
    "    return mcoe_ferc_eia"
   ]
  },
  {
   "cell_type": "code",
   "execution_count": null,
   "metadata": {},
   "outputs": [],
   "source": [
    "def assign_mcoe_calcs(mcoe_ferc_eia):\n",
    "    mcoe_ferc_eia = mcoe_ferc_eia.assign(\n",
    "        opex=mcoe_ferc_eia[['opex_non_fuel_total','fuel_cost',]].sum(axis=1))\n",
    "    mcoe_ferc_eia = mcoe_ferc_eia.assign(\n",
    "        opex_per_mwh=mcoe_ferc_eia.opex / mcoe_ferc_eia.net_generation_mwh_eia,\n",
    "        fuel_cost_per_mwh_calc=mcoe_ferc_eia.fuel_cost / mcoe_ferc_eia.net_generation_mwh_eia,\n",
    "        fuel_cost_per_mwh_ferc1=mcoe_ferc_eia.opex_fuel / mcoe_ferc_eia.net_generation_mwh_ferc,\n",
    "        opex_non_fuel_per_mwh=mcoe_ferc_eia.opex_non_fuel_total / mcoe_ferc_eia.net_generation_mwh_ferc,\n",
    "        capex_per_mw=mcoe_ferc_eia.capex_total/mcoe_ferc_eia.capacity_mw_ferc,\n",
    "    )\n",
    "    mcoe_ferc_eia = mcoe_ferc_eia.assign(\n",
    "        fuel_cost_per_mwh= mcoe_ferc_eia.fuel_cost_per_mwh.fillna(mcoe_ferc_eia.fuel_cost_per_mwh_ferc1),)\n",
    "\n",
    "    mcoe_ferc_eia['fuel_cost_test'] = (mcoe_ferc_eia.fuel_cost_per_mwh_calc.round(decimals=0) \n",
    "                                       == mcoe_ferc_eia.fuel_cost_per_mwh.round(decimals=0))\n",
    "    logging.debug(len(mcoe_ferc_eia[(~mcoe_ferc_eia.fuel_cost_test) &\n",
    "                  (mcoe_ferc_eia._merge != 'left_only')]))\n",
    "    return mcoe_ferc_eia"
   ]
  },
  {
   "cell_type": "code",
   "execution_count": null,
   "metadata": {},
   "outputs": [],
   "source": [
    "def prep_mcoe_eia_ferc(pudl_out):\n",
    "    mcoe_ferc_eia = pd.merge(prep_mcoe_ferc(pudl_out),prep_mcoe_eia(pudl_out),\n",
    "                             on=['plant_id_pudl','report_year'], \n",
    "                             how='outer',\n",
    "                             indicator=True,\n",
    "                             suffixes=('_ferc','_eia')\n",
    "                            )\n",
    "    mcoe_ferc_eia = assign_mcoe_calcs(mcoe_ferc_eia)\n",
    "    mcoe_ferc_eia = add_plant_info(pudl_out, mcoe_ferc_eia)\n",
    "    logger.info(f'We have MCOE data for {len(mcoe_ferc_eia.state.unique())} states!')\n",
    "    logger.info(\n",
    "        'We dont have data for the following states:'\n",
    "        f'{[x for x in pc.US_STATES_TERRITORIES.keys()if x not in mcoe_ferc_eia.state.unique()]}')\n",
    "    return mcoe_ferc_eia"
   ]
  },
  {
   "attachments": {},
   "cell_type": "markdown",
   "metadata": {},
   "source": [
    "### Generate the Dataframes"
   ]
  },
  {
   "cell_type": "code",
   "execution_count": null,
   "metadata": {},
   "outputs": [],
   "source": [
    "renew_costs_lbl = grab_renew_cost()\n",
    "mcoe_ferc_eia = prep_mcoe_eia_ferc(pudl_out)"
   ]
  },
  {
   "attachments": {},
   "cell_type": "markdown",
   "metadata": {},
   "source": [
    "### Plot the Plottzz"
   ]
  },
  {
   "cell_type": "code",
   "execution_count": null,
   "metadata": {},
   "outputs": [],
   "source": [
    "figsize=(12,5)\n",
    "mpl.style.use('dark_background')\n",
    "\n",
    "def grab_mcoe_state_year(mcoe_ferc_eia, state, year):\n",
    "    return (mcoe_ferc_eia[(mcoe_ferc_eia.report_year == year)\n",
    "                         & (mcoe_ferc_eia.state == state)\n",
    "                         & (mcoe_ferc_eia.capacity_mw_eia.notnull())\n",
    "                         & (mcoe_ferc_eia.fuel_cost_per_mwh > 0)\n",
    "                         & (mcoe_ferc_eia.opex_non_fuel_per_mwh > 0)\n",
    "                        ]\n",
    "            .drop_duplicates(subset=['plant_name_eia'])\n",
    "            .sort_values(by='capacity_mw_eia', ascending=False))\n",
    "\n",
    "def grab_mcoe_plant(mcoe_ferc_eia, plant_name):\n",
    "    return (mcoe_ferc_eia[mcoe_ferc_eia['plant_name_eia'] == plant_name]\n",
    "            .drop_duplicates(subset=['plant_name_eia','report_year']))\n",
    "\n",
    "def plot_mcoe_state_year(mcoe_ferc_eia, renew_costs_lbl, state, year, renew=False):\n",
    "    mcoe_year = grab_mcoe_state_year(mcoe_ferc_eia, state, year)\n",
    "    \n",
    "    if mcoe_year.empty:\n",
    "        logger.info(f'No plants for {year} in {state}')\n",
    "        return\n",
    "    plant_names = mcoe_year.plant_name_eia\n",
    "    plant_names = ['\\n'.join(wrap(name,12)) for name in plant_names]\n",
    "    variable_om_mwh = mcoe_year.opex_non_fuel_per_mwh\n",
    "    fuel_cost_mwh = mcoe_year.fuel_cost_per_mwh\n",
    "    width = 0.35       # the width of the bars: can also be len(x) sequence\n",
    "\n",
    "    if len(plant_names) > 8:\n",
    "        plt.rcParams.update({'font.size': 8, 'font.weight' : 'bold',})\n",
    "    else: \n",
    "        plt.rcParams.update(\n",
    "            {'font.size': 15, 'font.weight' : 'bold',})\n",
    "    fig, ax = plt.subplots(figsize=figsize)\n",
    "    ax.bar(plant_names, fuel_cost_mwh, label='Fuel Cost',color='mediumslateblue')\n",
    "    ax.bar(plant_names, variable_om_mwh, bottom=fuel_cost_mwh, \n",
    "           label='Non-Fuel Operational Costs', color='turquoise')\n",
    "    \n",
    "    rects = ax.patches\n",
    "    # Make some labels.\n",
    "    labels = list(mcoe_year.capacity_mw_eia.astype(int))\n",
    "    labels = [str(x) + \" MW\" for x in labels]\n",
    "\n",
    "    for rect, label in zip(rects, labels):\n",
    "        height = rect.get_height()\n",
    "        ax.text(rect.get_x() + rect.get_width() / 2, 1, label,ha='center', va='bottom')\n",
    "\n",
    "    if renew:\n",
    "        wind = renew_costs_lbl.loc[renew_costs_lbl['report_year'] == year, 'price_wind_per_mwh'].values[0].round(2)\n",
    "        solar = renew_costs_lbl.loc[renew_costs_lbl['report_year'] == year, 'price_solar_per_mwh'].values[0].round(2)\n",
    "        xmin, xmax = plt.xlim()\n",
    "        plt.axhline(wind,color = 'silver',lw=3)\n",
    "        plt.text(xmin+.5, wind+(xmax*.15), f'Average US Wind: ${wind}/MWh',{'fontsize': 12}, color='silver')\n",
    "\n",
    "        plt.axhline(solar,color = 'lemonchiffon',lw=3)\n",
    "        plt.text(xmin+.5, solar+(xmax*.15), f'Average US Solar: ${solar}/MWh',{'fontsize': 12}, color='lemonchiffon')\n",
    "\n",
    "        \n",
    "    ax.set_ylabel('$/MWh')\n",
    "    ax.set_title(f'Operational Costs for {state} Plants in {year}',\n",
    "                 {'fontsize': 18,'fontweight' : 'bold'})\n",
    "    ax.legend()\n",
    "    plt.show()\n",
    "    \n",
    "def plot_plant_over_time(mcoe_ferc_eia, renew_costs_lbl, plant_name, renew=False):\n",
    "    mcoe_plant = grab_mcoe_plant(mcoe_ferc_eia, plant_name)\n",
    "    plt.figure(figsize=figsize)\n",
    "    df = mcoe_plant.sort_values('report_year')\n",
    "    plt.stackplot(\n",
    "        df['report_year'],\n",
    "        df['fuel_cost_per_mwh'],\n",
    "        df['opex_non_fuel_per_mwh'],\n",
    "        labels=('Fuel Cost', 'Variable O&M'),\n",
    "        colors = ['mediumslateblue', 'turquoise',],\n",
    "    )\n",
    "    \n",
    "    if renew:\n",
    "        plt.plot(renew_costs_lbl['report_year'],renew_costs_lbl['price_wind_per_mwh'],color='silver', lw=3, label='Wind')\n",
    "        plt.plot(renew_costs_lbl['report_year'],renew_costs_lbl['price_solar_per_mwh'],color='lemonchiffon', lw=3, label='Solar')\n",
    "    plt.xlim(left=2009,right=2018)\n",
    "    plt.ylabel('$/MWh')\n",
    "    plt.legend()\n",
    "    plt.title(f'Operational Costs for {plant_name}', \n",
    "              {'fontsize': 18,'fontweight' : 'bold'})\n",
    "    plt.show()\n",
    "\n",
    "def plot_cap_cost(mcoe_ferc_eia, plant_name):\n",
    "    mcoe_plant = grab_mcoe_plant(mcoe_ferc_eia, plant_name)\n",
    "    plt.figure(figsize=figsize)\n",
    "    df = mcoe_plant.sort_values('report_year')\n",
    "\n",
    "    plt.stackplot(\n",
    "        df['report_year'],\n",
    "        df['capex_land'],\n",
    "        df['capex_structures'],\n",
    "        df['capex_equipment'],\n",
    "        labels=('Land','Structures','Equipment',),\n",
    "        colors = ['darkolivegreen','mediumseagreen','aquamarine'],\n",
    "    )\n",
    "\n",
    "    plt.legend()\n",
    "    plt.ylabel('Captial Cost ($)')\n",
    "    plt.title(f'Capital Costs for {plant_name}')\n",
    "    plt.show()"
   ]
  },
  {
   "cell_type": "code",
   "execution_count": null,
   "metadata": {},
   "outputs": [],
   "source": [
    "plot_mcoe_state_year(mcoe_ferc_eia, renew_costs_lbl, state='CO', year=2018, renew=False,)"
   ]
  },
  {
   "cell_type": "code",
   "execution_count": null,
   "metadata": {},
   "outputs": [],
   "source": [
    "plot_plant_over_time(mcoe_ferc_eia, renew_costs_lbl, plant_name = 'Pawnee',renew=False)"
   ]
  },
  {
   "cell_type": "code",
   "execution_count": null,
   "metadata": {},
   "outputs": [],
   "source": [
    "plot_cap_cost(mcoe_ferc_eia, 'Pawnee')"
   ]
  },
  {
   "cell_type": "code",
   "execution_count": null,
   "metadata": {},
   "outputs": [],
   "source": [
    "plot_cap_cost(mcoe_ferc_eia, mcoe_ferc_eia.loc[random.randint(0,len(mcoe_ferc_eia)),'plant_name_eia'])"
   ]
  },
  {
   "cell_type": "code",
   "execution_count": null,
   "metadata": {},
   "outputs": [],
   "source": [
    "#for state in pc.US_STATES_TERRITORIES.keys():\n",
    "#    plot_mcoe_state_year(mcoe_ferc_eia, renew_costs_lbl, state=state, year=2018,renew=True)"
   ]
  },
  {
   "attachments": {},
   "cell_type": "markdown",
   "metadata": {},
   "source": [
    "#### Breakdown of non-fuel operational costs"
   ]
  },
  {
   "cell_type": "code",
   "execution_count": null,
   "metadata": {
    "jupyter": {
     "outputs_hidden": true,
     "source_hidden": true
    }
   },
   "outputs": [],
   "source": [
    "df = mcoe_ferc_eia.groupby(by=['report_year']).sum().reset_index().sort_values('report_year')\n",
    "\n",
    "opex_non_fuel_total_cols = get_non_fuel_cols(pudl_out)\n",
    "fixed_cols = [\"opex_rents\", \"opex_engineering\", \"opex_structures\", \"opex_plants\",'opex_boiler',]\n",
    "variable = [\"opex_steam_other\", \"opex_coolants\", \"opex_steam\", \"opex_electric\",\"opex_misc_power\"]\n",
    "who_knows = [x for x in opex_non_fuel_total_cols if x not in fixed_cols + variable]\n",
    "opex_sorted = fixed_cols + variable + who_knows\n",
    "\n",
    "cols_to_plot = []\n",
    "for col in opex_sorted:\n",
    "    cols_to_plot.append(df[col])\n",
    "\n",
    "# colors\n",
    "fixed_clrs = ['springgreen','aquamarine','seagreen','lime','mediumaquamarine']\n",
    "variable_clrs = ['slateblue','indigo','darkviolet','rebeccapurple','mediumslateblue']\n",
    "who_clrs = ['gold','orange','darkorange','peachpuff']\n",
    "\n",
    "\n",
    "plt.figure(figsize=(15,10))\n",
    "plt.stackplot(\n",
    "    df['report_year'],\n",
    "    cols_to_plot,\n",
    "    labels=opex_sorted,\n",
    "    colors = fixed_clrs+variable_clrs+who_clrs,\n",
    ")\n",
    "plt.legend()\n",
    "plt.title(f'Aggregate Operational Costs Over Time')\n",
    "plt.ylabel('Total Operational Costs in $s')\n",
    "plt.xlabel('Years')\n",
    "plt.show()"
   ]
  },
  {
   "cell_type": "code",
   "execution_count": null,
   "metadata": {},
   "outputs": [],
   "source": []
  }
 ],
 "metadata": {
  "kernelspec": {
   "display_name": "Python 3",
   "language": "python",
   "name": "python3"
  },
  "language_info": {
   "codemirror_mode": {
    "name": "ipython",
    "version": 3
   },
   "file_extension": ".py",
   "mimetype": "text/x-python",
   "name": "python",
   "nbconvert_exporter": "python",
   "pygments_lexer": "ipython3",
   "version": "3.7.6"
  }
 },
 "nbformat": 4,
 "nbformat_minor": 4
}
