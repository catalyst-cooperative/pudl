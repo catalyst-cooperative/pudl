{
 "cells": [
  {
   "attachments": {},
   "cell_type": "markdown",
   "metadata": {},
   "source": [
    "# Working with PUDL Output Tables"
   ]
  },
  {
   "attachments": {},
   "cell_type": "markdown",
   "metadata": {},
   "source": [
    "There are many ways to access the data extracted and manipulated by pudl. You can query the SQL database where the **XX** data live **(link to that notebook)**, use Dask to access the CEMS parquet files, work with cleaned, csv versions of the raw files, or interact with pudl's various output table objects. This notebook provides a walk-through of the output tables, their contents, and their capabilities. \n",
    "\n",
    "See **HERE** for a broader walk-through of the different ways to access pudl data.\n",
    "\n",
    "\n",
    "#### What are the output tables?\n",
    "\n",
    "The database houses the bulk of the data, but it may not be immediately clear how it can or ought to be assembled for analysis. The output tables are select replications and manipulations of the raw data that use the cleaned and processed data from in the database. The database stores tidy data **(link to tidy data)**, and the output tables pipe that data into a more user-friendly, format. \n",
    "\n",
    "The output tables are not just “clean” versions of their raw inputs. Many of the dataframes closely mimic their raw counterparts, but most have undergone data transformations such as unit and aggregation alteration, column condensation, and more. Some of the tables present unique data manipulations, calculations, or inter-source conglomerations that cannot be \"found\" in a raw format. The intent of the output tables is to provide quick and intuitive access to relevant groups of data."
   ]
  },
  {
   "attachments": {},
   "cell_type": "markdown",
   "metadata": {},
   "source": [
    "***NOTE:** This file presuposes access to ...."
   ]
  },
  {
   "attachments": {},
   "cell_type": "markdown",
   "metadata": {},
   "source": [
    "#### Notebook Contents:\n",
    "* **<a href='#setup'>Setup</a>**\n",
    "* **<a href='#access'>Accessing the Output Tables</a>**\n",
    "* **<a href='#descip'>Table Descriptions</a>**\n",
    "* **<a href='#ferc'>FERC Output Tables</a>**\n",
    "    - table 1\n",
    "    - table 2\n",
    "* **<a href='#eia'>EIA Output Tables</a>**\n",
    "    - table 1\n",
    "    - table 2\n",
    "* **<a href='#epa'>EPA Output Tables</a>**\n",
    "    - table 1\n",
    "    - table 2\n",
    "* **<a href='#misc'>MISC. Output Tables</a>**\n",
    "    - table 1\n",
    "    - table 2\n",
    "\n",
    "Missing stuff about functions"
   ]
  },
  {
   "attachments": {},
   "cell_type": "markdown",
   "metadata": {},
   "source": [
    "<a id='setup'></a>\n",
    "## Setup"
   ]
  },
  {
   "cell_type": "code",
   "execution_count": null,
   "metadata": {},
   "outputs": [],
   "source": [
    "%load_ext autoreload\n",
    "%autoreload 2"
   ]
  },
  {
   "cell_type": "code",
   "execution_count": null,
   "metadata": {},
   "outputs": [],
   "source": [
    "# Standard libraries\n",
    "import logging\n",
    "import sys\n",
    "import os\n",
    "import pathlib\n",
    "\n",
    "# 3rd party libraries\n",
    "import geopandas as gpd\n",
    "import dask.dataframe as dd\n",
    "from dask.distributed import Client\n",
    "import matplotlib.pyplot as plt\n",
    "import matplotlib as mpl\n",
    "import numpy as np\n",
    "import pandas as pd\n",
    "import seaborn as sns\n",
    "import sqlalchemy as sa\n",
    "\n",
    "# Local libraries\n",
    "import pudl"
   ]
  },
  {
   "cell_type": "code",
   "execution_count": null,
   "metadata": {},
   "outputs": [],
   "source": [
    "# Enable viewing of logging outputs\n",
    "logger=logging.getLogger()\n",
    "logger.setLevel(logging.INFO)\n",
    "handler = logging.StreamHandler(stream=sys.stdout)\n",
    "formatter = logging.Formatter('%(message)s')\n",
    "handler.setFormatter(formatter)\n",
    "logger.handlers = [handler]"
   ]
  },
  {
   "cell_type": "code",
   "execution_count": null,
   "metadata": {},
   "outputs": [],
   "source": [
    "# Display settings\n",
    "sns.set()\n",
    "%matplotlib inline\n",
    "mpl.rcParams['figure.dpi'] = 150\n",
    "pd.options.display.max_columns = 100\n",
    "pd.options.display.max_rows = 5"
   ]
  },
  {
   "attachments": {},
   "cell_type": "markdown",
   "metadata": {},
   "source": [
    "<a id='access'></a>\n",
    "## Accessing the Output Tables"
   ]
  },
  {
   "attachments": {},
   "cell_type": "markdown",
   "metadata": {},
   "source": [
    "The output table objects are dataframes created by the pudl_engine at a given frequency. Whew. What that means is.....\n",
    "\n",
    "Before accessing the output tables programatically, you need to specify at what frequency you'd like to **aggregate?** the data. **Certain tables only function with a given frequency?**. "
   ]
  },
  {
   "cell_type": "code",
   "execution_count": null,
   "metadata": {},
   "outputs": [],
   "source": [
    "frequency = 'AS' # annual"
   ]
  },
  {
   "cell_type": "code",
   "execution_count": null,
   "metadata": {},
   "outputs": [],
   "source": [
    "# Establish connection to pudl database\n",
    "from pudl.workspace.setup import PudlPaths\n",
    "\n",
    "pudl_engine = sa.create_engine(PudlPaths().pudl_db)\n",
    "pudl_out = pudl.output.pudltabl.PudlTabl(pudl_engine, freq=frequency) #annual frequency"
   ]
  },
  {
   "cell_type": "code",
   "execution_count": null,
   "metadata": {},
   "outputs": [],
   "source": [
    "# Access a table by name as an object\n",
    "pudl_out.plants_eia860()"
   ]
  },
  {
   "attachments": {},
   "cell_type": "markdown",
   "metadata": {},
   "source": [
    "<a id='descrip'></a>\n",
    "## Table Descriptions"
   ]
  },
  {
   "attachments": {},
   "cell_type": "markdown",
   "metadata": {},
   "source": [
    "| Output Table Name | Description |\n",
    "| :- | :- |\n",
    "|<font color='red'>**FERC Output Tables**</font>|\n",
    "| **plants_steam_ferc1** |Large thermal generating plants, as reported on page 402 of FERC Form 1. |\n",
    "|**plants_hydro_ferc1**|Hydroelectric generating plant statistics for large plants. Large plants have an installed nameplate capacity of more than 10 MW. As reported on FERC Form 1, pages 406-407, and extracted from the f1_hydro table in FERC's FoxPro database.|\n",
    "|**plants_small_ferc1**|Generating plant statistics for small plants, as reported on FERC Form 1 pages 410-411, and extracted from the FERC FoxPro database table f1_gnrt_plant. Small generating plants are defined by having nameplate capacity of less than 25MW for steam plants, and less than 10MW for internal combustion, conventional hydro, and pumped storage plants.|\n",
    "|**plants_pumped_storage_ferc1**|FERC Form 1 Pumped Storage Table.|\n",
    "|**plant_in_service_ferc1**|FERC Form 1 Plant in Service Table.|\n",
    "|**fuel_ferc1**|Annual fuel consumed by large thermal generating plants. As reported on page 402 of FERC Form 1.|\n",
    "|**purchased_power_ferc1**|Purchased Power (Account 555) including power exchanges (i.e. transactions involving a balancing of debits and credits for energy, capacity, etc.) and any settlements for imbalanced exchanges. Reported on pages 326-327 of FERC Form 1. Extracted from the f1_purchased_pwr table in FERC's FoxPro database.|\n",
    "|**fbp_ferc1**|Calculates useful FERC Form 1 fuel metrics on a per plant-year basis. Each record in the FERC Form 1 corresponds to a particular type of fuel. Many plants -- especially coal plants -- use more than one fuel, with gas and/or diesel serving as startup fuels. In order to be able to classify the type of plant based on relative proportions of fuel consumed or fuel costs it is useful to aggregate these per-fuel records into a single record for each plant. Fuel cost (in nominal dollars) and fuel heat content (in mmBTU) are calculated for each fuel based on the cost and heat content per unit, and the number of units consumed, and then summed by fuel type (there can be more than one record for a given type of fuel in each plant because we are simplifying the fuel categories). The per-fuel records are then pivoted to create one column per fuel type. The total is summed and stored separately, and the individual fuel costs & heat contents are divided by that total, to yield fuel proportions.  Based on those proportions and a minimum threshold that's passed in, a \"primary\" fuel type is then assigned to the plant-year record and given a string label.|\n",
    "|**pu_ferc1**|A dataframe of FERC plant-utility associations.|\n",
    "|<font color='red'>**EIA Output Tables**</font>|\n",
    "|**gens_eia860**|A dataframe describing generators, as reported in EIA 860.|\n",
    "|**plants_eia860**|A dataframe of plant level info reported in EIA 860.|\n",
    "|**utils_eia860**|A dataframe describing utilities reported in EIA 860.|\n",
    "|**own_eia860**|A dataframe of generator level ownership data from EIA 860.|\n",
    "|**bga_eia860**|The more complete EIA/PUDL boiler-generator associations.|\n",
    "|**gen_eia923**|EIA 923 net generation data by generator.|\n",
    "|**frc_eia923**|EIA 923 fuel receipts and costs data.|\n",
    "|**gf_eia923**|EIA 923 generation and fuel consumption data.|\n",
    "|**bf_eia923**|EIA 923 boiler fuel consumption data.|\n",
    "|**pu_eia**|A dataframe of EIA plant-utility associations.|\n",
    "|<font color='red'>**EPA Output Tables**</font>|\n",
    "|**hourly_emissions_epacems**||\n",
    "|**transmission_single_epaipm**||\n",
    "|**transmission_joint_epaipm** ||\n",
    "|**load_curves_epaipm**||\n",
    "|**plant_region_map_epaipm** ||\n",
    "|<font color='red'>**Conglomerate Output Tables**</font>|\n",
    "|**bga**|More complete EIA/PUDL boiler-generator associations.|\n",
    "|**hr_by_unit**|Calculate and return generation unit level heat rates.|\n",
    "|**hr_by_gen**|Calculate and return generator level heat rates (mmBTU/MWh).|\n",
    "|**fuel_cost**|Calculate and return generator level fuel costs per MWh.|\n",
    "|**capacity_factor**|Calculate and return generator level capacity factors.|\n",
    "|**mcoe**|Calculate and return generator level MCOE based on EIA data. Eventually this calculation will include non-fuel operating expenses as reported in FERC Form 1, but for now only the fuel costs reported to EIA are included. They are attibuted based on the unit-level heat rates and fuel costs."
   ]
  },
  {
   "attachments": {},
   "cell_type": "markdown",
   "metadata": {},
   "source": [
    "<a id='ferc'></a>\n",
    "## FERC Output Tables"
   ]
  },
  {
   "cell_type": "code",
   "execution_count": null,
   "metadata": {},
   "outputs": [],
   "source": []
  }
 ],
 "metadata": {
  "kernelspec": {
   "display_name": "Python 3",
   "language": "python",
   "name": "python3"
  },
  "language_info": {
   "codemirror_mode": {
    "name": "ipython",
    "version": 3
   },
   "file_extension": ".py",
   "mimetype": "text/x-python",
   "name": "python",
   "nbconvert_exporter": "python",
   "pygments_lexer": "ipython3",
   "version": "3.8.6"
  }
 },
 "nbformat": 4,
 "nbformat_minor": 4
}
