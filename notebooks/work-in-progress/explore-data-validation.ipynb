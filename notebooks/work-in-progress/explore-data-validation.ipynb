{
 "cells": [
  {
   "cell_type": "markdown",
   "metadata": {},
   "source": [
    "Set Up"
   ]
  },
  {
   "cell_type": "code",
   "execution_count": 1,
   "metadata": {
    "jupyter": {
     "source_hidden": true
    }
   },
   "outputs": [],
   "source": [
    "%load_ext autoreload\n",
    "%autoreload 2"
   ]
  },
  {
   "cell_type": "code",
   "execution_count": 13,
   "metadata": {},
   "outputs": [],
   "source": [
    "# Standard libraries\n",
    "import logging\n",
    "import os\n",
    "import pathlib\n",
    "import sys\n",
    "\n",
    "# 3rd party libraries\n",
    "import matplotlib.pyplot as plt\n",
    "import matplotlib as mpl\n",
    "import numpy as np\n",
    "import pandas as pd\n",
    "import seaborn as sns\n",
    "import sqlalchemy as sa\n",
    "import pandera as pa\n",
    "from pandera import Hypothesis\n",
    "from functools import partial \n",
    "\n",
    "# Local libraries\n",
    "import pudl\n",
    "import pudl.constants as pc\n",
    "import pudl.validate as pv"
   ]
  },
  {
   "cell_type": "code",
   "execution_count": 3,
   "metadata": {
    "jupyter": {
     "source_hidden": true
    }
   },
   "outputs": [],
   "source": [
    "logger=logging.getLogger()\n",
    "logger.setLevel(logging.INFO)\n",
    "handler = logging.StreamHandler(stream=sys.stdout)\n",
    "formatter = logging.Formatter('%(message)s')\n",
    "handler.setFormatter(formatter)\n",
    "logger.handlers = [handler]"
   ]
  },
  {
   "cell_type": "code",
   "execution_count": 4,
   "metadata": {
    "jupyter": {
     "source_hidden": true
    }
   },
   "outputs": [],
   "source": [
    "pudl_settings = pudl.workspace.setup.get_defaults()\n",
    "pudl_engine = sa.create_engine(pudl_settings['pudl_db'])\n",
    "pudl_out = pudl.output.pudltabl.PudlTabl(pudl_engine) # freq='monthly'/'annual' (maybe other abr.)"
   ]
  },
  {
   "cell_type": "code",
   "execution_count": 5,
   "metadata": {
    "jupyter": {
     "source_hidden": true
    }
   },
   "outputs": [],
   "source": [
    "#only load when you need to, takes a while\n",
    "bf_eia923 = pudl_out.bf_eia923()"
   ]
  },
  {
   "cell_type": "markdown",
   "metadata": {},
   "source": [
    "Function to create plot"
   ]
  },
  {
   "cell_type": "code",
   "execution_count": 6,
   "metadata": {},
   "outputs": [],
   "source": [
    "# Function to display weighted distribution\n",
    "def finite_distplot(df, data_col, wt_col=None, nbins=100, max_val=np.infty):\n",
    "    \"\"\"\n",
    "    Plot weighted distribution of values less than a maximum value.\n",
    "    \n",
    "    Args:\n",
    "        df (pandas.DataFrame): The dataframe containing the data and\n",
    "            weights to plot.\n",
    "        data_col (str): Label of the column containing the data.\n",
    "        wt_col (str or None): Label of the column to use to weight the data.\n",
    "            If None (the default) data is not weighted.\n",
    "        nbins (int): Number of histogram bins to use.\n",
    "        max_val (float): Maximum data value to allow in data visualized.\n",
    "    \n",
    "    Returns:\n",
    "        None\n",
    "    \n",
    "    \"\"\"\n",
    "    df = df[df[data_col] < max_val]\n",
    "    weights = None\n",
    "    if wt_col is not None:\n",
    "        weights = df[wt_col]\n",
    "    _ = sns.distplot(df[data_col], bins=nbins, hist_kws={\"weights\": weights})"
   ]
  },
  {
   "cell_type": "code",
   "execution_count": 17,
   "metadata": {},
   "outputs": [
    {
     "data": {
      "image/png": "[encoded data removed]",
      "text/plain": [
       "<Figure size 432x288 with 1 Axes>"
      ]
     },
     "metadata": {
      "needs_background": "light"
     },
     "output_type": "display_data"
    }
   ],
   "source": [
    "# Show weighted distribution of columns \n",
    "\n",
    "bit_df = bf_eia923[(\n",
    "    (bf_eia923['fuel_type_code']=='BIT') \n",
    "    & (bf_eia923['fuel_mmbtu_per_unit']!= 0)\n",
    ")]\n",
    "\n",
    "bit_ax = finite_distplot(bit_df, \"fuel_mmbtu_per_unit\", wt_col=\"fuel_consumed_units\")#wt_col=\"fuel_consumed_units\")\n",
    "plt.title(\"BIT fuel mmbtu per unit distribution\");"
   ]
  },
  {
   "cell_type": "markdown",
   "metadata": {},
   "source": [
    "Sample Data"
   ]
  },
  {
   "cell_type": "code",
   "execution_count": 8,
   "metadata": {},
   "outputs": [],
   "source": [
    "# SAMPLE data\n",
    "\n",
    "df = pd.DataFrame({\n",
    "    \"report_year\": [2010, 2011, 2012, 2010, 2011, 2012],\n",
    "    \"plant_id_eia\": [1, 1, 1, 2, 2, 2],\n",
    "    \"fuel_consumed_units\": [5668.0, 8925.0, 6665.0, 623561.0, 675227.0, 574865.0],\n",
    "    \"fuel_mmbtu_per_unit\": [22.496, 22.710, 22.798, 1.032, 1.032, 1.032],\n",
    "    \"fuel_type_code\": ['BIT', 'BIT', 'BIT', 'NG', 'NG', 'NG'],\n",
    "})"
   ]
  },
  {
   "cell_type": "code",
   "execution_count": 9,
   "metadata": {},
   "outputs": [],
   "source": [
    "# Test dictionaries\n",
    "\n",
    "d = {'BIT': 25, 'NG':2}\n",
    "d2 = {'BIT': df.query(\"fuel_type_code=='BIT'\")['fuel_mmbtu_per_unit'], \n",
    "      'NG': df.query(\"fuel_type_code=='NG'\")['fuel_mmbtu_per_unit']}"
   ]
  },
  {
   "cell_type": "markdown",
   "metadata": {},
   "source": [
    "Iteration Examples"
   ]
  },
  {
   "cell_type": "code",
   "execution_count": 557,
   "metadata": {
    "jupyter": {
     "source_hidden": true
    }
   },
   "outputs": [],
   "source": [
    "# you can use print statements to see results not in list form\n",
    "\n",
    "# example tuples and lists\n",
    "li = [1,2,3,4]\n",
    "lii = (1,2,3,4)\n",
    "liii = [(1,2,3,4)]\n",
    "lip = [(1,2), (3,4)]\n",
    "lid = ((1,2), (3,4))\n",
    "liz = [(1,2,3)]\n",
    "lit = [(1), (2), (3)]\n",
    "\n",
    "# partial example (pauses a function with a specific argument pre-specified)\n",
    "def test1(x):\n",
    "    return x + 1\n",
    "# RUN:\n",
    "# wait = partial(test1, 2)  # as compared to lambda x: x+1 (both are same type)\n",
    "# wait()  # this will run the function with the agrument of 2.\n",
    "\n",
    "# reduce example (iterates over many inputs, continually adding them to the function...bad descrip)\n",
    "def test2(x, y):\n",
    "    return x + y\n",
    "# RUN: \n",
    "#functools.reduce(test2, li)\n",
    "\n",
    "# cool return example\n",
    "def run_tests():\n",
    "    return [\n",
    "        test1(x)\n",
    "        for x in li\n",
    "    ]\n",
    "\n",
    "# tuple unpacking examples\n",
    "def run_tests_2(tups): # best to use lip as an argument\n",
    "    return [\n",
    "        test2(*tup)\n",
    "        for tup in tups\n",
    "    ]\n",
    "def run_tests_1(listt): # best to use any pure list as an argument\n",
    "    return [\n",
    "        test1(item)\n",
    "        for item in listt\n",
    "    ]\n",
    "\n",
    "# Mapping arguments to functions also unpacking tuples\n",
    "t1 = map(test1, li)\n",
    "t2 = map(test2, *lid)\n",
    "#print(list(t1))\n",
    "#print(list(t2))"
   ]
  },
  {
   "cell_type": "code",
   "execution_count": null,
   "metadata": {
    "jupyter": {
     "source_hidden": true
    }
   },
   "outputs": [],
   "source": [
    "iterate_dict(d2)"
   ]
  },
  {
   "cell_type": "code",
   "execution_count": 281,
   "metadata": {
    "jupyter": {
     "source_hidden": true
    }
   },
   "outputs": [],
   "source": [
    "# Using PARTIAL in the pandera pa.Check() to mimic lambda x\n",
    "wait = partial(test, 2)\n",
    "#wait()"
   ]
  },
  {
   "cell_type": "markdown",
   "metadata": {},
   "source": [
    "Dictionary Iterator"
   ]
  },
  {
   "cell_type": "code",
   "execution_count": 258,
   "metadata": {
    "jupyter": {
     "source_hidden": true
    }
   },
   "outputs": [],
   "source": [
    "# This function iterates through the dictionary created in the \n",
    "# pa.Check(lambda s: XXX, groupby=X) -- when a groupby is specified, the s in lambda\n",
    "# s becomes a dictionary where the key is the value in the column you grouped by (in\n",
    "# this case BIT/NG and the value is the part of the column that pertains to that key value).\n",
    "# This function loops through that dictionary and runs a test on each different section of column.\n",
    "# In the future, you can have links to a CSV. It DOES NOT reference other columns, however.\n",
    "\n",
    "def iterate_through_fuel_dict(df_by_fuel_dict):\n",
    "    test=False\n",
    "    for fuel, col in df_by_fuel_dict.items():\n",
    "        if col.mean() < d[fuel]:\n",
    "            raise ValueError(f'{fuel} columns out of line')\n",
    "        else:\n",
    "            test=True\n",
    "    return test\n",
    "\n",
    "# Recreate function above with new knowledge -- does not work because output is a list\n",
    "\n",
    "def iterate_dict(df_by_fuel_dict):\n",
    "    return [\n",
    "        col.mean() > d[fuel]\n",
    "        for fuel, col in df_by_fuel_dict.items()\n",
    "    ]"
   ]
  },
  {
   "cell_type": "code",
   "execution_count": 531,
   "metadata": {
    "jupyter": {
     "source_hidden": true
    }
   },
   "outputs": [],
   "source": [
    "# Quantile tests\n",
    "ser = pd.Series([1,2,3,4,5])\n",
    "#ser.quantile(0.05)"
   ]
  },
  {
   "cell_type": "markdown",
   "metadata": {},
   "source": [
    "Niels's function with high and low bounds:"
   ]
  },
  {
   "cell_type": "code",
   "execution_count": 14,
   "metadata": {},
   "outputs": [],
   "source": [
    "# Niels's function with high and low bounds\n",
    "# NOTE: NO WEIGHTED COLS in these examples\n",
    "\n",
    "from typing import Dict\n",
    "\n",
    "# example meta data storage\n",
    "percentile_values = {\n",
    "    \"BIT\": [{\"lo_ptile\": 0.05, \"lo_bound\": 17.0, \"hi_ptile\": 0.95, \"hi_bound\": 30.0}],\n",
    "    \"NG\": [{\"lo_ptile\": 0.05, \"lo_bound\": 0.95, \"hi_ptile\": 0.95, \"hi_bound\": 1.15}]\n",
    "}\n",
    "\n",
    "def make_lo_bound_checks(percentile_values, groupby):\n",
    "    \"\"\"Programmatically create all checks for low bounds.\"\"\"\n",
    "\n",
    "    def check_lo_bound(fuel_type, lo_ptile, lo_bound, groups: Dict[str, pd.Series]): \n",
    "        \"\"\"Check that a given percent of the data is above the given low bound.\"\"\"\n",
    "        logger.info(f\"Running low bound tests for {fuel_type}\")\n",
    "        return groups[fuel_type].quantile(lo_ptile) > lo_bound\n",
    "        \n",
    "    return [\n",
    "        pa.Check(\n",
    "            partial(check_lo_bound, fuel_type, x[\"lo_ptile\"], x[\"lo_bound\"]),\n",
    "            groupby=groupby,\n",
    "            error=(\n",
    "                f\"check for group '{fuel_type}' failed for low bound \"\n",
    "                f\"{x['lo_ptile']} with industry standard value {x['lo_bound']}\"\n",
    "            ),\n",
    "        )\n",
    "        for fuel_type, ptile_values in percentile_values.items()\n",
    "        for x in ptile_values\n",
    "    ]\n",
    "\n",
    "def make_hi_bound_checks(percentile_values, groupby):\n",
    "    \"\"\"Programmatically create all checks for high bounds\"\"\"\n",
    "    \n",
    "    def check_hi_bound(fuel_type, hi_ptile, hi_bound, groups: Dict[str, pd.Series]):\n",
    "        \"\"\"Check that a given percent of the data is below the given high bound.\"\"\"\n",
    "        logger.info(f\"Running high bound tests for {fuel_type}\")\n",
    "        return groups[fuel_type].quantile(hi_ptile) < hi_bound\n",
    "    \n",
    "    return [\n",
    "        pa.Check(\n",
    "            partial(check_hi_bound, fuel_type, x[\"hi_ptile\"], x[\"hi_bound\"]),\n",
    "            groupby=groupby,\n",
    "            error=(\n",
    "                f\"check for group '{fuel_type}' failed for low bound \"\n",
    "                f\"{x['lo_ptile']} with industry standard value {x['lo_bound']}\"\n",
    "            ),\n",
    "        )\n",
    "        for fuel_type, ptile_values in percentile_values.items()\n",
    "        for x in ptile_values\n",
    "    ]\n",
    "    "
   ]
  },
  {
   "cell_type": "markdown",
   "metadata": {},
   "source": [
    "Niels's function with layered percentile value structure:"
   ]
  },
  {
   "cell_type": "code",
   "execution_count": 519,
   "metadata": {
    "jupyter": {
     "source_hidden": true
    }
   },
   "outputs": [],
   "source": [
    "# Niels's function with layered percentile value structure\n",
    "\n",
    "from typing import Dict\n",
    "\n",
    "# example meta data\n",
    "pt_values = {\n",
    "    \"BIT\": {\"low\": [{\"ptile\": 0.05, \"value\": 17.0}], \n",
    "             \"high\": [{\"ptile\": 0.95, \"value\": 30.0}]\n",
    "            },\n",
    "    \"NG\": {\"high\": [{\"ptile\": 0.05, \"value\": 0.95}],\n",
    "            \"low\": [{\"ptile\": 0.95, \"value\": 1.15}]\n",
    "           },\n",
    "}\n",
    "\n",
    "# function to programatically create check\n",
    "def make_bounds_checks(percentile_values, groupby):\n",
    "    \"\"\"Programmatically create checks for low and high bounds.\"\"\"\n",
    "\n",
    "    def check_bound(fuel_type, bound, ptile, value, groups: Dict[str, pd.Series]): \n",
    "        \"\"\"Check that a given percent of the data is above or below the given bound.\"\"\"\n",
    "        #groups[group].quantile(lo_ptile) > lo_bound\n",
    "        if bound == \"low\":\n",
    "            test = groups[fuel_type].quantile(ptile) > value\n",
    "        if bound == \"high\":\n",
    "            test = groups[fuel_type].quantile(ptile) < value\n",
    "        return test\n",
    "        \n",
    "    return [\n",
    "        pa.Check(\n",
    "            partial(check_bound, bound, x[\"ptile\"], x[\"value\"]),\n",
    "            groupby=groupby,\n",
    "            error=(\n",
    "                f\"check for group '{fuel_type}' failed for {bound} bound \"\n",
    "                f\"{x['ptile']} with industry standard value {x['value']}\"\n",
    "            ),\n",
    "        )\n",
    "        for fuel_type, bound_values in pt_values.items()\n",
    "        for bound, ptiles in bound_values.items()\n",
    "        for x in ptiles\n",
    "    ]"
   ]
  },
  {
   "cell_type": "markdown",
   "metadata": {},
   "source": [
    "Test Schema"
   ]
  },
  {
   "cell_type": "code",
   "execution_count": 15,
   "metadata": {},
   "outputs": [],
   "source": [
    "# Good Test Schema\n",
    "\n",
    "schema_bf_923 = pa.DataFrameSchema({\n",
    "    \"fuel_type_code\": pa.Column(\n",
    "        pa.String, \n",
    "        pa.Check(lambda s: s.isin(['BIT', 'NG']))),\n",
    "    \"fuel_mmbtu_per_unit\": pa.Column(\n",
    "        pa.Float, \n",
    "        checks=[\n",
    "            #*make_bounds_checks(pt_values, \"fuel_type_code\")\n",
    "            *make_lo_bound_checks(percentile_values, \"fuel_type_code\"),\n",
    "            *make_hi_bound_checks(percentile_values, \"fuel_type_code\"),\n",
    "        ],\n",
    "        nullable=True)\n",
    "}, #checks=[\n",
    "    #pa.Check(lambda df: (\n",
    "    #    test_bounds(df, df.fuel_mmbtu_per_unit, fuel='BIT',high=26.5, low=20.5))),\n",
    "#     pa.Check(lambda df: (\n",
    "#         test_bounds(df, 'fuel_mmbtu_per_unit', fuel='NG', high=1.036, low=1.018)))\n",
    "#])\n",
    ")"
   ]
  },
  {
   "cell_type": "code",
   "execution_count": 16,
   "metadata": {},
   "outputs": [
    {
     "name": "stdout",
     "output_type": "stream",
     "text": [
      "Running low bound tests for BIT\n",
      "Running low bound tests for NG\n",
      "Running high bound tests for BIT\n",
      "Running high bound tests for NG\n"
     ]
    },
    {
     "data": {
      "text/html": [
       "<div>\n",
       "<style scoped>\n",
       "    .dataframe tbody tr th:only-of-type {\n",
       "        vertical-align: middle;\n",
       "    }\n",
       "\n",
       "    .dataframe tbody tr th {\n",
       "        vertical-align: top;\n",
       "    }\n",
       "\n",
       "    .dataframe thead th {\n",
       "        text-align: right;\n",
       "    }\n",
       "</style>\n",
       "<table border=\"1\" class=\"dataframe\">\n",
       "  <thead>\n",
       "    <tr style=\"text-align: right;\">\n",
       "      <th></th>\n",
       "      <th>report_year</th>\n",
       "      <th>plant_id_eia</th>\n",
       "      <th>fuel_consumed_units</th>\n",
       "      <th>fuel_mmbtu_per_unit</th>\n",
       "      <th>fuel_type_code</th>\n",
       "    </tr>\n",
       "  </thead>\n",
       "  <tbody>\n",
       "    <tr>\n",
       "      <th>0</th>\n",
       "      <td>2010</td>\n",
       "      <td>1</td>\n",
       "      <td>5668.0</td>\n",
       "      <td>22.496</td>\n",
       "      <td>BIT</td>\n",
       "    </tr>\n",
       "    <tr>\n",
       "      <th>1</th>\n",
       "      <td>2011</td>\n",
       "      <td>1</td>\n",
       "      <td>8925.0</td>\n",
       "      <td>22.710</td>\n",
       "      <td>BIT</td>\n",
       "    </tr>\n",
       "    <tr>\n",
       "      <th>2</th>\n",
       "      <td>2012</td>\n",
       "      <td>1</td>\n",
       "      <td>6665.0</td>\n",
       "      <td>22.798</td>\n",
       "      <td>BIT</td>\n",
       "    </tr>\n",
       "    <tr>\n",
       "      <th>3</th>\n",
       "      <td>2010</td>\n",
       "      <td>2</td>\n",
       "      <td>623561.0</td>\n",
       "      <td>1.032</td>\n",
       "      <td>NG</td>\n",
       "    </tr>\n",
       "    <tr>\n",
       "      <th>4</th>\n",
       "      <td>2011</td>\n",
       "      <td>2</td>\n",
       "      <td>675227.0</td>\n",
       "      <td>1.032</td>\n",
       "      <td>NG</td>\n",
       "    </tr>\n",
       "    <tr>\n",
       "      <th>5</th>\n",
       "      <td>2012</td>\n",
       "      <td>2</td>\n",
       "      <td>574865.0</td>\n",
       "      <td>1.032</td>\n",
       "      <td>NG</td>\n",
       "    </tr>\n",
       "  </tbody>\n",
       "</table>\n",
       "</div>"
      ],
      "text/plain": [
       "   report_year  plant_id_eia  fuel_consumed_units  fuel_mmbtu_per_unit  \\\n",
       "0         2010             1               5668.0               22.496   \n",
       "1         2011             1               8925.0               22.710   \n",
       "2         2012             1               6665.0               22.798   \n",
       "3         2010             2             623561.0                1.032   \n",
       "4         2011             2             675227.0                1.032   \n",
       "5         2012             2             574865.0                1.032   \n",
       "\n",
       "  fuel_type_code  \n",
       "0            BIT  \n",
       "1            BIT  \n",
       "2            BIT  \n",
       "3             NG  \n",
       "4             NG  \n",
       "5             NG  "
      ]
     },
     "execution_count": 16,
     "metadata": {},
     "output_type": "execute_result"
    }
   ],
   "source": [
    "schema_bf_923.validate(df)"
   ]
  },
  {
   "cell_type": "code",
   "execution_count": null,
   "metadata": {},
   "outputs": [],
   "source": []
  }
 ],
 "metadata": {
  "kernelspec": {
   "display_name": "Python 3",
   "language": "python",
   "name": "python3"
  },
  "language_info": {
   "codemirror_mode": {
    "name": "ipython",
    "version": 3
   },
   "file_extension": ".py",
   "mimetype": "text/x-python",
   "name": "python",
   "nbconvert_exporter": "python",
   "pygments_lexer": "ipython3",
   "version": "3.8.6"
  }
 },
 "nbformat": 4,
 "nbformat_minor": 4
}
