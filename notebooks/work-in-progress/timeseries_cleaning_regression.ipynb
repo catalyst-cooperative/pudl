{
 "cells": [
  {
   "cell_type": "markdown",
   "id": "7cb719bd-9274-4730-b2f0-9800b35106e2",
   "metadata": {},
   "source": [
    "## Compare imputed assets"
   ]
  },
  {
   "cell_type": "code",
   "execution_count": null,
   "id": "e874d7dd-2b9c-4677-9f5b-a7ae69a31275",
   "metadata": {},
   "outputs": [],
   "source": [
    "from pudl.etl import defs\n",
    "import pandas as pd\n",
    "import numpy as np\n",
    "import matplotlib.pyplot as plt"
   ]
  },
  {
   "cell_type": "markdown",
   "id": "cac6b1a0-17d7-4e65-851b-067dec8b8948",
   "metadata": {},
   "source": [
    "## Validate FERC 714 downstream assets\n"
   ]
  },
  {
   "cell_type": "code",
   "execution_count": null,
   "id": "70ff51c6-3b74-4670-8a69-0b55f844c40d",
   "metadata": {},
   "outputs": [],
   "source": [
    "def _get_nightly_df(table_name):\n",
    "    return pd.read_parquet(f\"https://s3.us-west-2.amazonaws.com/pudl.catalyst.coop/nightly/{table_name}.parquet\")"
   ]
  },
  {
   "cell_type": "markdown",
   "id": "f814682f-c8f3-49bf-a602-03a86804ed21",
   "metadata": {},
   "source": [
    "### `out_ferc714__hourly_estimated_state_demand`"
   ]
  },
  {
   "cell_type": "code",
   "execution_count": null,
   "id": "86f8ea19-efb8-43dd-9c6b-47894b48a7ad",
   "metadata": {},
   "outputs": [],
   "source": [
    "nightly_df = _get_nightly_df(\"out_ferc714__hourly_estimated_state_demand\")\n",
    "local_df = defs.load_asset_value(\"out_ferc714__hourly_estimated_state_demand\")"
   ]
  },
  {
   "cell_type": "code",
   "execution_count": null,
   "id": "f748648f-e57d-4e3a-a202-0f2b2477e268",
   "metadata": {},
   "outputs": [],
   "source": [
    "print(\"Nightly table shape: \", nightly_df.shape)\n",
    "print(\"New table shape: \", local_df.shape)\n",
    "\n",
    "print(\"Nightly demand_mwh nulls: \", nightly_df.demand_mwh.isna().sum())\n",
    "print(\"New demand_mwh nulls: \", local_df.demand_mwh.isna().sum())"
   ]
  },
  {
   "cell_type": "markdown",
   "id": "cd1216b7-86d4-44c4-b643-ad79f6b7e4cf",
   "metadata": {},
   "source": [
    "#### Compare total `demand_mwh` distributions"
   ]
  },
  {
   "cell_type": "code",
   "execution_count": null,
   "id": "90e63e45-e829-48cb-a883-5fea61465d79",
   "metadata": {},
   "outputs": [],
   "source": [
    "fig, axs = plt.subplots(1, 2, sharey=True, tight_layout=True)\n",
    "axs[0].hist(nightly_df[\"demand_mwh\"], bins=100)\n",
    "axs[1].hist(local_df[\"demand_mwh\"], bins=100)\n",
    "axs[0].set_title(\"Nightly\")\n",
    "axs[1].set_title(\"New\")\n",
    "\n",
    "plt.show()"
   ]
  },
  {
   "cell_type": "markdown",
   "id": "fbe45da8-ebfc-4b3f-8180-9a798c05a973",
   "metadata": {},
   "source": [
    "Cut off tail of distribution to get a closer look at the bulk of the distribution."
   ]
  },
  {
   "cell_type": "code",
   "execution_count": null,
   "id": "8917cbdb-8e47-42ca-ba25-dd2a116035f3",
   "metadata": {},
   "outputs": [],
   "source": [
    "fig, axs = plt.subplots(1, 2, sharey=True, tight_layout=True)\n",
    "axs[0].hist(nightly_df[nightly_df.demand_mwh < 5000][\"demand_mwh\"], bins=100)\n",
    "axs[1].hist(local_df[local_df.demand_mwh < 5000][\"demand_mwh\"], bins=100)\n",
    "axs[0].set_title(\"Nightly\")\n",
    "axs[1].set_title(\"New\")\n",
    "\n",
    "plt.show()"
   ]
  },
  {
   "cell_type": "markdown",
   "id": "5ef12b41-53d2-48cc-afe3-67e82ea137eb",
   "metadata": {},
   "source": [
    "Overall the distributions look quite similar, but there are some obvious weird spikes in the new version."
   ]
  },
  {
   "cell_type": "markdown",
   "id": "34d0eb80-d6b3-455c-be7e-f87fec57f01b",
   "metadata": {},
   "source": [
    "#### Compare total `scaled_demand_mwh` distributions"
   ]
  },
  {
   "cell_type": "code",
   "execution_count": null,
   "id": "25060c51-fc7f-48ba-aa97-b826027d811a",
   "metadata": {},
   "outputs": [],
   "source": [
    "fig, axs = plt.subplots(1, 2, sharey=True, tight_layout=True)\n",
    "axs[0].hist(nightly_df[\"scaled_demand_mwh\"], bins=100)\n",
    "axs[1].hist(local_df[\"scaled_demand_mwh\"], bins=100)\n",
    "axs[0].set_title(\"Nightly\")\n",
    "axs[1].set_title(\"New\")\n",
    "\n",
    "plt.show()"
   ]
  },
  {
   "cell_type": "markdown",
   "id": "0ef7d23a-347f-4f4e-b429-e2966c41bab7",
   "metadata": {},
   "source": [
    "#### Compare demand curves by state"
   ]
  },
  {
   "cell_type": "code",
   "execution_count": null,
   "id": "acd5e162-a0fe-4ea3-b780-0736ed0fed2c",
   "metadata": {},
   "outputs": [],
   "source": [
    "state_id_fips = \"01\"\n",
    "year = 2006\n",
    "month = 3\n",
    "\n",
    "nightly_selection = nightly_df[\n",
    "    (nightly_df.state_id_fips == state_id_fips) &\n",
    "    (nightly_df.datetime_utc.dt.year == year) &\n",
    "    (nightly_df.datetime_utc.dt.month == month)\n",
    "]\n",
    "local_selection = local_df[\n",
    "    (local_df.state_id_fips == state_id_fips) &\n",
    "    (local_df.datetime_utc.dt.year == year) &\n",
    "    (local_df.datetime_utc.dt.month == month)\n",
    "]\n",
    "\n",
    "fig, ax = plt.subplots()\n",
    "fig.set_size_inches(15,5)\n",
    "ax.plot(nightly_selection.datetime_utc, nightly_selection.demand_mwh, label=\"nightly\", lw=0.8)\n",
    "ax.plot(local_selection.datetime_utc, local_selection.demand_mwh, label=\"new\", lw=0.8)\n",
    "legend = ax.legend()"
   ]
  },
  {
   "cell_type": "markdown",
   "id": "b91ba629-332b-4a6e-8b13-e6293296ee50",
   "metadata": {},
   "source": [
    "In the vast majority of cases the demand curves line up very closely, however I have found a few cases where there is some weirdness, which I'll demonstrate below."
   ]
  },
  {
   "cell_type": "code",
   "execution_count": null,
   "id": "f78825cf-7be5-45a9-a679-3f81b1a996ed",
   "metadata": {},
   "outputs": [],
   "source": [
    "state_id_fips = \"01\"\n",
    "year = 2006\n",
    "month = 4\n",
    "\n",
    "nightly_selection = nightly_df[\n",
    "    (nightly_df.state_id_fips == state_id_fips) &\n",
    "    (nightly_df.datetime_utc.dt.year == year) &\n",
    "    (nightly_df.datetime_utc.dt.month == month)\n",
    "]\n",
    "local_selection = local_df[\n",
    "    (local_df.state_id_fips == state_id_fips) &\n",
    "    (local_df.datetime_utc.dt.year == year) &\n",
    "    (local_df.datetime_utc.dt.month == month)\n",
    "]\n",
    "\n",
    "fig, ax = plt.subplots()\n",
    "fig.set_size_inches(15,5)\n",
    "ax.plot(nightly_selection.datetime_utc, nightly_selection.demand_mwh, label=\"nightly\", lw=0.8)\n",
    "ax.plot(local_selection.datetime_utc, local_selection.demand_mwh, label=\"new\", lw=0.8)\n",
    "legend = ax.legend()"
   ]
  },
  {
   "cell_type": "markdown",
   "id": "10adc995-1008-41b2-aa44-cbead8f270fc",
   "metadata": {},
   "source": [
    "Here we see a really weird spike in the new demand curve before it seemingly gets back on track and follows the old curve again."
   ]
  },
  {
   "cell_type": "markdown",
   "id": "1b9f7d49-8d23-4569-ab18-d4921536873b",
   "metadata": {},
   "source": [
    "### `out_ferc714__summarized_demand`"
   ]
  },
  {
   "cell_type": "code",
   "execution_count": null,
   "id": "afb367cd-cac3-407c-bf0a-a064d581cce6",
   "metadata": {},
   "outputs": [],
   "source": [
    "nightly_df = _get_nightly_df(\"out_ferc714__summarized_demand\")\n",
    "local_df = defs.load_asset_value(\"out_ferc714__summarized_demand\")"
   ]
  },
  {
   "cell_type": "markdown",
   "id": "26e495ad-1b09-4214-b415-730ffe320d56",
   "metadata": {},
   "source": [
    "#### Compare total `demand_annual_mwh` distributions"
   ]
  },
  {
   "cell_type": "code",
   "execution_count": null,
   "id": "c30b801e-16fe-427c-977c-81e5ef9ce64e",
   "metadata": {},
   "outputs": [],
   "source": [
    "fig, axs = plt.subplots(1, 2, sharey=True, tight_layout=True)\n",
    "axs[0].hist(nightly_df[\"demand_annual_mwh\"], bins=100)\n",
    "axs[1].hist(local_df[\"demand_annual_mwh\"], bins=100)\n",
    "axs[0].set_title(\"Nightly\")\n",
    "axs[1].set_title(\"New\")\n",
    "\n",
    "plt.show()"
   ]
  },
  {
   "cell_type": "markdown",
   "id": "74d2f53e-4e89-4da8-ad78-c89c3a157d08",
   "metadata": {},
   "source": [
    "Cut off tail again."
   ]
  },
  {
   "cell_type": "code",
   "execution_count": null,
   "id": "32dee439-a778-4afa-a6af-29c9aab85e19",
   "metadata": {},
   "outputs": [],
   "source": [
    "fig, axs = plt.subplots(1, 2, sharey=True, tight_layout=True)\n",
    "axs[0].hist(nightly_df[nightly_df.demand_annual_mwh < 4e8][\"demand_annual_mwh\"], bins=100)\n",
    "axs[1].hist(local_df[local_df.demand_annual_mwh < 4e8][\"demand_annual_mwh\"], bins=100)\n",
    "axs[0].set_title(\"Nightly\")\n",
    "axs[1].set_title(\"New\")\n",
    "\n",
    "plt.show()"
   ]
  },
  {
   "cell_type": "code",
   "execution_count": null,
   "id": "4dfeeca1-0f40-4351-bacc-9a0b03335ba0",
   "metadata": {},
   "outputs": [],
   "source": []
  }
 ],
 "metadata": {
  "kernelspec": {
   "display_name": "Python 3 (ipykernel)",
   "language": "python",
   "name": "python3"
  },
  "language_info": {
   "codemirror_mode": {
    "name": "ipython",
    "version": 3
   },
   "file_extension": ".py",
   "mimetype": "text/x-python",
   "name": "python",
   "nbconvert_exporter": "python",
   "pygments_lexer": "ipython3",
   "version": "3.12.9"
  }
 },
 "nbformat": 4,
 "nbformat_minor": 5
}
