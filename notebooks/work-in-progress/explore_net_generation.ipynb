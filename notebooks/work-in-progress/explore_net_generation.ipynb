{
 "cells": [
  {
   "cell_type": "code",
   "execution_count": null,
   "metadata": {},
   "outputs": [],
   "source": [
    "%load_ext autoreload\n",
    "%autoreload 2"
   ]
  },
  {
   "cell_type": "code",
   "execution_count": null,
   "metadata": {},
   "outputs": [],
   "source": [
    "import numpy as np\n",
    "import pandas as pd\n",
    "import pudl\n",
    "import sqlalchemy as sa\n",
    "import logging\n",
    "import sys\n",
    "import pathlib\n",
    "from pudl.analysis.allocate_net_gen import *"
   ]
  },
  {
   "cell_type": "code",
   "execution_count": null,
   "metadata": {},
   "outputs": [],
   "source": [
    "import matplotlib.pyplot as plt\n",
    "import matplotlib as mpl\n",
    "%matplotlib inline\n",
    "mpl.style.use('dark_background')\n",
    "plt.rcParams[\"figure.figsize\"] = (15,10)"
   ]
  },
  {
   "cell_type": "code",
   "execution_count": null,
   "metadata": {},
   "outputs": [],
   "source": [
    "logger = logging.getLogger()\n",
    "logger.setLevel(logging.INFO)\n",
    "handler = logging.StreamHandler(stream=sys.stdout)\n",
    "formatter = logging.Formatter('%(message)s')\n",
    "handler.setFormatter(formatter)\n",
    "logger.handlers = [handler]\n",
    "\n",
    "pd.options.display.max_columns = None"
   ]
  },
  {
   "cell_type": "code",
   "execution_count": null,
   "metadata": {},
   "outputs": [],
   "source": [
    "from pudl.workspace.setup import PudlPaths\n",
    "\n",
    "pudl_engine = sa.create_engine(PudlPaths().pudl_db)"
   ]
  },
  {
   "cell_type": "markdown",
   "metadata": {},
   "source": [
    "### Explore Solutions"
   ]
  },
  {
   "cell_type": "code",
   "execution_count": null,
   "metadata": {},
   "outputs": [],
   "source": [
    "pudl_out = pudl.output.pudltabl.PudlTabl(pudl_engine,freq='AS', end_date=\"2019-12-31\")"
   ]
  },
  {
   "cell_type": "code",
   "execution_count": null,
   "metadata": {
    "tags": []
   },
   "outputs": [],
   "source": [
    "%%time\n",
    "gen_allocated = pudl_out.gen_allocated_eia923(update=True)"
   ]
  },
  {
   "cell_type": "code",
   "execution_count": null,
   "metadata": {},
   "outputs": [],
   "source": [
    "plt.plot(pudl_out.gf_eia923()\n",
    "         .groupby(by='report_date',).sum().fuel_consumed_mmbtu,\n",
    "         label='Fuel Table', linewidth=6, color='turquoise'\n",
    "        )\n",
    "plt.plot(pudl_out.gen_allocated_eia923()\n",
    "         .groupby(by='report_date',).sum().fuel_consumed_mmbtu,\n",
    "         label='Reassigned',linewidth=6, color='deeppink'\n",
    "        )\n",
    "\n",
    "plt.legend()\n",
    "plt.ylabel(\"Total Fuel Consumed (mmBTU)\")\n",
    "plt.xlabel(\"year\")\n",
    "plt.title(\"Reassigned fuel consumed v fuel table\", size=14)\n",
    "plt.show()"
   ]
  },
  {
   "cell_type": "code",
   "execution_count": null,
   "metadata": {},
   "outputs": [],
   "source": [
    "plt.plot(pudl_out.gf_eia923()\n",
    "         .groupby(by='report_date',).sum().fuel_consumed_mmbtu,\n",
    "         label='Fuel Table', linewidth=6, color='turquoise'\n",
    "        )\n",
    "plt.plot(pudl_out.gen_allocated_eia923()\n",
    "         .groupby(by='report_date',).sum().fuel_consumed_mmbtu,\n",
    "         label='Reassigned',linewidth=6, color='deeppink'\n",
    "        )\n",
    "\n",
    "plt.legend()\n",
    "plt.ylabel(\"Total Fuel Consumed (mmBTU)\")\n",
    "plt.xlabel(\"year\")\n",
    "plt.title(\"Reassigned fuel consumed v fuel table\", size=14)\n",
    "plt.show()"
   ]
  },
  {
   "cell_type": "code",
   "execution_count": null,
   "metadata": {},
   "outputs": [],
   "source": [
    "plt.plot(pudl_out.gf_eia923()\n",
    "         .groupby(by='report_date',dropna=False).sum().net_generation_mwh,\n",
    "         label='Fuel Table Net Gen', linewidth=6, color='turquoise'\n",
    "        )\n",
    "plt.plot(pudl_out.gen_allocated_eia923()\n",
    "         .groupby(by='report_date',dropna=False).sum().net_generation_mwh,\n",
    "         label='Reassigned Net Gen', linewidth=6, color='deeppink'\n",
    "        )\n",
    "\n",
    "plt.legend()\n",
    "plt.ylabel(\"Total Net Gen (MWh)\")\n",
    "plt.xlabel(\"year\")\n",
    "plt.title(\"Reassigned Net gen v fuel table\", size=14)\n",
    "plt.show()"
   ]
  },
  {
   "cell_type": "code",
   "execution_count": null,
   "metadata": {},
   "outputs": [],
   "source": [
    "plt.plot(pudl_out.gf_eia923()\n",
    "         .groupby(by='report_date',dropna=False).sum().net_generation_mwh,\n",
    "         label='Fuel Table Net Gen', linewidth=6, color='turquoise'\n",
    "        )\n",
    "plt.plot(pudl_out.gen_allocated_eia923()\n",
    "         .groupby(by='report_date',dropna=False).sum().net_generation_mwh,\n",
    "         label='Reassigned Net Gen', linewidth=6, color='deeppink'\n",
    "        )\n",
    "\n",
    "plt.legend()\n",
    "plt.ylabel(\"Total Net Gen (MWh)\")\n",
    "plt.xlabel(\"year\")\n",
    "plt.title(\"Reassigned Net gen v fuel table\", size=14)\n",
    "plt.show()"
   ]
  },
  {
   "cell_type": "markdown",
   "metadata": {},
   "source": [
    "### Explore Problem"
   ]
  },
  {
   "cell_type": "code",
   "execution_count": null,
   "metadata": {},
   "outputs": [],
   "source": [
    "gens = pudl_out.gens_eia860()\n",
    "own = pudl_out.own_eia860()\n",
    "gen = pudl_out.gen_eia923()\n",
    "gf = pudl_out.gf_eia923()"
   ]
  },
  {
   "cell_type": "code",
   "execution_count": null,
   "metadata": {},
   "outputs": [],
   "source": [
    "net_gen_diff_val = gen.net_generation_mwh.sum() / gf.net_generation_mwh.sum()\n",
    "logger.info(f\"{net_gen_diff_val:.02%} net generation missing from gen table\")\n",
    "\n",
    "idx_cols_plant = ['plant_id_eia','report_date']\n",
    "net_gen_diff = (\n",
    "    pd.merge(\n",
    "        gen.groupby(by=idx_cols_plant).agg({'net_generation_mwh':'sum'}),\n",
    "        gf.groupby(by=idx_cols_plant)[['net_generation_mwh']].sum(),\n",
    "        right_index=True,\n",
    "        left_index=True,\n",
    "        suffixes=('_gen','_gf'),\n",
    "        how='outer'\n",
    "    )\n",
    "    .assign(\n",
    "        net_gen_diff_num=lambda x: x.net_generation_mwh_gf.fillna(0) - x.net_generation_mwh_gen.fillna(0),\n",
    "        net_gen_diff_rate=lambda x: x.net_generation_mwh_gen.fillna(0)/ x.net_generation_mwh_gf.fillna(0)\n",
    "    )\n",
    "    .merge(\n",
    "        gens.groupby(by=idx_cols_plant)\n",
    "        [['generator_id','prime_mover_code', 'fuel_type_code_pudl']]\n",
    "        .nunique()\n",
    "        .add_suffix('_count'),\n",
    "        right_index=True,\n",
    "        left_index=True,\n",
    "        how='outer'\n",
    "    )\n",
    "    .reset_index()\n",
    ")\n",
    "\n",
    "diff_mask = (net_gen_diff.net_gen_diff_num.notnull()\n",
    "    & (net_gen_diff.net_gen_diff_num != 0)\n",
    "    & (~np.isclose(abs(net_gen_diff.net_gen_diff_rate), 1))\n",
    "    & (~np.isclose(abs(net_gen_diff.net_gen_diff_rate), 0)))\n",
    "\n",
    "logger.info(len(net_gen_diff[net_gen_diff.net_gen_diff_num < 0]))\n",
    "logger.info(len(net_gen_diff[net_gen_diff.net_gen_diff_num >= 0]))\n",
    "logger.info(len(net_gen_diff[net_gen_diff.net_gen_diff_num.isnull()]))\n",
    "\n",
    "diff_w_many_pms = net_gen_diff[(net_gen_diff.prime_mover_code_count > 1) & diff_mask]\n",
    "diff_w_one_pm = net_gen_diff[(net_gen_diff.prime_mover_code_count == 1) & diff_mask]\n",
    "logger.info(\n",
    "    f\"{len(diff_w_many_pms)/len(net_gen_diff[diff_mask]):.02%} of records w/ gen v gen_fuel diff that have >1 prime mover\")\n",
    "logger.info(\n",
    "    f\"{len(net_gen_diff[net_gen_diff.net_gen_diff_rate > 1.001])/len(net_gen_diff):.02%} of records that have more net gen in net gen table\"\n",
    ")"
   ]
  },
  {
   "cell_type": "code",
   "execution_count": null,
   "metadata": {},
   "outputs": [],
   "source": [
    "plt.plot((net_gen_diff.groupby(by='report_date',dropna=False).sum().net_gen_diff_num\n",
    "          /net_gen_diff.groupby(by='report_date',dropna=False).sum().net_generation_mwh_gf),\n",
    "         label='all generators', linewidth=6, color='turquoise'\n",
    "        )\n",
    "plt.plot((net_gen_diff[(net_gen_diff.net_generation_mwh_gen.notnull())]\n",
    "          .groupby(by='report_date',dropna=False).sum().net_gen_diff_num\n",
    "          /net_gen_diff.groupby(by='report_date',dropna=False).sum().net_generation_mwh_gf\n",
    "         ),\n",
    "         label='only co-reported*', linewidth=6, color='deeppink'\n",
    "        )\n",
    "\n",
    "plt.legend()\n",
    "plt.ylabel(\"Normalized Net Gen Difference\")\n",
    "plt.xlabel(\"*this does not include the plants that don't report to gen at all\")\n",
    "plt.title(\"Net gen from gen v gen fuel table\", size=14)\n",
    "plt.show()"
   ]
  },
  {
   "cell_type": "code",
   "execution_count": null,
   "metadata": {},
   "outputs": [],
   "source": [
    "for year in range(2009,2015):\n",
    "    df = net_gen_diff[diff_mask & (net_gen_diff.report_date.dt.year == year)]\n",
    "    plt.hist(\n",
    "        df.net_gen_diff_rate,\n",
    "        bins=150,\n",
    "        range=(-.25,1.5),\n",
    "        label=year,\n",
    "        weights=abs(df.net_generation_mwh_gf)\n",
    "    )\n",
    "plt.title(\"Pre-2015 ratio of net gen from gen table vs gen fuel table\", size=16)\n",
    "plt.legend()\n",
    "plt.xlabel(\"\"\"ratio\n",
    "note: All records that had nearly identical net generation has been removed\"\"\")\n",
    "plt.show()"
   ]
  },
  {
   "cell_type": "code",
   "execution_count": null,
   "metadata": {},
   "outputs": [],
   "source": [
    "for year in range(2015,2019):\n",
    "    df = net_gen_diff[diff_mask & (net_gen_diff.report_date.dt.year == year)]\n",
    "    plt.hist(\n",
    "        df.net_gen_diff_rate,\n",
    "        bins=150,\n",
    "        range=(-.25,1.5),\n",
    "        label=year,\n",
    "        weights=abs(df.net_generation_mwh_gf)\n",
    "    )\n",
    "plt.title(\"Post-2014 ratio of net gen from gen table vs gen fuel table\", size=16)\n",
    "plt.legend()\n",
    "plt.xlabel(\"\"\"ratio\n",
    "note: All records that had nearly identical net generation has been removed\"\"\")\n",
    "plt.show()"
   ]
  },
  {
   "cell_type": "code",
   "execution_count": null,
   "metadata": {},
   "outputs": [],
   "source": [
    "for year in range(2009,2019):\n",
    "    df = net_gen_diff[diff_mask & (net_gen_diff.report_date.dt.year == year)]\n",
    "    plt.hist(\n",
    "        df.net_gen_diff_rate,\n",
    "        bins=200,\n",
    "        range=(1.001,2),\n",
    "        label=year,\n",
    "        weights=abs(df.net_generation_mwh_gf)\n",
    "    )\n",
    "plt.title(\"Bad Ratios of net gen from gen table vs gen fuel table\", size=16)\n",
    "plt.legend()\n",
    "plt.xlabel(\"\"\"ratio\n",
    "note: All records that had nearly identical net generation has been removed\"\"\")\n",
    "plt.show()"
   ]
  },
  {
   "cell_type": "code",
   "execution_count": null,
   "metadata": {},
   "outputs": [],
   "source": [
    "idx_cols_gen = idx_cols_plant + ['generator_id']\n",
    "gens_to_gen = pd.merge(\n",
    "    gen[idx_cols_gen],\n",
    "    gens[idx_cols_gen + ['prime_mover_code']],\n",
    "    right_on=idx_cols_gen,\n",
    "    left_on=idx_cols_gen,\n",
    "    how='outer',\n",
    "    indicator=True\n",
    ")\n",
    "\n",
    "pms_missing = (gens_to_gen[gens_to_gen._merge == 'right_only']\n",
    "               .groupby(by=idx_cols_plant)[['prime_mover_code']].nunique())\n",
    "pm_perc = len(pms_missing[pms_missing.prime_mover_code == 1])/len(pms_missing)\n",
    "\n",
    "logger.info(\"Portion of plants for which the generators missing \"\n",
    "            f\"from the gen table are all only one prime_move_code: {pm_perc:.02%}\")"
   ]
  },
  {
   "cell_type": "code",
   "execution_count": null,
   "metadata": {},
   "outputs": [],
   "source": [
    "pre= \"> 2014\"\n",
    "net_gen_diff_val_pre2014 = (\n",
    "    gen[gen.report_date.dt.year <= 2014].net_generation_mwh.sum() \n",
    "    / gf[gf.report_date.dt.year <= 2014].net_generation_mwh.sum()\n",
    ")\n",
    "\n",
    "net_gen_diff_val_post2014 = (\n",
    "    gen[gen.report_date.dt.year >2014].net_generation_mwh.sum() \n",
    "    / gf[gf.report_date.dt.year >2014].net_generation_mwh.sum()\n",
    ")\n",
    "logger.info(f\"Missing net generation from gen table pre-2015: {net_gen_diff_val_pre2014:.02%}\")\n",
    "logger.info(f\"Missing net generation from gen table post-2014: {net_gen_diff_val_post2014:.02%}\")"
   ]
  },
  {
   "cell_type": "code",
   "execution_count": null,
   "metadata": {},
   "outputs": [],
   "source": []
  }
 ],
 "metadata": {
  "kernelspec": {
   "display_name": "Python 3",
   "language": "python",
   "name": "python3"
  },
  "language_info": {
   "codemirror_mode": {
    "name": "ipython",
    "version": 3
   },
   "file_extension": ".py",
   "mimetype": "text/x-python",
   "name": "python",
   "nbconvert_exporter": "python",
   "pygments_lexer": "ipython3",
   "version": "3.9.2"
  }
 },
 "nbformat": 4,
 "nbformat_minor": 4
}
