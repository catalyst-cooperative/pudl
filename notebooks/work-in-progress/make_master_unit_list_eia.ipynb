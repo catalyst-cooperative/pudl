{
 "cells": [
  {
   "cell_type": "markdown",
   "metadata": {},
   "source": [
    "## Recreating the Master Unit List"
   ]
  },
  {
   "cell_type": "markdown",
   "metadata": {},
   "source": [
    "#### setup/imports"
   ]
  },
  {
   "cell_type": "code",
   "execution_count": null,
   "metadata": {},
   "outputs": [],
   "source": [
    "%load_ext autoreload\n",
    "%autoreload 2"
   ]
  },
  {
   "cell_type": "code",
   "execution_count": null,
   "metadata": {},
   "outputs": [],
   "source": [
    "import pandas as pd\n",
    "import numpy as np\n",
    "import pudl\n",
    "import pudl.constants as pc\n",
    "import sqlalchemy as sa\n",
    "import logging\n",
    "import sys\n",
    "\n",
    "from copy import deepcopy"
   ]
  },
  {
   "cell_type": "code",
   "execution_count": null,
   "metadata": {},
   "outputs": [],
   "source": [
    "import seaborn as sns\n",
    "\n",
    "import matplotlib.pyplot as plt\n",
    "import matplotlib as mpl\n",
    "%matplotlib inline\n",
    "mpl.style.use('dark_background')"
   ]
  },
  {
   "cell_type": "code",
   "execution_count": null,
   "metadata": {},
   "outputs": [],
   "source": [
    "from pudl.analysis.plant_parts_eia import *\n",
    "pd.options.display.max_columns = None"
   ]
  },
  {
   "cell_type": "code",
   "execution_count": null,
   "metadata": {},
   "outputs": [],
   "source": [
    "logger = logging.getLogger()\n",
    "logger.setLevel(logging.INFO)\n",
    "handler = logging.StreamHandler(stream=sys.stdout)\n",
    "formatter = logging.Formatter('%(message)s')\n",
    "handler.setFormatter(formatter)\n",
    "logger.handlers = [handler]"
   ]
  },
  {
   "cell_type": "markdown",
   "metadata": {},
   "source": [
    "## Make the Plant-Parts List"
   ]
  },
  {
   "cell_type": "code",
   "execution_count": null,
   "metadata": {},
   "outputs": [],
   "source": [
    "from pudl.workspace.setup import PudlPaths\n",
    "\n",
    "pudl_engine = sa.create_engine(PudlPaths().pudl_db)"
   ]
  },
  {
   "cell_type": "code",
   "execution_count": null,
   "metadata": {},
   "outputs": [],
   "source": [
    "pudl_out = pudl.output.pudltabl.PudlTabl(\n",
    "    pudl_engine,freq='AS',\n",
    "    roll_fuel_cost=True,\n",
    "    fill_fuel_cost=True,\n",
    "    fill_net_gen=True\n",
    ")"
   ]
  },
  {
   "cell_type": "code",
   "execution_count": null,
   "metadata": {
    "tags": []
   },
   "outputs": [],
   "source": [
    "%%time\n",
    "# there is a warning in here that will scream if don't have utility ids\n",
    "# for all of the generators. i've fixed this on the PUDL side by requiring\n",
    "# utility id's to be present in the annual generators table\n",
    "plant_parts_eia = pudl_out.plant_parts_eia(update=True)"
   ]
  },
  {
   "cell_type": "code",
   "execution_count": null,
   "metadata": {},
   "outputs": [],
   "source": [
    "# this is now integrated into the plant_parts_eia process so this is duplicative\n",
    "test_merge = test_run_aggregations(plant_parts_eia=plant_parts_eia, gens_mega=pudl_out.gens_mega_eia())"
   ]
  },
  {
   "cell_type": "markdown",
   "metadata": {},
   "source": [
    "## Plot the Plant-Parts List"
   ]
  },
  {
   "cell_type": "code",
   "execution_count": null,
   "metadata": {},
   "outputs": [],
   "source": [
    "compiled_plant_parts = {}\n",
    "compiled_plant_parts_true = {}\n",
    "true_parts_df = plant_parts_eia[plant_parts_eia.true_gran]\n",
    "for part in PLANT_PARTS.keys():\n",
    "    part_df = plant_parts_eia[(plant_parts_df['plant_part'] == part)]\n",
    "    compiled_plant_parts_true[part] = true_parts_df[(true_parts_df['plant_part'] == part)]\n",
    "    compiled_plant_parts[part] = part_df"
   ]
  },
  {
   "cell_type": "code",
   "execution_count": null,
   "metadata": {},
   "outputs": [],
   "source": [
    "def plot_plant_vs_agg(compiled_plant_parts, field, xy_limits, scale):\n",
    "    \"\"\"\n",
    "    Make plots to compare FERC & EIA reported values for Coal & Gas plants.\n",
    "    \n",
    "    For each of the fields specified in fields_to_plot, create a pair of plots,\n",
    "    one for 'gas' and one for 'coal' in the same frame, showing the EIA quantity\n",
    "    vs. the FERC quantity in a scatter plot.\n",
    "    \"\"\"\n",
    "    gens = compiled_plant_parts['plant_gen']\n",
    "    negative_fields = gens[gens[field] < 0].plant_id_eia.unique()\n",
    "    for plant_gran, df in compiled_plant_parts.items():\n",
    "        if plant_gran != 'plant':\n",
    "            field_plant = field+'_plant'\n",
    "            field_gran = field+'_'+plant_gran\n",
    "            id_cols = ['plant_id_eia'] + IDX_TO_ADD + IDX_OWN_TO_ADD\n",
    "            try:\n",
    "                merge_df = (\n",
    "                    compiled_plant_parts['plant'][id_cols + [field]]\n",
    "                    .merge(\n",
    "                        df[id_cols+ ['generator_id'] + [field]],\n",
    "                        on=id_cols,\n",
    "                        suffixes=('_plant',f'_{plant_gran}')\n",
    "                        )\n",
    "                    )\n",
    "                # this is for the try\n",
    "                if field in ['capacity_mw', 'net_generation_mwh', 'total_mmbtu']:\n",
    "                    baddies = (\n",
    "                        merge_df[\n",
    "                            (merge_df[field_plant] < merge_df[field_gran])\n",
    "                            & ~(merge_df.plant_id_eia.isin(negative_fields))\n",
    "                        ]\n",
    "                        .set_index(id_cols + ['generator_id'])\n",
    "                        [[field_plant, field_gran]])\n",
    "                    if not baddies.empty:\n",
    "                        raise AssertionError(f\"{plant_gran}/{field} found some baddies {len(baddies)}\\n {baddies}\")\n",
    "                #merge_df = merge_df[merge_df['plant_id_eia'] == 3]\n",
    "                fig, (ax) = plt.subplots(ncols=1, nrows=1, figsize=(5, 5))\n",
    "                ax.scatter(merge_df[field_plant],\n",
    "                           merge_df[field_gran],\n",
    "                           color='aquamarine', alpha=0.1, label=field)\n",
    "                ax.set_ylim(xy_limits[field][0],xy_limits[field][1])\n",
    "                ax.set_xlim(xy_limits[field][0],xy_limits[field][1])\n",
    "                ax.set_xscale(scale)\n",
    "                ax.set_yscale(scale)\n",
    "                ax.set_ylabel(f'{plant_gran} {field}')\n",
    "                ax.set_xlabel(f'Plant {field}')\n",
    "                ax.set_title(f\"Plant vs {plant_gran}: {field}\")\n",
    "            except KeyError:\n",
    "                pass"
   ]
  },
  {
   "cell_type": "code",
   "execution_count": null,
   "metadata": {
    "tags": []
   },
   "outputs": [],
   "source": [
    "fields_to_plot = [\n",
    "    # Simple Quantities\n",
    "    'capacity_mw',\n",
    "    'net_generation_mwh',\n",
    "    'total_mmbtu',\n",
    "    # Derived values\n",
    "    #'capacity_factor',\n",
    "    'heat_rate_mmbtu_mwh',\n",
    "    'fuel_cost_per_mwh',\n",
    "    'fuel_cost_per_mmbtu',\n",
    "    'total_fuel_cost'\n",
    "]\n",
    "\n",
    "xy_limits = {\n",
    "    # Simple Quantities\n",
    "    'capacity_mw': (1e0, 1e4),\n",
    "    'net_generation_mwh': (1e3,1e8),\n",
    "    'total_mmbtu': (1e4,1e9),\n",
    "    # Derived values\n",
    "    'capacity_factor': (0,1.0),\n",
    "    'heat_rate_mmbtu_mwh': (6,16),\n",
    "    'fuel_cost_per_mwh': (10,80),\n",
    "    'fuel_cost_per_mmbtu': (1e0,1e1),\n",
    "    'total_fuel_cost': (1e7,1e9)\n",
    "}\n",
    "\n",
    "# with the allocate_net_gen=True, we got a small number of generators w/\n",
    "# negative net generation within largers plants that have net postivie \n",
    "# net gen. Thus we get some net_generation_mwh records above the diagonal line\n",
    "for field in fields_to_plot:\n",
    "    plot_plant_vs_agg(compiled_plant_parts,field, xy_limits, scale=\"log\")"
   ]
  },
  {
   "cell_type": "code",
   "execution_count": null,
   "metadata": {},
   "outputs": [],
   "source": [
    "def plot_gens_vs(compiled_plant_parts,part_name, data_col, weight_col, x_range):\n",
    "    gen_df = compiled_plant_parts['plant_gen'][compiled_plant_parts['plant_gen'][data_col] != 0]\n",
    "    part_df = compiled_plant_parts[part_name][compiled_plant_parts[part_name][data_col] != 0]\n",
    "    if weight_col:\n",
    "        weights_gen = gen_df[weight_col]\n",
    "        weights_part = part_df[weight_col]\n",
    "    else:\n",
    "        weights_gen = None\n",
    "        weights_part = None\n",
    "\n",
    "    plt.hist(gen_df[data_col], \n",
    "             weights=weights_gen,\n",
    "             range=x_range,\n",
    "             bins=100,\n",
    "             color=\"purple\", #alpha=test_alpha,\n",
    "             label=\"Generators\")\n",
    "\n",
    "    plt.hist(part_df[data_col], \n",
    "             weights=weights_part,\n",
    "             range=x_range,\n",
    "             bins=100,\n",
    "             color=\"aquamarine\",\n",
    "             label=f'{part_name}')\n",
    "\n",
    "    plt.title(f'Gens vs. {part_name}: {data_col}')\n",
    "    plt.xlabel(data_col)\n",
    "    plt.ylabel(None)\n",
    "    plt.legend()\n",
    "    plt.show()"
   ]
  },
  {
   "cell_type": "code",
   "execution_count": null,
   "metadata": {},
   "outputs": [],
   "source": [
    "x_ranges = {\n",
    "    'capacity_mw' : (0,400),\n",
    "    'net_generation_mwh': (0, 2500000),\n",
    "    'fuel_cost_per_mmbtu': (0, 5),\n",
    "    'fuel_cost_per_mwh': (0, 100),\n",
    "    'total_fuel_cost': (0,200000000)\n",
    "}"
   ]
  },
  {
   "cell_type": "code",
   "execution_count": null,
   "metadata": {},
   "outputs": [],
   "source": [
    "for part_name in compiled_plant_parts.keys():\n",
    "    data_col =  'net_generation_mwh'\n",
    "    weight_col = 'capacity_mw'\n",
    "    plot_gens_vs(compiled_plant_parts,\n",
    "                 part_name=part_name,\n",
    "                 data_col=data_col, \n",
    "                 weight_col=weight_col,\n",
    "                 x_range=x_ranges[data_col])"
   ]
  },
  {
   "cell_type": "code",
   "execution_count": null,
   "metadata": {},
   "outputs": [],
   "source": [
    "for part_name in compiled_plant_parts.keys():\n",
    "    data_col =  'total_fuel_cost'\n",
    "    weight_col = 'capacity_mw'\n",
    "    plot_gens_vs(compiled_plant_parts,\n",
    "                 part_name=part_name,\n",
    "                 data_col=data_col, \n",
    "                 weight_col=weight_col,\n",
    "                 x_range=x_ranges[data_col])"
   ]
  },
  {
   "cell_type": "code",
   "execution_count": null,
   "metadata": {
    "scrolled": true
   },
   "outputs": [],
   "source": [
    "for part_name in compiled_plant_parts.keys():\n",
    "    data_col =  'fuel_cost_per_mwh'\n",
    "    weight_col = 'capacity_mw'\n",
    "    plot_gens_vs(compiled_plant_parts,\n",
    "                 part_name=part_name,\n",
    "                 data_col=data_col, \n",
    "                 weight_col=weight_col,\n",
    "                 x_range=x_ranges[data_col])"
   ]
  },
  {
   "cell_type": "code",
   "execution_count": null,
   "metadata": {
    "scrolled": true,
    "slideshow": {
     "slide_type": "slide"
    }
   },
   "outputs": [],
   "source": [
    "for part_name in compiled_plant_parts.keys():\n",
    "    data_col =  'fuel_cost_per_mmbtu'\n",
    "    weight_col = 'capacity_mw'\n",
    "    plot_gens_vs(compiled_plant_parts,\n",
    "                 part_name=part_name,\n",
    "                 data_col=data_col, \n",
    "                 weight_col=weight_col,\n",
    "                 x_range=x_ranges[data_col])"
   ]
  },
  {
   "cell_type": "markdown",
   "metadata": {},
   "source": [
    "## Playing with the compiled outputs "
   ]
  },
  {
   "cell_type": "code",
   "execution_count": null,
   "metadata": {},
   "outputs": [],
   "source": [
    "null_zeros = {0:np.NaN}\n",
    "count_df = pd.DataFrame(index=list(compiled_plant_parts['plant'].columns))\n",
    "for k,cpp_df in compiled_plant_parts.items():\n",
    "    cpp_df = cpp_df.replace({\n",
    "        'net_generation_mwh':null_zeros,\n",
    "        'capacity_factor' : null_zeros,\n",
    "        'fuel_cost_per_mmbtu': null_zeros,\n",
    "        'fuel_cost_per_mwh': null_zeros,\n",
    "        'capacity_mw': null_zeros,\n",
    "                        })\n",
    "    count_df = count_df.merge(\n",
    "        pd.DataFrame(cpp_df#[cpp_df['report_date'].dt.year == 2018]\n",
    "                     .count(), columns=[k]),\n",
    "        right_index=True, left_index=True)\n",
    "count_df = count_df.merge(pd.DataFrame(count_df.sum(axis=1),columns=['total']),\n",
    "                          right_index=True, left_index=True)\n",
    "count_df"
   ]
  },
  {
   "cell_type": "code",
   "execution_count": null,
   "metadata": {},
   "outputs": [],
   "source": []
  }
 ],
 "metadata": {
  "kernelspec": {
   "display_name": "Python 3 (ipykernel)",
   "language": "python",
   "name": "python3"
  },
  "language_info": {
   "codemirror_mode": {
    "name": "ipython",
    "version": 3
   },
   "file_extension": ".py",
   "mimetype": "text/x-python",
   "name": "python",
   "nbconvert_exporter": "python",
   "pygments_lexer": "ipython3",
   "version": "3.9.6"
  }
 },
 "nbformat": 4,
 "nbformat_minor": 4
}
