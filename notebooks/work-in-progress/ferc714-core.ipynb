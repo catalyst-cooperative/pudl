{
 "cells": [
  {
   "cell_type": "markdown",
   "metadata": {},
   "source": [
    "# Setup"
   ]
  },
  {
   "cell_type": "code",
   "execution_count": 4,
   "metadata": {},
   "outputs": [],
   "source": [
    "from pathlib import Path\n",
    "\n",
    "import pandas as pd\n",
    "import pyarrow.parquet as pq\n"
   ]
  },
  {
   "cell_type": "markdown",
   "metadata": {},
   "source": [
    "# Load data\n",
    "\n"
   ]
  },
  {
   "cell_type": "code",
   "execution_count": 5,
   "metadata": {},
   "outputs": [],
   "source": [
    "# Put in the name of the file that you want to load\n",
    "ferc714_yearly = \"core_ferc714__yearly_planning_area_demand_forecast\""
   ]
  },
  {
   "cell_type": "code",
   "execution_count": 6,
   "metadata": {},
   "outputs": [],
   "source": [
    "def path_finder(target_asset_name):\n",
    "    \"\"\"Returns the path to the target_asset_name and incorporates your local PUDL_OUTPUT value.\"\"\"\n",
    "    # Find the PUDL_OUTPUT dir path\n",
    "    bashrc_path = Path.home() / \".bashrc\"\n",
    "    pudl_output_filepath = None\n",
    "\n",
    "    with Path.open(bashrc_path, \"r\") as file:\n",
    "        for line in file:\n",
    "            if line.startswith(\"export PUDL_OUTPUT=\"):\n",
    "                pudl_output_filepath = line.split(\"=\")[1].strip().strip('\"')\n",
    "                break\n",
    "\n",
    "    if not pudl_output_filepath:\n",
    "        print(\"PUDL_OUTPUT not found in .bashrc\")\n",
    "        return \"\"\n",
    "\n",
    "    # Using the PUDL_OUTPUT dir path, find the target file\n",
    "    target_asset_filepath = \"\"\n",
    "\n",
    "    pudl_output_path = Path(pudl_output_filepath)\n",
    "\n",
    "    for path in pudl_output_path.rglob(\"*\"):\n",
    "        if path.is_file() and path.stem == target_asset_name:\n",
    "            target_asset_filepath = str(path)\n",
    "            break\n",
    "\n",
    "    print(f\"Target asset filepath: {target_asset_filepath}\")\n",
    "    return target_asset_filepath\n"
   ]
  },
  {
   "cell_type": "code",
   "execution_count": 7,
   "metadata": {},
   "outputs": [
    {
     "name": "stdout",
     "output_type": "stream",
     "text": [
      "Target asset filepath: /Users/sam/Documents/pudl-data/pudl_output/parquet/core_ferc714__yearly_planning_area_demand_forecast.parquet\n"
     ]
    },
    {
     "data": {
      "text/html": [
       "<div>\n",
       "<style scoped>\n",
       "    .dataframe tbody tr th:only-of-type {\n",
       "        vertical-align: middle;\n",
       "    }\n",
       "\n",
       "    .dataframe tbody tr th {\n",
       "        vertical-align: top;\n",
       "    }\n",
       "\n",
       "    .dataframe thead th {\n",
       "        text-align: right;\n",
       "    }\n",
       "</style>\n",
       "<table border=\"1\" class=\"dataframe\">\n",
       "  <thead>\n",
       "    <tr style=\"text-align: right;\">\n",
       "      <th></th>\n",
       "      <th>respondent_id_ferc714</th>\n",
       "      <th>report_year</th>\n",
       "      <th>forecast_year</th>\n",
       "      <th>summer_peak_demand_mw</th>\n",
       "      <th>winter_peak_demand_mw</th>\n",
       "      <th>net_demand_mwh</th>\n",
       "    </tr>\n",
       "  </thead>\n",
       "  <tbody>\n",
       "    <tr>\n",
       "      <th>0</th>\n",
       "      <td>2</td>\n",
       "      <td>2006</td>\n",
       "      <td>2007</td>\n",
       "      <td>1108.0</td>\n",
       "      <td>0.0</td>\n",
       "      <td>0.0</td>\n",
       "    </tr>\n",
       "    <tr>\n",
       "      <th>1</th>\n",
       "      <td>2</td>\n",
       "      <td>2006</td>\n",
       "      <td>2008</td>\n",
       "      <td>1141.0</td>\n",
       "      <td>0.0</td>\n",
       "      <td>0.0</td>\n",
       "    </tr>\n",
       "    <tr>\n",
       "      <th>2</th>\n",
       "      <td>2</td>\n",
       "      <td>2006</td>\n",
       "      <td>2009</td>\n",
       "      <td>1173.0</td>\n",
       "      <td>0.0</td>\n",
       "      <td>0.0</td>\n",
       "    </tr>\n",
       "    <tr>\n",
       "      <th>3</th>\n",
       "      <td>2</td>\n",
       "      <td>2006</td>\n",
       "      <td>2010</td>\n",
       "      <td>1261.0</td>\n",
       "      <td>0.0</td>\n",
       "      <td>0.0</td>\n",
       "    </tr>\n",
       "    <tr>\n",
       "      <th>4</th>\n",
       "      <td>2</td>\n",
       "      <td>2006</td>\n",
       "      <td>2011</td>\n",
       "      <td>1292.0</td>\n",
       "      <td>0.0</td>\n",
       "      <td>0.0</td>\n",
       "    </tr>\n",
       "  </tbody>\n",
       "</table>\n",
       "</div>"
      ],
      "text/plain": [
       "   respondent_id_ferc714  report_year  forecast_year  summer_peak_demand_mw  \\\n",
       "0                      2         2006           2007                 1108.0   \n",
       "1                      2         2006           2008                 1141.0   \n",
       "2                      2         2006           2009                 1173.0   \n",
       "3                      2         2006           2010                 1261.0   \n",
       "4                      2         2006           2011                 1292.0   \n",
       "\n",
       "   winter_peak_demand_mw  net_demand_mwh  \n",
       "0                    0.0             0.0  \n",
       "1                    0.0             0.0  \n",
       "2                    0.0             0.0  \n",
       "3                    0.0             0.0  \n",
       "4                    0.0             0.0  "
      ]
     },
     "execution_count": 7,
     "metadata": {},
     "output_type": "execute_result"
    }
   ],
   "source": [
    "ferc714_yearly_path = path_finder(ferc714_yearly)\n",
    "ferc714_yearly_table = pq.read_table(ferc714_yearly_path)\n",
    "ferc714_yearly_df = ferc714_yearly_table.to_pandas()\n",
    "ferc714_yearly_df.head()"
   ]
  },
  {
   "cell_type": "markdown",
   "metadata": {},
   "source": [
    "# Initial checks"
   ]
  },
  {
   "cell_type": "markdown",
   "metadata": {},
   "source": [
    "## Is the data complete?"
   ]
  },
  {
   "cell_type": "code",
   "execution_count": 8,
   "metadata": {},
   "outputs": [
    {
     "name": "stdout",
     "output_type": "stream",
     "text": [
      "For this FERC 714 form, respondents were expected to provide 10 years' worth of forecasted demand.\n",
      "Here we can see that not all respondents provided 10 years' worth each report year:\n"
     ]
    },
    {
     "data": {
      "text/html": [
       "<div>\n",
       "<style scoped>\n",
       "    .dataframe tbody tr th:only-of-type {\n",
       "        vertical-align: middle;\n",
       "    }\n",
       "\n",
       "    .dataframe tbody tr th {\n",
       "        vertical-align: top;\n",
       "    }\n",
       "\n",
       "    .dataframe thead th {\n",
       "        text-align: right;\n",
       "    }\n",
       "</style>\n",
       "<table border=\"1\" class=\"dataframe\">\n",
       "  <thead>\n",
       "    <tr style=\"text-align: right;\">\n",
       "      <th></th>\n",
       "      <th>respondent_id_ferc714</th>\n",
       "      <th>report_year</th>\n",
       "      <th>forecast_year_count</th>\n",
       "    </tr>\n",
       "  </thead>\n",
       "  <tbody>\n",
       "    <tr>\n",
       "      <th>174</th>\n",
       "      <td>125</td>\n",
       "      <td>2006</td>\n",
       "      <td>9</td>\n",
       "    </tr>\n",
       "    <tr>\n",
       "      <th>1088</th>\n",
       "      <td>235</td>\n",
       "      <td>2009</td>\n",
       "      <td>9</td>\n",
       "    </tr>\n",
       "    <tr>\n",
       "      <th>1770</th>\n",
       "      <td>321</td>\n",
       "      <td>2010</td>\n",
       "      <td>9</td>\n",
       "    </tr>\n",
       "    <tr>\n",
       "      <th>849</th>\n",
       "      <td>211</td>\n",
       "      <td>2013</td>\n",
       "      <td>9</td>\n",
       "    </tr>\n",
       "    <tr>\n",
       "      <th>939</th>\n",
       "      <td>219</td>\n",
       "      <td>2013</td>\n",
       "      <td>3</td>\n",
       "    </tr>\n",
       "    <tr>\n",
       "      <th>787</th>\n",
       "      <td>201</td>\n",
       "      <td>2018</td>\n",
       "      <td>1</td>\n",
       "    </tr>\n",
       "  </tbody>\n",
       "</table>\n",
       "</div>"
      ],
      "text/plain": [
       "      respondent_id_ferc714  report_year  forecast_year_count\n",
       "174                     125         2006                    9\n",
       "1088                    235         2009                    9\n",
       "1770                    321         2010                    9\n",
       "849                     211         2013                    9\n",
       "939                     219         2013                    3\n",
       "787                     201         2018                    1"
      ]
     },
     "execution_count": 8,
     "metadata": {},
     "output_type": "execute_result"
    }
   ],
   "source": [
    "counts = ferc714_yearly_df.groupby([\"respondent_id_ferc714\", \"report_year\"]).size().reset_index(name=\"forecast_year_count\").sort_values(by=\"report_year\")\n",
    "print(\"For this FERC 714 form, respondents were expected to provide 10 years' worth of forecasted demand.\")\n",
    "print(\"Here we can see that not all respondents provided 10 years' worth each report year:\")\n",
    "counts[counts[\"forecast_year_count\"] != 10]"
   ]
  },
  {
   "cell_type": "markdown",
   "metadata": {},
   "source": [
    "## Do we see any obvious anomalies?"
   ]
  },
  {
   "cell_type": "code",
   "execution_count": 9,
   "metadata": {},
   "outputs": [
    {
     "name": "stderr",
     "output_type": "stream",
     "text": [
      "/var/folders/0k/_f6292f54rd6y6x_3m47kq1h0000gp/T/ipykernel_71564/961098268.py:45: FutureWarning: The behavior of DataFrame concatenation with empty or all-NA entries is deprecated. In a future version, this will no longer exclude empty or all-NA columns when determining the result dtypes. To retain the old behavior, exclude the relevant entries before the concat operation.\n",
      "  anomalies = pd.concat([anomalies, pd.DataFrame({\n"
     ]
    }
   ],
   "source": [
    "# Define threshold for anomalies (e.g., more than 100% change)\n",
    "threshold = 100.0\n",
    "\n",
    "# Apply the logic without using a function\n",
    "grouped = ferc714_yearly_df.groupby([\"respondent_id_ferc714\", \"report_year\"])\n",
    "\n",
    "# Initialize an empty DataFrame to collect anomalies\n",
    "anomalies = pd.DataFrame(columns=[\n",
    "    \"respondent_id_ferc714\", \"report_year\", \"forecast_year\",\n",
    "    \"metric_type\", \"percentage_change\", \"value_in_prior_year\", \"value_in_this_forecast_year\"\n",
    "])\n",
    "\n",
    "for key, group in grouped:\n",
    "    # Sort by forecast_year\n",
    "    group = group.sort_values(by=\"forecast_year\")\n",
    "\n",
    "    # Calculate percentage change\n",
    "    group[\"summer_peak_demand_pct_change\"] = group[\"summer_peak_demand_mw\"].pct_change() * 100\n",
    "    group[\"winter_peak_demand_pct_change\"] = group[\"winter_peak_demand_mw\"].pct_change() * 100\n",
    "    group[\"net_demand_pct_change\"] = group[\"net_demand_mwh\"].pct_change() * 100\n",
    "\n",
    "    # Check for anomalies and append to the result DataFrame\n",
    "    for index, row in group.iterrows():\n",
    "        if abs(row[\"summer_peak_demand_pct_change\"]) > threshold:\n",
    "            anomalies = pd.concat([anomalies, pd.DataFrame({\n",
    "                \"respondent_id_ferc714\": [row[\"respondent_id_ferc714\"]],\n",
    "                \"report_year\": [row[\"report_year\"]],\n",
    "                \"forecast_year\": [row[\"forecast_year\"]],\n",
    "                \"metric_type\": [\"summer_peak_demand_mw\"],\n",
    "                \"percentage_change\": [row[\"summer_peak_demand_pct_change\"]],\n",
    "                \"value_in_prior_year\": [group.loc[index-1, \"summer_peak_demand_mw\"]] if index > 0 else [None],\n",
    "                \"value_in_this_forecast_year\": [row[\"summer_peak_demand_mw\"]]\n",
    "            })], ignore_index=True)\n",
    "        if abs(row[\"winter_peak_demand_pct_change\"]) > threshold:\n",
    "            anomalies = pd.concat([anomalies, pd.DataFrame({\n",
    "                \"respondent_id_ferc714\": [row[\"respondent_id_ferc714\"]],\n",
    "                \"report_year\": [row[\"report_year\"]],\n",
    "                \"forecast_year\": [row[\"forecast_year\"]],\n",
    "                \"metric_type\": [\"winter_peak_demand_mw\"],\n",
    "                \"percentage_change\": [row[\"winter_peak_demand_pct_change\"]],\n",
    "                \"value_in_prior_year\": [group.loc[index-1, \"winter_peak_demand_mw\"]] if index > 0 else [None],\n",
    "                \"value_in_this_forecast_year\": [row[\"winter_peak_demand_mw\"]]\n",
    "            })], ignore_index=True)\n",
    "        if abs(row[\"net_demand_pct_change\"]) > threshold:\n",
    "            anomalies = pd.concat([anomalies, pd.DataFrame({\n",
    "                \"respondent_id_ferc714\": [row[\"respondent_id_ferc714\"]],\n",
    "                \"report_year\": [row[\"report_year\"]],\n",
    "                \"forecast_year\": [row[\"forecast_year\"]],\n",
    "                \"metric_type\": [\"net_demand_mwh\"],\n",
    "                \"percentage_change\": [row[\"net_demand_pct_change\"]],\n",
    "                \"value_in_prior_year\": [group.loc[index-1, \"net_demand_mwh\"]] if index > 0 else [None],\n",
    "                \"value_in_this_forecast_year\": [row[\"net_demand_mwh\"]]\n",
    "            })], ignore_index=True)\n",
    "\n",
    "# Reset index for the final anomalies DataFrame\n",
    "anomalies = anomalies.reset_index(drop=True)\n",
    "anomalies[\"respondent_id_ferc714\"] = anomalies[\"respondent_id_ferc714\"].astype(int)\n",
    "anomalies[\"report_year\"] = anomalies[\"report_year\"].astype(int)\n",
    "anomalies[\"forecast_year\"] = anomalies[\"forecast_year\"].astype(int)\n"
   ]
  },
  {
   "cell_type": "code",
   "execution_count": null,
   "metadata": {},
   "outputs": [
    {
     "data": {
      "text/html": [
       "<div>\n",
       "<style scoped>\n",
       "    .dataframe tbody tr th:only-of-type {\n",
       "        vertical-align: middle;\n",
       "    }\n",
       "\n",
       "    .dataframe tbody tr th {\n",
       "        vertical-align: top;\n",
       "    }\n",
       "\n",
       "    .dataframe thead th {\n",
       "        text-align: right;\n",
       "    }\n",
       "</style>\n",
       "<table border=\"1\" class=\"dataframe\">\n",
       "  <thead>\n",
       "    <tr style=\"text-align: right;\">\n",
       "      <th></th>\n",
       "      <th>respondent_id_ferc714</th>\n",
       "      <th>report_year</th>\n",
       "      <th>forecast_year</th>\n",
       "      <th>metric_type</th>\n",
       "      <th>percentage_change</th>\n",
       "      <th>value_in_prior_year</th>\n",
       "      <th>value_in_this_forecast_year</th>\n",
       "    </tr>\n",
       "  </thead>\n",
       "  <tbody>\n",
       "    <tr>\n",
       "      <th>0</th>\n",
       "      <td>120</td>\n",
       "      <td>2006</td>\n",
       "      <td>2013</td>\n",
       "      <td>net_demand_mwh</td>\n",
       "      <td>514.395325</td>\n",
       "      <td>1928828.0</td>\n",
       "      <td>11850629.0</td>\n",
       "    </tr>\n",
       "    <tr>\n",
       "      <th>1</th>\n",
       "      <td>125</td>\n",
       "      <td>2017</td>\n",
       "      <td>2024</td>\n",
       "      <td>winter_peak_demand_mw</td>\n",
       "      <td>944.296631</td>\n",
       "      <td>3384.0</td>\n",
       "      <td>35339.0</td>\n",
       "    </tr>\n",
       "    <tr>\n",
       "      <th>2</th>\n",
       "      <td>134</td>\n",
       "      <td>2007</td>\n",
       "      <td>2009</td>\n",
       "      <td>winter_peak_demand_mw</td>\n",
       "      <td>9786.792969</td>\n",
       "      <td>106.0</td>\n",
       "      <td>10480.0</td>\n",
       "    </tr>\n",
       "    <tr>\n",
       "      <th>3</th>\n",
       "      <td>159</td>\n",
       "      <td>2006</td>\n",
       "      <td>2008</td>\n",
       "      <td>winter_peak_demand_mw</td>\n",
       "      <td>inf</td>\n",
       "      <td>0.0</td>\n",
       "      <td>2848.0</td>\n",
       "    </tr>\n",
       "    <tr>\n",
       "      <th>4</th>\n",
       "      <td>159</td>\n",
       "      <td>2006</td>\n",
       "      <td>2008</td>\n",
       "      <td>net_demand_mwh</td>\n",
       "      <td>inf</td>\n",
       "      <td>0.0</td>\n",
       "      <td>13399136.0</td>\n",
       "    </tr>\n",
       "  </tbody>\n",
       "</table>\n",
       "</div>"
      ],
      "text/plain": [
       "   respondent_id_ferc714  report_year  forecast_year            metric_type  \\\n",
       "0                    120         2006           2013         net_demand_mwh   \n",
       "1                    125         2017           2024  winter_peak_demand_mw   \n",
       "2                    134         2007           2009  winter_peak_demand_mw   \n",
       "3                    159         2006           2008  winter_peak_demand_mw   \n",
       "4                    159         2006           2008         net_demand_mwh   \n",
       "\n",
       "   percentage_change  value_in_prior_year  value_in_this_forecast_year  \n",
       "0         514.395325            1928828.0                   11850629.0  \n",
       "1         944.296631               3384.0                      35339.0  \n",
       "2        9786.792969                106.0                      10480.0  \n",
       "3                inf                  0.0                       2848.0  \n",
       "4                inf                  0.0                   13399136.0  "
      ]
     },
     "execution_count": 20,
     "metadata": {},
     "output_type": "execute_result"
    }
   ],
   "source": [
    "anomalies.head()"
   ]
  },
  {
   "cell_type": "code",
   "execution_count": null,
   "metadata": {},
   "outputs": [],
   "source": []
  }
 ],
 "metadata": {
  "kernelspec": {
   "display_name": "pudl-dev",
   "language": "python",
   "name": "python3"
  },
  "language_info": {
   "codemirror_mode": {
    "name": "ipython",
    "version": 3
   },
   "file_extension": ".py",
   "mimetype": "text/x-python",
   "name": "python",
   "nbconvert_exporter": "python",
   "pygments_lexer": "ipython3",
   "version": "3.12.3"
  }
 },
 "nbformat": 4,
 "nbformat_minor": 2
}
