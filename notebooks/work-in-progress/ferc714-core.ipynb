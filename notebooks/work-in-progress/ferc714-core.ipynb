{
 "cells": [
  {
   "cell_type": "markdown",
   "metadata": {},
   "source": [
    "# Setup\n",
    "\n",
    "Import libraries and specify some plotting configuation."
   ]
  },
  {
   "cell_type": "code",
   "execution_count": null,
   "metadata": {},
   "outputs": [],
   "source": [
    "from pathlib import Path\n",
    "\n",
    "import pandas as pd\n",
    "import pyarrow.parquet as pq\n",
    "import matplotlib.pyplot as plt\n",
    "import ipywidgets as widgets\n",
    "from IPython.display import display"
   ]
  },
  {
   "cell_type": "code",
   "execution_count": null,
   "metadata": {},
   "outputs": [],
   "source": [
    "# Print out full values\n",
    "pd.set_option(\"display.float_format\", \"{:.2f}\".format)"
   ]
  },
  {
   "cell_type": "markdown",
   "metadata": {},
   "source": [
    "# Load data\n",
    "\n",
    "Here we're just gonna load the `core_ferc714__yearly_planning_area_demand_forecast` asset.\n",
    "\n",
    "At the bottom of this section you'll see a preview of the resulting dataframe."
   ]
  },
  {
   "cell_type": "code",
   "execution_count": null,
   "metadata": {},
   "outputs": [],
   "source": [
    "# Put in the name of the file that you want to load\n",
    "ferc714_yearly = \"core_ferc714__yearly_planning_area_demand_forecast\""
   ]
  },
  {
   "cell_type": "code",
   "execution_count": null,
   "metadata": {},
   "outputs": [],
   "source": [
    "def path_finder(target_asset_name):\n",
    "    \"\"\"Returns the path to the target_asset_name and incorporates your local PUDL_OUTPUT value.\"\"\"\n",
    "    # Find the PUDL_OUTPUT dir path\n",
    "    bashrc_path = Path.home() / \".bashrc\"\n",
    "    pudl_output_filepath = None\n",
    "\n",
    "    with Path.open(bashrc_path, \"r\") as file:\n",
    "        for line in file:\n",
    "            if line.startswith(\"export PUDL_OUTPUT=\"):\n",
    "                pudl_output_filepath = line.split(\"=\")[1].strip().strip('\"')\n",
    "                break\n",
    "\n",
    "    if not pudl_output_filepath:\n",
    "        print(\"PUDL_OUTPUT not found in .bashrc\")\n",
    "        return \"\"\n",
    "\n",
    "    # Using the PUDL_OUTPUT dir path, find the target file\n",
    "    target_asset_filepath = \"\"\n",
    "\n",
    "    pudl_output_path = Path(pudl_output_filepath)\n",
    "\n",
    "    for path in pudl_output_path.rglob(\"*\"):\n",
    "        if path.is_file() and path.stem == target_asset_name:\n",
    "            target_asset_filepath = str(path)\n",
    "            break\n",
    "\n",
    "    print(f\"Target asset filepath: {target_asset_filepath}\")\n",
    "    return target_asset_filepath\n"
   ]
  },
  {
   "cell_type": "code",
   "execution_count": null,
   "metadata": {},
   "outputs": [],
   "source": [
    "ferc714_yearly_path = path_finder(ferc714_yearly)\n",
    "ferc714_yearly_table = pq.read_table(ferc714_yearly_path)\n",
    "ferc714_yearly_df = ferc714_yearly_table.to_pandas()\n",
    "ferc714_yearly_df.head()"
   ]
  },
  {
   "cell_type": "markdown",
   "metadata": {},
   "source": [
    "# Initial checks"
   ]
  },
  {
   "cell_type": "markdown",
   "metadata": {},
   "source": [
    "## Is the data complete?\n",
    "\n",
    "Did all respondents always file 10 years' worth of data?"
   ]
  },
  {
   "cell_type": "code",
   "execution_count": null,
   "metadata": {},
   "outputs": [],
   "source": [
    "counts = ferc714_yearly_df.groupby([\"respondent_id_ferc714\", \"report_year\"]).size().reset_index(name=\"forecast_year_count\").sort_values(by=\"report_year\")\n",
    "print(\"For this FERC 714 form, respondents were expected to provide 10 years' worth of forecasted demand.\")\n",
    "print(\"Here we can see the respondents who did not provide 10 years' worth for each report year:\")\n",
    "counts[counts[\"forecast_year_count\"] != 10]"
   ]
  },
  {
   "cell_type": "markdown",
   "metadata": {},
   "source": [
    "## Do we see any obvious anomalies?"
   ]
  },
  {
   "cell_type": "markdown",
   "metadata": {},
   "source": [
    "### Big diffs\n",
    "\n",
    "Do we see any years where there's a huge diff from one year to the next in terms of the predicted demand? Spoiler: yes, we do. Scroll down to the dataframe at the end of this section to see which respondents/years had big differences."
   ]
  },
  {
   "cell_type": "code",
   "execution_count": null,
   "metadata": {},
   "outputs": [],
   "source": [
    "# Define threshold for big_diffs (e.g., more than 100% change)\n",
    "threshold = 100.0"
   ]
  },
  {
   "cell_type": "code",
   "execution_count": null,
   "metadata": {},
   "outputs": [],
   "source": [
    "def big_diff_check(threshold):\n",
    "    \"\"\"This method checks for big changes from one year to the next in predicted demand.\"\"\"\n",
    "    # Group the repondents/report years\n",
    "    grouped = ferc714_yearly_df.groupby([\"respondent_id_ferc714\", \"report_year\"])\n",
    "\n",
    "    # Initialize an empty DataFrame to collect big_diffs\n",
    "    big_diffs = pd.DataFrame(columns=[\n",
    "        \"respondent_id_ferc714\", \"report_year\", \"forecast_year\",\n",
    "        \"metric_type\", \"percentage_change\", \"value_in_prior_year\", \"value_in_this_forecast_year\"\n",
    "    ])\n",
    "\n",
    "    for key, group in grouped:\n",
    "        # Sort by forecast_year\n",
    "        group = group.sort_values(by=\"forecast_year\")\n",
    "\n",
    "        # Calculate percentage change\n",
    "        group[\"summer_peak_demand_pct_change\"] = (group[\"summer_peak_demand_mw\"].pct_change() * 100).round(2)\n",
    "        group[\"winter_peak_demand_pct_change\"] = (group[\"winter_peak_demand_mw\"].pct_change() * 100).round(2)\n",
    "        group[\"net_demand_pct_change\"] = (group[\"net_demand_mwh\"].pct_change() * 100).round(2)\n",
    "\n",
    "        # Check for large changes and append to the result DataFrame\n",
    "        for index, row in group.iterrows():\n",
    "            if abs(row[\"summer_peak_demand_pct_change\"]) > threshold:\n",
    "                big_diffs = pd.concat([big_diffs, pd.DataFrame({\n",
    "                    \"respondent_id_ferc714\": [row[\"respondent_id_ferc714\"]],\n",
    "                    \"report_year\": [row[\"report_year\"]],\n",
    "                    \"forecast_year\": [row[\"forecast_year\"]],\n",
    "                    \"metric_type\": [\"summer_peak_demand_mw\"],\n",
    "                    \"percentage_change\": [row[\"summer_peak_demand_pct_change\"]],\n",
    "                    \"value_in_prior_year\": [group.loc[index-1, \"summer_peak_demand_mw\"]] if index > 0 else [None],\n",
    "                    \"value_in_this_forecast_year\": [row[\"summer_peak_demand_mw\"]]\n",
    "                })], ignore_index=True)\n",
    "            if abs(row[\"winter_peak_demand_pct_change\"]) > threshold:\n",
    "                big_diffs = pd.concat([big_diffs, pd.DataFrame({\n",
    "                    \"respondent_id_ferc714\": [row[\"respondent_id_ferc714\"]],\n",
    "                    \"report_year\": [row[\"report_year\"]],\n",
    "                    \"forecast_year\": [row[\"forecast_year\"]],\n",
    "                    \"metric_type\": [\"winter_peak_demand_mw\"],\n",
    "                    \"percentage_change\": [row[\"winter_peak_demand_pct_change\"]],\n",
    "                    \"value_in_prior_year\": [group.loc[index-1, \"winter_peak_demand_mw\"]] if index > 0 else [None],\n",
    "                    \"value_in_this_forecast_year\": [row[\"winter_peak_demand_mw\"]]\n",
    "                })], ignore_index=True)\n",
    "            if abs(row[\"net_demand_pct_change\"]) > threshold:\n",
    "                big_diffs = pd.concat([big_diffs, pd.DataFrame({\n",
    "                    \"respondent_id_ferc714\": [row[\"respondent_id_ferc714\"]],\n",
    "                    \"report_year\": [row[\"report_year\"]],\n",
    "                    \"forecast_year\": [row[\"forecast_year\"]],\n",
    "                    \"metric_type\": [\"net_demand_mwh\"],\n",
    "                    \"percentage_change\": [row[\"net_demand_pct_change\"]],\n",
    "                    \"value_in_prior_year\": [group.loc[index-1, \"net_demand_mwh\"]] if index > 0 else [None],\n",
    "                    \"value_in_this_forecast_year\": [row[\"net_demand_mwh\"]]\n",
    "                })], ignore_index=True)\n",
    "\n",
    "    # Reset index for the final big_diffs DataFrame\n",
    "    big_diffs = big_diffs.reset_index(drop=True)\n",
    "    big_diffs[\"respondent_id_ferc714\"] = big_diffs[\"respondent_id_ferc714\"].astype(int)\n",
    "    big_diffs[\"report_year\"] = big_diffs[\"report_year\"].astype(int)\n",
    "    big_diffs[\"forecast_year\"] = big_diffs[\"forecast_year\"].astype(int)\n",
    "\n",
    "    return big_diffs"
   ]
  },
  {
   "cell_type": "code",
   "execution_count": null,
   "metadata": {},
   "outputs": [],
   "source": [
    "big_diffs = big_diff_check(threshold)\n",
    "big_diffs"
   ]
  },
  {
   "cell_type": "markdown",
   "metadata": {},
   "source": [
    "# Trends\n",
    "\n",
    "What did each respondent (planning area) predict each year per metric? Use the plot below to see the metrics for a specific respondent (or group of respondents by selecting multiple IDs in the dropdown).\n",
    "\n",
    "Note that not all respondents filed with FERC each year, so you may have to play around with the plot a bit."
   ]
  },
  {
   "cell_type": "code",
   "execution_count": null,
   "metadata": {},
   "outputs": [],
   "source": [
    "# Create dropdown widgets\n",
    "respondent_ids = ferc714_yearly_df[\"respondent_id_ferc714\"].unique()\n",
    "metrics = [\"summer_peak_demand_mw\", \"winter_peak_demand_mw\", \"net_demand_mwh\"]\n",
    "report_years = ferc714_yearly_df[\"report_year\"].unique()\n",
    "\n",
    "respondent_dropdown = widgets.SelectMultiple(\n",
    "    options=respondent_ids,\n",
    "    value=[respondent_ids[0]],\n",
    "    description=\"Respondent ID:\",\n",
    "    disabled=False,\n",
    ")\n",
    "\n",
    "metric_dropdown = widgets.Dropdown(\n",
    "    options=metrics,\n",
    "    value=metrics[0],\n",
    "    description=\"Metric:\",\n",
    "    disabled=False,\n",
    ")\n",
    "\n",
    "report_year_dropdown = widgets.Dropdown(\n",
    "    options=report_years,\n",
    "    value=report_years[0],\n",
    "    description=\"Report Year:\",\n",
    "    disabled=False,\n",
    ")\n",
    "\n",
    "# Define plot function\n",
    "def plot_data(respondent_id, metric, report_year):\n",
    "    filtered_df = ferc714_yearly_df[ferc714_yearly_df[\"report_year\"] == report_year]\n",
    "    plt.figure(figsize=(10, 6))\n",
    "    for rid in respondent_id:\n",
    "        respondent_data = filtered_df[filtered_df[\"respondent_id_ferc714\"] == rid]\n",
    "        plt.plot(respondent_data[\"forecast_year\"], respondent_data[metric], label=f\"Respondent {rid}\")\n",
    "    plt.xlabel(\"Forecast Year\")\n",
    "    plt.ylabel(metric.replace(\"_\", \" \").title())\n",
    "    plt.title(f\"{metric.replace('_', ' ').title()} for Selected Respondent IDs in Report Year {report_year}\")\n",
    "    plt.legend()\n",
    "    plt.grid(True)\n",
    "    plt.show()\n",
    "\n",
    "# Create interactive plot\n",
    "widgets.interactive(plot_data, respondent_id=respondent_dropdown, metric=metric_dropdown, report_year=report_year_dropdown)\n"
   ]
  }
 ],
 "metadata": {
  "kernelspec": {
   "display_name": "pudl-dev",
   "language": "python",
   "name": "python3"
  },
  "language_info": {
   "codemirror_mode": {
    "name": "ipython",
    "version": 3
   },
   "file_extension": ".py",
   "mimetype": "text/x-python",
   "name": "python",
   "nbconvert_exporter": "python",
   "pygments_lexer": "ipython3",
   "version": "3.12.3"
  }
 },
 "nbformat": 4,
 "nbformat_minor": 2
}
