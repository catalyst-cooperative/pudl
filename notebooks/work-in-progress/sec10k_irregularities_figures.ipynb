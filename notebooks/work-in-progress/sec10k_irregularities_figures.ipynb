{
 "cells": [
  {
   "cell_type": "code",
   "execution_count": null,
   "id": "40d1e608-0497-4c2e-82eb-4987acd17a65",
   "metadata": {},
   "outputs": [],
   "source": [
    "%load_ext autoreload\n",
    "%autoreload 3"
   ]
  },
  {
   "cell_type": "code",
   "execution_count": null,
   "id": "78e4118c-4fba-4471-ac96-b14f2e57dc0d",
   "metadata": {
    "jupyter": {
     "outputs_hidden": true
    }
   },
   "outputs": [],
   "source": [
    "%pip install matplotx"
   ]
  },
  {
   "cell_type": "code",
   "execution_count": null,
   "id": "9956e3a5-5fdc-491f-a22a-88c52676888e",
   "metadata": {
    "jupyter": {
     "outputs_hidden": true
    }
   },
   "outputs": [],
   "source": [
    "%pip install polars"
   ]
  },
  {
   "cell_type": "code",
   "execution_count": null,
   "id": "2e52cfae-28d3-4256-aa80-90c865172b73",
   "metadata": {},
   "outputs": [],
   "source": [
    "import matplotlib\n",
    "import matplotlib.pyplot as plt\n",
    "import matplotx\n",
    "import polars as pl\n",
    "from pathlib import Path\n",
    "import os"
   ]
  },
  {
   "cell_type": "code",
   "execution_count": null,
   "id": "255d51b0-9eda-4ede-a612-90a32e6b33eb",
   "metadata": {},
   "outputs": [],
   "source": [
    "%matplotlib inline"
   ]
  },
  {
   "cell_type": "code",
   "execution_count": null,
   "id": "c2b23dbe-ed59-49cc-baa6-2f802c463dab",
   "metadata": {},
   "outputs": [],
   "source": [
    "matplotlib.rcParams[\"figure.figsize\"] = (10, 6)\n",
    "matplotlib.rcParams[\"figure.dpi\"] = 150\n",
    "matplotlib.style.use(matplotx.styles.onedark)\n",
    "\n",
    "pl.Config.set_tbl_rows(500)\n",
    "pl.Config.set_tbl_cols(100)\n",
    "pl.Config.set_fmt_str_lengths(100)"
   ]
  },
  {
   "cell_type": "code",
   "execution_count": null,
   "id": "6ac8268d-e1d9-4e54-8bde-fd4128758d59",
   "metadata": {},
   "outputs": [],
   "source": [
    "def get_polars(table: str) -> pl.DataFrame:\n",
    "    return pl.read_parquet(\n",
    "        f\"https://s3.us-west-2.amazonaws.com/pudl.catalyst.coop/v2025.9.1/{table}.parquet\"\n",
    "    )"
   ]
  },
  {
   "cell_type": "code",
   "execution_count": null,
   "id": "59079df7-34a0-4efd-b45a-806d99e585d7",
   "metadata": {},
   "outputs": [],
   "source": [
    "companies = get_polars(\"out_sec10k__quarterly_company_information\")\n",
    "filings = get_polars(\"out_sec10k__quarterly_filings\")\n",
    "parsubs = get_polars(\"out_sec10k__parents_and_subsidiaries\")\n",
    "name_changes = get_polars(\"out_sec10k__changelog_company_name\")\n",
    "ex21 = get_polars(\"core_sec10k__quarterly_exhibit_21_company_ownership\")\n",
    "eia_utilities = get_polars(\"core_eia__entity_utilities\")"
   ]
  },
  {
   "cell_type": "code",
   "execution_count": null,
   "id": "5ae8c15b-1e00-40b5-a390-8aa599f51c53",
   "metadata": {},
   "outputs": [],
   "source": [
    "sic_lookup = (\n",
    "    (\n",
    "        parsubs\n",
    "        .select([\"parent_company_industry_id_sic\",\"parent_company_industry_name_sic\"])\n",
    "        .sort(\"parent_company_industry_id_sic\")\n",
    "        .unique()\n",
    "        .rename({\"parent_company_industry_id_sic\":\"industry_id_sic\", \"parent_company_industry_name_sic\":\"p_industry_name_sic\"})\n",
    "    ).join(\n",
    "        (\n",
    "            parsubs\n",
    "            .select([\"subsidiary_company_industry_id_sic\",\"subsidiary_company_industry_name_sic\"])\n",
    "            .sort(\"subsidiary_company_industry_id_sic\")\n",
    "            .unique()\n",
    "            .rename({\"subsidiary_company_industry_id_sic\":\"industry_id_sic\", \"subsidiary_company_industry_name_sic\":\"s_industry_name_sic\"})\n",
    "        ),\n",
    "        on=\"industry_id_sic\",\n",
    "        how=\"full\",\n",
    "        coalesce=True,\n",
    "    ).sort(\"industry_id_sic\")\n",
    "    .filter(pl.sum_horizontal(pl.all().is_null())<2)\n",
    "    .with_columns(\n",
    "        industry_name_sic=pl.col(\"s_industry_name_sic\").fill_null(pl.col(\"p_industry_name_sic\"))\n",
    "    ).drop([\"p_industry_name_sic\",\"s_industry_name_sic\"])\n",
    "    .unique()\n",
    "    .sort(\"industry_id_sic\")\n",
    "    #\n",
    "    # .filter(pl.col(\"p_industry_name_sic\").is_not_null() &\n",
    "    #         pl.col(\"s_industry_name_sic\").is_not_null() &\n",
    "    #         (pl.col(\"p_industry_name_sic\") != pl.col(\"s_industry_name_sic\")))\n",
    ")"
   ]
  },
  {
   "cell_type": "code",
   "execution_count": null,
   "id": "2ba67564-068e-431a-a48b-5395566166b7",
   "metadata": {
    "jupyter": {
     "outputs_hidden": true
    }
   },
   "outputs": [],
   "source": [
    "(\n",
    "    companies\n",
    "    .select([\"industry_id_sic\",\"industry_name_sic\"])\n",
    "    .sort(\"industry_id_sic\")\n",
    "    .unique()\n",
    ")"
   ]
  },
  {
   "cell_type": "markdown",
   "id": "0101e673-b309-4d52-8446-a1ddeedef765",
   "metadata": {},
   "source": [
    "# Matches between EIA utility ids and SEC 10-K energy companies are sparse"
   ]
  },
  {
   "cell_type": "markdown",
   "id": "7fa5b5fd-7224-4584-8a25-5f8d304add2a",
   "metadata": {},
   "source": [
    "## EIA utilities linked to an SEC filer"
   ]
  },
  {
   "cell_type": "code",
   "execution_count": null,
   "id": "9f459153-2dc9-4533-a700-65839cfaecb2",
   "metadata": {},
   "outputs": [],
   "source": [
    "with_cik = (\n",
    "    \n",
    "    eia_utilities\n",
    "        .join(\n",
    "            companies\n",
    "                .filter(pl.col(\"utility_id_eia\").is_not_null())\n",
    "                .select([\"utility_id_eia\",\"central_index_key\"])\n",
    "                .unique([\"utility_id_eia\",\"central_index_key\"])\n",
    "                .group_by([\"utility_id_eia\"])\n",
    "                .agg(count=pl.len()),\n",
    "            on=\"utility_id_eia\",\n",
    "            how=\"left\"\n",
    "        )\n",
    ")"
   ]
  },
  {
   "cell_type": "code",
   "execution_count": null,
   "id": "05b3f6c0-d8c0-41d8-9efe-210bba720514",
   "metadata": {},
   "outputs": [],
   "source": [
    "with_subs = (\n",
    "    \n",
    "    eia_utilities\n",
    "        .join(\n",
    "            parsubs\n",
    "                .filter(pl.col(\"subsidiary_company_utility_id_eia\").is_not_null())\n",
    "                .select([\"subsidiary_company_utility_id_eia\",\"subsidiary_company_name\"])\n",
    "                .unique([\"subsidiary_company_utility_id_eia\",\"subsidiary_company_name\"])\n",
    "                .group_by([\"subsidiary_company_utility_id_eia\"])\n",
    "                .agg(count=pl.len()),\n",
    "            left_on=\"utility_id_eia\",\n",
    "            right_on=\"subsidiary_company_utility_id_eia\",\n",
    "            how=\"left\"\n",
    "        )\n",
    ")"
   ]
  },
  {
   "cell_type": "code",
   "execution_count": null,
   "id": "5c19dbe9-fd13-412e-9ebc-328692ce3029",
   "metadata": {},
   "outputs": [],
   "source": [
    "eia_stats = (\n",
    "    with_cik\n",
    "        .rename({\"count\":\"count_cik\"})\n",
    "    .join(with_subs.rename({\"count\":\"count_subsidiary\"}),\n",
    "          on=[\"utility_id_eia\",\"utility_name_eia\"],\n",
    "          how=\"left\"\n",
    "         )\n",
    "    .with_columns(\n",
    "        has_cik=pl.col(\"count_cik\").is_not_null(),\n",
    "        has_subs=pl.col(\"count_subsidiary\").is_not_null(),\n",
    "        either=pl.col(\"count_cik\").is_not_null() | pl.col(\"count_subsidiary\").is_not_null(),\n",
    "        all=1\n",
    "    )\n",
    ")"
   ]
  },
  {
   "cell_type": "code",
   "execution_count": null,
   "id": "72fbe2e2-8c7e-40fd-b279-04cc9ed86495",
   "metadata": {
    "jupyter": {
     "outputs_hidden": true
    }
   },
   "outputs": [],
   "source": [
    "eia_stats.filter(pl.col(\"has_cik\") & pl.col(\"has_subs\"))"
   ]
  },
  {
   "cell_type": "code",
   "execution_count": null,
   "id": "458c5b2d-c441-4e06-b43e-30b115799908",
   "metadata": {},
   "outputs": [],
   "source": [
    "eia_stats.filter(pl.col(\"has_subs\") & ~pl.col(\"has_cik\"))[[\"has_subs\"]].sum()"
   ]
  },
  {
   "cell_type": "code",
   "execution_count": null,
   "id": "3e5ecf3d-2f01-4579-b062-7afd45b89432",
   "metadata": {},
   "outputs": [],
   "source": [
    "eia_stats[[\"either\",\"all\",\"has_cik\",\"has_subs\"]].sum()"
   ]
  },
  {
   "cell_type": "code",
   "execution_count": null,
   "id": "731aae15-3b42-45e8-8812-b9f4e43160b7",
   "metadata": {},
   "outputs": [],
   "source": [
    "eia_stats[[\"either\",\"all\",\"has_cik\",\"has_subs\"]].sum()/eia_stats[\"all\"].sum()"
   ]
  },
  {
   "cell_type": "markdown",
   "id": "a305719a-440d-4e43-8bbe-df6fd0330072",
   "metadata": {},
   "source": [
    "## SEC filers linked to an EIA utility"
   ]
  },
  {
   "cell_type": "code",
   "execution_count": null,
   "id": "8195c690-28d5-493b-a2d0-f86debc32e20",
   "metadata": {},
   "outputs": [],
   "source": [
    "links_with_sic = (\n",
    "    companies\n",
    "    .filter(pl.col(\"utility_id_eia\").is_not_null() & pl.col(\"industry_id_sic\").is_not_null())\n",
    "    .select([\"industry_id_sic\"])\n",
    "    .group_by([\"industry_id_sic\"])\n",
    "    .agg(links_total=pl.len())\n",
    "    .with_columns(\n",
    "        fraction_with_sic=pl.col(\"links_total\") / pl.col(\"links_total\").sum()\n",
    "    )\n",
    "    .sort(\"fraction_with_sic\", descending=True)\n",
    ")\n",
    "links_with_sic.head(10)"
   ]
  },
  {
   "cell_type": "code",
   "execution_count": null,
   "id": "26b8f5ca-1886-4546-a627-07d2a02a8cc3",
   "metadata": {},
   "outputs": [],
   "source": [
    "sics_with_link = (\n",
    "    companies\n",
    "    .group_by(\"industry_id_sic\")\n",
    "    .agg(\n",
    "        fraction_with_utility_id=pl.col(\"utility_id_eia\").is_not_null().mean(),\n",
    "        sic_total=pl.len()\n",
    "    )\n",
    "    .sort(\"fraction_with_utility_id\", descending=True)\n",
    ")\n",
    "sics_with_link.head(10)"
   ]
  },
  {
   "cell_type": "code",
   "execution_count": null,
   "id": "97f62c98-70d6-4475-aa83-957344426ac2",
   "metadata": {
    "jupyter": {
     "outputs_hidden": true
    }
   },
   "outputs": [],
   "source": [
    "sic_stats = (\n",
    "    links_with_sic.join(sics_with_link, on=\"industry_id_sic\")\n",
    "    .join(sic_lookup, on=\"industry_id_sic\", how=\"left\")\n",
    ")\n",
    "sic_stats"
   ]
  },
  {
   "cell_type": "markdown",
   "id": "907052dd-b1af-4a33-b756-93f7f2d966fc",
   "metadata": {},
   "source": [
    "### Top 10 SICs by frequency within EIA-matched SEC filers"
   ]
  },
  {
   "cell_type": "code",
   "execution_count": null,
   "id": "7e07cff1-a3a3-47b6-bbfc-0551f1c7e5c1",
   "metadata": {},
   "outputs": [],
   "source": [
    "def make_table(df):\n",
    "    print(\"\"\"\n",
    ".. list-table::\n",
    "   :header-rows: 1\n",
    "   :widths: auto\n",
    "\n",
    "   * - Standard Industrial Code (SIC)\n",
    "     - All filings reporting this SIC\n",
    "     - Matches reporting this SIC\n",
    "     - Percent of all filings using this SIC\n",
    "     - Percent of all matches\"\"\")\n",
    "    for rec in (\n",
    "        df.head(10).with_columns(sic=pl.concat_str([\n",
    "            pl.col(\"industry_id_sic\"),\n",
    "            pl.col(\"industry_name_sic\"),\n",
    "        ], separator=\" \"))\n",
    "        .select(\n",
    "        [\"sic\",\"sic_total\",\"links_total\",\"fraction_with_utility_id\",\"fraction_with_sic\"]\n",
    "    ).to_dicts()):\n",
    "        sic,total,links,fru,frs = rec.values()\n",
    "        print(f\"\"\"   * - {sic}\n",
    "     - {total}\n",
    "     - {links}\n",
    "     - {fru*100:.2g}%\n",
    "     - {frs*100:.2g}%\"\"\")\n",
    "    "
   ]
  },
  {
   "cell_type": "code",
   "execution_count": null,
   "id": "c3b6c97e-c878-4321-abc1-78419d4db86a",
   "metadata": {
    "jupyter": {
     "outputs_hidden": true
    }
   },
   "outputs": [],
   "source": [
    "make_table(sic_stats.sort(\"fraction_with_sic\", descending=True))"
   ]
  },
  {
   "cell_type": "markdown",
   "id": "c3437a2e-a780-405e-843b-64424720b617",
   "metadata": {},
   "source": [
    "### Top 10 SICs by match rate"
   ]
  },
  {
   "cell_type": "code",
   "execution_count": null,
   "id": "6b615bbe-cc12-47dd-8708-eeddbfc61d4e",
   "metadata": {},
   "outputs": [],
   "source": [
    "make_table(sic_stats.sort(\"fraction_with_utility_id\", descending=True))"
   ]
  },
  {
   "cell_type": "code",
   "execution_count": null,
   "id": "449a7c1d-442d-4910-a2ed-93e6077f36fb",
   "metadata": {},
   "outputs": [],
   "source": []
  }
 ],
 "metadata": {
  "kernelspec": {
   "display_name": "Python 3 (ipykernel)",
   "language": "python",
   "name": "python3"
  },
  "language_info": {
   "codemirror_mode": {
    "name": "ipython",
    "version": 3
   },
   "file_extension": ".py",
   "mimetype": "text/x-python",
   "name": "python",
   "nbconvert_exporter": "python",
   "pygments_lexer": "ipython3",
   "version": "3.13.7"
  }
 },
 "nbformat": 4,
 "nbformat_minor": 5
}
