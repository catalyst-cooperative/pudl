{
 "cells": [
  {
   "cell_type": "markdown",
   "id": "9a7e8f70-48b2-41ea-831b-618ba95af3a8",
   "metadata": {},
   "source": [
    "## Compare EIA 930 demand imputation"
   ]
  },
  {
   "cell_type": "code",
   "execution_count": null,
   "id": "8f7a0ec4-5146-40f6-85f9-745eca58ec6f",
   "metadata": {},
   "outputs": [],
   "source": [
    "import zipfile\n",
    "import requests\n",
    "import pandas as pd\n",
    "from io import BytesIO\n",
    "import matplotlib\n",
    "import matplotx\n",
    "from pudl.analysis.timeseries_evaluation import plot_compare_imputation\n",
    "\n",
    "from pudl.etl import defs"
   ]
  },
  {
   "cell_type": "markdown",
   "id": "77f60796-1277-46e0-86d7-306113521ddb",
   "metadata": {},
   "source": [
    "### Visualization settings"
   ]
  },
  {
   "cell_type": "code",
   "execution_count": null,
   "id": "6c50a17d-d28e-4803-8859-54c905e122f0",
   "metadata": {},
   "outputs": [],
   "source": [
    "%matplotlib inline"
   ]
  },
  {
   "cell_type": "code",
   "execution_count": null,
   "id": "67a360e2-c6b3-448d-af47-fc22ded7ebdc",
   "metadata": {},
   "outputs": [],
   "source": [
    "matplotlib.rcParams[\"figure.figsize\"] = (10, 6)\n",
    "matplotlib.rcParams[\"figure.dpi\"] = 150\n",
    "matplotlib.style.use(matplotx.styles.onedark)\n",
    "pd.set_option(\"display.max_columns\", 100)\n",
    "pd.set_option(\"display.max_rows\", 300)\n",
    "pd.set_option(\"display.max_colwidth\", 1000)"
   ]
  },
  {
   "cell_type": "markdown",
   "id": "0d0cf590-97fa-4304-a215-b67a641bd7d1",
   "metadata": {},
   "source": [
    "### Extract Alicia/Tyler's imputation results"
   ]
  },
  {
   "cell_type": "code",
   "execution_count": null,
   "id": "e4f3b63b-4b29-4b15-b1a8-9a931fd7291d",
   "metadata": {},
   "outputs": [],
   "source": [
    "def extract_baseline_imputation() -> pd.DataFrame:\n",
    "    r = requests.get(\"https://zenodo.org/records/14768167/files/truggles/EIA_Cleaned_Hourly_Electricity_Demand_Data-v1.4.zip?download=1\")\n",
    "    f = BytesIO(r.content)\n",
    "    subregions = []\n",
    "    base_path = \"truggles-EIA_Cleaned_Hourly_Electricity_Demand_Data-5c959df/data/\"\n",
    "    archive = zipfile.Path(f, at=base_path)\n",
    "    for release in [\"release_2020_Oct_include_subregions\", \"release_2025_Jan_include_subregions\"]:\n",
    "        for path in (archive / release / \"subregions_and_balancing_authorities\").iterdir():\n",
    "            if path.suffix != \".csv\":\n",
    "                continue\n",
    "            df = pd.read_csv(path.open())\n",
    "\n",
    "            # Get subregion/ba\n",
    "            name = path.stem.split(\"-\")\n",
    "            ba = name[0]\n",
    "            subregion = None if len(name) == 1 else name[1]\n",
    "            df[\"balancing_authority_code_eia\"] = ba\n",
    "            df[\"balancing_authority_subregion_code_eia\"] = subregion\n",
    "\n",
    "            subregions.append(df)\n",
    "    df = pd.concat(subregions).rename(columns={\"cleaned demand (MW)\": \"baseline_demand_mwh\"})\n",
    "    df[\"datetime_utc\"] = pd.to_datetime(df[\"date_time\"])\n",
    "    return df[[\"datetime_utc\", \"baseline_demand_mwh\", \"balancing_authority_code_eia\", \"balancing_authority_subregion_code_eia\"]]"
   ]
  },
  {
   "cell_type": "markdown",
   "id": "e9f173d3-7a1f-4cc8-bab4-a9ecad8195e0",
   "metadata": {},
   "source": [
    "### Merge baseline imputed demand and new version"
   ]
  },
  {
   "cell_type": "code",
   "execution_count": null,
   "id": "a6e0b4aa-cb46-4634-beda-695b87add137",
   "metadata": {},
   "outputs": [],
   "source": [
    "baseline_subregion_demand = extract_baseline_imputation()\n",
    "new_subregion_demand = defs.load_asset_value(\"out_eia930__hourly_subregion_demand\")\n",
    "df = new_subregion_demand.merge(\n",
    "    baseline_subregion_demand,\n",
    "    on=[\"datetime_utc\", \"balancing_authority_code_eia\", \"balancing_authority_subregion_code_eia\"],\n",
    "    how=\"inner\"\n",
    ")"
   ]
  },
  {
   "cell_type": "markdown",
   "id": "9415a01f-fc18-4584-839e-a14642c40dff",
   "metadata": {},
   "source": [
    "### Plot timeseries' for comparison"
   ]
  },
  {
   "cell_type": "code",
   "execution_count": null,
   "id": "38c97415-c865-4fd7-92fb-e5094d35b1a2",
   "metadata": {},
   "outputs": [],
   "source": [
    "reported_col = \"demand_reported_mwh\"\n",
    "\n",
    "plot_compare_imputation(\n",
    "    df,\n",
    "    idx_cols=[\"balancing_authority_code_eia\", \"balancing_authority_subregion_code_eia\"],\n",
    "    idx_vals=(\"SWPP\", \"INDN\"),\n",
    "    start_date=\"2024-12-01\",\n",
    "    end_date=\"2024-12-31\",\n",
    "    timeseries_a=\"baseline_demand_mwh\",\n",
    "    timeseries_b=\"demand_imputed_pudl_mwh\",\n",
    "    reported_col=reported_col,\n",
    ")"
   ]
  },
  {
   "cell_type": "code",
   "execution_count": null,
   "id": "d247a192-d026-4a68-9923-c3233f8d6622",
   "metadata": {},
   "outputs": [],
   "source": [
    "plot_compare_imputation(\n",
    "    df,\n",
    "    idx_cols=[\"balancing_authority_code_eia\", \"balancing_authority_subregion_code_eia\"],\n",
    "    idx_vals=(\"SWPP\", \"INDN\"),\n",
    "    start_date=\"2019-12-01\",\n",
    "    end_date=\"2019-12-31\",\n",
    "    timeseries_a=\"baseline_demand_mwh\",\n",
    "    timeseries_b=\"demand_imputed_pudl_mwh\",\n",
    "    reported_col=reported_col,\n",
    ")"
   ]
  },
  {
   "cell_type": "code",
   "execution_count": null,
   "id": "92bf8f70-f5c6-4b5c-9688-0edb4e8d2a4b",
   "metadata": {},
   "outputs": [],
   "source": [
    "plot_compare_imputation(\n",
    "    df,\n",
    "    idx_cols=[\"balancing_authority_code_eia\", \"balancing_authority_subregion_code_eia\"],\n",
    "    idx_vals=(\"CISO\", \"PGAE\"),\n",
    "    start_date=\"2019-02-01\",\n",
    "    end_date=\"2019-02-20\",\n",
    "    timeseries_a=\"baseline_demand_mwh\",\n",
    "    timeseries_b=\"demand_imputed_pudl_mwh\",\n",
    "    reported_col=reported_col,\n",
    ")"
   ]
  },
  {
   "cell_type": "code",
   "execution_count": null,
   "id": "eeae6de3-4e75-44f0-ae81-4b6b53bd1181",
   "metadata": {},
   "outputs": [],
   "source": [
    "plot_compare_imputation(\n",
    "    df,\n",
    "    idx_cols=[\"balancing_authority_code_eia\", \"balancing_authority_subregion_code_eia\"],\n",
    "    idx_vals=(\"CISO\", \"VEA\"),\n",
    "    start_date=\"2019-12-01\",\n",
    "    end_date=\"2019-12-31\",\n",
    "    timeseries_a=\"baseline_demand_mwh\",\n",
    "    timeseries_b=\"demand_imputed_pudl_mwh\",\n",
    "    reported_col=reported_col,\n",
    ")"
   ]
  },
  {
   "cell_type": "code",
   "execution_count": null,
   "id": "59c557eb-6cfa-4c24-b357-4d679781ce46",
   "metadata": {},
   "outputs": [],
   "source": []
  }
 ],
 "metadata": {
  "kernelspec": {
   "display_name": "Python 3 (ipykernel)",
   "language": "python",
   "name": "python3"
  },
  "language_info": {
   "codemirror_mode": {
    "name": "ipython",
    "version": 3
   },
   "file_extension": ".py",
   "mimetype": "text/x-python",
   "name": "python",
   "nbconvert_exporter": "python",
   "pygments_lexer": "ipython3",
   "version": "3.12.9"
  }
 },
 "nbformat": 4,
 "nbformat_minor": 5
}
