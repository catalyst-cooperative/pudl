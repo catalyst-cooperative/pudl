{
 "cells": [
  {
   "cell_type": "markdown",
   "id": "9a7e8f70-48b2-41ea-831b-618ba95af3a8",
   "metadata": {},
   "source": [
    "## Compare EIA 930 demand imputation"
   ]
  },
  {
   "cell_type": "markdown",
   "id": "0d0cf590-97fa-4304-a215-b67a641bd7d1",
   "metadata": {},
   "source": [
    "### Extract Alicia/Tyler's imputation results"
   ]
  },
  {
   "cell_type": "code",
   "execution_count": null,
   "id": "e4f3b63b-4b29-4b15-b1a8-9a931fd7291d",
   "metadata": {},
   "outputs": [],
   "source": [
    "import zipfile\n",
    "import requests\n",
    "import pandas as pd\n",
    "from io import BytesIO\n",
    "import matplotlib.pyplot as plt\n",
    "from pudl.analysis.timeseries_evaluation import plot_compare_timeseries\n",
    "\n",
    "from pudl.etl import defs\n",
    "\n",
    "def extract_baseline_imputation() -> pd.DataFrame:\n",
    "    r = requests.get(\"https://zenodo.org/records/14768167/files/truggles/EIA_Cleaned_Hourly_Electricity_Demand_Data-v1.4.zip?download=1\")\n",
    "    f = BytesIO(r.content)\n",
    "    subregions = []\n",
    "    base_path = \"truggles-EIA_Cleaned_Hourly_Electricity_Demand_Data-5c959df/data/\"\n",
    "    archive = zipfile.Path(f, at=base_path)\n",
    "    for release in [\"release_2020_Oct_include_subregions\", \"release_2025_Jan_include_subregions\"]:\n",
    "        for path in (archive / release / \"subregions_and_balancing_authorities\").iterdir():\n",
    "            if path.suffix != \".csv\":\n",
    "                continue\n",
    "            df = pd.read_csv(path.open())\n",
    "\n",
    "            # Get subregion/ba\n",
    "            name = path.stem.split(\"-\")\n",
    "            ba = name[0]\n",
    "            subregion = None if len(name) == 1 else name[1]\n",
    "            df[\"balancing_authority_code_eia\"] = ba\n",
    "            df[\"balancing_authority_subregion_code_eia\"] = subregion\n",
    "\n",
    "            subregions.append(df)\n",
    "    df = pd.concat(subregions).rename(columns={\"cleaned demand (MW)\": \"baseline_demand_mwh\"})\n",
    "    df[\"datetime_utc\"] = pd.to_datetime(df[\"date_time\"])\n",
    "    return df[[\"datetime_utc\", \"baseline_demand_mwh\", \"balancing_authority_code_eia\", \"balancing_authority_subregion_code_eia\"]]"
   ]
  },
  {
   "cell_type": "markdown",
   "id": "e9f173d3-7a1f-4cc8-bab4-a9ecad8195e0",
   "metadata": {},
   "source": [
    "### Merge baseline imputed demand and new version"
   ]
  },
  {
   "cell_type": "code",
   "execution_count": null,
   "id": "a6e0b4aa-cb46-4634-beda-695b87add137",
   "metadata": {},
   "outputs": [],
   "source": [
    "baseline_subregion_demand = extract_baseline_imputation()\n",
    "new_subregion_demand = defs.load_asset_value(\"out_eia930__hourly_subregion_demand\")\n",
    "df = new_subregion_demand.merge(baseline_subregion_demand, on=[\"datetime_utc\", \"balancing_authority_code_eia\", \"balancing_authority_subregion_code_eia\"], how=\"inner\")"
   ]
  },
  {
   "cell_type": "markdown",
   "id": "9415a01f-fc18-4584-839e-a14642c40dff",
   "metadata": {},
   "source": [
    "### Plot timeseries' for comparison"
   ]
  },
  {
   "cell_type": "code",
   "execution_count": null,
   "id": "38c97415-c865-4fd7-92fb-e5094d35b1a2",
   "metadata": {},
   "outputs": [],
   "source": [
    "plt.figure(figsize=(12, 6))\n",
    "plot_compare_timeseries(\n",
    "    df,\n",
    "    idx_cols=[\"balancing_authority_code_eia\", \"balancing_authority_subregion_code_eia\"],\n",
    "    idx_vals=(\"PJM\", \"PEP\"),\n",
    "    start_date=\"2022-05-15\",\n",
    "    end_date=\"2022-05-31\",\n",
    "    timeseries_a=\"baseline_demand_mwh\",\n",
    "    timeseries_b=\"demand_imputed_pudl_mwh\",\n",
    ")"
   ]
  },
  {
   "cell_type": "code",
   "execution_count": null,
   "id": "eeae6de3-4e75-44f0-ae81-4b6b53bd1181",
   "metadata": {},
   "outputs": [],
   "source": []
  }
 ],
 "metadata": {
  "kernelspec": {
   "display_name": "Python 3 (ipykernel)",
   "language": "python",
   "name": "python3"
  },
  "language_info": {
   "codemirror_mode": {
    "name": "ipython",
    "version": 3
   },
   "file_extension": ".py",
   "mimetype": "text/x-python",
   "name": "python",
   "nbconvert_exporter": "python",
   "pygments_lexer": "ipython3",
   "version": "3.12.9"
  }
 },
 "nbformat": 4,
 "nbformat_minor": 5
}
