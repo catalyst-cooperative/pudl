{
 "cells": [
  {
   "attachments": {},
   "cell_type": "markdown",
   "metadata": {},
   "source": [
    "## Aggregate CEMS data at the utility-plant level for RMI"
   ]
  },
  {
   "cell_type": "code",
   "execution_count": 3,
   "metadata": {},
   "outputs": [],
   "source": [
    "# Standard libraries\n",
    "import logging\n",
    "import os\n",
    "import pathlib\n",
    "import sys\n",
    "\n",
    "# 3rd party libraries\n",
    "import geopandas as gpd\n",
    "import geoplot as gplt\n",
    "import dask.dataframe as dd\n",
    "from dask.distributed import Client\n",
    "import matplotlib.pyplot as plt\n",
    "import matplotlib as mpl\n",
    "import numpy as np\n",
    "import pandas as pd\n",
    "import seaborn as sns\n",
    "import sqlalchemy as sa\n",
    "import re\n",
    "\n",
    "\n",
    "# Local libraries\n",
    "import pudl"
   ]
  },
  {
   "cell_type": "code",
   "execution_count": 4,
   "metadata": {},
   "outputs": [],
   "source": [
    "from pudl.workspace.setup import PudlPaths\n",
    "\n",
    "\n",
    "ferc1_engine = sa.create_engine(PudlPaths().sqlite_db_uri(\"ferc1\"))\n",
    "\n",
    "pudl_engine = sa.create_engine(PudlPaths().pudl_db())\n",
    "#display(pudl_engine)\n",
    "\n",
    "#pudl_engine.table_names()\n",
    "pudl_out = pudl.output.pudltabl.PudlTabl(pudl_engine)"
   ]
  },
  {
   "attachments": {},
   "cell_type": "markdown",
   "metadata": {},
   "source": [
    "##### Identify the utilities you'd like to get information on"
   ]
  },
  {
   "cell_type": "code",
   "execution_count": 39,
   "metadata": {},
   "outputs": [],
   "source": [
    "fpl_id = 6452\n",
    "duke_id = 5416\n",
    "\n",
    "util_id = duke_id"
   ]
  },
  {
   "attachments": {},
   "cell_type": "markdown",
   "metadata": {},
   "source": [
    "##### Read the Master Unit List (MUL) for utility fraction owned data"
   ]
  },
  {
   "cell_type": "code",
   "execution_count": 5,
   "metadata": {},
   "outputs": [],
   "source": [
    "# Read master unit list\n",
    "mul = pd.read_pickle('/Users/aesharpe/Desktop/Work/Catalyst_Coop/master_unit_list.pkl.gz')"
   ]
  },
  {
   "cell_type": "code",
   "execution_count": 6,
   "metadata": {},
   "outputs": [],
   "source": [
    "# Get the ownership fractions at the generator level\n",
    "gen_mul = mul[(mul['plant_part']=='plant_gen') & (mul['ownership']=='owned')].copy()\n",
    "gen_mul = (\n",
    "    gen_mul.rename(columns={'report_year': 'year'})\n",
    "    .reset_index()\n",
    "    [['plant_id_eia', 'generator_id', 'plant_name_eia', \n",
    "      'year', 'fraction_owned', 'utility_id_eia', 'net_generation_mwh', \n",
    "      'capacity_mw', 'fuel_type_code_pudl']]\n",
    "    .drop_duplicates()\n",
    ")"
   ]
  },
  {
   "cell_type": "code",
   "execution_count": 7,
   "metadata": {},
   "outputs": [],
   "source": [
    "# Combine with EPA-EIA mapping\n",
    "eia_epa_map = pd.read_csv('/Users/aesharpe/Desktop/Work/Catalyst_Coop/EPA-EIA-Unit-Crosswalk/eia_epa_id_crosswalk.csv')\n",
    "eia_epa = eia_epa_map[['plant_id_epa', 'plant_id_eia', 'unitid', 'generator_id', 'fuel_type_primary']].copy()\n",
    "\n",
    "gen_mul_map = pd.merge(gen_mul, eia_epa, on=['plant_id_eia', 'generator_id'], how='outer')"
   ]
  },
  {
   "cell_type": "code",
   "execution_count": 8,
   "metadata": {},
   "outputs": [],
   "source": [
    "gen_mul_fracs = (\n",
    "    gen_mul_map.assign(\n",
    "        net_gen_plant_sum=(\n",
    "            lambda x: x.groupby(['utility_id_eia', 'plant_id_eia', 'year']).net_generation_mwh.transform('sum', min_count=1)),\n",
    "        net_gen_unit_sum=(\n",
    "            lambda x: x.groupby(['utility_id_eia', 'unitid', 'year']).net_generation_mwh.transform('sum', min_count=1)),\n",
    "        cap_plant_sum=(\n",
    "            lambda x: x.groupby(['utility_id_eia', 'plant_id_eia', 'year']).capacity_mw.transform('sum', min_count=1)),\n",
    "        cap_unit_sum=(\n",
    "            lambda x: x.groupby(['utility_id_eia', 'unitid', 'year']).capacity_mw.transform('sum', min_count=1)),\n",
    "        fraction_owned=lambda x: x.fraction_owned.fillna(1),\n",
    "        fraction_owned_cap_plant=lambda x: x.fraction_owned * x.capacity_mw / x.cap_plant_sum,\n",
    "        fraction_owned_cap_unit=lambda x: x.fraction_owned * x.capacity_mw / x.cap_unit_sum,\n",
    "        plant_id_eia=lambda x: x.plant_id_eia.astype('Int64'),\n",
    "        year=lambda x: x.year.astype('Int64')\n",
    "    )\n",
    ")"
   ]
  },
  {
   "cell_type": "code",
   "execution_count": 40,
   "metadata": {},
   "outputs": [],
   "source": [
    "# Only keeps entries for the given utility\n",
    "util_gen_mul_fracs = gen_mul_fracs[gen_mul_fracs['utility_id_eia']==util_id]\n",
    "util_plants = list(set((util_gen_mul_fracs.plant_id_eia)))"
   ]
  },
  {
   "attachments": {},
   "cell_type": "markdown",
   "metadata": {},
   "source": [
    "##### Prep CEMS for Utility integration (only run this to make new pickle files!"
   ]
  },
  {
   "cell_type": "code",
   "execution_count": 18,
   "metadata": {},
   "outputs": [
    {
     "name": "stderr",
     "output_type": "stream",
     "text": [
      "/Users/aesharpe/miniconda3/envs/pudl-dev/lib/python3.8/site-packages/distributed/node.py:151: UserWarning: Port 8787 is already in use.\n",
      "Perhaps you already have a cluster running?\n",
      "Hosting the HTTP server on port 54231 instead\n",
      "  warnings.warn(\n"
     ]
    },
    {
     "name": "stdout",
     "output_type": "stream",
     "text": [
      "starting calculation for 2009\n",
      "starting calculation for 2010\n",
      "starting calculation for 2011\n",
      "starting calculation for 2012\n",
      "starting calculation for 2013\n",
      "starting calculation for 2014\n",
      "starting calculation for 2015\n",
      "starting calculation for 2016\n",
      "starting calculation for 2017\n",
      "starting calculation for 2018\n",
      "starting calculation for 2019\n"
     ]
    }
   ],
   "source": [
    "# # CEMS\n",
    "# years = range(2009, 2020)\n",
    "# cems_df = pd.DataFrame()\n",
    "# client = Client()\n",
    "\n",
    "# my_cols = [\n",
    "#     'state',\n",
    "#     'plant_id_eia', \n",
    "#     'unitid',\n",
    "#     'gross_load_mw',\n",
    "#     'operating_datetime_utc',\n",
    "# ]\n",
    "\n",
    "# for yr in years:\n",
    "#     print(f'starting calculation for {yr}')\n",
    "#     epacems_path = (PudlPaths().output_dir + f'/epacems/year={yr}')\n",
    "#     cems_dd = (\n",
    "#         dd.read_parquet(epacems_path, columns=my_cols)\n",
    "#         .assign(state=lambda x: x['state'].astype('string'))\n",
    "#     )\n",
    "#     cems_dd_util = cems_dd[cems_dd['plant_id_eia'].isin(util_plants)]\n",
    "    \n",
    "#     cems_df_util = (\n",
    "#         client.compute(cems_dd_util)\n",
    "#         .result()\n",
    "#         .assign(year=yr))\n",
    "#     cems_df = (\n",
    "#         pd.concat([cems_df, cems_df_util])\n",
    "#         #.rename(columns={'unitid': 'generator_id'})\n",
    "#     )"
   ]
  },
  {
   "cell_type": "code",
   "execution_count": 19,
   "metadata": {},
   "outputs": [],
   "source": [
    "#cems_df.to_pickle('/Users/aesharpe/Desktop/duke_cems.pkl')\n",
    "#cems_df.to_pickle('/Users/aesharpe/Desktop/fpl_cems.pkl')"
   ]
  },
  {
   "cell_type": "code",
   "execution_count": 5,
   "metadata": {},
   "outputs": [],
   "source": [
    "# Load CEMS pickle files\n",
    "cems_duke = pd.read_pickle('/Users/aesharpe/Desktop/duke_cems.pkl')\n",
    "cems_fpl = pd.read_pickle('/Users/aesharpe/Desktop/fpl_cems.pkl')"
   ]
  },
  {
   "cell_type": "code",
   "execution_count": 6,
   "metadata": {},
   "outputs": [],
   "source": [
    "# Determine which utility to use\n",
    "cems_df = cems_duke"
   ]
  },
  {
   "cell_type": "code",
   "execution_count": 43,
   "metadata": {},
   "outputs": [],
   "source": [
    "tech_df = pd.read_csv('/Users/aesharpe/Desktop/epa_ampd_annual_emissions_data.csv')\n",
    "col_list = list(tech_df.columns)\n",
    "col_list = [col.replace(' ', '_').lower() for col in col_list]\n",
    "col_list = [col.replace('(', '') for col in col_list]\n",
    "col_list = [col.replace(')', '') for col in col_list]\n",
    "tech_df.columns = [re.sub(r'^_', '', col) for col in col_list]\n",
    "tech_df = tech_df[['facility_name', 'facility_id_orispl', 'unit_id', 'year', 'fuel_type_primary', 'unit_type']]\n",
    "tech_df['unit_type'] = tech_df['unit_type'].fillna('UNK')"
   ]
  },
  {
   "cell_type": "code",
   "execution_count": 44,
   "metadata": {},
   "outputs": [],
   "source": [
    "cems_tech = (\n",
    "    pd.merge(\n",
    "        cems_df,\n",
    "        tech_df,\n",
    "        left_on=['plant_id_eia', 'unitid', 'year'],\n",
    "        right_on=['facility_id_orispl', 'unit_id', 'year'],\n",
    "        how='left'\n",
    "    ).assign(\n",
    "        unit_type=lambda x: [re.sub(r' \\([A-Za-z , \\d]*\\)', '', l) for l in x.unit_type.fillna('UNK')]\n",
    "    )\n",
    ")"
   ]
  },
  {
   "attachments": {},
   "cell_type": "markdown",
   "metadata": {},
   "source": [
    "##### Combine CEMS with MUL fraction owned data"
   ]
  },
  {
   "cell_type": "code",
   "execution_count": 45,
   "metadata": {},
   "outputs": [],
   "source": [
    "# List which plants are not included in the EIA-EPA mapping (and therefore need to be aggregated at the\n",
    "# plant vs. unit level for CEMS integration)\n",
    "cems_plant_list = cems_df['plant_id_eia'].unique()\n",
    "map_plant_list = list(eia_epa.plant_id_eia.unique())\n",
    "missing_from_map = [plant for plant in cems_plant_list if plant not in map_plant_list]\n",
    "\n",
    "# Separate into those that can aggregate by unit vs those that must aggregate by plant.\n",
    "cems_unit = cems_tech[~cems_tech['plant_id_eia'].isin(missing_from_map)].copy()\n",
    "cems_unit_missing = cems_tech[cems_tech['plant_id_eia'].isin(missing_from_map)].copy()\n",
    "\n",
    "# Merge with CEMS\n",
    "cems_mul_unit = pd.merge(cems_unit, util_gen_mul_fracs, on=['plant_id_eia', 'unitid', 'year'], how='left')\n",
    "cems_mul_missing = (\n",
    "    pd.merge(cems_unit_missing, util_gen_mul_fracs, on=['plant_id_eia', 'year'], how='left')\n",
    "    .drop('unitid_y', axis=1)\n",
    "    .rename(columns={'unitid_x': 'unitid'})\n",
    ")"
   ]
  },
  {
   "attachments": {},
   "cell_type": "markdown",
   "metadata": {},
   "source": [
    "##### Calculate the fraction of gross load owned by the utility (either at the unit or plant level)"
   ]
  },
  {
   "cell_type": "code",
   "execution_count": 46,
   "metadata": {},
   "outputs": [],
   "source": [
    "# For plants where generator level information is available in EPA-EIA conversion\n",
    "cems_mul_gl_fraction_unit = (\n",
    "    cems_mul_unit.assign(\n",
    "        gross_load_mw_fraction_owned_cap=lambda x: x.fraction_owned_cap_unit * x.gross_load_mw,\n",
    "        plant_id_eia=lambda x: x.plant_id_eia.astype('Int64'),\n",
    "        fraction_owned_agg_level='unit'\n",
    "    ).drop_duplicates(subset=['plant_id_eia', 'unitid', 'operating_datetime_utc'])\n",
    ")\n",
    "\n",
    "# For plants not available in EPA-EIA conversion \n",
    "cems_mul_gl_fraction_plant = (\n",
    "    cems_mul_missing.assign(\n",
    "        gross_load_mw_fraction_owned_cap=lambda x: x.fraction_owned_cap_plant * x.gross_load_mw,\n",
    "        plant_id_eia=lambda x: x.plant_id_eia.astype('Int64'),\n",
    "        fraction_owned_agg_level='plant'\n",
    "    ).drop_duplicates(subset=['plant_id_eia', 'unitid', 'operating_datetime_utc'])\n",
    ")"
   ]
  },
  {
   "cell_type": "code",
   "execution_count": 47,
   "metadata": {},
   "outputs": [],
   "source": [
    "def backfill_tech_description(ser):\n",
    "    \"\"\"Backfill tech description if technology is all the same except for some NA values\"\"\"\n",
    "    ser = ser.replace({None: np.nan})\n",
    "    types = list(ser.unique())\n",
    "    if np.nan in types:\n",
    "        types.remove(np.nan)\n",
    "        if len(types) == 1:\n",
    "            ser.values[:] = types[0]\n",
    "    return ser"
   ]
  },
  {
   "cell_type": "code",
   "execution_count": 48,
   "metadata": {},
   "outputs": [],
   "source": [
    "# Merge back together\n",
    "cems_mul_final = (\n",
    "    pd.concat([\n",
    "        cems_mul_gl_fraction_unit,\n",
    "        cems_mul_gl_fraction_plant])\n",
    "    .dropna(subset=['operating_datetime_utc'])\n",
    "    .assign(\n",
    "        fuel_type_code_pudl=lambda x: backfill_tech_description(x.fuel_type_code_pudl),\n",
    "        fuel_type_primary_x=lambda x: backfill_tech_description(x.fuel_type_primary_x),\n",
    "        unit_type=lambda x: backfill_tech_description(x.unit_type))\n",
    "    .rename(columns={'fuel_type_primary_x': 'fuel_type_primary'})\n",
    ")\n",
    "\n",
    "cems_mul_final = (\n",
    "    cems_mul_final[[\n",
    "       'plant_id_eia', 'unitid', 'gross_load_mw_fraction_owned_cap', \n",
    "       'facility_name', 'fuel_type_primary', 'unit_type', 'operating_datetime_utc', \n",
    "       'fraction_owned_agg_level'\n",
    "    ]].copy()\n",
    ")"
   ]
  },
  {
   "cell_type": "code",
   "execution_count": 49,
   "metadata": {},
   "outputs": [],
   "source": [
    "# Pivot table so there aren't as many rows\n",
    "cems_mul_piv = (\n",
    "    cems_mul_final.pivot(\n",
    "        columns=['facility_name', 'plant_id_eia', 'fraction_owned_agg_level', 'unitid', 'fuel_type_primary', 'unit_type'],\n",
    "        index=['operating_datetime_utc'])\n",
    "    .sort_index(axis=1, level=[0])\n",
    ")"
   ]
  },
  {
   "cell_type": "code",
   "execution_count": 50,
   "metadata": {},
   "outputs": [
    {
     "data": {
      "text/plain": [
       "Index(['plant', 'unit'], dtype='object', name='fraction_owned_agg_level')"
      ]
     },
     "execution_count": 50,
     "metadata": {},
     "output_type": "execute_result"
    }
   ],
   "source": [
    "cems_mul_piv.columns.levels[3]"
   ]
  },
  {
   "cell_type": "code",
   "execution_count": 52,
   "metadata": {},
   "outputs": [],
   "source": [
    "cems_mul_piv.to_csv('CEMS_Duke_gross_load.csv')"
   ]
  },
  {
   "cell_type": "code",
   "execution_count": null,
   "metadata": {},
   "outputs": [],
   "source": []
  }
 ],
 "metadata": {
  "kernelspec": {
   "display_name": "Python 3",
   "language": "python",
   "name": "python3"
  },
  "language_info": {
   "codemirror_mode": {
    "name": "ipython",
    "version": 3
   },
   "file_extension": ".py",
   "mimetype": "text/x-python",
   "name": "python",
   "nbconvert_exporter": "python",
   "pygments_lexer": "ipython3",
   "version": "3.8.6"
  }
 },
 "nbformat": 4,
 "nbformat_minor": 4
}
