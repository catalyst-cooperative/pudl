{
 "cells": [
  {
   "cell_type": "code",
   "execution_count": 2,
   "id": "244a04d3-9a60-4647-9ad9-593b78baa210",
   "metadata": {},
   "outputs": [],
   "source": [
    "import pandas as pd\n",
    "pd.set_option('display.max_colwidth', None)\n"
   ]
  },
  {
   "cell_type": "markdown",
   "id": "66702b00-e198-4ef6-9413-4c5571fa5922",
   "metadata": {},
   "source": [
    "## Read in `coalmine_eia923`"
   ]
  },
  {
   "cell_type": "code",
   "execution_count": 387,
   "id": "b3782b98-f9d9-45d1-af2e-1d906e5840fa",
   "metadata": {},
   "outputs": [
    {
     "data": {
      "text/plain": [
       "0          <NA>\n",
       "1          <NA>\n",
       "2          <NA>\n",
       "3          <NA>\n",
       "4        103150\n",
       "         ...   \n",
       "4793    1519099\n",
       "4794       <NA>\n",
       "4795    3605018\n",
       "4796    1103203\n",
       "4797    3402076\n",
       "Name: mine_id_msha, Length: 4798, dtype: Int64"
      ]
     },
     "execution_count": 387,
     "metadata": {},
     "output_type": "execute_result"
    }
   ],
   "source": [
    "import sqlalchemy as sa\n",
    "import pudl\n",
    "\n",
    "pudl_settings = pudl.workspace.setup.get_defaults()\n",
    "pudl_engine = sa.create_engine(pudl_settings[\"pudl_db\"])\n",
    "\n",
    "pudl_engine = sa.create_engine(\"sqlite:////Users/bendnorman/catalyst/pudl-work/sqlite/full_pudl.sqlite\") # For testing\n",
    "\n",
    "with pudl_engine.connect() as con:\n",
    "    coalmine_eia923 = pd.read_sql_table(\"coalmine_eia923\", con)\n",
    "    fuel_receipts_costs_eia923 = pd.read_sql_table(\"fuel_receipts_costs_eia923\", con)\n",
    "    \n",
    "coalmine_eia923[\"mine_id_msha\"] = coalmine_eia923[\"mine_id_msha\"].astype(\"Int64\")\n",
    "coalmine_eia923[\"mine_id_pudl\"] = coalmine_eia923[\"mine_id_pudl\"].astype(\"Int64\")\n",
    "coalmine_eia923[\"mine_id_msha\"]"
   ]
  },
  {
   "cell_type": "code",
   "execution_count": 385,
   "id": "a2a39357-1c14-4f39-b700-65169f976dd2",
   "metadata": {},
   "outputs": [
    {
     "data": {
      "text/plain": [
       "False    0.583993\n",
       "True     0.416007\n",
       "Name: mine_id_msha, dtype: float64"
      ]
     },
     "execution_count": 385,
     "metadata": {},
     "output_type": "execute_result"
    }
   ],
   "source": [
    "coalmine_eia923.mine_id_msha.isna().value_counts(normalize=True)"
   ]
  },
  {
   "cell_type": "code",
   "execution_count": 300,
   "id": "948e8678-61fe-430e-b7a5-86c8ee0ecd0d",
   "metadata": {},
   "outputs": [
    {
     "data": {
      "text/plain": [
       "False    1.0\n",
       "Name: mine_name, dtype: float64"
      ]
     },
     "execution_count": 300,
     "metadata": {},
     "output_type": "execute_result"
    }
   ],
   "source": [
    "coalmine_eia923.mine_name.isna().value_counts(normalize=True)"
   ]
  },
  {
   "cell_type": "code",
   "execution_count": 301,
   "id": "3659c571-9a3c-4acd-ae25-a2a753cb06b5",
   "metadata": {},
   "outputs": [
    {
     "data": {
      "text/plain": [
       "4601968    10\n",
       "1516353     9\n",
       "4800977     8\n",
       "1518728     7\n",
       "1513193     7\n",
       "           ..\n",
       "1103248     1\n",
       "1511211     1\n",
       "4609144     1\n",
       "4609067     1\n",
       "1519099     1\n",
       "Name: mine_id_msha, Length: 1412, dtype: Int64"
      ]
     },
     "execution_count": 301,
     "metadata": {},
     "output_type": "execute_result"
    }
   ],
   "source": [
    "coalmine_eia923.mine_id_msha.value_counts()"
   ]
  },
  {
   "cell_type": "code",
   "execution_count": 302,
   "id": "19975b14-3045-4d26-8f5c-97129b5de207",
   "metadata": {},
   "outputs": [
    {
     "data": {
      "text/html": [
       "<div>\n",
       "<style scoped>\n",
       "    .dataframe tbody tr th:only-of-type {\n",
       "        vertical-align: middle;\n",
       "    }\n",
       "\n",
       "    .dataframe tbody tr th {\n",
       "        vertical-align: top;\n",
       "    }\n",
       "\n",
       "    .dataframe thead th {\n",
       "        text-align: right;\n",
       "    }\n",
       "</style>\n",
       "<table border=\"1\" class=\"dataframe\">\n",
       "  <thead>\n",
       "    <tr style=\"text-align: right;\">\n",
       "      <th></th>\n",
       "      <th>mine_id_pudl</th>\n",
       "      <th>mine_name</th>\n",
       "      <th>mine_type_code</th>\n",
       "      <th>state</th>\n",
       "      <th>county_id_fips</th>\n",
       "      <th>mine_id_msha</th>\n",
       "      <th>data_maturity</th>\n",
       "    </tr>\n",
       "  </thead>\n",
       "  <tbody>\n",
       "    <tr>\n",
       "      <th>109</th>\n",
       "      <td>109</td>\n",
       "      <td>shamrock prep 2</td>\n",
       "      <td>SU</td>\n",
       "      <td>KY</td>\n",
       "      <td>21193</td>\n",
       "      <td>1516353</td>\n",
       "      <td>final</td>\n",
       "    </tr>\n",
       "    <tr>\n",
       "      <th>119</th>\n",
       "      <td>119</td>\n",
       "      <td>leeco - buckeye 64 prep</td>\n",
       "      <td>SU</td>\n",
       "      <td>KY</td>\n",
       "      <td>21193</td>\n",
       "      <td>1516353</td>\n",
       "      <td>final</td>\n",
       "    </tr>\n",
       "    <tr>\n",
       "      <th>890</th>\n",
       "      <td>890</td>\n",
       "      <td>cave branch</td>\n",
       "      <td>S</td>\n",
       "      <td>KY</td>\n",
       "      <td>21193</td>\n",
       "      <td>1516353</td>\n",
       "      <td>final</td>\n",
       "    </tr>\n",
       "    <tr>\n",
       "      <th>1376</th>\n",
       "      <td>1376</td>\n",
       "      <td>leeco - buckeye 64 prep</td>\n",
       "      <td>U</td>\n",
       "      <td>KY</td>\n",
       "      <td>21193</td>\n",
       "      <td>1516353</td>\n",
       "      <td>final</td>\n",
       "    </tr>\n",
       "    <tr>\n",
       "      <th>2119</th>\n",
       "      <td>2119</td>\n",
       "      <td>64</td>\n",
       "      <td>P</td>\n",
       "      <td>KY</td>\n",
       "      <td>21193</td>\n",
       "      <td>1516353</td>\n",
       "      <td>final</td>\n",
       "    </tr>\n",
       "    <tr>\n",
       "      <th>2153</th>\n",
       "      <td>2153</td>\n",
       "      <td>64</td>\n",
       "      <td>SU</td>\n",
       "      <td>KY</td>\n",
       "      <td>21193</td>\n",
       "      <td>1516353</td>\n",
       "      <td>final</td>\n",
       "    </tr>\n",
       "    <tr>\n",
       "      <th>2716</th>\n",
       "      <td>2716</td>\n",
       "      <td>buckeye 64</td>\n",
       "      <td>SU</td>\n",
       "      <td>KY</td>\n",
       "      <td>21193</td>\n",
       "      <td>1516353</td>\n",
       "      <td>final</td>\n",
       "    </tr>\n",
       "    <tr>\n",
       "      <th>2718</th>\n",
       "      <td>2718</td>\n",
       "      <td>64</td>\n",
       "      <td>SU</td>\n",
       "      <td>KY</td>\n",
       "      <td>None</td>\n",
       "      <td>1516353</td>\n",
       "      <td>final</td>\n",
       "    </tr>\n",
       "    <tr>\n",
       "      <th>3658</th>\n",
       "      <td>3658</td>\n",
       "      <td>64</td>\n",
       "      <td>P</td>\n",
       "      <td>KY</td>\n",
       "      <td>None</td>\n",
       "      <td>1516353</td>\n",
       "      <td>final</td>\n",
       "    </tr>\n",
       "  </tbody>\n",
       "</table>\n",
       "</div>"
      ],
      "text/plain": [
       "      mine_id_pudl                mine_name mine_type_code state  \\\n",
       "109            109          shamrock prep 2             SU    KY   \n",
       "119            119  leeco - buckeye 64 prep             SU    KY   \n",
       "890            890              cave branch              S    KY   \n",
       "1376          1376  leeco - buckeye 64 prep              U    KY   \n",
       "2119          2119                       64              P    KY   \n",
       "2153          2153                       64             SU    KY   \n",
       "2716          2716               buckeye 64             SU    KY   \n",
       "2718          2718                       64             SU    KY   \n",
       "3658          3658                       64              P    KY   \n",
       "\n",
       "     county_id_fips  mine_id_msha data_maturity  \n",
       "109           21193       1516353         final  \n",
       "119           21193       1516353         final  \n",
       "890           21193       1516353         final  \n",
       "1376          21193       1516353         final  \n",
       "2119          21193       1516353         final  \n",
       "2153          21193       1516353         final  \n",
       "2716          21193       1516353         final  \n",
       "2718           None       1516353         final  \n",
       "3658           None       1516353         final  "
      ]
     },
     "execution_count": 302,
     "metadata": {},
     "output_type": "execute_result"
    }
   ],
   "source": [
    "coalmine_eia923[coalmine_eia923[\"mine_id_msha\"] == 1516353]"
   ]
  },
  {
   "cell_type": "code",
   "execution_count": 303,
   "id": "b4964993-8628-48a0-aba0-10faa357ddcd",
   "metadata": {},
   "outputs": [
    {
     "data": {
      "text/plain": [
       "S     2292\n",
       "U     1200\n",
       "SU     633\n",
       "P      584\n",
       "US      75\n",
       "Name: mine_type_code, dtype: int64"
      ]
     },
     "execution_count": 303,
     "metadata": {},
     "output_type": "execute_result"
    }
   ],
   "source": [
    "coalmine_eia923.mine_type_code.value_counts()"
   ]
  },
  {
   "cell_type": "markdown",
   "id": "ce672c76-d27e-4d7f-8738-43ccb8148d86",
   "metadata": {},
   "source": [
    "About 42% of coalmines are missing msha ids. The mines that do have msha ids are not unique. This is because the ETL isn't dropping records with duplicate msha ids. The duplicates are likely the same mine being reported in multiple years. Are there specific years that are missing msha ids or are all years missing some data? "
   ]
  },
  {
   "cell_type": "markdown",
   "id": "a1daf13e-63ea-4e53-b693-d47456f389eb",
   "metadata": {},
   "source": [
    "## Add report_date\n",
    "Add report_date back to the coalmines using the `fuel_receipts_costs_eia923` table."
   ]
  },
  {
   "cell_type": "code",
   "execution_count": 388,
   "id": "dedf6d0e-73ff-40b5-8c34-6609229f432e",
   "metadata": {},
   "outputs": [
    {
     "data": {
      "text/plain": [
       "20      16152\n",
       "19      11046\n",
       "21       6136\n",
       "42       4043\n",
       "127      4014\n",
       "        ...  \n",
       "704         1\n",
       "4744        1\n",
       "212         1\n",
       "683         1\n",
       "1748        1\n",
       "Name: mine_id_pudl, Length: 4798, dtype: Int64"
      ]
     },
     "execution_count": 388,
     "metadata": {},
     "output_type": "execute_result"
    }
   ],
   "source": [
    "fuel_receipts_costs_eia923[\"mine_id_pudl\"] = fuel_receipts_costs_eia923[\"mine_id_pudl\"].astype(\"Int64\")\n",
    "fuel_receipts_costs_eia923[\"mine_id_pudl\"].value_counts()"
   ]
  },
  {
   "cell_type": "code",
   "execution_count": 389,
   "id": "a066e988-2d53-4d69-b86b-0589a83be4dd",
   "metadata": {},
   "outputs": [],
   "source": [
    "mines_with_report_date = coalmine_eia923.merge(fuel_receipts_costs_eia923, on=\"mine_id_pudl\", how=\"left\", validate=\"1:m\")"
   ]
  },
  {
   "cell_type": "code",
   "execution_count": 390,
   "id": "473d7003-31e1-421a-9342-b0c7b208588f",
   "metadata": {},
   "outputs": [],
   "source": [
    "fields = coalmine_eia923.columns.to_list() + [\"report_date\"]\n",
    "fields.remove(\"data_maturity\")\n",
    "mines_with_report_date = mines_with_report_date[fields]"
   ]
  },
  {
   "cell_type": "code",
   "execution_count": 395,
   "id": "61664f59-ae86-444a-b6fe-0e2b2c5f155d",
   "metadata": {},
   "outputs": [],
   "source": [
    "mines_with_report_date = fuel_receipts_costs_eia923_with_mines.drop_duplicates()"
   ]
  },
  {
   "cell_type": "code",
   "execution_count": 396,
   "id": "bc32fe7b-8393-49c1-89cf-3f08c37638c4",
   "metadata": {},
   "outputs": [],
   "source": [
    "coalmine_eia923_fields = coalmine_eia923.columns.to_list()\n",
    "coalmine_eia923_fields.remove(\"data_maturity\")\n",
    "deduped_mines = mines_with_report_date.drop_duplicates(subset=coalmine_eia923_fields)\n",
    "\n",
    "# make sure we still have the same number of mine entities\n",
    "assert len(coalmine_eia923) == len(deduped_mines)"
   ]
  },
  {
   "cell_type": "code",
   "execution_count": 397,
   "id": "a13c3e6c-26ad-499b-a09a-dc44a8791255",
   "metadata": {},
   "outputs": [
    {
     "data": {
      "text/plain": [
       "<AxesSubplot:xlabel='report_date'>"
      ]
     },
     "execution_count": 397,
     "metadata": {},
     "output_type": "execute_result"
    },
    {
     "data": {
      "image/png": "[encoded data removed]",
      "text/plain": [
       "<Figure size 1500x1000 with 1 Axes>"
      ]
     },
     "metadata": {},
     "output_type": "display_data"
    }
   ],
   "source": [
    "mines_with_report_date_groups = mines_with_report_date.groupby(mines_with_report_date.report_date)\n",
    "\n",
    "\n",
    "report_date_with_unique_ids = mines_with_report_date_groups.mine_id_msha.nunique() / mines_with_report_date_groups.mine_id_msha.count()\n",
    "report_date_with_unique_ids.plot.bar(figsize=(15, 10))"
   ]
  },
  {
   "cell_type": "code",
   "execution_count": 399,
   "id": "d47076a8-e3fd-4f9d-8987-8a040f9b5fd8",
   "metadata": {},
   "outputs": [
    {
     "data": {
      "text/plain": [
       "count    168.000000\n",
       "mean       0.986768\n",
       "std        0.024505\n",
       "min        0.892174\n",
       "25%        0.991189\n",
       "50%        0.995661\n",
       "75%        1.000000\n",
       "max        1.000000\n",
       "Name: mine_id_msha, dtype: float64"
      ]
     },
     "execution_count": 399,
     "metadata": {},
     "output_type": "execute_result"
    }
   ],
   "source": [
    "report_date_with_unique_ids.describe()"
   ]
  },
  {
   "cell_type": "markdown",
   "id": "55c54a80-c248-4453-bd27-b738e59f7f80",
   "metadata": {},
   "source": [
    "It looks like in most months the msha ids are almost unique. In theory, the MSHA ids should be unique for each month of reporting because the respondents are working with the same MSHA data from EIA. 2008 - 2009 have more duplicate ids than other years."
   ]
  },
  {
   "cell_type": "markdown",
   "id": "c6437924-c260-4230-9480-683d4d969aaf",
   "metadata": {},
   "source": [
    "### evaluate how many mines are missing mine_id_msha\n",
    "Was the id introduced in a give year? "
   ]
  },
  {
   "cell_type": "code",
   "execution_count": 400,
   "id": "4f58ada7-3f40-4cc7-852a-d33709d9ebbb",
   "metadata": {},
   "outputs": [
    {
     "data": {
      "text/plain": [
       "False    54307\n",
       "True     12527\n",
       "Name: mine_id_msha, dtype: int64"
      ]
     },
     "execution_count": 400,
     "metadata": {},
     "output_type": "execute_result"
    }
   ],
   "source": [
    "mines_with_report_date.mine_id_msha.isna().value_counts()"
   ]
  },
  {
   "cell_type": "code",
   "execution_count": 401,
   "id": "d6eb04f7-7d64-4bc9-8633-4e00fe8398fc",
   "metadata": {},
   "outputs": [
    {
     "data": {
      "text/plain": [
       "<AxesSubplot:xlabel='report_date'>"
      ]
     },
     "execution_count": 401,
     "metadata": {},
     "output_type": "execute_result"
    },
    {
     "data": {
      "image/png": "[encoded data removed]",
      "text/plain": [
       "<Figure size 2000x500 with 1 Axes>"
      ]
     },
     "metadata": {},
     "output_type": "display_data"
    }
   ],
   "source": [
    "mines_with_report_date.groupby(\"report_date\").count().mine_id_pudl.plot.bar(figsize=(20, 5))"
   ]
  },
  {
   "cell_type": "code",
   "execution_count": 402,
   "id": "52a6fa38-e7b1-43d1-9575-15c48ac54102",
   "metadata": {},
   "outputs": [
    {
     "data": {
      "text/plain": [
       "<AxesSubplot:xlabel='report_date'>"
      ]
     },
     "execution_count": 402,
     "metadata": {},
     "output_type": "execute_result"
    },
    {
     "data": {
      "image/png": "[encoded data removed]",
      "text/plain": [
       "<Figure size 2000x500 with 1 Axes>"
      ]
     },
     "metadata": {},
     "output_type": "display_data"
    }
   ],
   "source": [
    "missing_id_by_date = mines_with_report_date.set_index(\"report_date\").mine_id_msha.isna().groupby(\"report_date\")\n",
    "\n",
    "(missing_id_by_date.sum() / missing_id_by_date.count()).plot.bar(figsize=(20, 5))\n",
    "# missing_id_by_date.sum().plot.bar(figsize=(20, 5))"
   ]
  },
  {
   "cell_type": "markdown",
   "id": "b52770eb-93d6-4527-83c6-1e339fb0ee76",
   "metadata": {},
   "source": [
    "It looks like after 2008 ~10% of mines each month are missing MSHA mine ids. This makes me think EIA wasn't giving respondents a set of MSHA values to work with...\n",
    "\n",
    "The EIA 923 Form has a set of MSHA mines for respondents to choose from. Some of the mines EIA provides do not have MSHA ids. My guess is EIA didn't provide MSHA mines in the Form until 2009. "
   ]
  },
  {
   "cell_type": "code",
   "execution_count": 416,
   "id": "29b8b3f2-bbc3-4e31-923c-d772999c748f",
   "metadata": {},
   "outputs": [
    {
     "data": {
      "text/plain": [
       "False    96.470588\n",
       "True      3.529412\n",
       "Name: mine_id_msha, dtype: float64"
      ]
     },
     "execution_count": 416,
     "metadata": {},
     "output_type": "execute_result"
    }
   ],
   "source": [
    "one_month_mines = mines_with_report_date[(mines_with_report_date[\"report_date\"] == '2021-11-01')]\n",
    "one_month_mines.mine_id_msha.isna().value_counts(normalize=True) * 100"
   ]
  },
  {
   "cell_type": "code",
   "execution_count": 417,
   "id": "2738d739-d4ad-436a-ab45-e27be4e163dd",
   "metadata": {},
   "outputs": [
    {
     "data": {
      "text/html": [
       "<div>\n",
       "<style scoped>\n",
       "    .dataframe tbody tr th:only-of-type {\n",
       "        vertical-align: middle;\n",
       "    }\n",
       "\n",
       "    .dataframe tbody tr th {\n",
       "        vertical-align: top;\n",
       "    }\n",
       "\n",
       "    .dataframe thead th {\n",
       "        text-align: right;\n",
       "    }\n",
       "</style>\n",
       "<table border=\"1\" class=\"dataframe\">\n",
       "  <thead>\n",
       "    <tr style=\"text-align: right;\">\n",
       "      <th></th>\n",
       "      <th>mine_id_pudl</th>\n",
       "      <th>mine_name</th>\n",
       "      <th>mine_type_code</th>\n",
       "      <th>state</th>\n",
       "      <th>county_id_fips</th>\n",
       "      <th>mine_id_msha</th>\n",
       "      <th>report_date</th>\n",
       "    </tr>\n",
       "  </thead>\n",
       "  <tbody>\n",
       "    <tr>\n",
       "      <th>208777</th>\n",
       "      <td>4541</td>\n",
       "      <td>mina pribbenow</td>\n",
       "      <td>S</td>\n",
       "      <td>COL</td>\n",
       "      <td>None</td>\n",
       "      <td>&lt;NA&gt;</td>\n",
       "      <td>2021-11-01</td>\n",
       "    </tr>\n",
       "    <tr>\n",
       "      <th>215772</th>\n",
       "      <td>4688</td>\n",
       "      <td>santa marta</td>\n",
       "      <td>S</td>\n",
       "      <td>COL</td>\n",
       "      <td>None</td>\n",
       "      <td>&lt;NA&gt;</td>\n",
       "      <td>2021-11-01</td>\n",
       "    </tr>\n",
       "    <tr>\n",
       "      <th>216163</th>\n",
       "      <td>4731</td>\n",
       "      <td>maura pantai</td>\n",
       "      <td>S</td>\n",
       "      <td>IDN</td>\n",
       "      <td>None</td>\n",
       "      <td>&lt;NA&gt;</td>\n",
       "      <td>2021-11-01</td>\n",
       "    </tr>\n",
       "    <tr>\n",
       "      <th>216313</th>\n",
       "      <td>4782</td>\n",
       "      <td>variousky-johnfloydmagof mne</td>\n",
       "      <td>S</td>\n",
       "      <td>KY</td>\n",
       "      <td>21153</td>\n",
       "      <td>&lt;NA&gt;</td>\n",
       "      <td>2021-11-01</td>\n",
       "    </tr>\n",
       "    <tr>\n",
       "      <th>216315</th>\n",
       "      <td>4783</td>\n",
       "      <td>variousky-johnfloydmagof mne</td>\n",
       "      <td>S</td>\n",
       "      <td>KY</td>\n",
       "      <td>21115</td>\n",
       "      <td>&lt;NA&gt;</td>\n",
       "      <td>2021-11-01</td>\n",
       "    </tr>\n",
       "    <tr>\n",
       "      <th>216317</th>\n",
       "      <td>4784</td>\n",
       "      <td>variousky-johnfloydmagof mne</td>\n",
       "      <td>S</td>\n",
       "      <td>KY</td>\n",
       "      <td>21071</td>\n",
       "      <td>&lt;NA&gt;</td>\n",
       "      <td>2021-11-01</td>\n",
       "    </tr>\n",
       "  </tbody>\n",
       "</table>\n",
       "</div>"
      ],
      "text/plain": [
       "        mine_id_pudl                     mine_name mine_type_code state county_id_fips  mine_id_msha report_date\n",
       "208777          4541                mina pribbenow              S   COL           None          <NA>  2021-11-01\n",
       "215772          4688                   santa marta              S   COL           None          <NA>  2021-11-01\n",
       "216163          4731                  maura pantai              S   IDN           None          <NA>  2021-11-01\n",
       "216313          4782  variousky-johnfloydmagof mne              S    KY          21153          <NA>  2021-11-01\n",
       "216315          4783  variousky-johnfloydmagof mne              S    KY          21115          <NA>  2021-11-01\n",
       "216317          4784  variousky-johnfloydmagof mne              S    KY          21071          <NA>  2021-11-01"
      ]
     },
     "execution_count": 417,
     "metadata": {},
     "output_type": "execute_result"
    }
   ],
   "source": [
    "one_month_mines[one_month_mines.mine_id_msha.isna()]"
   ]
  },
  {
   "cell_type": "markdown",
   "id": "07c7baf9-5c61-453c-bbe4-d3966a903455",
   "metadata": {},
   "source": [
    "## Grab the most recent mine information for each mine_id_msha\n",
    "A simple way to resolve the duplicate mine ids is to just grab the most recent information for a given msha id."
   ]
  },
  {
   "cell_type": "code",
   "execution_count": 405,
   "id": "0b93d5ac-be77-43c0-9def-fa9de2cf97c7",
   "metadata": {},
   "outputs": [],
   "source": [
    "mines_with_msha_ids = mines_with_report_date[~mines_with_report_date.mine_id_msha.isna()]\n",
    "mines_without_msha_ids = mines_with_report_date[mines_with_report_date.mine_id_msha.isna()]\n",
    "\n",
    "mines_with_msha_ids = mines_with_msha_ids.sort_values(by=\"report_date\", ascending=False).groupby(\"mine_id_msha\").head(1)"
   ]
  },
  {
   "cell_type": "code",
   "execution_count": 406,
   "id": "971cb677-ebdb-48b0-87fc-97c6926d498d",
   "metadata": {},
   "outputs": [
    {
     "data": {
      "text/plain": [
       "<AxesSubplot:xlabel='report_date'>"
      ]
     },
     "execution_count": 406,
     "metadata": {},
     "output_type": "execute_result"
    },
    {
     "data": {
      "image/png": "[encoded data removed]",
      "text/plain": [
       "<Figure size 640x480 with 1 Axes>"
      ]
     },
     "metadata": {},
     "output_type": "display_data"
    }
   ],
   "source": [
    "deduped_mines_with_msha_ids.groupby(deduped_mines_with_msha_ids.report_date.dt.year).count().mine_id_pudl.plot.bar()"
   ]
  },
  {
   "cell_type": "code",
   "execution_count": 407,
   "id": "d4de659d-3dda-47cc-b996-449fd11cb72a",
   "metadata": {},
   "outputs": [],
   "source": [
    "mine_cols = ['mine_id_pudl', 'mine_name', 'mine_type_code', 'state', 'county_id_fips', 'mine_id_msha']\n",
    "\n",
    "mines_without_msha_ids = mines_without_msha_ids.drop_duplicates(subset=mine_cols)"
   ]
  },
  {
   "cell_type": "code",
   "execution_count": 408,
   "id": "7cb054ce-3c8d-47ad-a43a-6654986d2a7a",
   "metadata": {},
   "outputs": [
    {
     "data": {
      "text/plain": [
       "<AxesSubplot:>"
      ]
     },
     "execution_count": 408,
     "metadata": {},
     "output_type": "execute_result"
    },
    {
     "data": {
      "image/png": "[encoded data removed]",
      "text/plain": [
       "<Figure size 640x480 with 1 Axes>"
      ]
     },
     "metadata": {},
     "output_type": "display_data"
    }
   ],
   "source": [
    "mines_without_msha_ids.report_date.dt.year.value_counts().sort_index().plot.bar()"
   ]
  },
  {
   "cell_type": "code",
   "execution_count": 409,
   "id": "0765d29b-da04-4425-b581-a2cd5665c398",
   "metadata": {},
   "outputs": [
    {
     "data": {
      "text/plain": [
       "True     0.757515\n",
       "False    0.242485\n",
       "Name: report_date, dtype: float64"
      ]
     },
     "execution_count": 409,
     "metadata": {},
     "output_type": "execute_result"
    }
   ],
   "source": [
    "(mines_without_msha_ids.report_date.dt.year < 2009).value_counts(normalize=True)"
   ]
  },
  {
   "cell_type": "markdown",
   "id": "f41592de-a25a-4fac-be0a-cb975b01f5ab",
   "metadata": {},
   "source": [
    "75% of mines with missing MSHA ids are from 2008. "
   ]
  },
  {
   "cell_type": "code",
   "execution_count": 410,
   "id": "2b2e6cb4-24c2-44c7-828e-871aeb7d4dfc",
   "metadata": {},
   "outputs": [
    {
     "data": {
      "text/plain": [
       "True     1996\n",
       "False    1412\n",
       "Name: mine_id_msha, dtype: int64"
      ]
     },
     "execution_count": 410,
     "metadata": {},
     "output_type": "execute_result"
    }
   ],
   "source": [
    "eia_coalmines = pd.concat([mines_without_msha_ids, mines_with_msha_ids])\n",
    "eia_coalmines.mine_id_msha.isna().value_counts()"
   ]
  },
  {
   "cell_type": "code",
   "execution_count": 366,
   "id": "34452ecf-23dc-4f69-9f7d-7de2efb3d14b",
   "metadata": {},
   "outputs": [
    {
     "data": {
      "text/html": [
       "<div>\n",
       "<style scoped>\n",
       "    .dataframe tbody tr th:only-of-type {\n",
       "        vertical-align: middle;\n",
       "    }\n",
       "\n",
       "    .dataframe tbody tr th {\n",
       "        vertical-align: top;\n",
       "    }\n",
       "\n",
       "    .dataframe thead th {\n",
       "        text-align: right;\n",
       "    }\n",
       "</style>\n",
       "<table border=\"1\" class=\"dataframe\">\n",
       "  <thead>\n",
       "    <tr style=\"text-align: right;\">\n",
       "      <th></th>\n",
       "      <th>mine_id_pudl</th>\n",
       "      <th>mine_name</th>\n",
       "      <th>mine_type_code</th>\n",
       "      <th>state</th>\n",
       "      <th>county_id_fips</th>\n",
       "      <th>mine_id_msha</th>\n",
       "      <th>report_date</th>\n",
       "    </tr>\n",
       "  </thead>\n",
       "  <tbody>\n",
       "    <tr>\n",
       "      <th>0</th>\n",
       "      <td>0</td>\n",
       "      <td>mina pribbenow</td>\n",
       "      <td>SU</td>\n",
       "      <td>COL</td>\n",
       "      <td>None</td>\n",
       "      <td>&lt;NA&gt;</td>\n",
       "      <td>2008-01-01</td>\n",
       "    </tr>\n",
       "    <tr>\n",
       "      <th>79</th>\n",
       "      <td>1</td>\n",
       "      <td>alabama coal</td>\n",
       "      <td>SU</td>\n",
       "      <td>AL</td>\n",
       "      <td>01007</td>\n",
       "      <td>&lt;NA&gt;</td>\n",
       "      <td>2008-01-01</td>\n",
       "    </tr>\n",
       "    <tr>\n",
       "      <th>125</th>\n",
       "      <td>2</td>\n",
       "      <td>flat rock 2</td>\n",
       "      <td>S</td>\n",
       "      <td>AL</td>\n",
       "      <td>01145</td>\n",
       "      <td>&lt;NA&gt;</td>\n",
       "      <td>2008-01-01</td>\n",
       "    </tr>\n",
       "    <tr>\n",
       "      <th>137</th>\n",
       "      <td>3</td>\n",
       "      <td>aldridge no 1</td>\n",
       "      <td>S</td>\n",
       "      <td>AL</td>\n",
       "      <td>01127</td>\n",
       "      <td>&lt;NA&gt;</td>\n",
       "      <td>2008-01-01</td>\n",
       "    </tr>\n",
       "    <tr>\n",
       "      <th>247</th>\n",
       "      <td>6</td>\n",
       "      <td>aldridge no 1</td>\n",
       "      <td>SU</td>\n",
       "      <td>AL</td>\n",
       "      <td>01127</td>\n",
       "      <td>&lt;NA&gt;</td>\n",
       "      <td>2008-01-01</td>\n",
       "    </tr>\n",
       "    <tr>\n",
       "      <th>272</th>\n",
       "      <td>10</td>\n",
       "      <td>kentucky -cumberland</td>\n",
       "      <td>SU</td>\n",
       "      <td>KY</td>\n",
       "      <td>21095</td>\n",
       "      <td>&lt;NA&gt;</td>\n",
       "      <td>2008-01-01</td>\n",
       "    </tr>\n",
       "    <tr>\n",
       "      <th>322</th>\n",
       "      <td>12</td>\n",
       "      <td>rock mountain mine</td>\n",
       "      <td>SU</td>\n",
       "      <td>AL</td>\n",
       "      <td>01127</td>\n",
       "      <td>&lt;NA&gt;</td>\n",
       "      <td>2008-01-01</td>\n",
       "    </tr>\n",
       "    <tr>\n",
       "      <th>39689</th>\n",
       "      <td>31</td>\n",
       "      <td>coal creek mine</td>\n",
       "      <td>S</td>\n",
       "      <td>WY</td>\n",
       "      <td>56005</td>\n",
       "      <td>&lt;NA&gt;</td>\n",
       "      <td>2008-01-01</td>\n",
       "    </tr>\n",
       "    <tr>\n",
       "      <th>39701</th>\n",
       "      <td>32</td>\n",
       "      <td>black thunder</td>\n",
       "      <td>U</td>\n",
       "      <td>WY</td>\n",
       "      <td>56005</td>\n",
       "      <td>&lt;NA&gt;</td>\n",
       "      <td>2008-01-01</td>\n",
       "    </tr>\n",
       "    <tr>\n",
       "      <th>39773</th>\n",
       "      <td>33</td>\n",
       "      <td>eagle butte mine</td>\n",
       "      <td>U</td>\n",
       "      <td>WY</td>\n",
       "      <td>56005</td>\n",
       "      <td>&lt;NA&gt;</td>\n",
       "      <td>2008-01-01</td>\n",
       "    </tr>\n",
       "    <tr>\n",
       "      <th>47036</th>\n",
       "      <td>40</td>\n",
       "      <td>sigmon</td>\n",
       "      <td>U</td>\n",
       "      <td>KY</td>\n",
       "      <td>21193</td>\n",
       "      <td>&lt;NA&gt;</td>\n",
       "      <td>2008-01-01</td>\n",
       "    </tr>\n",
       "    <tr>\n",
       "      <th>47060</th>\n",
       "      <td>41</td>\n",
       "      <td>typo</td>\n",
       "      <td>U</td>\n",
       "      <td>KY</td>\n",
       "      <td>21193</td>\n",
       "      <td>&lt;NA&gt;</td>\n",
       "      <td>2008-01-01</td>\n",
       "    </tr>\n",
       "    <tr>\n",
       "      <th>51783</th>\n",
       "      <td>44</td>\n",
       "      <td>bevins branch</td>\n",
       "      <td>U</td>\n",
       "      <td>KY</td>\n",
       "      <td>21195</td>\n",
       "      <td>&lt;NA&gt;</td>\n",
       "      <td>2008-01-01</td>\n",
       "    </tr>\n",
       "    <tr>\n",
       "      <th>54543</th>\n",
       "      <td>50</td>\n",
       "      <td>el cerrejon</td>\n",
       "      <td>S</td>\n",
       "      <td>COL</td>\n",
       "      <td>None</td>\n",
       "      <td>&lt;NA&gt;</td>\n",
       "      <td>2008-01-01</td>\n",
       "    </tr>\n",
       "    <tr>\n",
       "      <th>54688</th>\n",
       "      <td>51</td>\n",
       "      <td>mc coy elkhorn</td>\n",
       "      <td>U</td>\n",
       "      <td>KY</td>\n",
       "      <td>21195</td>\n",
       "      <td>&lt;NA&gt;</td>\n",
       "      <td>2008-01-01</td>\n",
       "    </tr>\n",
       "    <tr>\n",
       "      <th>59423</th>\n",
       "      <td>55</td>\n",
       "      <td>black thunder</td>\n",
       "      <td>S</td>\n",
       "      <td>WY</td>\n",
       "      <td>56005</td>\n",
       "      <td>&lt;NA&gt;</td>\n",
       "      <td>2008-01-01</td>\n",
       "    </tr>\n",
       "    <tr>\n",
       "      <th>59465</th>\n",
       "      <td>56</td>\n",
       "      <td>mc clane canyon mine</td>\n",
       "      <td>S</td>\n",
       "      <td>CO</td>\n",
       "      <td>08045</td>\n",
       "      <td>&lt;NA&gt;</td>\n",
       "      <td>2008-01-01</td>\n",
       "    </tr>\n",
       "    <tr>\n",
       "      <th>59479</th>\n",
       "      <td>58</td>\n",
       "      <td>north anteloperochelle</td>\n",
       "      <td>S</td>\n",
       "      <td>WY</td>\n",
       "      <td>56005</td>\n",
       "      <td>&lt;NA&gt;</td>\n",
       "      <td>2008-01-01</td>\n",
       "    </tr>\n",
       "    <tr>\n",
       "      <th>59502</th>\n",
       "      <td>59</td>\n",
       "      <td>new horizon mine</td>\n",
       "      <td>S</td>\n",
       "      <td>CO</td>\n",
       "      <td>08085</td>\n",
       "      <td>&lt;NA&gt;</td>\n",
       "      <td>2008-01-01</td>\n",
       "    </tr>\n",
       "    <tr>\n",
       "      <th>60072</th>\n",
       "      <td>66</td>\n",
       "      <td>tutupan</td>\n",
       "      <td>S</td>\n",
       "      <td>ID</td>\n",
       "      <td>None</td>\n",
       "      <td>&lt;NA&gt;</td>\n",
       "      <td>2008-01-01</td>\n",
       "    </tr>\n",
       "    <tr>\n",
       "      <th>60156</th>\n",
       "      <td>67</td>\n",
       "      <td>pike</td>\n",
       "      <td>U</td>\n",
       "      <td>KY</td>\n",
       "      <td>21045</td>\n",
       "      <td>&lt;NA&gt;</td>\n",
       "      <td>2008-01-01</td>\n",
       "    </tr>\n",
       "    <tr>\n",
       "      <th>60255</th>\n",
       "      <td>69</td>\n",
       "      <td>ben creek</td>\n",
       "      <td>U</td>\n",
       "      <td>WV</td>\n",
       "      <td>54059</td>\n",
       "      <td>&lt;NA&gt;</td>\n",
       "      <td>2008-01-01</td>\n",
       "    </tr>\n",
       "    <tr>\n",
       "      <th>60282</th>\n",
       "      <td>70</td>\n",
       "      <td>wellmore strickland</td>\n",
       "      <td>SU</td>\n",
       "      <td>VA</td>\n",
       "      <td>51027</td>\n",
       "      <td>&lt;NA&gt;</td>\n",
       "      <td>2008-01-01</td>\n",
       "    </tr>\n",
       "    <tr>\n",
       "      <th>60290</th>\n",
       "      <td>71</td>\n",
       "      <td>edna ruth</td>\n",
       "      <td>SU</td>\n",
       "      <td>VA</td>\n",
       "      <td>51051</td>\n",
       "      <td>&lt;NA&gt;</td>\n",
       "      <td>2008-01-01</td>\n",
       "    </tr>\n",
       "    <tr>\n",
       "      <th>60293</th>\n",
       "      <td>72</td>\n",
       "      <td>scotts branch</td>\n",
       "      <td>U</td>\n",
       "      <td>KY</td>\n",
       "      <td>21195</td>\n",
       "      <td>&lt;NA&gt;</td>\n",
       "      <td>2008-01-01</td>\n",
       "    </tr>\n",
       "    <tr>\n",
       "      <th>60307</th>\n",
       "      <td>73</td>\n",
       "      <td>toms fork</td>\n",
       "      <td>S</td>\n",
       "      <td>WV</td>\n",
       "      <td>54039</td>\n",
       "      <td>&lt;NA&gt;</td>\n",
       "      <td>2008-01-01</td>\n",
       "    </tr>\n",
       "    <tr>\n",
       "      <th>60309</th>\n",
       "      <td>74</td>\n",
       "      <td>winifrede jct</td>\n",
       "      <td>S</td>\n",
       "      <td>WV</td>\n",
       "      <td>54039</td>\n",
       "      <td>&lt;NA&gt;</td>\n",
       "      <td>2008-01-01</td>\n",
       "    </tr>\n",
       "    <tr>\n",
       "      <th>60315</th>\n",
       "      <td>75</td>\n",
       "      <td>elk run</td>\n",
       "      <td>U</td>\n",
       "      <td>WV</td>\n",
       "      <td>54005</td>\n",
       "      <td>&lt;NA&gt;</td>\n",
       "      <td>2008-01-01</td>\n",
       "    </tr>\n",
       "    <tr>\n",
       "      <th>60395</th>\n",
       "      <td>76</td>\n",
       "      <td>fanco</td>\n",
       "      <td>S</td>\n",
       "      <td>WV</td>\n",
       "      <td>54045</td>\n",
       "      <td>&lt;NA&gt;</td>\n",
       "      <td>2008-01-01</td>\n",
       "    </tr>\n",
       "    <tr>\n",
       "      <th>60411</th>\n",
       "      <td>77</td>\n",
       "      <td>scotts branch</td>\n",
       "      <td>S</td>\n",
       "      <td>KY</td>\n",
       "      <td>21195</td>\n",
       "      <td>&lt;NA&gt;</td>\n",
       "      <td>2008-01-01</td>\n",
       "    </tr>\n",
       "  </tbody>\n",
       "</table>\n",
       "</div>"
      ],
      "text/plain": [
       "       mine_id_pudl               mine_name mine_type_code state  \\\n",
       "0                 0          mina pribbenow             SU   COL   \n",
       "79                1            alabama coal             SU    AL   \n",
       "125               2             flat rock 2              S    AL   \n",
       "137               3           aldridge no 1              S    AL   \n",
       "247               6           aldridge no 1             SU    AL   \n",
       "272              10    kentucky -cumberland             SU    KY   \n",
       "322              12      rock mountain mine             SU    AL   \n",
       "39689            31         coal creek mine              S    WY   \n",
       "39701            32           black thunder              U    WY   \n",
       "39773            33        eagle butte mine              U    WY   \n",
       "47036            40                  sigmon              U    KY   \n",
       "47060            41                    typo              U    KY   \n",
       "51783            44           bevins branch              U    KY   \n",
       "54543            50             el cerrejon              S   COL   \n",
       "54688            51          mc coy elkhorn              U    KY   \n",
       "59423            55           black thunder              S    WY   \n",
       "59465            56    mc clane canyon mine              S    CO   \n",
       "59479            58  north anteloperochelle              S    WY   \n",
       "59502            59        new horizon mine              S    CO   \n",
       "60072            66                 tutupan              S    ID   \n",
       "60156            67                    pike              U    KY   \n",
       "60255            69               ben creek              U    WV   \n",
       "60282            70     wellmore strickland             SU    VA   \n",
       "60290            71               edna ruth             SU    VA   \n",
       "60293            72           scotts branch              U    KY   \n",
       "60307            73               toms fork              S    WV   \n",
       "60309            74           winifrede jct              S    WV   \n",
       "60315            75                 elk run              U    WV   \n",
       "60395            76                   fanco              S    WV   \n",
       "60411            77           scotts branch              S    KY   \n",
       "\n",
       "      county_id_fips  mine_id_msha report_date  \n",
       "0               None          <NA>  2008-01-01  \n",
       "79             01007          <NA>  2008-01-01  \n",
       "125            01145          <NA>  2008-01-01  \n",
       "137            01127          <NA>  2008-01-01  \n",
       "247            01127          <NA>  2008-01-01  \n",
       "272            21095          <NA>  2008-01-01  \n",
       "322            01127          <NA>  2008-01-01  \n",
       "39689          56005          <NA>  2008-01-01  \n",
       "39701          56005          <NA>  2008-01-01  \n",
       "39773          56005          <NA>  2008-01-01  \n",
       "47036          21193          <NA>  2008-01-01  \n",
       "47060          21193          <NA>  2008-01-01  \n",
       "51783          21195          <NA>  2008-01-01  \n",
       "54543           None          <NA>  2008-01-01  \n",
       "54688          21195          <NA>  2008-01-01  \n",
       "59423          56005          <NA>  2008-01-01  \n",
       "59465          08045          <NA>  2008-01-01  \n",
       "59479          56005          <NA>  2008-01-01  \n",
       "59502          08085          <NA>  2008-01-01  \n",
       "60072           None          <NA>  2008-01-01  \n",
       "60156          21045          <NA>  2008-01-01  \n",
       "60255          54059          <NA>  2008-01-01  \n",
       "60282          51027          <NA>  2008-01-01  \n",
       "60290          51051          <NA>  2008-01-01  \n",
       "60293          21195          <NA>  2008-01-01  \n",
       "60307          54039          <NA>  2008-01-01  \n",
       "60309          54039          <NA>  2008-01-01  \n",
       "60315          54005          <NA>  2008-01-01  \n",
       "60395          54045          <NA>  2008-01-01  \n",
       "60411          21195          <NA>  2008-01-01  "
      ]
     },
     "execution_count": 366,
     "metadata": {},
     "output_type": "execute_result"
    }
   ],
   "source": [
    "eia_coalmines.head(30)"
   ]
  },
  {
   "cell_type": "code",
   "execution_count": 367,
   "id": "e3d9557b-ede5-4e97-8137-31bbc2ab554f",
   "metadata": {},
   "outputs": [
    {
     "data": {
      "text/html": [
       "<div>\n",
       "<style scoped>\n",
       "    .dataframe tbody tr th:only-of-type {\n",
       "        vertical-align: middle;\n",
       "    }\n",
       "\n",
       "    .dataframe tbody tr th {\n",
       "        vertical-align: top;\n",
       "    }\n",
       "\n",
       "    .dataframe thead th {\n",
       "        text-align: right;\n",
       "    }\n",
       "</style>\n",
       "<table border=\"1\" class=\"dataframe\">\n",
       "  <thead>\n",
       "    <tr style=\"text-align: right;\">\n",
       "      <th></th>\n",
       "      <th>mine_id_pudl</th>\n",
       "      <th>mine_name</th>\n",
       "      <th>mine_type_code</th>\n",
       "      <th>state</th>\n",
       "      <th>county_id_fips</th>\n",
       "      <th>mine_id_msha</th>\n",
       "      <th>report_date</th>\n",
       "    </tr>\n",
       "  </thead>\n",
       "  <tbody>\n",
       "    <tr>\n",
       "      <th>60395</th>\n",
       "      <td>76</td>\n",
       "      <td>fanco</td>\n",
       "      <td>S</td>\n",
       "      <td>WV</td>\n",
       "      <td>54045</td>\n",
       "      <td>&lt;NA&gt;</td>\n",
       "      <td>2008-01-01</td>\n",
       "    </tr>\n",
       "    <tr>\n",
       "      <th>84247</th>\n",
       "      <td>370</td>\n",
       "      <td>fanco wv</td>\n",
       "      <td>SU</td>\n",
       "      <td>WV</td>\n",
       "      <td>54045</td>\n",
       "      <td>&lt;NA&gt;</td>\n",
       "      <td>2008-01-01</td>\n",
       "    </tr>\n",
       "    <tr>\n",
       "      <th>107781</th>\n",
       "      <td>1268</td>\n",
       "      <td>fanco</td>\n",
       "      <td>SU</td>\n",
       "      <td>WV</td>\n",
       "      <td>54045</td>\n",
       "      <td>&lt;NA&gt;</td>\n",
       "      <td>2008-05-01</td>\n",
       "    </tr>\n",
       "    <tr>\n",
       "      <th>107787</th>\n",
       "      <td>1272</td>\n",
       "      <td>fanco</td>\n",
       "      <td>US</td>\n",
       "      <td>WV</td>\n",
       "      <td>54045</td>\n",
       "      <td>&lt;NA&gt;</td>\n",
       "      <td>2008-05-01</td>\n",
       "    </tr>\n",
       "    <tr>\n",
       "      <th>110650</th>\n",
       "      <td>1497</td>\n",
       "      <td>fanco</td>\n",
       "      <td>S</td>\n",
       "      <td>WV</td>\n",
       "      <td>54039</td>\n",
       "      <td>&lt;NA&gt;</td>\n",
       "      <td>2008-07-01</td>\n",
       "    </tr>\n",
       "    <tr>\n",
       "      <th>110672</th>\n",
       "      <td>1507</td>\n",
       "      <td>fancomine co</td>\n",
       "      <td>S</td>\n",
       "      <td>WV</td>\n",
       "      <td>54045</td>\n",
       "      <td>&lt;NA&gt;</td>\n",
       "      <td>2008-07-01</td>\n",
       "    </tr>\n",
       "    <tr>\n",
       "      <th>110673</th>\n",
       "      <td>1508</td>\n",
       "      <td>fancomine co</td>\n",
       "      <td>S</td>\n",
       "      <td>KY</td>\n",
       "      <td>21071</td>\n",
       "      <td>&lt;NA&gt;</td>\n",
       "      <td>2008-07-01</td>\n",
       "    </tr>\n",
       "    <tr>\n",
       "      <th>111077</th>\n",
       "      <td>1592</td>\n",
       "      <td>fanco load</td>\n",
       "      <td>S</td>\n",
       "      <td>WV</td>\n",
       "      <td>54045</td>\n",
       "      <td>&lt;NA&gt;</td>\n",
       "      <td>2008-07-01</td>\n",
       "    </tr>\n",
       "    <tr>\n",
       "      <th>111079</th>\n",
       "      <td>1594</td>\n",
       "      <td>fanco loadout</td>\n",
       "      <td>S</td>\n",
       "      <td>WV</td>\n",
       "      <td>54039</td>\n",
       "      <td>&lt;NA&gt;</td>\n",
       "      <td>2008-07-01</td>\n",
       "    </tr>\n",
       "    <tr>\n",
       "      <th>111100</th>\n",
       "      <td>1602</td>\n",
       "      <td>fanco loadout</td>\n",
       "      <td>S</td>\n",
       "      <td>KY</td>\n",
       "      <td>21071</td>\n",
       "      <td>&lt;NA&gt;</td>\n",
       "      <td>2008-07-01</td>\n",
       "    </tr>\n",
       "    <tr>\n",
       "      <th>111774</th>\n",
       "      <td>1706</td>\n",
       "      <td>fanco</td>\n",
       "      <td>US</td>\n",
       "      <td>WV</td>\n",
       "      <td>54039</td>\n",
       "      <td>&lt;NA&gt;</td>\n",
       "      <td>2008-08-01</td>\n",
       "    </tr>\n",
       "    <tr>\n",
       "      <th>112412</th>\n",
       "      <td>1905</td>\n",
       "      <td>fanco loadout</td>\n",
       "      <td>S</td>\n",
       "      <td>WV</td>\n",
       "      <td>54045</td>\n",
       "      <td>&lt;NA&gt;</td>\n",
       "      <td>2008-10-01</td>\n",
       "    </tr>\n",
       "    <tr>\n",
       "      <th>112674</th>\n",
       "      <td>1963</td>\n",
       "      <td>fanco magnum</td>\n",
       "      <td>S</td>\n",
       "      <td>WV</td>\n",
       "      <td>54045</td>\n",
       "      <td>&lt;NA&gt;</td>\n",
       "      <td>2008-11-01</td>\n",
       "    </tr>\n",
       "    <tr>\n",
       "      <th>125691</th>\n",
       "      <td>2252</td>\n",
       "      <td>fanco</td>\n",
       "      <td>P</td>\n",
       "      <td>WV</td>\n",
       "      <td>54045</td>\n",
       "      <td>4601368</td>\n",
       "      <td>2017-06-01</td>\n",
       "    </tr>\n",
       "  </tbody>\n",
       "</table>\n",
       "</div>"
      ],
      "text/plain": [
       "        mine_id_pudl      mine_name mine_type_code state county_id_fips  \\\n",
       "60395             76          fanco              S    WV          54045   \n",
       "84247            370       fanco wv             SU    WV          54045   \n",
       "107781          1268          fanco             SU    WV          54045   \n",
       "107787          1272          fanco             US    WV          54045   \n",
       "110650          1497          fanco              S    WV          54039   \n",
       "110672          1507   fancomine co              S    WV          54045   \n",
       "110673          1508   fancomine co              S    KY          21071   \n",
       "111077          1592     fanco load              S    WV          54045   \n",
       "111079          1594  fanco loadout              S    WV          54039   \n",
       "111100          1602  fanco loadout              S    KY          21071   \n",
       "111774          1706          fanco             US    WV          54039   \n",
       "112412          1905  fanco loadout              S    WV          54045   \n",
       "112674          1963   fanco magnum              S    WV          54045   \n",
       "125691          2252          fanco              P    WV          54045   \n",
       "\n",
       "        mine_id_msha report_date  \n",
       "60395           <NA>  2008-01-01  \n",
       "84247           <NA>  2008-01-01  \n",
       "107781          <NA>  2008-05-01  \n",
       "107787          <NA>  2008-05-01  \n",
       "110650          <NA>  2008-07-01  \n",
       "110672          <NA>  2008-07-01  \n",
       "110673          <NA>  2008-07-01  \n",
       "111077          <NA>  2008-07-01  \n",
       "111079          <NA>  2008-07-01  \n",
       "111100          <NA>  2008-07-01  \n",
       "111774          <NA>  2008-08-01  \n",
       "112412          <NA>  2008-10-01  \n",
       "112674          <NA>  2008-11-01  \n",
       "125691       4601368  2017-06-01  "
      ]
     },
     "execution_count": 367,
     "metadata": {},
     "output_type": "execute_result"
    }
   ],
   "source": [
    "eia_coalmines[eia_coalmines.mine_name.str.contains(\"fanco\", na=False)]"
   ]
  },
  {
   "cell_type": "markdown",
   "id": "7e2e383a-a38b-4a78-a5c1-3c976ad92f0b",
   "metadata": {},
   "source": [
    "### Mines with MSHA ids \n",
    "- 'coal creek' has a new mine_id_msha\n",
    "- 'black thunder'\n",
    "- 'eagle butte mine'\n",
    "- 'mc clane canyon mine'\n",
    "- 'north anteloperochelle' but with a typo\n",
    "- 'new horizon mine'\n",
    "- 'scotts branch'\n",
    "### Mines without MSHA ids\n",
    "- 'sigmon'\n",
    "- 'ben creek'\n",
    "- 'wellmore strickland' maybe?!\n",
    "- 'edna ruth' maybe\n",
    "- 'toms fork' maybe\n",
    "- 'winifrede jct' maybe\n",
    "- 'elk run'"
   ]
  },
  {
   "cell_type": "markdown",
   "id": "f995b76d-0c93-49c3-8c9f-6e264fc4f815",
   "metadata": {},
   "source": [
    "## Resolve some duplicates with exact matching\n",
    "Fill in some missing msha ids where there is an exact match with the mine_name and the county_id_fips. "
   ]
  },
  {
   "cell_type": "code",
   "execution_count": 445,
   "id": "a32d8c84-b62a-4158-8d1c-27b11565935e",
   "metadata": {},
   "outputs": [
    {
     "data": {
      "text/plain": [
       "True     0.585802\n",
       "False    0.414198\n",
       "Name: mine_id_msha, dtype: float64"
      ]
     },
     "execution_count": 445,
     "metadata": {},
     "output_type": "execute_result"
    }
   ],
   "source": [
    "eia_coalmines = pd.concat([deduped_mines_without_msha_ids, deduped_mines_with_msha_ids])\n",
    "eia_coalmines.mine_id_msha.isna().value_counts(normalize=True)"
   ]
  },
  {
   "cell_type": "code",
   "execution_count": 446,
   "id": "cd46fcea-5aec-4d9d-8042-2edc42e63f49",
   "metadata": {},
   "outputs": [
    {
     "data": {
      "text/plain": [
       "False    2899\n",
       "True      510\n",
       "dtype: int64"
      ]
     },
     "execution_count": 446,
     "metadata": {},
     "output_type": "execute_result"
    }
   ],
   "source": [
    "eia_coalmines.duplicated(subset=[\"county_id_fips\", \"mine_name\"]).value_counts()"
   ]
  },
  {
   "cell_type": "code",
   "execution_count": 447,
   "id": "a1a2be3f-12a3-46d6-9485-dcb3fe2c9fdb",
   "metadata": {},
   "outputs": [
    {
     "data": {
      "text/plain": [
       "False    2626\n",
       "True      783\n",
       "dtype: int64"
      ]
     },
     "execution_count": 447,
     "metadata": {},
     "output_type": "execute_result"
    }
   ],
   "source": [
    "is_duplicate_mine = eia_coalmines.duplicated(subset=[\"county_id_fips\", \"mine_name\"], keep=False) & eia_coalmines.mine_id_msha.isna()\n",
    "is_duplicate_mine.value_counts()"
   ]
  },
  {
   "cell_type": "code",
   "execution_count": 448,
   "id": "5682bcfa-3926-4cf1-93a4-5c55b95294f4",
   "metadata": {},
   "outputs": [
    {
     "data": {
      "text/plain": [
       "False    0.5377\n",
       "True     0.4623\n",
       "Name: mine_id_msha, dtype: float64"
      ]
     },
     "execution_count": 448,
     "metadata": {},
     "output_type": "execute_result"
    }
   ],
   "source": [
    "eia_coalmines = eia_coalmines[~is_duplicate_mine]\n",
    "eia_coalmines.mine_id_msha.isna().value_counts(normalize=True)"
   ]
  },
  {
   "cell_type": "code",
   "execution_count": 449,
   "id": "2c7ba6c1-1823-493c-8bd6-a95e5aa0bfed",
   "metadata": {},
   "outputs": [
    {
     "data": {
      "text/plain": [
       "<AxesSubplot:>"
      ]
     },
     "execution_count": 449,
     "metadata": {},
     "output_type": "execute_result"
    },
    {
     "data": {
      "image/png": "[encoded data removed]",
      "text/plain": [
       "<Figure size 640x480 with 1 Axes>"
      ]
     },
     "metadata": {},
     "output_type": "display_data"
    }
   ],
   "source": [
    "eia_coalmines[eia_coalmines.mine_id_msha.isna()].report_date.dt.year.value_counts().sort_index().plot.bar()"
   ]
  },
  {
   "cell_type": "markdown",
   "id": "ec102f1d-bd86-4875-ba6b-48599279aa94",
   "metadata": {},
   "source": [
    "Using exact matching the percent of coalmines missing msha ids went from 59% to 46%. Most of the mines missing MSHA ids are still in 2008. This could be improved by doing fuzzy string comparisons between mine names in the same county. "
   ]
  },
  {
   "cell_type": "markdown",
   "id": "507f9a77-4831-4825-89eb-fc6a156b17fd",
   "metadata": {},
   "source": [
    "## Entity Resolution (WIP)"
   ]
  },
  {
   "cell_type": "code",
   "execution_count": 545,
   "id": "30dc3b33-c5ed-4beb-82e2-f22541e4d284",
   "metadata": {},
   "outputs": [],
   "source": [
    "# eia_coalmines = pd.concat([mines_without_msha_ids, mines_with_msha_ids])\n",
    "mines_without_msha_ids = eia_coalmines[eia_coalmines.mine_id_msha.isna()]\n",
    "mines_with_msha_ids = eia_coalmines[~eia_coalmines.mine_id_msha.isna()]"
   ]
  },
  {
   "cell_type": "code",
   "execution_count": 585,
   "id": "ccd8e6c1-3208-4b74-b35e-3bd3791f86bf",
   "metadata": {},
   "outputs": [],
   "source": [
    "import recordlinkage\n",
    "from recordlinkage.datasets import load_febrl1\n",
    "\n",
    "# Indexation step\n",
    "indexer = recordlinkage.Index()\n",
    "indexer.block(left_on=\"county_id_fips\")\n",
    "candidate_links = indexer.index(mines_without_msha_ids, mines_with_msha_ids)\n",
    "\n",
    "# Comparison step\n",
    "compare_cl = recordlinkage.Compare()\n",
    "\n",
    "compare_cl.exact(\"county_id_fips\", \"county_id_fips\", label=\"county_id_fips\")\n",
    "compare_cl.exact(\"mine_type_code\", \"mine_type_code\", label=\"mine_type_code\")\n",
    "# compare_cl.exact(\"mine_id_msha\", \"mine_id_msha\", label=\"mine_id_msha\", missing_value=1)\n",
    "compare_cl.string(\"mine_name\", \"mine_name\", method=\"jarowinkler\", threshold=0.85, label=\"surname\")\n",
    "features = compare_cl.compute(candidate_links, mines_without_msha_ids, mines_with_msha_ids)"
   ]
  },
  {
   "cell_type": "code",
   "execution_count": 586,
   "id": "02293f4e-502d-45d7-85e0-4bc05a57e186",
   "metadata": {},
   "outputs": [
    {
     "data": {
      "text/plain": [
       "<AxesSubplot:ylabel='Frequency'>"
      ]
     },
     "execution_count": 586,
     "metadata": {},
     "output_type": "execute_result"
    },
    {
     "data": {
      "image/png": "[encoded data removed]",
      "text/plain": [
       "<Figure size 640x480 with 1 Axes>"
      ]
     },
     "metadata": {},
     "output_type": "display_data"
    }
   ],
   "source": [
    "features.sum(axis=1).plot.hist()"
   ]
  },
  {
   "cell_type": "code",
   "execution_count": 588,
   "id": "1f2e3dea-b703-4194-9d42-e0cf0165dd7d",
   "metadata": {},
   "outputs": [
    {
     "name": "stdout",
     "output_type": "stream",
     "text": [
      "131\n"
     ]
    }
   ],
   "source": [
    "# Classification step\n",
    "matches = features[features.sum(axis=1) >= 3]\n",
    "print(len(matches))"
   ]
  },
  {
   "cell_type": "code",
   "execution_count": 589,
   "id": "c7e9ec22-8421-4318-9825-0188bfdeb566",
   "metadata": {},
   "outputs": [
    {
     "data": {
      "text/html": [
       "<div>\n",
       "<style scoped>\n",
       "    .dataframe tbody tr th:only-of-type {\n",
       "        vertical-align: middle;\n",
       "    }\n",
       "\n",
       "    .dataframe tbody tr th {\n",
       "        vertical-align: top;\n",
       "    }\n",
       "\n",
       "    .dataframe thead th {\n",
       "        text-align: right;\n",
       "    }\n",
       "</style>\n",
       "<table border=\"1\" class=\"dataframe\">\n",
       "  <thead>\n",
       "    <tr style=\"text-align: right;\">\n",
       "      <th></th>\n",
       "      <th></th>\n",
       "      <th>county_id_fips</th>\n",
       "      <th>mine_type_code</th>\n",
       "      <th>surname</th>\n",
       "    </tr>\n",
       "  </thead>\n",
       "  <tbody>\n",
       "    <tr>\n",
       "      <th>40126</th>\n",
       "      <th>117512</th>\n",
       "      <td>1</td>\n",
       "      <td>1</td>\n",
       "      <td>1.0</td>\n",
       "    </tr>\n",
       "    <tr>\n",
       "      <th>46785</th>\n",
       "      <th>117512</th>\n",
       "      <td>1</td>\n",
       "      <td>1</td>\n",
       "      <td>1.0</td>\n",
       "    </tr>\n",
       "    <tr>\n",
       "      <th>1432</th>\n",
       "      <th>98745</th>\n",
       "      <td>1</td>\n",
       "      <td>1</td>\n",
       "      <td>1.0</td>\n",
       "    </tr>\n",
       "    <tr>\n",
       "      <th>10254</th>\n",
       "      <th>602311</th>\n",
       "      <td>1</td>\n",
       "      <td>1</td>\n",
       "      <td>1.0</td>\n",
       "    </tr>\n",
       "    <tr>\n",
       "      <th>31676</th>\n",
       "      <th>388840</th>\n",
       "      <td>1</td>\n",
       "      <td>1</td>\n",
       "      <td>1.0</td>\n",
       "    </tr>\n",
       "    <tr>\n",
       "      <th>...</th>\n",
       "      <th>...</th>\n",
       "      <td>...</td>\n",
       "      <td>...</td>\n",
       "      <td>...</td>\n",
       "    </tr>\n",
       "    <tr>\n",
       "      <th>47115</th>\n",
       "      <th>122742</th>\n",
       "      <td>1</td>\n",
       "      <td>1</td>\n",
       "      <td>1.0</td>\n",
       "    </tr>\n",
       "    <tr>\n",
       "      <th>34222</th>\n",
       "      <th>76122</th>\n",
       "      <td>1</td>\n",
       "      <td>1</td>\n",
       "      <td>1.0</td>\n",
       "    </tr>\n",
       "    <tr>\n",
       "      <th>36463</th>\n",
       "      <th>383522</th>\n",
       "      <td>1</td>\n",
       "      <td>1</td>\n",
       "      <td>1.0</td>\n",
       "    </tr>\n",
       "    <tr>\n",
       "      <th>41166</th>\n",
       "      <th>535096</th>\n",
       "      <td>1</td>\n",
       "      <td>1</td>\n",
       "      <td>1.0</td>\n",
       "    </tr>\n",
       "    <tr>\n",
       "      <th>46464</th>\n",
       "      <th>535096</th>\n",
       "      <td>1</td>\n",
       "      <td>1</td>\n",
       "      <td>1.0</td>\n",
       "    </tr>\n",
       "  </tbody>\n",
       "</table>\n",
       "<p>131 rows × 3 columns</p>\n",
       "</div>"
      ],
      "text/plain": [
       "              county_id_fips  mine_type_code  surname\n",
       "40126 117512               1               1      1.0\n",
       "46785 117512               1               1      1.0\n",
       "1432  98745                1               1      1.0\n",
       "10254 602311               1               1      1.0\n",
       "31676 388840               1               1      1.0\n",
       "...                      ...             ...      ...\n",
       "47115 122742               1               1      1.0\n",
       "34222 76122                1               1      1.0\n",
       "36463 383522               1               1      1.0\n",
       "41166 535096               1               1      1.0\n",
       "46464 535096               1               1      1.0\n",
       "\n",
       "[131 rows x 3 columns]"
      ]
     },
     "execution_count": 589,
     "metadata": {},
     "output_type": "execute_result"
    }
   ],
   "source": [
    "matches"
   ]
  },
  {
   "cell_type": "code",
   "execution_count": 590,
   "id": "45bf3a08-c485-4a6e-8632-546c7f21b2bd",
   "metadata": {},
   "outputs": [
    {
     "data": {
      "text/html": [
       "<div>\n",
       "<style scoped>\n",
       "    .dataframe tbody tr th:only-of-type {\n",
       "        vertical-align: middle;\n",
       "    }\n",
       "\n",
       "    .dataframe tbody tr th {\n",
       "        vertical-align: top;\n",
       "    }\n",
       "\n",
       "    .dataframe thead th {\n",
       "        text-align: right;\n",
       "    }\n",
       "</style>\n",
       "<table border=\"1\" class=\"dataframe\">\n",
       "  <thead>\n",
       "    <tr style=\"text-align: right;\">\n",
       "      <th></th>\n",
       "      <th></th>\n",
       "      <th>county_id_fips</th>\n",
       "      <th>mine_type_code</th>\n",
       "      <th>surname</th>\n",
       "    </tr>\n",
       "  </thead>\n",
       "  <tbody>\n",
       "    <tr>\n",
       "      <th>40126</th>\n",
       "      <th>117512</th>\n",
       "      <td>1</td>\n",
       "      <td>1</td>\n",
       "      <td>1.0</td>\n",
       "    </tr>\n",
       "    <tr>\n",
       "      <th>46785</th>\n",
       "      <th>117512</th>\n",
       "      <td>1</td>\n",
       "      <td>1</td>\n",
       "      <td>1.0</td>\n",
       "    </tr>\n",
       "    <tr>\n",
       "      <th>1432</th>\n",
       "      <th>98745</th>\n",
       "      <td>1</td>\n",
       "      <td>1</td>\n",
       "      <td>1.0</td>\n",
       "    </tr>\n",
       "    <tr>\n",
       "      <th>10254</th>\n",
       "      <th>602311</th>\n",
       "      <td>1</td>\n",
       "      <td>1</td>\n",
       "      <td>1.0</td>\n",
       "    </tr>\n",
       "    <tr>\n",
       "      <th>31676</th>\n",
       "      <th>388840</th>\n",
       "      <td>1</td>\n",
       "      <td>1</td>\n",
       "      <td>1.0</td>\n",
       "    </tr>\n",
       "    <tr>\n",
       "      <th>...</th>\n",
       "      <th>...</th>\n",
       "      <td>...</td>\n",
       "      <td>...</td>\n",
       "      <td>...</td>\n",
       "    </tr>\n",
       "    <tr>\n",
       "      <th>47115</th>\n",
       "      <th>122742</th>\n",
       "      <td>1</td>\n",
       "      <td>1</td>\n",
       "      <td>1.0</td>\n",
       "    </tr>\n",
       "    <tr>\n",
       "      <th>34222</th>\n",
       "      <th>76122</th>\n",
       "      <td>1</td>\n",
       "      <td>1</td>\n",
       "      <td>1.0</td>\n",
       "    </tr>\n",
       "    <tr>\n",
       "      <th>36463</th>\n",
       "      <th>383522</th>\n",
       "      <td>1</td>\n",
       "      <td>1</td>\n",
       "      <td>1.0</td>\n",
       "    </tr>\n",
       "    <tr>\n",
       "      <th>41166</th>\n",
       "      <th>535096</th>\n",
       "      <td>1</td>\n",
       "      <td>1</td>\n",
       "      <td>1.0</td>\n",
       "    </tr>\n",
       "    <tr>\n",
       "      <th>46464</th>\n",
       "      <th>535096</th>\n",
       "      <td>1</td>\n",
       "      <td>1</td>\n",
       "      <td>1.0</td>\n",
       "    </tr>\n",
       "  </tbody>\n",
       "</table>\n",
       "<p>131 rows × 3 columns</p>\n",
       "</div>"
      ],
      "text/plain": [
       "              county_id_fips  mine_type_code  surname\n",
       "40126 117512               1               1      1.0\n",
       "46785 117512               1               1      1.0\n",
       "1432  98745                1               1      1.0\n",
       "10254 602311               1               1      1.0\n",
       "31676 388840               1               1      1.0\n",
       "...                      ...             ...      ...\n",
       "47115 122742               1               1      1.0\n",
       "34222 76122                1               1      1.0\n",
       "36463 383522               1               1      1.0\n",
       "41166 535096               1               1      1.0\n",
       "46464 535096               1               1      1.0\n",
       "\n",
       "[131 rows x 3 columns]"
      ]
     },
     "execution_count": 590,
     "metadata": {},
     "output_type": "execute_result"
    }
   ],
   "source": [
    "matches"
   ]
  },
  {
   "cell_type": "code",
   "execution_count": 592,
   "id": "45b58f2a-2855-470e-bd35-d7c00fd569ad",
   "metadata": {},
   "outputs": [
    {
     "data": {
      "text/html": [
       "<div>\n",
       "<style scoped>\n",
       "    .dataframe tbody tr th:only-of-type {\n",
       "        vertical-align: middle;\n",
       "    }\n",
       "\n",
       "    .dataframe tbody tr th {\n",
       "        vertical-align: top;\n",
       "    }\n",
       "\n",
       "    .dataframe thead th {\n",
       "        text-align: right;\n",
       "    }\n",
       "</style>\n",
       "<table border=\"1\" class=\"dataframe\">\n",
       "  <thead>\n",
       "    <tr style=\"text-align: right;\">\n",
       "      <th></th>\n",
       "      <th>mine_id_pudl</th>\n",
       "      <th>mine_name</th>\n",
       "      <th>mine_type_code</th>\n",
       "      <th>state</th>\n",
       "      <th>county_id_fips</th>\n",
       "      <th>mine_id_msha</th>\n",
       "      <th>report_date</th>\n",
       "    </tr>\n",
       "  </thead>\n",
       "  <tbody>\n",
       "    <tr>\n",
       "      <th>40126</th>\n",
       "      <td>1748</td>\n",
       "      <td>highsplont</td>\n",
       "      <td>U</td>\n",
       "      <td>KY</td>\n",
       "      <td>21095</td>\n",
       "      <td>&lt;NA&gt;</td>\n",
       "      <td>2008-08-01</td>\n",
       "    </tr>\n",
       "  </tbody>\n",
       "</table>\n",
       "</div>"
      ],
      "text/plain": [
       "       mine_id_pudl   mine_name mine_type_code state county_id_fips  mine_id_msha report_date\n",
       "40126          1748  highsplont              U    KY          21095          <NA>  2008-08-01"
      ]
     },
     "metadata": {},
     "output_type": "display_data"
    },
    {
     "data": {
      "text/html": [
       "<div>\n",
       "<style scoped>\n",
       "    .dataframe tbody tr th:only-of-type {\n",
       "        vertical-align: middle;\n",
       "    }\n",
       "\n",
       "    .dataframe tbody tr th {\n",
       "        vertical-align: top;\n",
       "    }\n",
       "\n",
       "    .dataframe thead th {\n",
       "        text-align: right;\n",
       "    }\n",
       "</style>\n",
       "<table border=\"1\" class=\"dataframe\">\n",
       "  <thead>\n",
       "    <tr style=\"text-align: right;\">\n",
       "      <th></th>\n",
       "      <th>mine_id_pudl</th>\n",
       "      <th>mine_name</th>\n",
       "      <th>mine_type_code</th>\n",
       "      <th>state</th>\n",
       "      <th>county_id_fips</th>\n",
       "      <th>mine_id_msha</th>\n",
       "      <th>report_date</th>\n",
       "    </tr>\n",
       "  </thead>\n",
       "  <tbody>\n",
       "    <tr>\n",
       "      <th>117512</th>\n",
       "      <td>852</td>\n",
       "      <td>highsplint</td>\n",
       "      <td>U</td>\n",
       "      <td>KY</td>\n",
       "      <td>21095</td>\n",
       "      <td>1518196</td>\n",
       "      <td>2009-12-01</td>\n",
       "    </tr>\n",
       "  </tbody>\n",
       "</table>\n",
       "</div>"
      ],
      "text/plain": [
       "        mine_id_pudl   mine_name mine_type_code state county_id_fips  mine_id_msha report_date\n",
       "117512           852  highsplint              U    KY          21095       1518196  2009-12-01"
      ]
     },
     "execution_count": 592,
     "metadata": {},
     "output_type": "execute_result"
    }
   ],
   "source": [
    "display(mines_without_msha_ids.loc[[40126]])\n",
    "mines_with_msha_ids.loc[[117512]]"
   ]
  },
  {
   "cell_type": "code",
   "execution_count": 593,
   "id": "bc14de21-d915-4ff8-97f5-1cff678ea6df",
   "metadata": {},
   "outputs": [],
   "source": [
    "import networkx as nx\n",
    "G = nx.Graph()\n",
    "G.add_edges_from(matches.index.to_list())\n",
    "\n",
    "components = [com for com in nx.connected_components(G)]"
   ]
  },
  {
   "cell_type": "code",
   "execution_count": 601,
   "id": "96d68bf2-5ceb-464f-a124-f05647b760e1",
   "metadata": {},
   "outputs": [
    {
     "data": {
      "text/plain": [
       "[{40126, 46785, 117512},\n",
       " {1432, 98745},\n",
       " {10254, 602311},\n",
       " {31676, 388840},\n",
       " {43371, 119093},\n",
       " {47820, 546175},\n",
       " {58093, 259788},\n",
       " {215, 57171, 118086, 177212, 600776},\n",
       " {2076, 601674},\n",
       " {2780, 601055, 601649},\n",
       " {12378, 57175, 600801},\n",
       " {17481, 565341},\n",
       " {17482, 49114, 59344, 600987},\n",
       " {25363, 600754},\n",
       " {49120, 600782},\n",
       " {1449, 39371, 93708},\n",
       " {336, 15137, 516025},\n",
       " {22382, 264046, 352436},\n",
       " {546, 12279, 389049},\n",
       " {2747, 67820, 392738},\n",
       " {25424, 539245},\n",
       " {2015, 7041, 601317},\n",
       " {911, 323315},\n",
       " {923, 575585},\n",
       " {53520, 601507},\n",
       " {914, 177033},\n",
       " {915, 324560},\n",
       " {1067, 583403},\n",
       " {17500, 601136},\n",
       " {12173, 92688},\n",
       " {2919, 602459},\n",
       " {8744, 8776, 601799},\n",
       " {27886, 277302},\n",
       " {15114, 601314},\n",
       " {33156, 328396},\n",
       " {1189, 483672},\n",
       " {1351, 2006, 5986, 400095},\n",
       " {1566, 7553, 600948},\n",
       " {6672, 600763},\n",
       " {1355, 42810, 590362},\n",
       " {1990, 7033, 460525},\n",
       " {2329, 2334, 413886},\n",
       " {20913, 601094},\n",
       " {3801, 601049},\n",
       " {42559, 390179},\n",
       " {2243, 12084, 434346},\n",
       " {27342, 324578},\n",
       " {1512, 601647},\n",
       " {336133, 384720},\n",
       " {416562, 466745},\n",
       " {1609, 31792, 602310},\n",
       " {16355, 31799, 47967, 177468},\n",
       " {1613, 351121},\n",
       " {21849, 601327},\n",
       " {1618, 18490, 39577, 43722, 545929},\n",
       " {1619, 23523, 118567},\n",
       " {1620, 118566},\n",
       " {4222, 535118},\n",
       " {4209, 535114},\n",
       " {26921, 158207},\n",
       " {26930, 79263},\n",
       " {1986, 3699, 179548},\n",
       " {7025, 351253},\n",
       " {11742, 366921},\n",
       " {53403, 58524},\n",
       " {2361, 177930},\n",
       " {2364, 267025},\n",
       " {1998, 600951},\n",
       " {2187, 16982, 37934, 466565},\n",
       " {48777, 104623},\n",
       " {22763, 33285, 70079},\n",
       " {2570, 33101, 49189, 498348, 600947},\n",
       " {39990, 600878},\n",
       " {26640, 48113, 54070, 59200, 460938},\n",
       " {2577, 601653},\n",
       " {2583, 56843, 601583},\n",
       " {21818, 602288},\n",
       " {3968, 600912},\n",
       " {4036, 377409},\n",
       " {6655, 600921},\n",
       " {27531, 601298},\n",
       " {10146, 489204},\n",
       " {15002, 600813},\n",
       " {17357, 47115, 122742},\n",
       " {34222, 76122},\n",
       " {36463, 383522},\n",
       " {41166, 46464, 535096}]"
      ]
     },
     "execution_count": 601,
     "metadata": {},
     "output_type": "execute_result"
    }
   ],
   "source": [
    "components"
   ]
  },
  {
   "cell_type": "code",
   "execution_count": 602,
   "id": "535bbe31-b46d-4bd6-bc69-f69cbea3bd9a",
   "metadata": {},
   "outputs": [
    {
     "data": {
      "text/html": [
       "<div>\n",
       "<style scoped>\n",
       "    .dataframe tbody tr th:only-of-type {\n",
       "        vertical-align: middle;\n",
       "    }\n",
       "\n",
       "    .dataframe tbody tr th {\n",
       "        vertical-align: top;\n",
       "    }\n",
       "\n",
       "    .dataframe thead th {\n",
       "        text-align: right;\n",
       "    }\n",
       "</style>\n",
       "<table border=\"1\" class=\"dataframe\">\n",
       "  <thead>\n",
       "    <tr style=\"text-align: right;\">\n",
       "      <th></th>\n",
       "      <th>mine_id_pudl</th>\n",
       "      <th>mine_name</th>\n",
       "      <th>mine_type_code</th>\n",
       "      <th>state</th>\n",
       "      <th>county_id_fips</th>\n",
       "      <th>mine_id_msha</th>\n",
       "      <th>report_date</th>\n",
       "    </tr>\n",
       "  </thead>\n",
       "  <tbody>\n",
       "    <tr>\n",
       "      <th>118086</th>\n",
       "      <td>125</td>\n",
       "      <td>north antelope mine</td>\n",
       "      <td>S</td>\n",
       "      <td>WY</td>\n",
       "      <td>56005</td>\n",
       "      <td>4801375</td>\n",
       "      <td>2009-12-01</td>\n",
       "    </tr>\n",
       "    <tr>\n",
       "      <th>600776</th>\n",
       "      <td>4555</td>\n",
       "      <td>north antelope rochelle mine</td>\n",
       "      <td>S</td>\n",
       "      <td>WY</td>\n",
       "      <td>56005</td>\n",
       "      <td>4801353</td>\n",
       "      <td>2021-12-01</td>\n",
       "    </tr>\n",
       "    <tr>\n",
       "      <th>57171</th>\n",
       "      <td>2012</td>\n",
       "      <td>north antelop mine</td>\n",
       "      <td>S</td>\n",
       "      <td>WY</td>\n",
       "      <td>56005</td>\n",
       "      <td>&lt;NA&gt;</td>\n",
       "      <td>2008-12-01</td>\n",
       "    </tr>\n",
       "    <tr>\n",
       "      <th>215</th>\n",
       "      <td>58</td>\n",
       "      <td>north anteloperochelle</td>\n",
       "      <td>S</td>\n",
       "      <td>WY</td>\n",
       "      <td>56005</td>\n",
       "      <td>&lt;NA&gt;</td>\n",
       "      <td>2008-01-01</td>\n",
       "    </tr>\n",
       "    <tr>\n",
       "      <th>177212</th>\n",
       "      <td>2848</td>\n",
       "      <td>north antelope rochelle mine</td>\n",
       "      <td>S</td>\n",
       "      <td>WY</td>\n",
       "      <td>56005</td>\n",
       "      <td>48011353</td>\n",
       "      <td>2010-12-01</td>\n",
       "    </tr>\n",
       "  </tbody>\n",
       "</table>\n",
       "</div>"
      ],
      "text/plain": [
       "        mine_id_pudl                     mine_name mine_type_code state county_id_fips  mine_id_msha report_date\n",
       "118086           125           north antelope mine              S    WY          56005       4801375  2009-12-01\n",
       "600776          4555  north antelope rochelle mine              S    WY          56005       4801353  2021-12-01\n",
       "57171           2012            north antelop mine              S    WY          56005          <NA>  2008-12-01\n",
       "215               58        north anteloperochelle              S    WY          56005          <NA>  2008-01-01\n",
       "177212          2848  north antelope rochelle mine              S    WY          56005      48011353  2010-12-01"
      ]
     },
     "execution_count": 602,
     "metadata": {},
     "output_type": "execute_result"
    }
   ],
   "source": [
    "eia_coalmines.loc[list(components[7])]"
   ]
  },
  {
   "cell_type": "markdown",
   "id": "f06baf14-ad5e-4a8e-bd22-efa5fe3c3a82",
   "metadata": {},
   "source": []
  }
 ],
 "metadata": {
  "kernelspec": {
   "display_name": "Python 3 (ipykernel)",
   "language": "python",
   "name": "python3"
  },
  "language_info": {
   "codemirror_mode": {
    "name": "ipython",
    "version": 3
   },
   "file_extension": ".py",
   "mimetype": "text/x-python",
   "name": "python",
   "nbconvert_exporter": "python",
   "pygments_lexer": "ipython3",
   "version": "3.10.6"
  }
 },
 "nbformat": 4,
 "nbformat_minor": 5
}
