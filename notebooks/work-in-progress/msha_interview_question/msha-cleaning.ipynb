{
 "cells": [
  {
   "cell_type": "markdown",
   "id": "74818c79-89c9-4801-a461-9e7802c02190",
   "metadata": {},
   "source": [
    "# Purpose\n",
    "This notebooks cleans the MSHA mine dataset. It does not attempt to link MSHA data with the coalmine_eia923 table."
   ]
  },
  {
   "cell_type": "code",
   "execution_count": 1,
   "id": "01a4c34c-ff9b-4e62-b44a-4e17388dc615",
   "metadata": {},
   "outputs": [],
   "source": [
    "import pandas as pd\n",
    "\n",
    "zipfile_path = \"https://arlweb.msha.gov/OpenGovernmentData/DataSets/Mines.zip\"\n",
    "\n",
    "def extract_msha_data(zipfile_path: str):\n",
    "    mines = pd.read_csv(zipfile_path, sep=\"|\", encoding=\"latin_1\")\n",
    "    mines.columns = [column.lower() for column in mines.columns]\n",
    "    return mines"
   ]
  },
  {
   "cell_type": "code",
   "execution_count": 2,
   "id": "12aa69e8-8464-4bfa-938e-79ef04125941",
   "metadata": {},
   "outputs": [],
   "source": [
    "mines = extract_msha_data(zipfile_path)"
   ]
  },
  {
   "cell_type": "code",
   "execution_count": 3,
   "id": "da70e3e9-7deb-4678-962f-914c08932a3c",
   "metadata": {},
   "outputs": [
    {
     "name": "stdout",
     "output_type": "stream",
     "text": [
      "<class 'pandas.core.frame.DataFrame'>\n",
      "RangeIndex: 89781 entries, 0 to 89780\n",
      "Data columns (total 59 columns):\n",
      " #   Column                       Non-Null Count  Dtype  \n",
      "---  ------                       --------------  -----  \n",
      " 0   mine_id                      89781 non-null  int64  \n",
      " 1   current_mine_name            89780 non-null  object \n",
      " 2   coal_metal_ind               89781 non-null  object \n",
      " 3   current_mine_type            89470 non-null  object \n",
      " 4   current_mine_status          89781 non-null  object \n",
      " 5   current_status_dt            89781 non-null  object \n",
      " 6   current_controller_id        88877 non-null  object \n",
      " 7   current_controller_name      88877 non-null  object \n",
      " 8   current_operator_id          88942 non-null  object \n",
      " 9   current_operator_name        89781 non-null  object \n",
      " 10  state                        89781 non-null  object \n",
      " 11  bom_state_cd                 89781 non-null  int64  \n",
      " 12  fips_cnty_cd                 89781 non-null  int64  \n",
      " 13  fips_cnty_nm                 89781 non-null  object \n",
      " 14  cong_dist_cd                 68583 non-null  float64\n",
      " 15  company_type                 88942 non-null  object \n",
      " 16  current_controller_begin_dt  88942 non-null  object \n",
      " 17  district                     89781 non-null  object \n",
      " 18  office_cd                    89781 non-null  object \n",
      " 19  office_name                  89781 non-null  object \n",
      " 20  assess_ctrl_no               36097 non-null  object \n",
      " 21  primary_sic_cd               89314 non-null  float64\n",
      " 22  primary_sic                  89314 non-null  object \n",
      " 23  primary_sic_cd_1             89314 non-null  float64\n",
      " 24  primary_sic_cd_sfx           89314 non-null  float64\n",
      " 25  secondary_sic_cd             754 non-null    float64\n",
      " 26  secondary_sic                754 non-null    object \n",
      " 27  secondary_sic_cd_1           754 non-null    float64\n",
      " 28  secondary_sic_cd_sfx         754 non-null    float64\n",
      " 29  primary_canvass_cd           89314 non-null  float64\n",
      " 30  primary_canvass              89314 non-null  object \n",
      " 31  secondary_canvass_cd         754 non-null    float64\n",
      " 32  secondary_canvass            754 non-null    object \n",
      " 33  current_103i                 43012 non-null  object \n",
      " 34  current_103i_dt              19815 non-null  object \n",
      " 35  portable_operation           89781 non-null  object \n",
      " 36  portable_fips_st_cd          13961 non-null  float64\n",
      " 37  days_per_week                89781 non-null  int64  \n",
      " 38  hours_per_shift              33716 non-null  float64\n",
      " 39  prod_shifts_per_day          35623 non-null  float64\n",
      " 40  maint_shifts_per_day         31000 non-null  float64\n",
      " 41  no_employees                 49857 non-null  float64\n",
      " 42  part48_training              89781 non-null  object \n",
      " 43  longitude                    40498 non-null  float64\n",
      " 44  latitude                     40498 non-null  float64\n",
      " 45  avg_mine_height              15403 non-null  float64\n",
      " 46  mine_gas_category_cd         323 non-null    object \n",
      " 47  methane_liberation           9800 non-null   float64\n",
      " 48  no_producing_pits            8331 non-null   float64\n",
      " 49  no_nonproducing_pits         14334 non-null  float64\n",
      " 50  no_tailing_ponds             29000 non-null  float64\n",
      " 51  pillar_recovery_used         89781 non-null  object \n",
      " 52  highwall_miner_used          89781 non-null  object \n",
      " 53  multiple_pits                89781 non-null  object \n",
      " 54  miners_rep_ind               89781 non-null  object \n",
      " 55  safety_committee_ind         89781 non-null  object \n",
      " 56  miles_from_office            89781 non-null  int64  \n",
      " 57  directions_to_mine           33867 non-null  object \n",
      " 58  nearest_town                 52703 non-null  object \n",
      "dtypes: float64(21), int64(5), object(33)\n",
      "memory usage: 40.4+ MB\n"
     ]
    }
   ],
   "source": [
    "mines.info()"
   ]
  },
  {
   "cell_type": "markdown",
   "id": "816063f4-f08d-416c-8f8a-99a04fdaea0c",
   "metadata": {},
   "source": [
    "## Correct dtypes"
   ]
  },
  {
   "cell_type": "markdown",
   "id": "7bf3cbc5-b717-4332-8429-15cd57405cc0",
   "metadata": {},
   "source": [
    "### Correct datetime types\n",
    "There are a handful of date columns that need to be converted to datetime objects:\n",
    "- `current_status_dt`\n",
    "- `current_controller_begin_dt`\n",
    "- `current_103i_dt`"
   ]
  },
  {
   "cell_type": "code",
   "execution_count": 4,
   "id": "a708f870-6e40-4125-bc37-669e2c807996",
   "metadata": {},
   "outputs": [
    {
     "data": {
      "text/html": [
       "<div>\n",
       "<style scoped>\n",
       "    .dataframe tbody tr th:only-of-type {\n",
       "        vertical-align: middle;\n",
       "    }\n",
       "\n",
       "    .dataframe tbody tr th {\n",
       "        vertical-align: top;\n",
       "    }\n",
       "\n",
       "    .dataframe thead th {\n",
       "        text-align: right;\n",
       "    }\n",
       "</style>\n",
       "<table border=\"1\" class=\"dataframe\">\n",
       "  <thead>\n",
       "    <tr style=\"text-align: right;\">\n",
       "      <th></th>\n",
       "      <th>current_status_date</th>\n",
       "      <th>current_controller_begin_date</th>\n",
       "      <th>current_103i_date</th>\n",
       "    </tr>\n",
       "  </thead>\n",
       "  <tbody>\n",
       "    <tr>\n",
       "      <th>0</th>\n",
       "      <td>1979-01-22</td>\n",
       "      <td>1989-07-01</td>\n",
       "      <td>NaT</td>\n",
       "    </tr>\n",
       "    <tr>\n",
       "      <th>1</th>\n",
       "      <td>2003-03-04</td>\n",
       "      <td>2000-06-14</td>\n",
       "      <td>NaT</td>\n",
       "    </tr>\n",
       "    <tr>\n",
       "      <th>2</th>\n",
       "      <td>1989-08-15</td>\n",
       "      <td>1989-07-31</td>\n",
       "      <td>NaT</td>\n",
       "    </tr>\n",
       "    <tr>\n",
       "      <th>3</th>\n",
       "      <td>1976-09-24</td>\n",
       "      <td>2002-01-17</td>\n",
       "      <td>NaT</td>\n",
       "    </tr>\n",
       "    <tr>\n",
       "      <th>4</th>\n",
       "      <td>1975-11-14</td>\n",
       "      <td>1950-01-01</td>\n",
       "      <td>NaT</td>\n",
       "    </tr>\n",
       "  </tbody>\n",
       "</table>\n",
       "</div>"
      ],
      "text/plain": [
       "  current_status_date current_controller_begin_date current_103i_date\n",
       "0          1979-01-22                    1989-07-01               NaT\n",
       "1          2003-03-04                    2000-06-14               NaT\n",
       "2          1989-08-15                    1989-07-31               NaT\n",
       "3          1976-09-24                    2002-01-17               NaT\n",
       "4          1975-11-14                    1950-01-01               NaT"
      ]
     },
     "execution_count": 4,
     "metadata": {},
     "output_type": "execute_result"
    }
   ],
   "source": [
    "date_fields = [\"current_status_dt\", \"current_controller_begin_dt\", \"current_103i_dt\"]\n",
    "for field in date_fields:\n",
    "    mines[field] = pd.to_datetime(mines[field])\n",
    "    \n",
    "date_field_rename_map = {field_name: field_name[:-2] + \"date\" for field_name in date_fields}\n",
    "mines = mines.rename(columns=date_field_rename_map)\n",
    "mines[date_field_rename_map.values()].head()"
   ]
  },
  {
   "cell_type": "markdown",
   "id": "cdb9418f-a66a-43ed-982f-ceddd69317d1",
   "metadata": {},
   "source": [
    "### Correct integer types\n",
    "There are some integer columns that pandas interprets as floats because pandas assumes numeric data with missing values are floats."
   ]
  },
  {
   "cell_type": "code",
   "execution_count": 5,
   "id": "16fc2187-95a8-472d-ad5e-68ff182db279",
   "metadata": {},
   "outputs": [
    {
     "data": {
      "text/plain": [
       "days_per_week           Int64\n",
       "hours_per_shift         Int64\n",
       "prod_shifts_per_day     Int64\n",
       "maint_shifts_per_day    Int64\n",
       "no_employees            Int64\n",
       "avg_mine_height         Int64\n",
       "methane_liberation      Int64\n",
       "no_producing_pits       Int64\n",
       "no_nonproducing_pits    Int64\n",
       "no_tailing_ponds        Int64\n",
       "miles_from_office       Int64\n",
       "dtype: object"
      ]
     },
     "execution_count": 5,
     "metadata": {},
     "output_type": "execute_result"
    }
   ],
   "source": [
    "int_fields = [\n",
    "    'days_per_week',\n",
    "    'hours_per_shift',\n",
    "    'prod_shifts_per_day',\n",
    "    'maint_shifts_per_day',\n",
    "    'no_employees',\n",
    "    'avg_mine_height',\n",
    "    'methane_liberation',\n",
    "    'no_producing_pits',\n",
    "    'no_nonproducing_pits',\n",
    "    'no_tailing_ponds',\n",
    "    'miles_from_office'\n",
    "]\n",
    "\n",
    "for field in int_fields:\n",
    "    mines[field] = mines[field].astype(\"Int64\")\n",
    "    \n",
    "mines[int_fields].dtypes"
   ]
  },
  {
   "cell_type": "markdown",
   "id": "0c909f3e-e249-4b6a-acd8-b02162624197",
   "metadata": {},
   "source": [
    "## More mine table cleaning"
   ]
  },
  {
   "cell_type": "markdown",
   "id": "48de934b-a503-4d69-bd7c-4d31ce8f352e",
   "metadata": {},
   "source": [
    "### Inspect missing values"
   ]
  },
  {
   "cell_type": "code",
   "execution_count": 6,
   "id": "5770ba28-1181-4dad-aec9-dece349297e3",
   "metadata": {},
   "outputs": [
    {
     "data": {
      "text/plain": [
       "mine_id                              0\n",
       "current_mine_name                    1\n",
       "coal_metal_ind                       0\n",
       "current_mine_type                  311\n",
       "current_mine_status                  0\n",
       "current_status_date                  0\n",
       "current_controller_id              904\n",
       "current_controller_name            904\n",
       "current_operator_id                839\n",
       "current_operator_name                0\n",
       "state                                0\n",
       "bom_state_cd                         0\n",
       "fips_cnty_cd                         0\n",
       "fips_cnty_nm                         0\n",
       "cong_dist_cd                     21198\n",
       "company_type                       839\n",
       "current_controller_begin_date      839\n",
       "district                             0\n",
       "office_cd                            0\n",
       "office_name                          0\n",
       "assess_ctrl_no                   53684\n",
       "primary_sic_cd                     467\n",
       "primary_sic                        467\n",
       "primary_sic_cd_1                   467\n",
       "primary_sic_cd_sfx                 467\n",
       "secondary_sic_cd                 89027\n",
       "secondary_sic                    89027\n",
       "secondary_sic_cd_1               89027\n",
       "secondary_sic_cd_sfx             89027\n",
       "primary_canvass_cd                 467\n",
       "primary_canvass                    467\n",
       "secondary_canvass_cd             89027\n",
       "secondary_canvass                89027\n",
       "current_103i                     46769\n",
       "current_103i_date                69966\n",
       "portable_operation                   0\n",
       "portable_fips_st_cd              75820\n",
       "days_per_week                        0\n",
       "hours_per_shift                  56065\n",
       "prod_shifts_per_day              54158\n",
       "maint_shifts_per_day             58781\n",
       "no_employees                     39924\n",
       "part48_training                      0\n",
       "longitude                        49283\n",
       "latitude                         49283\n",
       "avg_mine_height                  74378\n",
       "mine_gas_category_cd             89458\n",
       "methane_liberation               79981\n",
       "no_producing_pits                81450\n",
       "no_nonproducing_pits             75447\n",
       "no_tailing_ponds                 60781\n",
       "pillar_recovery_used                 0\n",
       "highwall_miner_used                  0\n",
       "multiple_pits                        0\n",
       "miners_rep_ind                       0\n",
       "safety_committee_ind                 0\n",
       "miles_from_office                    0\n",
       "directions_to_mine               55914\n",
       "nearest_town                     37078\n",
       "dtype: int64"
      ]
     },
     "execution_count": 6,
     "metadata": {},
     "output_type": "execute_result"
    }
   ],
   "source": [
    "mines.isna().sum()"
   ]
  },
  {
   "cell_type": "markdown",
   "id": "3c078269-ad31-4ed5-a744-d36e6794f1a5",
   "metadata": {},
   "source": [
    "#### `current_mine_type`"
   ]
  },
  {
   "cell_type": "code",
   "execution_count": 7,
   "id": "cd9e88a0-7cc6-41c7-bdf8-3b4e4135290a",
   "metadata": {},
   "outputs": [
    {
     "data": {
      "text/plain": [
       "Abandoned               0.744255\n",
       "Abandoned and Sealed    0.097393\n",
       "Active                  0.071106\n",
       "Intermittent            0.062708\n",
       "Temporarily Idled       0.013600\n",
       "New Mine                0.006750\n",
       "NonProducing            0.004188\n",
       "Name: current_mine_status, dtype: float64"
      ]
     },
     "execution_count": 7,
     "metadata": {},
     "output_type": "execute_result"
    }
   ],
   "source": [
    "mines.current_mine_status.value_counts(normalize=True)"
   ]
  },
  {
   "cell_type": "code",
   "execution_count": 8,
   "id": "1e2a2e38-8503-4916-8082-1f502f29a2af",
   "metadata": {},
   "outputs": [
    {
     "data": {
      "text/plain": [
       "New Mine     0.794212\n",
       "Abandoned    0.202572\n",
       "Active       0.003215\n",
       "Name: current_mine_status, dtype: float64"
      ]
     },
     "execution_count": 8,
     "metadata": {},
     "output_type": "execute_result"
    }
   ],
   "source": [
    "mines[mines.current_mine_type.isna()].current_mine_status.value_counts(normalize=True)"
   ]
  },
  {
   "cell_type": "markdown",
   "id": "ea055c09-ce6d-40ed-b577-7bde57ea0636",
   "metadata": {},
   "source": [
    "There are a few hundred mines that are missing current_mine_type. A disporpotionate nubmer of them are new mines so maybe mines don't receive a type until they are active?"
   ]
  },
  {
   "cell_type": "markdown",
   "id": "ed567752-41f3-4524-8c0e-0992e47e68a5",
   "metadata": {},
   "source": [
    "#### `current_controller_id`"
   ]
  },
  {
   "cell_type": "code",
   "execution_count": 9,
   "id": "0dce1611-2235-4f7c-9f87-ee3d967a6a5f",
   "metadata": {},
   "outputs": [
    {
     "name": "stdout",
     "output_type": "stream",
     "text": [
      "current_controller_name\n",
      "True                       904\n",
      "dtype: int64\n",
      "\n",
      "current_operator_id\n",
      "True                   839\n",
      "False                   65\n",
      "dtype: int64\n",
      "\n",
      "current_operator_name\n",
      "False                    904\n",
      "dtype: int64\n"
     ]
    }
   ],
   "source": [
    "print(mines[mines.current_controller_id.isna()][[\"current_controller_name\"]].isna().value_counts())\n",
    "print()\n",
    "print(mines[mines.current_controller_id.isna()][[\"current_operator_id\"]].isna().value_counts())\n",
    "print()\n",
    "print(mines[mines.current_controller_id.isna()][[\"current_operator_name\"]].isna().value_counts())"
   ]
  },
  {
   "cell_type": "markdown",
   "id": "28aae91e-0be9-4afa-9910-962098a3fc11",
   "metadata": {},
   "source": [
    "All ~900 mines missing controller ids are also missing controller names. 837 of these mines 902 are missing operator ids but all of the them have operator names. Maybe these mines were last updated when MSHA only reported operator names?"
   ]
  },
  {
   "cell_type": "markdown",
   "id": "c530351f-7baa-4921-9a7c-3661cae3796a",
   "metadata": {},
   "source": [
    "#### `current_operator_id`"
   ]
  },
  {
   "cell_type": "code",
   "execution_count": 10,
   "id": "4d67a75d-b4c3-41d9-b57c-2690e532f5cd",
   "metadata": {},
   "outputs": [
    {
     "name": "stdout",
     "output_type": "stream",
     "text": [
      "False    88942\n",
      "True       839\n",
      "Name: current_operator_id, dtype: int64\n",
      "\n",
      "False    89781\n",
      "Name: current_operator_name, dtype: int64\n"
     ]
    }
   ],
   "source": [
    "print(mines.current_operator_id.isna().value_counts())\n",
    "print()\n",
    "print(mines.current_operator_name.isna().value_counts())"
   ]
  },
  {
   "cell_type": "markdown",
   "id": "23c6408c-a621-4941-9574-b61b7288d384",
   "metadata": {},
   "source": [
    "It looks like the 837 mines without an operator_id also don't have a controller_id. However, every mine has an operator name. I could using an entity resolution tool to assign operator ids to the records with missing ids using the current_operator_name."
   ]
  },
  {
   "cell_type": "markdown",
   "id": "c287d3b7-07d4-4ff7-9a78-e9ca6884a8de",
   "metadata": {},
   "source": [
    "#### `cong_dist_cd`"
   ]
  },
  {
   "cell_type": "code",
   "execution_count": 11,
   "id": "052376d3-b6e9-4c66-a1d5-bc7d016ad087",
   "metadata": {},
   "outputs": [
    {
     "name": "stdout",
     "output_type": "stream",
     "text": [
      "False    12022\n",
      "True      9176\n",
      "Name: longitude, dtype: int64\n",
      "\n",
      "False    20516\n",
      "True       682\n",
      "Name: nearest_town, dtype: int64\n"
     ]
    }
   ],
   "source": [
    "print(mines[mines.cong_dist_cd.isna()][\"longitude\"].isna().value_counts())\n",
    "print()\n",
    "print(mines[mines.cong_dist_cd.isna()].nearest_town.isna().value_counts())"
   ]
  },
  {
   "cell_type": "markdown",
   "id": "b4bc6a03-1ded-4dc3-9218-b112fe0bf642",
   "metadata": {},
   "source": [
    "Almost a quarter of mines are missing congressional district codes. However, many of the records missing congressional district codes have geographic information like long, lat and nearest town that could be used to impute congressional district codes."
   ]
  },
  {
   "cell_type": "markdown",
   "id": "e86e7c65-bdde-485e-8c48-aee7a2b5533c",
   "metadata": {},
   "source": [
    "## Data Structure\n",
    "Is there a unique identifier for the data? Is there data that can be noramlized?"
   ]
  },
  {
   "cell_type": "markdown",
   "id": "78d89194-8ff3-49fd-a04c-e3d4fc35240e",
   "metadata": {},
   "source": [
    "### Unique ID"
   ]
  },
  {
   "cell_type": "code",
   "execution_count": 12,
   "id": "2fd7565e-85fe-42ea-b918-cfd651f0c0e4",
   "metadata": {},
   "outputs": [
    {
     "data": {
      "text/plain": [
       "True"
      ]
     },
     "execution_count": 12,
     "metadata": {},
     "output_type": "execute_result"
    }
   ],
   "source": [
    "mines.mine_id.is_unique"
   ]
  },
  {
   "cell_type": "markdown",
   "id": "79efcded-cddb-4151-a60e-99dbcea9609f",
   "metadata": {},
   "source": [
    "Amazing! The `mine_id` is a unique identifier for the data. Are the mine entities actually unique though?"
   ]
  },
  {
   "cell_type": "code",
   "execution_count": 13,
   "id": "8f02dfbf-6803-4998-8ed8-7c8e4808db4a",
   "metadata": {},
   "outputs": [
    {
     "data": {
      "text/plain": [
       "False    89760\n",
       "True        21\n",
       "dtype: int64"
      ]
     },
     "execution_count": 13,
     "metadata": {},
     "output_type": "execute_result"
    }
   ],
   "source": [
    "mine_fields = mines.columns.to_list()\n",
    "mine_fields.remove(\"mine_id\")\n",
    "duplicate_mines = mines[mine_fields].duplicated(keep=False)\n",
    "duplicate_mines.value_counts()"
   ]
  },
  {
   "cell_type": "markdown",
   "id": "66406c28-4599-4aa8-a14d-450eee052443",
   "metadata": {},
   "source": [
    "Unfortantely, there are a few mines with multiple msha_ids. I'm hesitant to drop the duplicates because I don't know which msha ids are used in other datasets. A possible solution would be to remove duplicate msha ids in this dataset that do not appear in other MSHA datasets."
   ]
  },
  {
   "cell_type": "markdown",
   "id": "5947b2a7-abc6-4997-83d9-ac0350ce8810",
   "metadata": {
    "tags": []
   },
   "source": [
    "### Controller and Operators\n",
    "It looks like there are some entities called controllers and mines that might be associated with multiple mines. Lets pull them out into separate tables."
   ]
  },
  {
   "cell_type": "code",
   "execution_count": 14,
   "id": "42e41bba-7b40-43e7-94c6-8de8a214d900",
   "metadata": {},
   "outputs": [
    {
     "data": {
      "text/plain": [
       "count    40269.000000\n",
       "mean         2.207082\n",
       "std          8.282999\n",
       "min          1.000000\n",
       "25%          1.000000\n",
       "50%          1.000000\n",
       "75%          2.000000\n",
       "max        951.000000\n",
       "Name: mine_id, dtype: float64"
      ]
     },
     "execution_count": 14,
     "metadata": {},
     "output_type": "execute_result"
    }
   ],
   "source": [
    "mines.groupby(\"current_controller_id\").mine_id.count().describe()"
   ]
  },
  {
   "cell_type": "code",
   "execution_count": 15,
   "id": "3803dcf2-edab-4fed-aa6a-0ba6a0a9a8ae",
   "metadata": {},
   "outputs": [
    {
     "data": {
      "text/plain": [
       "count    48977.000000\n",
       "mean         1.815995\n",
       "std          3.553414\n",
       "min          1.000000\n",
       "25%          1.000000\n",
       "50%          1.000000\n",
       "75%          2.000000\n",
       "max        285.000000\n",
       "Name: mine_id, dtype: float64"
      ]
     },
     "execution_count": 15,
     "metadata": {},
     "output_type": "execute_result"
    }
   ],
   "source": [
    "mines.groupby(\"current_operator_id\").mine_id.count().describe()"
   ]
  },
  {
   "cell_type": "markdown",
   "id": "119a78a6-fccd-45bf-8b87-0b0f98c6a4cd",
   "metadata": {},
   "source": [
    "It looks like controllers and operators can be associated with multiple mines."
   ]
  },
  {
   "cell_type": "markdown",
   "id": "56fc2f40-0ac5-46c4-83ea-6689c0134dba",
   "metadata": {},
   "source": [
    "#### Controllers"
   ]
  },
  {
   "cell_type": "code",
   "execution_count": 16,
   "id": "b8874c43-fa55-41c1-b72f-b7d057a08dee",
   "metadata": {},
   "outputs": [
    {
     "name": "stdout",
     "output_type": "stream",
     "text": [
      "False    88877\n",
      "True       904\n",
      "Name: current_controller_id, dtype: int64\n",
      "\n",
      "False    88877\n",
      "True       904\n",
      "Name: current_controller_name, dtype: int64\n"
     ]
    }
   ],
   "source": [
    "print(mines.current_controller_id.isna().value_counts())\n",
    "print()\n",
    "print(mines.current_controller_name.isna().value_counts())"
   ]
  },
  {
   "cell_type": "markdown",
   "id": "5d7be0bb-b5ba-40a3-8bef-8cef51a4af52",
   "metadata": {},
   "source": [
    "There are 902 mines that don't have a controller name or controller id so it is safe to create a separate controller table."
   ]
  },
  {
   "cell_type": "code",
   "execution_count": 17,
   "id": "27452098-f8e8-4ac0-a18c-9f9e480ab7e4",
   "metadata": {},
   "outputs": [],
   "source": [
    "controller_field_rename_map = {\"current_controller_id\": \"controller_id\", \"current_controller_name\": \"controller_name\"}\n",
    "\n",
    "controllers = mines[controller_field_rename_map.keys()].copy()\n",
    "controllers = controllers.drop_duplicates()\n",
    "\n",
    "mines = mines.drop(columns=\"current_controller_name\")\n",
    "controllers = controllers.rename(columns=controller_field_rename_map)"
   ]
  },
  {
   "cell_type": "code",
   "execution_count": 18,
   "id": "8079f2d6-1d8f-4b04-9a5d-5b75e961295d",
   "metadata": {},
   "outputs": [
    {
     "name": "stdout",
     "output_type": "stream",
     "text": [
      "count    39941.000000\n",
      "mean         1.009164\n",
      "std          0.103838\n",
      "min          1.000000\n",
      "25%          1.000000\n",
      "50%          1.000000\n",
      "75%          1.000000\n",
      "max          4.000000\n",
      "Name: controller_name, dtype: float64\n"
     ]
    },
    {
     "data": {
      "text/plain": [
       "Bennett James               4\n",
       "Smith David                 4\n",
       "Rock Products Inc           4\n",
       "Sterling Coal Company       4\n",
       "Sharp Charles               3\n",
       "Meade Coal Company          3\n",
       "Bear Branch Coal Company    3\n",
       "Royal Coal Company          3\n",
       "Betsy Kay Coal Co           3\n",
       "Wright Larry                3\n",
       "Name: controller_name, dtype: int64"
      ]
     },
     "execution_count": 18,
     "metadata": {},
     "output_type": "execute_result"
    }
   ],
   "source": [
    "controller_name_counts = controllers.controller_name.value_counts()\n",
    "print(controller_name_counts.describe())\n",
    "controller_name_counts.head(10)"
   ]
  },
  {
   "cell_type": "markdown",
   "id": "84df420d-319e-4c8f-b569-5bac7a874990",
   "metadata": {},
   "source": [
    "A majority of controller ids are associated with unique controller names however there a few controller names that have multiple ids. We could pick a canonical controller id for each controller name and propagate the changes in the mines table. "
   ]
  },
  {
   "cell_type": "markdown",
   "id": "93e78fc9-b209-493b-a619-369fe589192a",
   "metadata": {},
   "source": [
    "#### Operators"
   ]
  },
  {
   "cell_type": "code",
   "execution_count": 19,
   "id": "f79369a0-8be9-410b-9bd4-ee397a7ad7ea",
   "metadata": {},
   "outputs": [
    {
     "name": "stdout",
     "output_type": "stream",
     "text": [
      "False    88942\n",
      "True       839\n",
      "Name: current_operator_id, dtype: int64\n",
      "\n",
      "False    89781\n",
      "Name: current_operator_name, dtype: int64\n"
     ]
    }
   ],
   "source": [
    "print(mines.current_operator_id.isna().value_counts())\n",
    "print()\n",
    "print(mines.current_operator_name.isna().value_counts())"
   ]
  },
  {
   "cell_type": "markdown",
   "id": "d7d1a806-3714-4ada-a062-f20f6548de20",
   "metadata": {},
   "source": [
    "837 mines are missing operator ids but none are missing operator names. Therefore, creating a separate operators table and dropping the operator name from the mines table would result in in a loss of information. I'm still going to create an operators data frame to better understand the missing and duplicate data."
   ]
  },
  {
   "cell_type": "code",
   "execution_count": 20,
   "id": "054dfb08-a5c6-4a72-9ffe-cc6aaebac3af",
   "metadata": {},
   "outputs": [],
   "source": [
    "operator_field_rename_map = {\"current_operator_id\": \"operator_id\", \"current_operator_name\": \"operator_name\"}\n",
    "\n",
    "operators = mines[operator_field_rename_map.keys()].copy()\n",
    "operators = operators.drop_duplicates()\n",
    "\n",
    "# mines = mines.drop(columns=\"current_operator_name\")\n",
    "operators = operators.rename(columns=operator_field_rename_map)"
   ]
  },
  {
   "cell_type": "code",
   "execution_count": 21,
   "id": "9309e515-7cdf-4136-b2f0-a16b03e0162e",
   "metadata": {},
   "outputs": [
    {
     "name": "stdout",
     "output_type": "stream",
     "text": [
      "count    51870.000000\n",
      "mean         1.061307\n",
      "std          0.380891\n",
      "min          1.000000\n",
      "25%          1.000000\n",
      "50%          1.000000\n",
      "75%          1.000000\n",
      "max         20.000000\n",
      "Name: operator_name, dtype: float64\n"
     ]
    },
    {
     "data": {
      "text/plain": [
       "Ligon Preparation Company    20\n",
       "B & B Coal Company           20\n",
       "Smith Coal Company           16\n",
       "M & M Coal Company           15\n",
       "C & C Coal Company           14\n",
       "H & H Coal Company           12\n",
       "B & M Coal Company           12\n",
       "C & H Coal Company           11\n",
       "R & R Coal Company           10\n",
       "C & S Coal Company            9\n",
       "Name: operator_name, dtype: int64"
      ]
     },
     "execution_count": 21,
     "metadata": {},
     "output_type": "execute_result"
    }
   ],
   "source": [
    "operator_name_counts = operators.operator_name.value_counts()\n",
    "print(operator_name_counts.describe())\n",
    "operator_name_counts.head(10)"
   ]
  },
  {
   "cell_type": "markdown",
   "id": "ae2a7b51-49d3-4e4f-a812-f3862959678d",
   "metadata": {},
   "source": [
    "Like controllers, operator ids are mostly associated with unique operator names but there are some operator names associated with multiple operator ids.\n",
    "\n",
    "Some additional cleaning I could do with these operator and controller names:\n",
    "- Pick a canonical name for each ID and propagate the new id into the mines table. This would allow us to see all mines operated by a single operator using operator ID.\n",
    "- Standardize company strings (LLC, Llc, LLC., INC., Inc, inc) and ensure comapny names are in Title Case.\n",
    "- Better understand the differences between operators and controllers. Is there overlap between the entities? Can we create an additional table of mining companies so we can find mines a company operators and controls with a single ID?\n",
    "- Find additional duplicate operators and controllers using an entity resolution tool. \n",
    "- Impute missing operator ids using an entity resolution tool or exact matching."
   ]
  },
  {
   "cell_type": "markdown",
   "id": "f3d8885c-e254-45a5-8f34-63e94b6cd121",
   "metadata": {},
   "source": [
    "#### `primary_sic_cd`\n",
    "Standard Industrial Classification Code (SIC) code for the primary commodity at mines could be a separate table."
   ]
  },
  {
   "cell_type": "code",
   "execution_count": 22,
   "id": "281dfc34-0406-4d1d-8de8-472b59f7a588",
   "metadata": {},
   "outputs": [],
   "source": [
    "mines[\"primary_sic_cd\"] = mines[\"primary_sic_cd\"].astype(\"Int64\")"
   ]
  },
  {
   "cell_type": "code",
   "execution_count": 23,
   "id": "06f409ea-21f0-46e5-8447-b18028854ca9",
   "metadata": {},
   "outputs": [
    {
     "name": "stdout",
     "output_type": "stream",
     "text": [
      "120\n",
      "120\n",
      "\n",
      "Coal (Bituminous)                33711\n",
      "Construction Sand and Gravel     28266\n",
      "Crushed, Broken Limestone NEC     6489\n",
      "Gold Ore                          2984\n",
      "Crushed, Broken Stone NEC         2720\n",
      "Dimension Stone NEC               1579\n",
      "Coal (Anthracite)                 1546\n",
      "Crushed, Broken Traprock          1151\n",
      "Sand, Common                       959\n",
      "Common Clays NEC                   744\n",
      "Name: primary_sic, dtype: int64\n"
     ]
    }
   ],
   "source": [
    "print(mines.primary_sic.nunique())\n",
    "print(mines.primary_sic_cd.nunique())\n",
    "print()\n",
    "print(mines.primary_sic.value_counts().head(10))"
   ]
  },
  {
   "cell_type": "code",
   "execution_count": 24,
   "id": "5b7f9de7-5a7e-41cb-b74f-c30f4f6020c8",
   "metadata": {},
   "outputs": [
    {
     "name": "stdout",
     "output_type": "stream",
     "text": [
      "False    89314\n",
      "True       467\n",
      "Name: primary_sic_cd, dtype: int64\n",
      "\n",
      "False    89314\n",
      "True       467\n",
      "Name: primary_sic, dtype: int64\n",
      "\n"
     ]
    },
    {
     "data": {
      "text/plain": [
       "False"
      ]
     },
     "execution_count": 24,
     "metadata": {},
     "output_type": "execute_result"
    }
   ],
   "source": [
    "print(mines.primary_sic_cd.isna().value_counts())\n",
    "print()\n",
    "print(mines.primary_sic.isna().value_counts())\n",
    "print()\n",
    "\n",
    "# Are there any records that have a primary_sic description but no code? \n",
    "(~mines.primary_sic.isna() & mines.primary_sic_cd.isna()).any()"
   ]
  },
  {
   "cell_type": "markdown",
   "id": "79d7b6d5-e2dc-4f76-ab7b-3397182c1c67",
   "metadata": {},
   "source": [
    "There a few hundred records missing primary_sic information but there are no records that have a primary_sic description but no code which means it's safe to extract a separate table."
   ]
  },
  {
   "cell_type": "code",
   "execution_count": 25,
   "id": "b8d3e33f-59aa-479b-8492-3ae7ae2240ff",
   "metadata": {},
   "outputs": [],
   "source": [
    "sic_field_rename_map = {\"primary_sic_cd\": \"primary_sic_code\", \"primary_sic\": \"primary_sic_desc\"}\n",
    "\n",
    "primary_sic = mines[sic_field_rename_map.keys()].copy()\n",
    "primary_sic = primary_sic.drop_duplicates()\n",
    "\n",
    "mines = mines.drop(columns=\"primary_sic\")\n",
    "primary_sic = primary_sic.rename(columns=sic_field_rename_map)"
   ]
  },
  {
   "cell_type": "code",
   "execution_count": 26,
   "id": "e5da562d-7dfd-4cb4-b26d-ad73a1e91400",
   "metadata": {},
   "outputs": [],
   "source": [
    "assert primary_sic.primary_sic_desc.is_unique"
   ]
  },
  {
   "cell_type": "markdown",
   "id": "2c49c8f1-0753-4d85-a3ab-0df9735e82b8",
   "metadata": {},
   "source": [
    "Amazing. The primary sic descriptions are actually unique."
   ]
  }
 ],
 "metadata": {
  "kernelspec": {
   "display_name": "Python 3 (ipykernel)",
   "language": "python",
   "name": "python3"
  },
  "language_info": {
   "codemirror_mode": {
    "name": "ipython",
    "version": 3
   },
   "file_extension": ".py",
   "mimetype": "text/x-python",
   "name": "python",
   "nbconvert_exporter": "python",
   "pygments_lexer": "ipython3",
   "version": "3.10.6"
  }
 },
 "nbformat": 4,
 "nbformat_minor": 5
}
