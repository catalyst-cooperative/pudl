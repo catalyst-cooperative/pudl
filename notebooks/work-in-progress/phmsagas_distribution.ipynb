{
 "cells": [
  {
   "cell_type": "markdown",
   "metadata": {},
   "source": [
    "## Load the data"
   ]
  },
  {
   "cell_type": "code",
   "execution_count": 2,
   "metadata": {},
   "outputs": [],
   "source": [
    "from dagster import AssetKey\n",
    "from pudl.etl import defs\n",
    "import pandas as pd\n",
    "from pudl.helpers import zero_pad_numeric_string, standardize_phone_column, standardize_na_values\n",
    "import numpy as np\n",
    "import re\n",
    "from pudl.metadata.dfs import POLITICAL_SUBDIVISIONS"
   ]
  },
  {
   "cell_type": "code",
   "execution_count": 3,
   "metadata": {},
   "outputs": [
    {
     "name": "stderr",
     "output_type": "stream",
     "text": [
      "No dagster instance configuration file (dagster.yaml) found at /Users/sam/Documents/pudl-data/dagster_home. Defaulting to loading and storing all metadata with /Users/sam/Documents/pudl-data/dagster_home. If this is the desired behavior, create an empty dagster.yaml file in /Users/sam/Documents/pudl-data/dagster_home.\n",
      "2024-11-01 08:12:44 -0400 - dagster - DEBUG - system - Loading file from: /Users/sam/Documents/pudl-data/dagster_home/storage/raw_phmsagas__yearly_distribution using PickledObjectFilesystemIOManager...\n"
     ]
    }
   ],
   "source": [
    "raw_df = defs.load_asset_value(AssetKey(\"raw_phmsagas__yearly_distribution\"))"
   ]
  },
  {
   "cell_type": "markdown",
   "metadata": {},
   "source": [
    "## core_phmsagas__yearly_distribution_operators"
   ]
  },
  {
   "cell_type": "code",
   "execution_count": 4,
   "metadata": {},
   "outputs": [],
   "source": [
    "df = raw_df[[\n",
    "    \"report_date\",\n",
    "    \"report_number\",\n",
    "    \"report_submission_type\",\n",
    "    \"report_year\",\n",
    "    \"operator_id_phmsa\",\n",
    "    \"operator_name_phmsa\",\n",
    "    \"office_address_street\",\n",
    "    \"office_address_city\",\n",
    "    \"office_address_state\",\n",
    "    \"office_address_zip\",\n",
    "    \"office_address_county\",\n",
    "    \"headquarters_address_street\",\n",
    "    \"headquarters_address_city\",\n",
    "    \"headquarters_address_state\",\n",
    "    \"headquarters_address_zip\",\n",
    "    \"headquarters_address_county\",\n",
    "    \"excavation_damage_excavation_practices\",\n",
    "    \"excavation_damage_locating_practices\",\n",
    "    \"excavation_damage_one_call_notification\",\n",
    "    \"excavation_damage_other\",\n",
    "    \"excavation_damage_total\",\n",
    "    \"excavation_tickets\",\n",
    "    \"services_efv_in_system\",\n",
    "    \"services_efv_installed\",\n",
    "    \"services_shutoff_valve_in_system\",\n",
    "    \"services_shutoff_valve_installed\",\n",
    "    \"federal_land_leaks_repaired_or_scheduled\",\n",
    "    \"percent_unaccounted_for_gas\",\n",
    "    \"additional_information\",\n",
    "    \"preparer_email\",\n",
    "    \"preparer_fax\",\n",
    "    \"preparer_name\",\n",
    "    \"preparer_phone\",\n",
    "    \"preparer_title\"\n",
    "]]"
   ]
  },
  {
   "cell_type": "code",
   "execution_count": 5,
   "metadata": {},
   "outputs": [
    {
     "name": "stderr",
     "output_type": "stream",
     "text": [
      "/var/folders/0k/_f6292f54rd6y6x_3m47kq1h0000gp/T/ipykernel_34150/333100233.py:18: SettingWithCopyWarning: \n",
      "A value is trying to be set on a copy of a slice from a DataFrame.\n",
      "Try using .loc[row_indexer,col_indexer] = value instead\n",
      "\n",
      "See the caveats in the documentation: https://pandas.pydata.org/pandas-docs/stable/user_guide/indexing.html#returning-a-view-versus-a-copy\n",
      "  df[columns_to_convert] = df[columns_to_convert].astype(\"Int64\")\n"
     ]
    }
   ],
   "source": [
    "# Convert columns to ints\n",
    "# Excluded \"federal_land_leaks_repaired_or_scheduled\" from this list since there were a couple rows with decimal values\n",
    "columns_to_convert = [\n",
    "    \"report_year\",\n",
    "    \"report_number\",\n",
    "    \"operator_id_phmsa\",\n",
    "    \"excavation_damage_excavation_practices\",\n",
    "    \"excavation_damage_locating_practices\",\n",
    "    \"excavation_damage_one_call_notification\",\n",
    "    \"excavation_damage_other\",\n",
    "    \"excavation_damage_total\",\n",
    "    \"excavation_tickets\",\n",
    "    \"services_efv_in_system\",\n",
    "    \"services_efv_installed\",\n",
    "    \"services_shutoff_valve_in_system\",\n",
    "    \"services_shutoff_valve_installed\"\n",
    "]\n",
    "df[columns_to_convert] = df[columns_to_convert].astype(\"Int64\")"
   ]
  },
  {
   "cell_type": "code",
   "execution_count": 6,
   "metadata": {},
   "outputs": [],
   "source": [
    "# Ensure all \"report_year\" values have four digits\n",
    "mask = df[\"report_year\"] < 100\n",
    "\n",
    "# Convert 2-digit years to appropriate 4-digit format (assume cutoff at year 50)\n",
    "# We could also use the first 4 digits of the \"report_number\" but there was at least one anomaly here with an invalid year\n",
    "df.loc[mask, \"report_year\"] = df.loc[mask, \"report_year\"].apply(\n",
    "    lambda x: 2000 + x if x < 50 else 1900 + x\n",
    ")"
   ]
  },
  {
   "cell_type": "markdown",
   "metadata": {},
   "source": [
    "### Operator Table Tasks"
   ]
  },
  {
   "cell_type": "markdown",
   "metadata": {},
   "source": [
    "#### Standardize NAs"
   ]
  },
  {
   "cell_type": "code",
   "execution_count": 7,
   "metadata": {},
   "outputs": [
    {
     "name": "stderr",
     "output_type": "stream",
     "text": [
      "/var/folders/0k/_f6292f54rd6y6x_3m47kq1h0000gp/T/ipykernel_34150/3067155886.py:17: SettingWithCopyWarning: \n",
      "A value is trying to be set on a copy of a slice from a DataFrame.\n",
      "Try using .loc[row_indexer,col_indexer] = value instead\n",
      "\n",
      "See the caveats in the documentation: https://pandas.pydata.org/pandas-docs/stable/user_guide/indexing.html#returning-a-view-versus-a-copy\n",
      "  df[columns_to_fill] = df[columns_to_fill].fillna(0)\n",
      "/Users/sam/Documents/pudl/src/pudl/helpers.py:1024: FutureWarning: Downcasting behavior in `replace` is deprecated and will be removed in a future version. To retain the old behavior, explicitly call `result.infer_objects(copy=False)`. To opt-in to the future behavior, set `pd.set_option('future.no_silent_downcasting', True)`\n",
      "  return df.replace(regex=r\"(^\\.$|^\\s*$|^-+$)\", value=np.nan)\n"
     ]
    }
   ],
   "source": [
    "# Fill NA values with zeroes because these columns are simply counts.\n",
    "# Note that \"excavation_damage...\" columns should sum up to the value in \"excavation_damage_total\". However, many rows\n",
    "# (on the scale of thousands) do not actually sum up to \"excavation_damage_total\".\n",
    "columns_to_fill = [\n",
    "    \"excavation_damage_excavation_practices\",\n",
    "    \"excavation_damage_locating_practices\",\n",
    "    \"excavation_damage_one_call_notification\",\n",
    "    \"excavation_damage_other\",\n",
    "    \"excavation_damage_total\",\n",
    "    \"excavation_tickets\",\n",
    "    \"services_efv_in_system\",\n",
    "    \"services_efv_installed\",\n",
    "    \"services_shutoff_valve_in_system\",\n",
    "    \"services_shutoff_valve_installed\",\n",
    "    \"federal_land_leaks_repaired_or_scheduled\"\n",
    "]\n",
    "df[columns_to_fill] = df[columns_to_fill].fillna(0)\n",
    "\n",
    "# Fill in bad strings\n",
    "df = standardize_na_values(df)"
   ]
  },
  {
   "cell_type": "markdown",
   "metadata": {},
   "source": [
    "#### Standardize case for city, county, operator name, etc."
   ]
  },
  {
   "cell_type": "code",
   "execution_count": 8,
   "metadata": {},
   "outputs": [],
   "source": [
    "# Capitalize the first letter of each word in all object-type columns except the excluded ones\n",
    "exclude_columns = ['headquarters_address_state', 'office_address_state']\n",
    "df[df.select_dtypes(include=['object']).columns.difference(exclude_columns)] = \\\n",
    "    df[df.select_dtypes(include=['object']).columns.difference(exclude_columns)].apply(lambda col: col.str.title())"
   ]
  },
  {
   "cell_type": "code",
   "execution_count": 9,
   "metadata": {},
   "outputs": [],
   "source": [
    "# Standardize state abbreviations\n",
    "# First create a dictionary of state names to abbreviations\n",
    "state_to_abbr = {\n",
    "    x.subdivision_name: x.subdivision_code\n",
    "    for x in POLITICAL_SUBDIVISIONS.itertuples()\n",
    "    if x.country_code == \"USA\" and x.subdivision_type == \"state\"\n",
    "}\n",
    "# Add abbreviations to the dictionary\n",
    "state_to_abbr.update({\n",
    "    x.subdivision_code: x.subdivision_code\n",
    "    for x in POLITICAL_SUBDIVISIONS.itertuples()\n",
    "    if x.country_code == \"USA\" and x.subdivision_type == \"state\"\n",
    "})\n",
    "\n",
    "def standardize_state(state):\n",
    "    if pd.isna(state):\n",
    "        return state\n",
    "    state = state.strip()\n",
    "    standardized_state = state_to_abbr.get(state, state)\n",
    "    if standardized_state not in state_to_abbr.values():\n",
    "        return np.nan\n",
    "    return standardized_state"
   ]
  },
  {
   "cell_type": "code",
   "execution_count": 10,
   "metadata": {},
   "outputs": [],
   "source": [
    "df[\"headquarters_address_state\"] = df[\"headquarters_address_state\"].apply(standardize_state)\n",
    "df[\"office_address_state\"] = df[\"office_address_state\"].apply(standardize_state)"
   ]
  },
  {
   "cell_type": "code",
   "execution_count": 11,
   "metadata": {},
   "outputs": [
    {
     "name": "stderr",
     "output_type": "stream",
     "text": [
      "/var/folders/0k/_f6292f54rd6y6x_3m47kq1h0000gp/T/ipykernel_34150/2203460441.py:2: FutureWarning: DataFrame.applymap has been deprecated. Use DataFrame.map instead.\n",
      "  df[df.select_dtypes(include=['object']).columns] = df.select_dtypes(include=['object']).applymap(lambda x: x.strip() if isinstance(x, str) else x)\n"
     ]
    }
   ],
   "source": [
    "# Trim all the object-type columns\n",
    "df[df.select_dtypes(include=['object']).columns] = df.select_dtypes(include=['object']).applymap(lambda x: x.strip() if isinstance(x, str) else x)"
   ]
  },
  {
   "cell_type": "markdown",
   "metadata": {},
   "source": [
    "#### Standardize telephone and fax number format and drop (000)-000-0000\n"
   ]
  },
  {
   "cell_type": "code",
   "execution_count": 12,
   "metadata": {},
   "outputs": [],
   "source": [
    "df = standardize_phone_column(df, [\"preparer_phone\", \"preparer_fax\"])"
   ]
  },
  {
   "cell_type": "markdown",
   "metadata": {},
   "source": [
    "### Other cleanup"
   ]
  },
  {
   "cell_type": "code",
   "execution_count": 13,
   "metadata": {},
   "outputs": [],
   "source": [
    "# Standardize zip codes\n",
    "df[\"office_address_zip\"] = zero_pad_numeric_string(df[\"office_address_zip\"], n_digits=5)\n",
    "df[\"headquarters_address_zip\"] = zero_pad_numeric_string(df[\"headquarters_address_zip\"], n_digits=5)"
   ]
  },
  {
   "cell_type": "code",
   "execution_count": null,
   "metadata": {},
   "outputs": [],
   "source": []
  }
 ],
 "metadata": {
  "kernelspec": {
   "display_name": "pudl-dev",
   "language": "python",
   "name": "python3"
  },
  "language_info": {
   "codemirror_mode": {
    "name": "ipython",
    "version": 3
   },
   "file_extension": ".py",
   "mimetype": "text/x-python",
   "name": "python",
   "nbconvert_exporter": "python",
   "pygments_lexer": "ipython3",
   "version": "3.12.5"
  }
 },
 "nbformat": 4,
 "nbformat_minor": 2
}
