{
 "cells": [
  {
   "cell_type": "markdown",
   "metadata": {},
   "source": [
    "## Load the data"
   ]
  },
  {
   "cell_type": "code",
   "execution_count": null,
   "metadata": {},
   "outputs": [],
   "source": [
    "from dagster import AssetKey\n",
    "from pudl.etl import defs\n",
    "import pandas as pd\n",
    "from pudl.helpers import zero_pad_numeric_string, organize_cols, standardize_phone_column, fix_na, analyze_missing_values\n",
    "import numpy as np\n",
    "import re\n",
    "\n",
    "raw_df = defs.load_asset_value(AssetKey(\"raw_phmsagas__yearly_distribution\"))"
   ]
  },
  {
   "cell_type": "markdown",
   "metadata": {},
   "source": [
    "## core_phmsagas__yearly_distribution_operators"
   ]
  },
  {
   "cell_type": "code",
   "execution_count": 7,
   "metadata": {},
   "outputs": [],
   "source": [
    "df = raw_df[[\n",
    "    \"report_date\",\n",
    "    \"report_number\",\n",
    "    \"report_submission_type\",\n",
    "    \"report_year\",\n",
    "    \"operator_id_phmsa\",\n",
    "    \"operator_name_phmsa\",\n",
    "    \"office_address_street\",\n",
    "    \"office_address_city\",\n",
    "    \"office_address_state\",\n",
    "    \"office_address_zip\",\n",
    "    \"office_address_county\",\n",
    "    \"excavation_damage_excavation_practices\",\n",
    "    \"excavation_damage_locating_practices\",\n",
    "    \"excavation_damage_one_call_notification\",\n",
    "    \"excavation_damage_other\",\n",
    "    \"excavation_damage_total\",\n",
    "    \"excavation_tickets\",\n",
    "    \"services_efv_in_system\",\n",
    "    \"services_efv_installed\",\n",
    "    \"services_shutoff_valve_in_system\",\n",
    "    \"services_shutoff_valve_installed\",\n",
    "    \"federal_land_leaks_repaired_or_scheduled\",\n",
    "    \"percent_unaccounted_for_gas\",\n",
    "    \"additional_information\",\n",
    "    \"preparer_email\",\n",
    "    \"preparer_fax\",\n",
    "    \"preparer_name\",\n",
    "    \"preparer_phone\",\n",
    "    \"preparer_title\",\n",
    "    # Adding these fields temporarily for transformation cleanup\n",
    "    \"headquarters_address_city\",\n",
    "    \"headquarters_address_county\",\n",
    "    \"headquarters_address_state\",\n",
    "    \"headquarters_address_street\",\n",
    "    \"headquarters_address_zip\"\n",
    "]]"
   ]
  },
  {
   "cell_type": "code",
   "execution_count": null,
   "metadata": {},
   "outputs": [],
   "source": [
    "# Clean up office zip codes\n",
    "df[\"office_address_zip\"] = zero_pad_numeric_string(df[\"office_address_zip\"], 5)\n",
    "df.head()\n",
    "\n",
    "# Convert columns to ints\n",
    "# Would have included \"federal_land_leaks_repaired_or_scheduled\" in this list but there were a couple rows with decimal values\n",
    "columns_to_convert = [\n",
    "    \"report_year\",\n",
    "    \"report_number\",\n",
    "    \"operator_id_phmsa\",\n",
    "    \"excavation_damage_excavation_practices\",\n",
    "    \"excavation_damage_locating_practices\",\n",
    "    \"excavation_damage_one_call_notification\",\n",
    "    \"excavation_damage_other\",\n",
    "    \"excavation_damage_total\",\n",
    "    \"excavation_tickets\",\n",
    "    \"services_efv_in_system\",\n",
    "    \"services_efv_installed\",\n",
    "    \"services_shutoff_valve_in_system\",\n",
    "    \"services_shutoff_valve_installed\"\n",
    "]\n",
    "df[columns_to_convert] = df[columns_to_convert].astype(\"Int64\")\n",
    "\n",
    "# Ensure all \"report_year\" values have four digits\n",
    "mask = df[\"report_year\"] < 100\n",
    "df.loc[mask, \"report_year\"] = df.loc[mask, \"report_year\"].astype(int).astype(str).str[:4].astype(int)"
   ]
  },
  {
   "cell_type": "markdown",
   "metadata": {},
   "source": [
    "### Operator Table Tasks"
   ]
  },
  {
   "cell_type": "markdown",
   "metadata": {},
   "source": [
    "#### Standardize NAs"
   ]
  },
  {
   "cell_type": "code",
   "execution_count": null,
   "metadata": {},
   "outputs": [],
   "source": [
    "# Fill NA values with zeroes because these columns are simply counts.\n",
    "# Note that \"excavation_damage...\" columns should sum up to the value in \"excavation_damage_total\". However, many rows\n",
    "# (on the scale of thousands) do not actually sum up to \"excavation_damage_total\".\n",
    "columns_to_fill = [\n",
    "    \"excavation_damage_excavation_practices\",\n",
    "    \"excavation_damage_locating_practices\",\n",
    "    \"excavation_damage_one_call_notification\",\n",
    "    \"excavation_damage_other\",\n",
    "    \"excavation_damage_total\",\n",
    "    \"excavation_tickets\",\n",
    "    \"services_efv_in_system\",\n",
    "    \"services_efv_installed\",\n",
    "    \"services_shutoff_valve_in_system\",\n",
    "    \"services_shutoff_valve_installed\",\n",
    "    \"federal_land_leaks_repaired_or_scheduled\"\n",
    "]\n",
    "df[columns_to_fill] = df[columns_to_fill].fillna(0)"
   ]
  },
  {
   "cell_type": "markdown",
   "metadata": {},
   "source": [
    "#### Standardize usage of office vs HQ address over time\n",
    "\n",
    "- Make sure to use \"clean_eia_counties\" from helpers at some point\n",
    "- Also maybe \"zero_pad_numeric_string\"\n"
   ]
  },
  {
   "cell_type": "code",
   "execution_count": 18,
   "metadata": {},
   "outputs": [],
   "source": [
    "# Selecting the relevant columns\n",
    "address_cols = [\n",
    "    'operator_id_phmsa', 'report_year',\n",
    "    'office_address_street', 'office_address_city', 'office_address_state', 'office_address_zip',\n",
    "    'headquarters_address_street', 'headquarters_address_city', 'headquarters_address_state', 'headquarters_address_zip'\n",
    "]\n",
    "\n",
    "df_addresses = df[address_cols]"
   ]
  },
  {
   "cell_type": "code",
   "execution_count": null,
   "metadata": {},
   "outputs": [],
   "source": [
    "df_addresses.dtypes"
   ]
  },
  {
   "cell_type": "code",
   "execution_count": null,
   "metadata": {},
   "outputs": [],
   "source": [
    "df.office_address_zip.head()"
   ]
  },
  {
   "cell_type": "code",
   "execution_count": null,
   "metadata": {},
   "outputs": [],
   "source": [
    "df_addresses['office_address'] = df_addresses['office_address_street'] + ', ' + df_addresses['office_address_city'] + ', ' + df_addresses['office_address_state'] + ' ' + df_addresses['office_address_zip']"
   ]
  },
  {
   "cell_type": "code",
   "execution_count": null,
   "metadata": {},
   "outputs": [],
   "source": [
    "# Create a concatenated address string for easier comparison\n",
    "df_addresses['office_address'] = df_addresses['office_address_street'] + ', ' + df_addresses['office_address_city'] + ', ' + df_addresses['office_address_state'] + ' ' + df_addresses['office_address_zip']\n",
    "df_addresses['headquarters_address'] = df_addresses['headquarters_address_street'] + ', ' + df_addresses['headquarters_address_city'] + ', ' + df_addresses['headquarters_address_state'] + ' ' + df_addresses['headquarters_address_zip']\n",
    "\n",
    "# Group by operator and sort by year\n",
    "df_addresses = df_addresses.sort_values(by=['operator_id_phmsa', 'report_year'])\n",
    "\n",
    "# Create flags for overlap or switch\n",
    "df_addresses['address_overlap'] = df_addresses['office_address'] == df_addresses['headquarters_address']\n",
    "df_addresses['address_switch'] = df_addresses.groupby('operator_id_phmsa').apply(\n",
    "    lambda x: (x['office_address'].shift() == x['headquarters_address']) & \n",
    "              (x['headquarters_address'].shift() == x['office_address'])\n",
    ").reset_index(drop=True)\n",
    "\n",
    "# Display the results where overlap or switch occurred\n",
    "df_overlap_switch = df_addresses[(df_addresses['address_overlap'] == True) | (df_addresses['address_switch'] == True)]\n"
   ]
  },
  {
   "cell_type": "markdown",
   "metadata": {},
   "source": [
    "#### Standardize case for city, county, operator name, etc."
   ]
  },
  {
   "cell_type": "markdown",
   "metadata": {},
   "source": [
    "#### Standardize telephone and fax number format and drop (000)-000-0000\n"
   ]
  },
  {
   "cell_type": "code",
   "execution_count": null,
   "metadata": {},
   "outputs": [],
   "source": [
    "df = standardize_phone_column(df, \"preparer_phone\")\n",
    "df[df.preparer_phone.notna()]"
   ]
  },
  {
   "cell_type": "code",
   "execution_count": null,
   "metadata": {},
   "outputs": [],
   "source": []
  }
 ],
 "metadata": {
  "kernelspec": {
   "display_name": "pudl-dev",
   "language": "python",
   "name": "python3"
  },
  "language_info": {
   "codemirror_mode": {
    "name": "ipython",
    "version": 3
   },
   "file_extension": ".py",
   "mimetype": "text/x-python",
   "name": "python",
   "nbconvert_exporter": "python",
   "pygments_lexer": "ipython3",
   "version": "3.12.5"
  }
 },
 "nbformat": 4,
 "nbformat_minor": 2
}
