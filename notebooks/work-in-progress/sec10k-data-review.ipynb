{
 "cells": [
  {
   "cell_type": "markdown",
   "metadata": {
    "tags": []
   },
   "source": [
    "# Notebook Preamble"
   ]
  },
  {
   "cell_type": "markdown",
   "metadata": {},
   "source": [
    "## IPython Magic"
   ]
  },
  {
   "cell_type": "code",
   "execution_count": null,
   "metadata": {
    "editable": true,
    "slideshow": {
     "slide_type": ""
    },
    "tags": []
   },
   "outputs": [],
   "source": [
    "%load_ext autoreload\n",
    "%autoreload 3"
   ]
  },
  {
   "cell_type": "markdown",
   "metadata": {
    "tags": []
   },
   "source": [
    "## Notebook Imports"
   ]
  },
  {
   "cell_type": "code",
   "execution_count": null,
   "metadata": {},
   "outputs": [],
   "source": [
    "import matplotlib\n",
    "import matplotlib.pyplot as plt\n",
    "import matplotx\n",
    "import polars as pl\n",
    "from pathlib import Path\n",
    "import os"
   ]
  },
  {
   "cell_type": "markdown",
   "metadata": {},
   "source": [
    "## Visualization Settings"
   ]
  },
  {
   "cell_type": "code",
   "execution_count": null,
   "metadata": {},
   "outputs": [],
   "source": [
    "%matplotlib inline"
   ]
  },
  {
   "cell_type": "code",
   "execution_count": null,
   "metadata": {},
   "outputs": [],
   "source": [
    "matplotlib.rcParams[\"figure.figsize\"] = (10, 6)\n",
    "matplotlib.rcParams[\"figure.dpi\"] = 150\n",
    "matplotlib.style.use(matplotx.styles.onedark)\n",
    "\n",
    "pl.Config.set_tbl_rows(500)\n",
    "pl.Config.set_tbl_cols(100)\n",
    "pl.Config.set_fmt_str_lengths(100)"
   ]
  },
  {
   "cell_type": "markdown",
   "metadata": {},
   "source": [
    "## Set up data access shortcuts"
   ]
  },
  {
   "cell_type": "code",
   "execution_count": null,
   "metadata": {},
   "outputs": [],
   "source": [
    "def get_polars(table: str) -> pl.DataFrame:\n",
    "    return pl.read_parquet(\n",
    "        Path(os.environ[\"PUDL_OUTPUT\"]) / f\"parquet/{table}.parquet\",\n",
    "    )"
   ]
  },
  {
   "cell_type": "code",
   "execution_count": null,
   "metadata": {},
   "outputs": [],
   "source": [
    "companies = get_polars(\"out_sec10k__quarterly_company_information\")\n",
    "filings = get_polars(\"out_sec10k__quarterly_filings\")\n",
    "parsubs = get_polars(\"out_sec10k__parents_and_subsidiaries\")\n",
    "name_changes = get_polars(\"out_sec10k__changelog_company_name\")\n",
    "ex21 = get_polars(\"core_sec10k__quarterly_exhibit_21_company_ownership\")"
   ]
  },
  {
   "cell_type": "markdown",
   "metadata": {},
   "source": [
    "## What fraction of electricity companies are linked to EIA utilities?"
   ]
  },
  {
   "cell_type": "markdown",
   "metadata": {},
   "source": [
    "### Identify industry IDs with lots of Utility ID associations\n",
    "\n",
    "- This is kind of begging the question, but it's not a terrible way to find interesting SICs to look at.\n",
    "- Unsurprisingly the two top SICs with the largest number of Utility ID associations are electric services, and electric & other services combined (many seem to be combined electric & gas utilities)\n",
    "- There's also a number of \"real estate\" oriented industries. Maybe they have big behind-the-meter C&I solar installations?\n",
    "- There are also a number of industries that typically engage in cogeneration, especially papermills, oil & gas, natural gas transmission companies, etc.\n",
    "- Filtering all the industry names for \"electric\" and \"power\" shows a bunch of other industries that are not related to electricity generation. Mostly electronics, etc.\n",
    "- So the 4911 and 4931 seem to be the main ones we expect to link to EIA Utilities.\n",
    "- And then there's a number of smaller industries with cogeneration that often match, but don't have as many companies in them, and probably aren't responsible for much generation.\n",
    "- Note: this kind of analysis would be easier if we cleaned up the SIC names & IDs so that they're more consistent & complete."
   ]
  },
  {
   "cell_type": "code",
   "execution_count": null,
   "metadata": {},
   "outputs": [],
   "source": [
    "(\n",
    "    get_polars(\"out_sec10k__quarterly_company_information\")\n",
    "    .filter(pl.col(\"utility_id_eia\").is_not_null())\n",
    "    .select([\"industry_id_sic\", \"industry_name_sic\"])\n",
    "    .group_by([\"industry_id_sic\", \"industry_name_sic\"])\n",
    "    .agg(count=pl.len())\n",
    "    .sort(\"count\", descending=True)\n",
    "    .head(20)\n",
    ")"
   ]
  },
  {
   "cell_type": "code",
   "execution_count": null,
   "metadata": {},
   "outputs": [],
   "source": [
    "electricity_sics = (\n",
    "    get_polars(\"out_sec10k__quarterly_company_information\")\n",
    "    .group_by(sic=pl.col(\"industry_id_sic\"))\n",
    "    .agg(\n",
    "        fraction_with_utility_id=pl.col(\"utility_id_eia\").is_not_null().mean()\n",
    "    )\n",
    "    .sort(\"fraction_with_utility_id\", descending=True)\n",
    "    .head(20)\n",
    "    #.filter(pl.col(\"fraction_with_utility_id\") > 0.50)\n",
    "    #.select(\"sic\").to_series().to_list()\n",
    ")\n",
    "electricity_sics"
   ]
  },
  {
   "cell_type": "code",
   "execution_count": null,
   "metadata": {},
   "outputs": [],
   "source": [
    "majority_electric = electricity_sics.filter(pl.col(\"fraction_with_utility_id\") > 0.5).select(\"sic\").to_series().to_list()\n",
    "(\n",
    "    get_polars(\"out_sec10k__quarterly_company_information\")\n",
    "    .filter(pl.col(\"industry_id_sic\").is_in(majority_electric))\n",
    "    .select([\"industry_id_sic\", \"industry_name_sic\"])\n",
    "    .group_by([\"industry_id_sic\", \"industry_name_sic\"])\n",
    "    .agg(count=pl.len())\n",
    "    .sort(\"count\", descending=True)\n",
    ")"
   ]
  },
  {
   "cell_type": "code",
   "execution_count": null,
   "metadata": {},
   "outputs": [],
   "source": [
    "util_ids_by_year = get_polars(\"out_sec10k__quarterly_company_information\").filter(\n",
    "    pl.col(\"industry_id_sic\").is_in(majority_electric),\n",
    ").with_columns(\n",
    "    year=pl.col(\"report_date\").dt.year()\n",
    ").group_by([\"year\", \"industry_id_sic\"]).agg(\n",
    "    fraction_with_utility_id=pl.col(\"utility_id_eia\").is_not_null().mean(),\n",
    ").sort(\"year\")\n",
    "\n",
    "for sic in util_ids_by_year[\"industry_id_sic\"].unique():\n",
    "    df = util_ids_by_year.filter(pl.col(\"industry_id_sic\") == sic)\n",
    "    plt.plot(df[\"year\"], df[\"fraction_with_utility_id\"], label=sic)\n",
    "\n",
    "plt.legend()"
   ]
  },
  {
   "cell_type": "markdown",
   "metadata": {},
   "source": [
    "## What SEC electric companies aren't we matching to EIA?\n",
    "\n",
    "- Selecting just companies in the main electric industry SICs, who are they?\n",
    "- They make up 40-50% of all the electric companies.\n",
    "- Many of them look like familiar entities that we'd expect to find in EIA."
   ]
  },
  {
   "cell_type": "code",
   "execution_count": null,
   "metadata": {},
   "outputs": [],
   "source": [
    "unmatched_companies = (\n",
    "    get_polars(\"out_sec10k__quarterly_company_information\")\n",
    "    .filter(\n",
    "        pl.col(\"industry_id_sic\").is_in([\"4911\", \"4931\"]),\n",
    "        pl.col(\"utility_id_eia\").is_null(),\n",
    "    )\n",
    "    .select([\"central_index_key\", \"company_name\", \"report_date\"])\n",
    "    .unique([\"central_index_key\", \"company_name\", \"report_date\"])\n",
    ")\n",
    "unmatched_companies.sample(30).sort(\"report_date\")"
   ]
  },
  {
   "cell_type": "markdown",
   "metadata": {},
   "source": [
    "## How does matching to EIA vary by year?\n",
    "\n",
    "* The SEC data goes back further than the EIA data, so we'd probably expect the older years to have more unmatched companies.\n",
    "* This does generally seem to be the case, with ~2x as many unmatched companies in the early 2000s compared to more recent years."
   ]
  },
  {
   "cell_type": "code",
   "execution_count": null,
   "metadata": {},
   "outputs": [],
   "source": [
    "unmatched_by_year = (\n",
    "    unmatched_companies.group_by(\n",
    "        pl.col(\"report_date\").dt.year()\n",
    "    ).agg(count=pl.len())\n",
    "    .sort(\"report_date\")\n",
    ")\n",
    "plt.bar(unmatched_by_year[\"report_date\"], unmatched_by_year[\"count\"])"
   ]
  },
  {
   "cell_type": "markdown",
   "metadata": {},
   "source": [
    "# SEC 10-K Filer to Subsidiary matches\n",
    "\n",
    "* How successful are we at matching subsidiary companies to a corresponding SEC 10-K filer?\n",
    "* Does this vary over time?"
   ]
  },
  {
   "cell_type": "markdown",
   "metadata": {},
   "source": [
    "## Number of parent-subsidiary relations per year\n",
    "* Roughly linear increase up until 2017.\n",
    "* Gap due to failed extraction of Q1 Ex21 data for 2018-2022.\n",
    "* Interestingly 2023 is about the same as 2015-2017 so did the linear trend in the increase in number of subsidiaries end?"
   ]
  },
  {
   "cell_type": "code",
   "execution_count": null,
   "metadata": {},
   "outputs": [],
   "source": [
    "parsubs_by_year = (\n",
    "    get_polars(\"out_sec10k__parents_and_subsidiaries\")[\n",
    "        \"report_date\",\n",
    "        \"parent_company_central_index_key\",\n",
    "        \"parent_company_utility_id_eia\",\n",
    "        \"parent_company_name\",\n",
    "        \"subsidiary_company_id_sec10k\",\n",
    "        \"subsidiary_company_central_index_key\",\n",
    "        \"subsidiary_company_utility_id_eia\",\n",
    "        \"subsidiary_company_name\",\n",
    "        \"fraction_owned\",\n",
    "    ].group_by(\n",
    "        report_year=pl.col(\"report_date\").dt.year()\n",
    "    ).agg(\n",
    "        count=pl.len()).sort(\"report_year\")\n",
    ")\n",
    "plt.bar(parsubs_by_year[\"report_year\"], parsubs_by_year[\"count\"])"
   ]
  },
  {
   "cell_type": "markdown",
   "metadata": {},
   "source": [
    "## Subsidiary to Filer match rate over time\n",
    "* Has the proportion of subsidiary companies matched to some SEC 10-K filer changed over time?\n",
    "* This is entirely within the SEC 10-K dataset, so the change in EIA data availability should have no impact.\n",
    "* The match rate is quite low across the board. Only 1-4% of all subsidiaries can be matched to an SEC filer.\n",
    "* Since 2012, the rate has been more stable, but low, around 1%."
   ]
  },
  {
   "cell_type": "code",
   "execution_count": null,
   "metadata": {},
   "outputs": [],
   "source": [
    "sub_match_rate_by_year = (\n",
    "    get_polars(\"out_sec10k__parents_and_subsidiaries\")\n",
    "    .group_by(report_year=pl.col(\"report_date\").dt.year())\n",
    "    .agg(\n",
    "        sub_match_rate=pl.col(\"subsidiary_company_central_index_key\").is_not_null().mean(),\n",
    "    )\n",
    ")\n",
    "plt.bar(sub_match_rate_by_year[\"report_year\"], sub_match_rate_by_year[\"sub_match_rate\"])"
   ]
  },
  {
   "cell_type": "markdown",
   "metadata": {},
   "source": [
    "## Match rates for electricity companies\n",
    "* Maybe the match rate is different for the electricity oriented companies?\n",
    "* Since only companies of a certain size have to report, industries with a larger minimum company size seem like they might have higher match rates.\n",
    "* This seems to be the case, with match rates between 4-10%.\n",
    "* However, we get no matches for electricity companies in the 2018-2022 gap.\n"
   ]
  },
  {
   "cell_type": "code",
   "execution_count": null,
   "metadata": {},
   "outputs": [],
   "source": [
    "electrosub_match_rate_by_year = (\n",
    "    get_polars(\"out_sec10k__parents_and_subsidiaries\")\n",
    "    .filter(pl.col(\"parent_company_industry_id_sic\").is_in([\"4911\", \"4931\"]))\n",
    "    .group_by(report_year=pl.col(\"report_date\").dt.year())\n",
    "    .agg(\n",
    "        electrosub_match_rate=pl.col(\"subsidiary_company_central_index_key\").is_not_null().mean(),\n",
    "    )\n",
    ")\n",
    "plt.bar(electrosub_match_rate_by_year[\"report_year\"], electrosub_match_rate_by_year[\"electrosub_match_rate\"])"
   ]
  },
  {
   "cell_type": "markdown",
   "metadata": {},
   "source": [
    "## How do subsidiary matches evolve over time?\n",
    "\n",
    "* To get a qualitative sense of how matches change over time, let's look at a familiar parent company with known subsidiaries, Xcel Energy.\n",
    "* Here we look at a sample of years (2001, 2012, 2023) across the range of available years.\n",
    "* Across these years there are 5 distinct subsidiaries that have gotten SICs over the years.\n",
    "* In 2001 NRG Energy is a subsidiary of Xcel, but [it is later sold off](https://en.wikipedia.org/wiki/NRG_Energy).\n",
    "* Public Service Company of Colorado (PSCo) and Southwestern Public Service Company (New Mexico) are successfully captured across the whole sample.\n",
    "* The two other upper-midwest subsidiaries (North States Power MN and WI) are captured in the latter years, but are captured with a differen string in 2001 and so get missed.\n",
    "* So we know the subsidiary company IDs can change over time, even within the reporting of a single parent company, and that this affects the intra-SEC matching.\n",
    "* This is in addition to the subsidary IDs necessarily varying between parent companies, since the ID incorporates the parent's CIK as part of the ID.\n",
    "* There also seem to be dozens of other Xcel subsidiaries that we've never heard of that never get a CIK. Searching for \"xcel\" in the company information table they don't show up, so it seems likely they truly aren't filers.\n",
    "* Interestingly, there is only one Xcel subsidiary that ever shows up here with a Utility ID EIA, and it's not any of the ones that get CIKs.\n",
    "* None of the subsidiaries have any ownership fraction reported. I think Xcel completely owns PSCo and SWPS, so I wonder how often NA really means 1.0?\n"
   ]
  },
  {
   "cell_type": "code",
   "execution_count": null,
   "metadata": {},
   "outputs": [],
   "source": [
    "(\n",
    "    get_polars(\"out_sec10k__parents_and_subsidiaries\")[\n",
    "        \"report_date\",\n",
    "        \"parent_company_central_index_key\",\n",
    "        \"parent_company_utility_id_eia\",\n",
    "        \"parent_company_name\",\n",
    "        \"subsidiary_company_id_sec10k\",\n",
    "        \"subsidiary_company_central_index_key\",\n",
    "        \"subsidiary_company_utility_id_eia\",\n",
    "        \"subsidiary_company_name\",\n",
    "        \"fraction_owned\",\n",
    "    ].filter(\n",
    "        pl.col(\"report_date\").dt.year().is_in([2001, 2012, 2023]),\n",
    "        pl.col(\"parent_company_central_index_key\").eq(\"0000072903\")\n",
    "    ).sort(\"report_date\")\n",
    ")"
   ]
  },
  {
   "cell_type": "markdown",
   "metadata": {},
   "source": [
    "## Other Xcel subsidiaries?\n",
    "* The other baby Xcels really don't seem to show up as filers."
   ]
  },
  {
   "cell_type": "code",
   "execution_count": null,
   "metadata": {},
   "outputs": [],
   "source": [
    "(\n",
    "    get_polars(\"out_sec10k__quarterly_company_information\")\n",
    "    .filter(\n",
    "        pl.col(\"company_name\").str.contains(\"^[xX]cel\")\n",
    "    )[\"company_name\"]\n",
    "    .unique()\n",
    ")"
   ]
  },
  {
   "cell_type": "markdown",
   "metadata": {},
   "source": [
    "## Nested inside a non-utility\n",
    "* Another kind of example: utility companies that are hidden inside a non-utility.\n",
    "* Berkshire Hathaway is a sprawling conglomerate that owns a bunch of different kinds of companies, including utility companies like PacifiCorp.\n",
    "* The ur-parent is Berkshire Hathaway Inc, and it has an energy focused subsidiary Berkshire Hathaway Energy, which itself reports having a bunch of energy subsidiaries.\n",
    "* Most (all?) energy subsidiaries seem to appear in the Ex21 data for both Berkshire Hathaway and Berkshire Hathaway Energy.\n",
    "* Midamerican Energy Co shows up in both, and is assigned the same CIK in both, has the same name in both, but only gets an EIA Utility ID in association with BHE, which seems surprising."
   ]
  },
  {
   "cell_type": "code",
   "execution_count": null,
   "metadata": {},
   "outputs": [],
   "source": [
    "(\n",
    "    get_polars(\"out_sec10k__parents_and_subsidiaries\")[\n",
    "        \"report_date\",\n",
    "        \"parent_company_central_index_key\",\n",
    "        \"parent_company_utility_id_eia\",\n",
    "        \"parent_company_name\",\n",
    "        \"subsidiary_company_id_sec10k\",\n",
    "        \"subsidiary_company_central_index_key\",\n",
    "        \"subsidiary_company_utility_id_eia\",\n",
    "        \"subsidiary_company_name\",\n",
    "        \"fraction_owned\",\n",
    "    ].filter(\n",
    "        pl.col(\"report_date\").dt.year().is_in([2023]),\n",
    "        pl.col(\"parent_company_name\").str.contains(\"berkshire.*hathaway\"),\n",
    "    ).sort(\"report_date\")\n",
    ")"
   ]
  },
  {
   "cell_type": "markdown",
   "metadata": {},
   "source": [
    "## More subsidiaries over time\n",
    "* Just looking at subsidiaries of BH/BHE that seem to be associated with NV Energy, which sometimes shows up as nevada power company aand sometimes sierra pacific power company.\n",
    "* \"nevada power company\" and \"sierra pacific power company\" both have EIA utility IDs in 2023, but no previous year.\n",
    "* All the \"d/b/a nv energy\" subsidiary name records fail to get associated with a CIK.\n",
    "* The d/b/a records all seem to be associated with BHE, and the same subsidiaries are reported under Berkshire Hathaway as well.\n",
    "* This is a concrete example of the same subsidiary having different \"names\" under different parent companies, even when they're both under the same bigger parent company.\n",
    "* In the most recent year of data nevada power and sierra pacific stop using the \"d/b/a\" naming, creating a discontinuity in the naming across time as well as between reporting parent companies."
   ]
  },
  {
   "cell_type": "code",
   "execution_count": null,
   "metadata": {},
   "outputs": [],
   "source": [
    "(\n",
    "    get_polars(\"out_sec10k__parents_and_subsidiaries\")[\n",
    "        \"report_date\",\n",
    "        \"parent_company_central_index_key\",\n",
    "        \"parent_company_utility_id_eia\",\n",
    "        \"parent_company_name\",\n",
    "        \"subsidiary_company_id_sec10k\",\n",
    "        \"subsidiary_company_central_index_key\",\n",
    "        \"subsidiary_company_utility_id_eia\",\n",
    "        \"subsidiary_company_name\",\n",
    "        \"fraction_owned\",\n",
    "    ].filter(\n",
    "        pl.col(\"parent_company_name\").str.contains(\"berkshire.*hathaway\"),\n",
    "        pl.col(\"subsidiary_company_name\").str.contains(\"(nv |nevada|sierra)\")\n",
    "        #pl.col(\"parent_company_central_index_key\").eq(\"0001081316\"),\n",
    "        #pl.col(\"subsidiary_company_central_index_key\").is_not_null() | pl.col(\"subsidiary_company_utility_id_eia\").is_not_null(),\n",
    "    ).sort(\"report_date\")\n",
    ")"
   ]
  },
  {
   "cell_type": "markdown",
   "metadata": {},
   "source": [
    "## How common are (electricity) subsidiaries with utility IDs?\n",
    "* Above we've seen a couple of examples where a subisidiary with the same name & location across multiple years doesn't always get assigned an EIA Utility ID.\n",
    "* In this small sample it seems like utility IDs are more commonly assigned in the most recent year. What does that distribution look like?\n",
    "* The fraction of subsidiary companies that have utility IDs seems to increase linearly over time, from just a couple of percent to nearly 20%.\n",
    "* This is on top of the absolute **number** of subsidiaries increasing linearly over time."
   ]
  },
  {
   "cell_type": "code",
   "execution_count": null,
   "metadata": {},
   "outputs": [],
   "source": [
    "electrosub_has_utility_id = (\n",
    "    get_polars(\"out_sec10k__parents_and_subsidiaries\")\n",
    "    .filter(\n",
    "        pl.col(\"parent_company_industry_id_sic\").is_in([\"4911\", \"4931\"])\n",
    "        | pl.col(\"subsidiary_company_industry_id_sic\").is_in([\"4911\", \"4931\"])\n",
    "    )\n",
    "    .group_by(year=pl.col(\"report_date\").dt.year())\n",
    "    .agg(has_utility_id_eia=pl.col(\"subsidiary_company_utility_id_eia\").is_not_null().mean())\n",
    "    .sort(\"year\")\n",
    ")\n",
    "plt.bar(electrosub_has_utility_id[\"year\"], electrosub_has_utility_id[\"has_utility_id_eia\"])"
   ]
  }
 ],
 "metadata": {
  "kernelspec": {
   "display_name": "pudl-dev",
   "language": "python",
   "name": "python3"
  },
  "language_info": {
   "codemirror_mode": {
    "name": "ipython",
    "version": 3
   },
   "file_extension": ".py",
   "mimetype": "text/x-python",
   "name": "python",
   "nbconvert_exporter": "python",
   "pygments_lexer": "ipython3",
   "version": "3.13.7"
  },
  "toc-autonumbering": true
 },
 "nbformat": 4,
 "nbformat_minor": 4
}
