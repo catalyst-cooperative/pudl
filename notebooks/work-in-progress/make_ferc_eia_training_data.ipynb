{
 "cells": [
  {
   "cell_type": "markdown",
   "id": "60e4e969-b223-42f1-b6ff-2708d59f6d55",
   "metadata": {},
   "source": [
    "# Manually Overriding FERC-EIA Record Linkage"
   ]
  },
  {
   "cell_type": "markdown",
   "id": "664bb535-386b-4700-9b5f-5223e1f78159",
   "metadata": {},
   "source": [
    "The FERC-EIA record linkage process requries training data in order to work properly. Training matches also serve as overrides. This notebook helps you check whether the machine learning algroythem did a good job of matching FERC and EIA records. If you find a good match (or you correct a bad match), this process will turn it into training data.\n",
    "\n",
    "This notebook has three purposes: \n",
    "\n",
    "- [**Step 1: Output Override Tools:**](#verify-tools) Where you create and output the spreadsheets used to conduct the manual overrides.\n",
    "- [**Step 2: Validate New Training Data:**](#validate) Where you check that the overrides we made are sound.\n",
    "- [**Step 3: Upload Changes to Training Data:**](#upload-overrides) Where integrate the overrides into the training data."
   ]
  },
  {
   "cell_type": "markdown",
   "id": "0b9dfc83-558e-49ee-b437-20710b869d02",
   "metadata": {
    "tags": []
   },
   "source": [
    "## Settings"
   ]
  },
  {
   "cell_type": "code",
   "execution_count": null,
   "id": "5f4f84b5-0a0e-4b44-8043-d451d5842c8f",
   "metadata": {
    "tags": []
   },
   "outputs": [],
   "source": [
    "%load_ext autoreload\n",
    "%autoreload 2"
   ]
  },
  {
   "cell_type": "code",
   "execution_count": null,
   "id": "dedd1d11-d8a0-4a46-a91f-4d7e3955d844",
   "metadata": {
    "tags": []
   },
   "outputs": [],
   "source": [
    "#import pudl_rmi # don't forget to pip install -e . if you need to\n",
    "#from pudl_rmi.create_override_spreadsheets import *\n",
    "                                           \n",
    "import pudl\n",
    "import sqlalchemy as sa\n",
    "import logging\n",
    "import sys\n",
    "\n",
    "import warnings\n",
    "warnings.filterwarnings('ignore')\n",
    "\n",
    "logger = logging.getLogger()\n",
    "logger.setLevel(logging.DEBUG)\n",
    "handler = logging.StreamHandler(stream=sys.stdout)\n",
    "formatter = logging.Formatter('%(message)s')\n",
    "handler.setFormatter(formatter)\n",
    "logger.handlers = [handler]\n",
    "\n",
    "pudl_settings = pudl.workspace.setup.get_defaults()\n",
    "pudl_engine = sa.create_engine(pudl_settings[\"pudl_db\"])\n",
    "pudl_out = pudl.output.pudltabl.PudlTabl(pudl_engine, freq='AS',fill_fuel_cost=True,roll_fuel_cost=True,fill_net_gen=True)\n",
    "\n",
    "from pudl.analysis.ferc1_eia import *"
   ]
  },
  {
   "cell_type": "code",
   "execution_count": null,
   "id": "52ef5a36-13ce-458e-845f-7259e56c3e44",
   "metadata": {
    "tags": []
   },
   "outputs": [],
   "source": [
    "# old\n",
    "\n",
    "specified_utilities = {\n",
    "    # 'Dominion': {'utility_id_pudl': [292, 293, 349],\n",
    "    #              'utility_id_eia': [17539, 17554, 19876]},\n",
    "    # 'Evergy': {'utility_id_pudl': [159, 160, 161, 1270, 13243],\n",
    "    #            'utility_id_eia': [10000, 10005, 56211, 25000]},\n",
    "    # 'IDACORP': {'utility_id_pudl': [140],\n",
    "    #             'utility_id_eia': [9191]},\n",
    "    # 'Duke': {'utility_id_pudl': [90, 91, 92, 93, 96, 97],\n",
    "    #          'utility_id_eia': [5416, 6455, 15470, 55729, 3542, 3046]},\n",
    "    'BHE': {'utility_id_pudl': [185, 246, 204, 287],\n",
    "            'utility_id_eia': [12341, 14354, 13407, 17166]},\n",
    "    'Southern': {'utility_id_pudl': [123, 18, 190, 11830],\n",
    "                 'utility_id_eia': [7140, 195, 12686, 17622]},\n",
    "    # 'NextEra': {'utility_id_pudl': [121, 130],\n",
    "    #             'utility_id_eia': [6452, 7801]},\n",
    "    # 'AEP': {'utility_id_pudl': [29, 301, 144, 275, 162, 361, 7],\n",
    "    #         'utility_id_eia': [733, 17698, 9324, 15474, 22053, 20521, 343]},\n",
    "    # 'Entergy': {'utility_id_pudl': [107, 106, 311, 113, 110],\n",
    "    #             'utility_id_eia': [11241, 814, 12465, 55937, 13478]},\n",
    "    # 'Xcel': {'utility_id_pudl': [224, 302, 272, 11297],\n",
    "    #          'utility_id_eia': [13781, 13780, 17718, 15466]}\n",
    "}"
   ]
  },
  {
   "cell_type": "markdown",
   "id": "8d8d1b71-bfbd-42dd-8387-de146361158b",
   "metadata": {
    "jp-MarkdownHeadingCollapsed": true,
    "tags": []
   },
   "source": [
    "<a id='verify-tools'></a>\n",
    "## Step 1: Output Override Tools"
   ]
  },
  {
   "cell_type": "code",
   "execution_count": null,
   "id": "998608d8-9b8e-4aa5-a358-078b8fbd0fff",
   "metadata": {},
   "outputs": [],
   "source": [
    "specified_utilities = {\n",
    "    #'BHE': [12341, 14354, 13407, 17166],\n",
    "    #'Southern':[7140, 195, 12686, 17622]\n",
    "    #'Dominion': [17539, 17554, 19876]\n",
    "    #'Entergy': [11241, 814, 12465, 55937, 13478],\n",
    "    #'Xcel': [13781, 13780, 17718, 15466],\n",
    "    #'NextEra': [6452, 7801]\n",
    "    #'IDACORP': [9191]\n",
    "    'Evergy': [10000, 10005, 56211, 22500]\n",
    "}\n",
    "\n",
    "specified_years = [2020\n",
    "    # 2005, 2006, 2007, 2008, 2009, 2010, 2011, 2012, \n",
    "    # 2013, 2014, 2015, 2016, 2017, 2018, 2019, 2020\n",
    "]"
   ]
  },
  {
   "cell_type": "markdown",
   "id": "3adbe15a-ad93-440b-9d77-d34de5d53018",
   "metadata": {},
   "source": [
    "Run the following function and you'll find excel files called `<UTILITY>_fix_FERC-EIA_overrides.xlsx` in the `outputs/overrides` directory created based on the utility and year inputs you specified above. Read the [Override Instructions](https://docs.google.com/document/d/1nJfmUtbSN-RT5U2Z3rJKfOIhWsRFUPNxs9NKTes0SRA/edit#) to learn how to begin fixing/verifying the FERC-EIA connections."
   ]
  },
  {
   "cell_type": "code",
   "execution_count": null,
   "id": "977df67d-fcd1-49a4-8b68-3e189a8ace02",
   "metadata": {
    "tags": []
   },
   "outputs": [],
   "source": [
    "generate_all_override_spreadsheets(pudl_out, rmi_out, specified_utilities, specified_years)"
   ]
  },
  {
   "cell_type": "markdown",
   "id": "ed9acb93-5148-4196-b2c4-24a17c706a87",
   "metadata": {
    "tags": []
   },
   "source": [
    "<a id='validate'></a>\n",
    "## Step 2: Validate New Training Data"
   ]
  },
  {
   "cell_type": "markdown",
   "id": "8189b962-d547-487c-9f88-74e8438d1192",
   "metadata": {},
   "source": [
    "Once you've finished checking the maps, make sure everything you want to validate is set to `verified=TRUE`. Then, move the file into the add_to_training folder and run the following function:"
   ]
  },
  {
   "cell_type": "code",
   "execution_count": null,
   "id": "298eef6f-30bc-40c3-b784-78b130ec43e2",
   "metadata": {
    "tags": []
   },
   "outputs": [],
   "source": [
    "# Define function inputs\n",
    "#ferc1_eia_df = pudl_out.ferc1_eia()\n",
    "#ppl_df = pudl_out.plant_parts_eia().reset_index()\n",
    "\n",
    "ferc1_eia_df = pd.read_pickle(\"ferc1_eia.pkl\")\n",
    "ppl_df = pd.read_pickle(\"ppl.pkl\")"
   ]
  },
  {
   "cell_type": "code",
   "execution_count": null,
   "id": "018a8613-0399-40b1-871c-364df6b449c7",
   "metadata": {
    "tags": []
   },
   "outputs": [],
   "source": [
    "utils_df = pudl_out.utils_eia860()\n",
    "training_df = pd.read_csv(\"../../src/pudl/package_data/glue/ferc1_eia_train.csv\")\n",
    "path_to_overrides = \"../../src/pudl/package_data/glue/add_to_ferc1_eia_training/\" \n",
    "\n",
    "override_files = os.listdir(path_to_overrides)\n",
    "override_files = [file for file in override_files if file.endswith(\".xlsx\")]"
   ]
  },
  {
   "cell_type": "code",
   "execution_count": null,
   "id": "08445e9a-b22a-4a33-a70b-580c340a4dc0",
   "metadata": {
    "tags": []
   },
   "outputs": [],
   "source": [
    "# See if there are any values that aren't in the training data yet. \n",
    "# This is useful if you're not sure whether some part (or all) of the data \n",
    "# has been integrated into the training data yet.\n",
    "for file in override_files:\n",
    "    \n",
    "    print(f\"VALIDATING {file} ************** \")\n",
    "    file_df = pd.read_excel(path_to_overrides + file)\n",
    "    \n",
    "    pudl.analysis.ferc1_eia.already_in_training(\n",
    "        training_data=training_df,\n",
    "        validated_connections=file_df\n",
    "    )"
   ]
  },
  {
   "cell_type": "code",
   "execution_count": null,
   "id": "56519249-c672-4f57-ae59-acbd1a1646e7",
   "metadata": {
    "tags": []
   },
   "outputs": [],
   "source": [
    "for file in override_files:\n",
    "    \n",
    "    print(f\"VALIDATING {file} ************** \")\n",
    "    file_df = pd.read_excel(path_to_overrides + file)\n",
    "    \n",
    "    validate_override_fixes(\n",
    "        validated_connections=file_df,\n",
    "        utils_eia860=utils_df,\n",
    "        ppl=ppl_df,\n",
    "        ferc1_eia=ferc1_eia_df,\n",
    "        training_data=training_df,\n",
    "        expect_override_overrides=True,\n",
    "        allow_mismatched_utilities=True\n",
    "    )\n",
    "    \n",
    "    print(\" \")"
   ]
  },
  {
   "cell_type": "markdown",
   "id": "2d7d2122-cdd1-4556-b042-a84158b87a7e",
   "metadata": {
    "tags": []
   },
   "source": [
    "<a id='upload-overrides'></a>\n",
    "## Step 3: Upload Changes to Training Data"
   ]
  },
  {
   "cell_type": "markdown",
   "id": "88dc8a33-be65-4ab1-bdd5-1b21049fa1e6",
   "metadata": {},
   "source": [
    "When you've finished editing the `<UTILITY>_fix_FERC-EIA_overrides.xlsx` and want to add your changes to the official override csv, move your file to the directory called `add_to_training` and then run the following function. \n",
    "\n",
    "**Note:** If you have changed or marked TRUE any records that have already been overridden and included in the training data, you will want to set `expect_override_overrides = True`. Otherwise, the function will check to see if you have accidentally tampered with values that have already been matched.\n",
    "\n",
    "Right now, the module points to a COPY of the training data so it doesn't override the official version. You'll need to change that later if you want to update the official version."
   ]
  },
  {
   "cell_type": "code",
   "execution_count": null,
   "id": "aab9a0c3",
   "metadata": {
    "tags": []
   },
   "outputs": [],
   "source": [
    "validate_and_add_to_training(\n",
    "    utils_eia860=utils_df,\n",
    "    ppl=ppl_df,\n",
    "    ferc1_eia=ferc1_eia_df,\n",
    "    expect_override_overrides=True, \n",
    "    allow_mismatched_utilities=True,\n",
    ")"
   ]
  }
 ],
 "metadata": {
  "kernelspec": {
   "display_name": "Python 3 (ipykernel)",
   "language": "python",
   "name": "python3"
  },
  "language_info": {
   "codemirror_mode": {
    "name": "ipython",
    "version": 3
   },
   "file_extension": ".py",
   "mimetype": "text/x-python",
   "name": "python",
   "nbconvert_exporter": "python",
   "pygments_lexer": "ipython3",
   "version": "3.10.9"
  }
 },
 "nbformat": 4,
 "nbformat_minor": 5
}
