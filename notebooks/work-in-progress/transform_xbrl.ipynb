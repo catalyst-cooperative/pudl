{
 "cells": [
  {
   "cell_type": "code",
   "execution_count": null,
   "id": "5e2e5bad-3ac6-4cd0-b539-0e1afa0134f5",
   "metadata": {},
   "outputs": [],
   "source": [
    "%load_ext autoreload\n",
    "%autoreload 2"
   ]
  },
  {
   "cell_type": "code",
   "execution_count": null,
   "id": "9d3fef59-4815-49ff-b501-968bbf8aa29e",
   "metadata": {},
   "outputs": [],
   "source": [
    "import logging\n",
    "import sys\n",
    "import pudl\n",
    "\n",
    "from pudl.settings import (Ferc1Settings, Ferc1DbfSettings, Ferc1XbrlSettings)\n",
    "from pudl.workspace.setup import PudlPaths\n",
    "from pudl.transform.ferc1 import *\n",
    "from typing import Literal, Tuple"
   ]
  },
  {
   "cell_type": "code",
   "execution_count": null,
   "id": "779fa15a-0490-4b33-b950-640e3b562643",
   "metadata": {},
   "outputs": [],
   "source": [
    "logger = logging.getLogger()\n",
    "logger.setLevel(logging.INFO)\n",
    "handler = logging.StreamHandler(stream=sys.stdout)\n",
    "formatter = logging.Formatter('%(message)s')\n",
    "handler.setFormatter(formatter)\n",
    "logger.handlers = [handler]"
   ]
  },
  {
   "cell_type": "markdown",
   "id": "98dc8ca6-b7b2-4523-b985-6f5105158760",
   "metadata": {},
   "source": [
    "# XBRL"
   ]
  },
  {
   "cell_type": "code",
   "execution_count": null,
   "id": "0865342d-91d1-4967-a3f3-1c049ce564ce",
   "metadata": {},
   "outputs": [],
   "source": [
    "ferc1_settings = Ferc1Settings(ferc1_xbrl_settings=Ferc1XbrlSettings(tables=[\n",
    "    \"steam_electric_generating_plant_statistics_large_plants_fuel_statistics_402_duration\",\n",
    "    \"steam_electric_generating_plant_statistics_large_plants_402_duration\",\n",
    "    \"steam_electric_generating_plant_statistics_large_plants_402_instant\",\n",
    "]\n",
    "), ferc1_dbf_settings=Ferc1DbfSettings(),)"
   ]
  },
  {
   "cell_type": "code",
   "execution_count": null,
   "id": "6122c64b-bc91-4686-abb0-36b101c2bf95",
   "metadata": {},
   "outputs": [],
   "source": [
    "ferc1_dbf_raw_dfs = pudl.extract.ferc1.extract_dbf(\n",
    "    ferc1_settings=ferc1_settings.ferc1_dbf_settings, pudl_settings=pudl_settings\n",
    ")"
   ]
  },
  {
   "cell_type": "code",
   "execution_count": null,
   "id": "42552cd8-d51a-454b-83db-42dc403780bc",
   "metadata": {},
   "outputs": [],
   "source": [
    "# Extract FERC form 1 XBRL data\n",
    "ferc1_xbrl_raw_dfs = pudl.extract.ferc1.extract_xbrl(\n",
    "    ferc1_settings=ferc1_settings.ferc1_xbrl_settings, pudl_settings=pudl_settings\n",
    ")\n",
    "\n",
    "ferc1_transformed_dfs = {}"
   ]
  },
  {
   "cell_type": "code",
   "execution_count": null,
   "id": "a9cdbd2d-d3ad-4484-9d29-03d8b28f3858",
   "metadata": {},
   "outputs": [],
   "source": [
    "rename_dict = {\n",
    "    \"plants_steam_ferc1_duration\": 'steam_electric_generating_plant_statistics_large_plants_402_duration', \n",
    "    \"plants_steam_ferc1_instant\":'steam_electric_generating_plant_statistics_large_plants_402_instant',\n",
    "    \"fuel_ferc1_duration\":'steam_electric_generating_plant_statistics_large_plants_fuel_statistics_402_duration'}\n",
    "for pudl_name, xbrl_name in rename_dict.items():\n",
    "    ferc1_xbrl_raw_dfs[pudl_name] = ferc1_xbrl_raw_dfs.pop(xbrl_name)"
   ]
  },
  {
   "cell_type": "code",
   "execution_count": null,
   "id": "97f2ecc7-0344-4e78-997f-bd2e5ea955d4",
   "metadata": {},
   "outputs": [],
   "source": [
    "table = \"fuel_ferc1\"\n",
    "fuel_trans = FuelFerc1(table_name=table)\n",
    "fuel_df = fuel_trans.execute(\n",
    "    raw_dbf=ferc1_dbf_raw_dfs.get(table),\n",
    "    raw_xbrl_instant=ferc1_xbrl_raw_dfs.get(f\"{table}_instant\", None),\n",
    "    raw_xbrl_duration=ferc1_xbrl_raw_dfs.get(f\"{table}_duration\", None),\n",
    ")\n",
    "\n",
    "table=\"plants_steam_ferc1\"\n",
    "steam_df = PlantsSteamFerc1(\n",
    "    table_name=table\n",
    ").execute(\n",
    "    raw_dbf=ferc1_dbf_raw_dfs.get(table),\n",
    "    raw_xbrl_instant=ferc1_xbrl_raw_dfs.get(f\"{table}_instant\", None),\n",
    "    raw_xbrl_duration=ferc1_xbrl_raw_dfs.get(f\"{table}_duration\", None),\n",
    "    transformed_fuel=fuel_df,\n",
    ")"
   ]
  },
  {
   "cell_type": "code",
   "execution_count": null,
   "id": "2efb905d-711c-4e4b-a73f-468d86c93f3d",
   "metadata": {},
   "outputs": [],
   "source": []
  }
 ],
 "metadata": {
  "kernelspec": {
   "display_name": "Python 3 (ipykernel)",
   "language": "python",
   "name": "python3"
  },
  "language_info": {
   "codemirror_mode": {
    "name": "ipython",
    "version": 3
   },
   "file_extension": ".py",
   "mimetype": "text/x-python",
   "name": "python",
   "nbconvert_exporter": "python",
   "pygments_lexer": "ipython3",
   "version": "3.10.5"
  }
 },
 "nbformat": 4,
 "nbformat_minor": 5
}
