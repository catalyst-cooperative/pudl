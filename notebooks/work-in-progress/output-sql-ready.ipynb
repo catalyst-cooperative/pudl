{
 "cells": [
  {
   "attachments": {},
   "cell_type": "markdown",
   "id": "golden-morris",
   "metadata": {},
   "source": [
    "# Test EIA860 validation for old years"
   ]
  },
  {
   "cell_type": "code",
   "execution_count": null,
   "id": "delayed-quantum",
   "metadata": {},
   "outputs": [],
   "source": [
    "%load_ext autoreload\n",
    "%autoreload 2"
   ]
  },
  {
   "cell_type": "code",
   "execution_count": null,
   "id": "selected-narrow",
   "metadata": {},
   "outputs": [],
   "source": [
    "# Standard libraries\n",
    "import logging\n",
    "import sys\n",
    "import os\n",
    "import pathlib\n",
    "\n",
    "# 3rd party libraries\n",
    "import geopandas as gpd\n",
    "import dask.dataframe as dd\n",
    "from dask.distributed import Client\n",
    "import matplotlib.pyplot as plt\n",
    "import matplotlib as mpl\n",
    "import numpy as np\n",
    "import pandas as pd\n",
    "import seaborn as sns\n",
    "import sqlalchemy as sa\n",
    "\n",
    "# Local libraries\n",
    "import pudl"
   ]
  },
  {
   "cell_type": "code",
   "execution_count": null,
   "id": "exotic-permit",
   "metadata": {},
   "outputs": [],
   "source": [
    "# Enable viewing of logging outputs\n",
    "logger=logging.getLogger()\n",
    "logger.setLevel(logging.INFO)\n",
    "handler = logging.StreamHandler(stream=sys.stdout)\n",
    "formatter = logging.Formatter('%(message)s')\n",
    "handler.setFormatter(formatter)\n",
    "logger.handlers = [handler]"
   ]
  },
  {
   "cell_type": "code",
   "execution_count": null,
   "id": "scenic-brake",
   "metadata": {},
   "outputs": [],
   "source": [
    "# Display settings\n",
    "sns.set()\n",
    "%matplotlib inline\n",
    "mpl.rcParams['figure.dpi'] = 150\n",
    "pd.options.display.max_columns = 100\n",
    "pd.options.display.max_rows = 5"
   ]
  },
  {
   "cell_type": "code",
   "execution_count": null,
   "id": "married-spirit",
   "metadata": {},
   "outputs": [],
   "source": [
    "# Establish connection to pudl database\n",
    "from pudl.workspace.setup import PudlPaths\n",
    "\n",
    "pudl_engine = sa.create_engine(PudlPaths().pudl_db)\n",
    "pudl_out = pudl.output.pudltabl.PudlTabl(\n",
    "    pudl_engine=pudl_engine,\n",
    "    freq='AS'\n",
    ")"
   ]
  },
  {
   "attachments": {},
   "cell_type": "markdown",
   "id": "atmospheric-continent",
   "metadata": {},
   "source": [
    "### SQL Access"
   ]
  },
  {
   "cell_type": "code",
   "execution_count": null,
   "id": "together-shift",
   "metadata": {},
   "outputs": [],
   "source": [
    "pudl_engine = sa.create_engine(PudlPaths().pudl_db)"
   ]
  },
  {
   "cell_type": "code",
   "execution_count": null,
   "id": "stuck-raleigh",
   "metadata": {},
   "outputs": [],
   "source": [
    "plants = pd.read_sql(\"plants_eia860\", pudl_engine)"
   ]
  },
  {
   "attachments": {},
   "cell_type": "markdown",
   "id": "korean-gamma",
   "metadata": {},
   "source": [
    "### Output Table Access"
   ]
  },
  {
   "cell_type": "code",
   "execution_count": null,
   "id": "protecting-latin",
   "metadata": {},
   "outputs": [],
   "source": [
    "pudl_out.plants_eia860()"
   ]
  },
  {
   "cell_type": "code",
   "execution_count": null,
   "id": "concerned-craft",
   "metadata": {},
   "outputs": [],
   "source": []
  }
 ],
 "metadata": {
  "kernelspec": {
   "display_name": "Python 3",
   "language": "python",
   "name": "python3"
  },
  "language_info": {
   "codemirror_mode": {
    "name": "ipython",
    "version": 3
   },
   "file_extension": ".py",
   "mimetype": "text/x-python",
   "name": "python",
   "nbconvert_exporter": "python",
   "pygments_lexer": "ipython3",
   "version": "3.8.6"
  }
 },
 "nbformat": 4,
 "nbformat_minor": 5
}
