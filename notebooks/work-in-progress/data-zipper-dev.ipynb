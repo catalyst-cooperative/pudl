{
 "cells": [
  {
   "cell_type": "code",
   "execution_count": null,
   "metadata": {},
   "outputs": [],
   "source": [
    "%matplotlib inline\n",
    "%load_ext autoreload\n",
    "%autoreload 2\n",
    "import sys\n",
    "import os\n",
    "sys.path.append(os.path.abspath(os.path.join('..','..','..')))\n",
    "from pudl import pudl, ferc1, eia923, settings, constants\n",
    "from pudl import models, models_ferc1, models_eia923\n",
    "from pudl import clean_eia923, clean_ferc1, clean_pudl\n",
    "from pudl import analysis\n",
    "import numpy as np\n",
    "import pandas as pd\n",
    "import sqlalchemy as sa\n",
    "import matplotlib.pyplot as plt\n",
    "import matplotlib as mpl\n",
    "import itertools\n",
    "import re\n",
    "from IPython.display import HTML\n",
    "pudl_engine = pudl.connect_db()\n",
    "plt.style.use('ggplot')\n",
    "mpl.rc('figure', figsize=(6,6))\n",
    "mpl.rc('figure', dpi=150)\n",
    "mpl.rc('animation', writer='ffmpeg')"
   ]
  },
  {
   "cell_type": "markdown",
   "metadata": {
    "collapsed": true
   },
   "source": [
    "# Create a pair of test datasets"
   ]
  },
  {
   "cell_type": "code",
   "execution_count": null,
   "metadata": {},
   "outputs": [],
   "source": [
    "test_noise=[0.5, 0.25, 0.5, 1.0, 0.5, 0.1, 0.3]\n",
    "eia_df, ferc_df = analysis.zippertestdata(gens=100, max_group_size=5, noise=test_noise, samples=13)"
   ]
  },
  {
   "cell_type": "markdown",
   "metadata": {},
   "source": [
    "# Aggregate test datasets as if they were FERC/EIA data for plotting"
   ]
  },
  {
   "cell_type": "code",
   "execution_count": null,
   "metadata": {},
   "outputs": [],
   "source": [
    "eia_pudl_df = eia_df.groupby(['pudl_plant_id','year']).agg(sum)\n",
    "eia_pudl_df.columns = eia_pudl_df.columns.str.replace('series','eia')\n",
    "ferc_pudl_df = ferc_df.groupby(['pudl_plant_id','year']).agg(sum)\n",
    "ferc_pudl_df.columns = ferc_pudl_df.columns.str.replace('series','ferc')\n",
    "both_pudl_df = ferc_pudl_df.merge(eia_pudl_df, left_index=True, right_index=True)"
   ]
  },
  {
   "cell_type": "markdown",
   "metadata": {},
   "source": [
    "# Plot the aggregated test data so we can compare it with FERC/EIA\n",
    "See the ferc_to_eia_plant_correlations notebook for what the real data looks like."
   ]
  },
  {
   "cell_type": "code",
   "execution_count": null,
   "metadata": {},
   "outputs": [],
   "source": [
    "for N in np.arange(0,len(test_noise)):\n",
    "    ferc_series = 'ferc{}'.format(N)\n",
    "    eia_series = 'eia{}'.format(N)\n",
    "    noise_val = test_noise[N]\n",
    "    \n",
    "    plt.scatter(both_pudl_df[ferc_series], both_pudl_df[eia_series], s=5, alpha=0.2)\n",
    "    R_2 = np.corrcoef(both_pudl_df[ferc_series],both_pudl_df[eia_series])[0,1]\n",
    "    plt.title(\"Test Data: $\\sigma={}, R^2={:0.3f}$\".format(noise_val, R_2))\n",
    "    plt.xlim((1e2,1e10))\n",
    "    plt.ylim((1e2,1e10))\n",
    "    plt.loglog()\n",
    "    plt.show()"
   ]
  },
  {
   "cell_type": "code",
   "execution_count": null,
   "metadata": {},
   "outputs": [],
   "source": [
    "def plant_corr(pudl_df, x1, x2):\n",
    "    gb = pudl_df.groupby('pudl_plant_id')\n",
    "    corr = gb[[x1,x2]].corr().reset_index()\n",
    "    corr = corr.drop(x2, axis=1)\n",
    "    corr = corr[corr['level_1']==x2]\n",
    "    corr = corr[['pudl_plant_id',x1]]\n",
    "    corr = corr.rename(columns={x1:'corr'})\n",
    "    corr = corr.dropna()\n",
    "    return(corr)\n",
    "\n",
    "def plot_plant_corr(corrs=[], titles=[]):\n",
    "    \"\"\"Given a list of DataFrames containing per-plant correlations of some variable,\n",
    "    and a set of associated figure titles, create a figure displaying the distributions\n",
    "    of those correlations.\"\"\"\n",
    "    \n",
    "    nrows = len(corrs)\n",
    "    assert nrows == len(titles)\n",
    "    fig, axes = plt.subplots(ncols=1, nrows=nrows)\n",
    "    fig.set_figwidth(10)\n",
    "    fig.set_figheight(4*nrows)\n",
    "    fig.set_dpi(150)\n",
    "    for (ax, title, corr) in zip(axes, titles, corrs):\n",
    "        ax.set_xlim(0.0,1.1)\n",
    "        ax.set_title(title)\n",
    "        ax.set_ylabel(\"# of Plants\")\n",
    "        ax.set_xlabel(\"$R^2$\")\n",
    "        ax.grid(b=True)\n",
    "        ax.hist(corr['corr']**2, bins=200, range=(0,1));\n",
    "    fig.tight_layout()\n",
    "    plt.show()"
   ]
  },
  {
   "cell_type": "markdown",
   "metadata": {},
   "source": [
    "# Look at the distribtuion of per-plant variable correlations"
   ]
  },
  {
   "cell_type": "code",
   "execution_count": null,
   "metadata": {},
   "outputs": [],
   "source": [
    "corrs = []\n",
    "titles = []\n",
    "for N in range(len(test_noise)):\n",
    "    eiaN = 'eia{}'.format(N)\n",
    "    fercN = 'ferc{}'.format(N)\n",
    "    titleN = 'Series {}'.format(N)\n",
    "    corrs = corrs + [plant_corr(both_pudl_df, eiaN, fercN),]\n",
    "    titles = titles + [titleN,]\n",
    "    \n",
    "plot_plant_corr(corrs=corrs, titles=titles)"
   ]
  },
  {
   "cell_type": "markdown",
   "metadata": {},
   "source": [
    "# Aggregate and correlate test datasets"
   ]
  },
  {
   "cell_type": "code",
   "execution_count": null,
   "metadata": {},
   "outputs": [],
   "source": [
    "agg_df = analysis.aggregate_by_pudl_plant(eia_df, ferc_df)\n",
    "\n",
    "N_series = len(test_noise)\n",
    "eia_cols = [ 'series{}_eia'.format(N) for N in range(N_series) ]\n",
    "ferc_cols = [ 'series{}_ferc'.format(N) for N in range(N_series) ]\n",
    "corr_cols = [ 'series{}_corr'.format(N) for N in range(N_series) ]\n",
    "\n",
    "corr_df = analysis.correlate_by_generators(agg_df, eia_cols, ferc_cols, corr_cols)"
   ]
  },
  {
   "cell_type": "markdown",
   "metadata": {},
   "source": [
    "# Score candidate generator groupings"
   ]
  },
  {
   "cell_type": "code",
   "execution_count": null,
   "metadata": {},
   "outputs": [],
   "source": [
    "winners = analysis.score_all(corr_df, corr_cols)"
   ]
  },
  {
   "cell_type": "code",
   "execution_count": null,
   "metadata": {},
   "outputs": [],
   "source": [
    "winners"
   ]
  },
  {
   "cell_type": "code",
   "execution_count": null,
   "metadata": {},
   "outputs": [],
   "source": [
    "len(winners.success==True)/len(winners)"
   ]
  }
 ],
 "metadata": {
  "kernelspec": {
   "display_name": "Python 3",
   "language": "python",
   "name": "python3"
  },
  "language_info": {
   "codemirror_mode": {
    "name": "ipython",
    "version": 3
   },
   "file_extension": ".py",
   "mimetype": "text/x-python",
   "name": "python",
   "nbconvert_exporter": "python",
   "pygments_lexer": "ipython3",
   "version": "3.6.1"
  }
 },
 "nbformat": 4,
 "nbformat_minor": 2
}
