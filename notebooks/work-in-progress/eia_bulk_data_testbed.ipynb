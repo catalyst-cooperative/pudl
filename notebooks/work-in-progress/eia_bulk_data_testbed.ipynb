{
 "cells": [
  {
   "cell_type": "code",
   "execution_count": null,
   "id": "e2d2a98b",
   "metadata": {},
   "outputs": [],
   "source": [
    "%load_ext autoreload"
   ]
  },
  {
   "cell_type": "code",
   "execution_count": null,
   "id": "8b83b916",
   "metadata": {},
   "outputs": [],
   "source": [
    "%autoreload 2"
   ]
  },
  {
   "cell_type": "code",
   "execution_count": null,
   "id": "8258583d",
   "metadata": {},
   "outputs": [],
   "source": [
    "import pandas as pd\n",
    "import numpy as np\n",
    "from pathlib import Path\n",
    "\n",
    "import pudl\n",
    "import pudl.extract.eia_bulk_elec as ebulk\n",
    "import pudl.transform.eia_bulk_elec as tbulk"
   ]
  },
  {
   "cell_type": "code",
   "execution_count": null,
   "id": "8df06d1e",
   "metadata": {},
   "outputs": [],
   "source": [
    "fpath = Path('/home/tpb/catalyst/workspace/data/eia_bulk_data/ELEC.zip')\n",
    "assert fpath.exists()"
   ]
  },
  {
   "cell_type": "code",
   "execution_count": null,
   "id": "784fabef",
   "metadata": {},
   "outputs": [],
   "source": [
    "%%time\n",
    "raw = ebulk.extract(fpath)"
   ]
  },
  {
   "cell_type": "code",
   "execution_count": null,
   "id": "caff32c5",
   "metadata": {},
   "outputs": [],
   "source": [
    "raw_meta = raw['metadata']\n",
    "raw_ts = raw['timeseries']"
   ]
  },
  {
   "cell_type": "code",
   "execution_count": null,
   "id": "29254ec0",
   "metadata": {},
   "outputs": [],
   "source": [
    "raw_meta.head(2)"
   ]
  },
  {
   "cell_type": "code",
   "execution_count": null,
   "id": "00c7e8ca",
   "metadata": {},
   "outputs": [],
   "source": [
    "tbulk._transform_metadata(raw_meta).head(2)"
   ]
  },
  {
   "cell_type": "code",
   "execution_count": null,
   "id": "3e88f085",
   "metadata": {},
   "outputs": [],
   "source": [
    "pd.to_datetime(raw_meta['last_updated'])"
   ]
  },
  {
   "cell_type": "code",
   "execution_count": null,
   "id": "7ea055ac",
   "metadata": {},
   "outputs": [],
   "source": [
    "meta = pd.concat([raw_meta.drop(columns=['name']),\n",
    "                  tbulk._extract_keys_from_name(raw_meta),\n",
    "                  tbulk._extract_keys_from_series_id(raw_meta)],\n",
    "                 axis=1\n",
    "                )"
   ]
  },
  {
   "cell_type": "code",
   "execution_count": null,
   "id": "ec67990f",
   "metadata": {},
   "outputs": [],
   "source": [
    "meta.sample(5)"
   ]
  },
  {
   "cell_type": "code",
   "execution_count": null,
   "id": "a5ba932d",
   "metadata": {},
   "outputs": [],
   "source": [
    "meta.shape, raw_ts.shape"
   ]
  },
  {
   "cell_type": "code",
   "execution_count": null,
   "id": "58816f6b",
   "metadata": {},
   "outputs": [],
   "source": [
    "meta.sample(5)"
   ]
  },
  {
   "cell_type": "code",
   "execution_count": null,
   "id": "a92eadf4",
   "metadata": {},
   "outputs": [],
   "source": [
    "ts.head(5)"
   ]
  },
  {
   "cell_type": "code",
   "execution_count": null,
   "id": "528a38b7",
   "metadata": {},
   "outputs": [],
   "source": [
    "ts.isna().mean()"
   ]
  },
  {
   "cell_type": "code",
   "execution_count": null,
   "id": "ac250979",
   "metadata": {},
   "outputs": [],
   "source": [
    "ts.isna().groupby(ts['series_id'].str[-1])['value'].mean()"
   ]
  },
  {
   "cell_type": "code",
   "execution_count": null,
   "id": "1fcca118",
   "metadata": {},
   "outputs": [],
   "source": [
    "ts.memory_usage(deep=True) / 2**20"
   ]
  },
  {
   "cell_type": "code",
   "execution_count": null,
   "id": "7a111656",
   "metadata": {},
   "outputs": [],
   "source": [
    "meta.describe()"
   ]
  },
  {
   "cell_type": "code",
   "execution_count": null,
   "id": "d04c74d5",
   "metadata": {},
   "outputs": [],
   "source": [
    "meta.loc[:, ~meta.isna().all()].describe()"
   ]
  },
  {
   "cell_type": "code",
   "execution_count": null,
   "id": "3a63364e",
   "metadata": {},
   "outputs": [],
   "source": [
    "all_nan = meta.isna().all()\n",
    "all_none = meta.eq('None').all()\n",
    "to_drop = all_nan | all_none\n",
    "dropped_col_names = meta.columns[to_drop]"
   ]
  },
  {
   "cell_type": "code",
   "execution_count": null,
   "id": "d206973d",
   "metadata": {},
   "outputs": [],
   "source": [
    "set(dropped_col_names)"
   ]
  },
  {
   "cell_type": "code",
   "execution_count": null,
   "id": "87d4dffb",
   "metadata": {},
   "outputs": [],
   "source": [
    "tbulk._get_empty_col_names(meta)"
   ]
  },
  {
   "cell_type": "code",
   "execution_count": null,
   "id": "fb59ee51",
   "metadata": {},
   "outputs": [],
   "source": [
    "tbulk._get_redundant_frequency_col_names(meta)"
   ]
  },
  {
   "cell_type": "code",
   "execution_count": null,
   "id": "a72abd66",
   "metadata": {},
   "outputs": [],
   "source": [
    "tbulk._get_constant_col_names(meta)"
   ]
  },
  {
   "cell_type": "code",
   "execution_count": null,
   "id": "5ad879e3",
   "metadata": {},
   "outputs": [],
   "source": [
    "meta['fuel_code'].value_counts()"
   ]
  },
  {
   "cell_type": "code",
   "execution_count": null,
   "id": "8a8059ea",
   "metadata": {},
   "outputs": [],
   "source": [
    "meta.columns[meta.nunique() == 1]"
   ]
  },
  {
   "cell_type": "code",
   "execution_count": null,
   "id": "dbe3ba9d",
   "metadata": {},
   "outputs": [],
   "source": [
    "geo_parts = meta['geoset_id'].str.split('-', expand=True)"
   ]
  },
  {
   "cell_type": "code",
   "execution_count": null,
   "id": "031480fb",
   "metadata": {},
   "outputs": [],
   "source": [
    "tbulk._get_col_names_to_drop(meta)"
   ]
  },
  {
   "cell_type": "code",
   "execution_count": null,
   "id": "4c07df7f",
   "metadata": {},
   "outputs": [],
   "source": [
    "pd.set_option('display.max_colwidth', None)"
   ]
  },
  {
   "cell_type": "code",
   "execution_count": null,
   "id": "3c3cae3c",
   "metadata": {},
   "outputs": [],
   "source": [
    "meta.sample(5, random_state=2)[['series_id', 'description']]"
   ]
  },
  {
   "cell_type": "code",
   "execution_count": null,
   "id": "704fbddd",
   "metadata": {},
   "outputs": [],
   "source": [
    "dmeta = meta.drop(columns=tbulk._get_col_names_to_drop(meta))"
   ]
  },
  {
   "cell_type": "code",
   "execution_count": null,
   "id": "248cbc0f",
   "metadata": {},
   "outputs": [],
   "source": [
    "dmeta.sample(5, random_state=3)"
   ]
  },
  {
   "cell_type": "code",
   "execution_count": null,
   "id": "3ef7f5e0",
   "metadata": {},
   "outputs": [],
   "source": [
    "# confirm connecticut is in \"geography\" because it is missing from \"description\"\n",
    "dmeta.loc[dmeta['region_code'].eq(\"NEW\"),:].head(3)"
   ]
  },
  {
   "cell_type": "code",
   "execution_count": null,
   "id": "9bc84f02",
   "metadata": {},
   "outputs": [],
   "source": [
    "dmeta.groupby([\"fuel\", \"fuel_code\"])['description'].first().str.strip('; ').str.split(';', expand=True)[[0]]"
   ]
  },
  {
   "cell_type": "code",
   "execution_count": null,
   "id": "b277a14e",
   "metadata": {},
   "outputs": [],
   "source": [
    "dmeta.groupby([\"sector\", \"sector_code\"])['description'].first().str.strip('; ').str.split(';', expand=True)[[1]]"
   ]
  },
  {
   "cell_type": "code",
   "execution_count": null,
   "id": "8e6b4fa4",
   "metadata": {},
   "outputs": [],
   "source": [
    "from io import StringIO\n",
    "pd.read_csv(StringIO(\n",
    "\t\"\"\"\n",
    "fuel\tfuel_code\tdescription\n",
    "bituminous coal\tBIT\tBituminous Coal\n",
    "coal\tCOW\tSummation of all types of coal\n",
    "lignite coal\tLIG\tLignite Coal\n",
    "natural gas\tNG\tNatural Gas\n",
    "petroleum coke\tPC\tPetroleum Coke (solid residual petroluem)\n",
    "petroleum liquids\tPEL\tSummation of all petroleum liquids (distallte fuel oil, jet fuel, residual fuel oil, kerosense waste oil and other petroleum liquids)\n",
    "subbituminous coal\tSUB\tSubbituminous Coal\n",
    "    \"\"\"\n",
    "), sep='\\t')"
   ]
  },
  {
   "cell_type": "code",
   "execution_count": null,
   "id": "165dae54",
   "metadata": {},
   "outputs": [],
   "source": [
    "out = StringIO()\n",
    "dmeta.groupby([\"region\", \"region_code\"])['description'].first().str.strip('; ').str.split(';', expand=True)[[2]].to_csv(out, sep=\",\")"
   ]
  },
  {
   "cell_type": "code",
   "execution_count": null,
   "id": "3231de69",
   "metadata": {},
   "outputs": [],
   "source": [
    "print(out.getvalue())"
   ]
  },
  {
   "cell_type": "code",
   "execution_count": null,
   "id": "3f07a378",
   "metadata": {},
   "outputs": [],
   "source": []
  },
  {
   "cell_type": "code",
   "execution_count": null,
   "id": "0241fb3e",
   "metadata": {},
   "outputs": [],
   "source": []
  },
  {
   "cell_type": "code",
   "execution_count": null,
   "id": "5c0b9734",
   "metadata": {},
   "outputs": [],
   "source": [
    "wide_ts = ts.merge(dmeta[['series_id', 'units', 'fuel', 'region','sector', 'frequency']], on='series_id').drop(columns='series_id')"
   ]
  },
  {
   "cell_type": "code",
   "execution_count": null,
   "id": "aeaec99c",
   "metadata": {},
   "outputs": [],
   "source": [
    "wide_ts = wide_ts.set_index(['units', 'fuel', 'region','sector', 'frequency', 'date']).unstack('units')"
   ]
  },
  {
   "cell_type": "code",
   "execution_count": null,
   "id": "6b1989e6",
   "metadata": {},
   "outputs": [],
   "source": [
    "wide_ts.columns = wide_ts.columns.droplevel(level=None)"
   ]
  },
  {
   "cell_type": "code",
   "execution_count": null,
   "id": "2fe2a2c6",
   "metadata": {},
   "outputs": [],
   "source": [
    "wide_ts.rename(columns={'billion Btu': 'receipts_billion_btu',\n",
    "                       'dollars per million Btu': 'cost_dollars_per_mmbtu'}, inplace=True)"
   ]
  },
  {
   "cell_type": "code",
   "execution_count": null,
   "id": "80987491",
   "metadata": {},
   "outputs": [],
   "source": [
    "wide_ts.sample(5)"
   ]
  },
  {
   "cell_type": "code",
   "execution_count": null,
   "id": "e5157c3b",
   "metadata": {},
   "outputs": [],
   "source": [
    "wide_ts.columns.name = None"
   ]
  },
  {
   "cell_type": "code",
   "execution_count": null,
   "id": "5d0c272c",
   "metadata": {},
   "outputs": [],
   "source": [
    "wide_ts.columns"
   ]
  },
  {
   "cell_type": "code",
   "execution_count": null,
   "id": "3f0516bf",
   "metadata": {},
   "outputs": [],
   "source": [
    "tbulk._transform_timeseries(ts, dmeta).sample(5)"
   ]
  },
  {
   "cell_type": "code",
   "execution_count": null,
   "id": "bf06b81d",
   "metadata": {},
   "outputs": [],
   "source": [
    "cen_reg = pd.read_csv(\n",
    "    StringIO(\n",
    "        \"\"\"\n",
    "region,region_code,included_states\n",
    "East North Central,ENC,\"Illinois,Indiana,Michigan,Ohio,Wisconsin\"\n",
    "East South Central,ESC,\"Alabama,Kentucky,Mississippi,Tennessee\"\n",
    "Middle Atlantic,MAT,\"New Jersey,New York,Pennsylvania\"\n",
    "Mountain,MTN,\"Arizona,Colorado,Idaho,Montana,Nevada,New Mexico,Utah,Wyoming\"\n",
    "New England,NEW,\"Maine,Massaschuetts,New Hampshire,Rhode Island,Vermont,Connecticut\"\n",
    "Pacific Contiguous,PCC,\"California,Oregon,Washington\"\n",
    "Pacific Noncontiguous,PCN,\"Alaska,Hawaii\"\n",
    "South Atlantic,SAT,\"Delaware,the District of Columbia,Florida,Georgia,Maryland,North Carolina,South Carolina,Virginia,West Virginia\"\n",
    "West North Central,WNC,\"Iowa,Kansas,Minnesota,Missouri,Nebraska,North Dakota,South Dakota\"\n",
    "West South Central,WSC,\"Arkansas,Louisiana,Oklahoma,Texas\"\n",
    "    \"\"\"\n",
    "    ),\n",
    ")"
   ]
  },
  {
   "cell_type": "code",
   "execution_count": null,
   "id": "3ca2781f",
   "metadata": {},
   "outputs": [],
   "source": [
    "cen_reg"
   ]
  },
  {
   "cell_type": "code",
   "execution_count": null,
   "id": "b8a7addd",
   "metadata": {},
   "outputs": [],
   "source": [
    "cen_reg['included_states'].str.split(',', expand=True).melt()"
   ]
  },
  {
   "cell_type": "code",
   "execution_count": null,
   "id": "c5b96d12",
   "metadata": {},
   "outputs": [],
   "source": [
    "pd.concat([cen_reg[['region', 'region_code']], cen_reg['included_states'].str.split(',', expand=True)], axis=1).melt(id_vars=['region', 'region_code'], value_name='state').dropna(subset='state').drop(columns='variable').sort_values('region')"
   ]
  },
  {
   "cell_type": "code",
   "execution_count": null,
   "id": "0be641c5",
   "metadata": {},
   "outputs": [],
   "source": []
  }
 ],
 "metadata": {
  "kernelspec": {
   "display_name": "Python 3 (ipykernel)",
   "language": "python",
   "name": "python3"
  },
  "language_info": {
   "codemirror_mode": {
    "name": "ipython",
    "version": 3
   },
   "file_extension": ".py",
   "mimetype": "text/x-python",
   "name": "python",
   "nbconvert_exporter": "python",
   "pygments_lexer": "ipython3",
   "version": "3.10.5"
  }
 },
 "nbformat": 4,
 "nbformat_minor": 5
}
