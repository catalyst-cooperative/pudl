{
 "cells": [
  {
   "attachments": {},
   "cell_type": "markdown",
   "metadata": {},
   "source": [
    "# EIA923 Column Changes\n",
    "This notebook reimplements the excel extractor process to extract each sheet of each excel file separately. This preserves the original structure for easier comparison."
   ]
  },
  {
   "cell_type": "code",
   "execution_count": null,
   "metadata": {},
   "outputs": [],
   "source": [
    "%load_ext autoreload\n",
    "%autoreload 2\n",
    "import pudl\n",
    "from pudl import constants as pc\n",
    "from pathlib import Path\n",
    "import pandas as pd\n",
    "pd.options.display.max_columns = 150\n",
    "pd.options.display.max_rows = 150"
   ]
  },
  {
   "cell_type": "code",
   "execution_count": null,
   "metadata": {},
   "outputs": [],
   "source": [
    "# make notebooks full width\n",
    "from IPython.core.display import display, HTML\n",
    "display(HTML(\"<style>.container { width:95% !important; }</style>\"))"
   ]
  },
  {
   "cell_type": "code",
   "execution_count": null,
   "metadata": {},
   "outputs": [],
   "source": [
    "eia923_tables = pc.PUDL_TABLES['eia923']\n",
    "eia923_years = list(range(2001, 2020))"
   ]
  },
  {
   "cell_type": "code",
   "execution_count": null,
   "metadata": {},
   "outputs": [],
   "source": [
    "from pudl.workspace.setup import PudlPaths\n",
    "\n",
    "ds = pudl.workspace.datastore.Datastore(local_cache_path=PudlPaths().data_dir)"
   ]
  },
  {
   "cell_type": "code",
   "execution_count": null,
   "metadata": {},
   "outputs": [],
   "source": [
    "eia923_extractor = pudl.extract.eia923.Extractor(ds)"
   ]
  },
  {
   "cell_type": "code",
   "execution_count": null,
   "metadata": {},
   "outputs": [],
   "source": [
    "dfs = {}\n",
    "# Lightly altered extractor code (pudl.extract.excel.GenericExtractor.extract) to avoid concatenating prematurely\n",
    "for partition in pudl.helpers.iterate_multivalue_dict(year=eia923_years):\n",
    "    dfs[partition['year']] = {}\n",
    "    for page in eia923_extractor._metadata.get_all_pages():\n",
    "        if eia923_extractor.excel_filename(page, **partition) == '-1':\n",
    "            continue\n",
    "        newdata = pd.read_excel(\n",
    "                    eia923_extractor.load_excel_file(page, **partition),\n",
    "                    sheet_name=eia923_extractor._metadata.get_sheet_name(\n",
    "                        page, **partition),\n",
    "                    skiprows=eia923_extractor._metadata.get_skiprows(page, **partition),\n",
    "                    skipfooter=eia923_extractor._metadata.get_skipfooter(\n",
    "                        page, **partition),\n",
    "                    dtype=eia923_extractor.get_dtypes(page, **partition),\n",
    "                    nrows=20\n",
    "        )\n",
    "        newdata = pudl.helpers.simplify_columns(newdata)\n",
    "        newdata = eia923_extractor.process_raw(newdata, page, **partition)\n",
    "        newdata = eia923_extractor.process_renamed(newdata, page, **partition)\n",
    "        dfs[partition['year']][page] = newdata"
   ]
  },
  {
   "cell_type": "code",
   "execution_count": null,
   "metadata": {},
   "outputs": [],
   "source": [
    "for k, v in dfs.items():\n",
    "    print(k, v.keys())"
   ]
  },
  {
   "cell_type": "code",
   "execution_count": null,
   "metadata": {},
   "outputs": [],
   "source": [
    "# make dataframes of columns. One df per excel sheet, one row per year\n",
    "from collections import defaultdict\n",
    "col_dfs = defaultdict(list)\n",
    "for page in eia923_extractor._metadata.get_all_pages():\n",
    "    for year in eia923_years:\n",
    "        try:\n",
    "            col_dfs[page].append(dfs[year][page].columns.to_frame().rename(columns={0: year}))\n",
    "        except KeyError:\n",
    "            continue"
   ]
  },
  {
   "cell_type": "code",
   "execution_count": null,
   "metadata": {},
   "outputs": [],
   "source": [
    "col_dfs = {k : pd.concat(v, axis=1).T for k, v in col_dfs.items()}"
   ]
  },
  {
   "attachments": {},
   "cell_type": "markdown",
   "metadata": {},
   "source": [
    "This shows the state of the columns for each year for each sheet. When a column is introduced (or disappears), that entry will be NaN. This particular page only has data from 2011 on."
   ]
  },
  {
   "cell_type": "code",
   "execution_count": null,
   "metadata": {},
   "outputs": [],
   "source": [
    "col_dfs['plant_frame']"
   ]
  },
  {
   "attachments": {},
   "cell_type": "markdown",
   "metadata": {},
   "source": [
    "Filter for columns with any NaNs to avoid filling the screen with unchanged columns"
   ]
  },
  {
   "cell_type": "code",
   "execution_count": null,
   "metadata": {},
   "outputs": [],
   "source": [
    "col_dfs['plant_frame'].loc[:,col_dfs['plant_frame'].isna().any()]"
   ]
  },
  {
   "attachments": {},
   "cell_type": "markdown",
   "metadata": {},
   "source": [
    "Look at all the dataframes this way"
   ]
  },
  {
   "cell_type": "code",
   "execution_count": null,
   "metadata": {},
   "outputs": [],
   "source": [
    "a = iter(col_dfs.items())"
   ]
  },
  {
   "cell_type": "code",
   "execution_count": null,
   "metadata": {},
   "outputs": [],
   "source": [
    "k,v = next(a)\n",
    "print(k)\n",
    "v.loc[:,v.isna().any()]"
   ]
  },
  {
   "attachments": {},
   "cell_type": "markdown",
   "metadata": {},
   "source": [
    "fuel_receipts_costs has a weird column dropout: mercury content in 2013. But I checked the raw excel sheet and it is real."
   ]
  },
  {
   "cell_type": "code",
   "execution_count": null,
   "metadata": {},
   "outputs": [],
   "source": [
    "k,v = next(a)\n",
    "print(k)\n",
    "v.loc[:,v.isna().any()]"
   ]
  },
  {
   "cell_type": "code",
   "execution_count": null,
   "metadata": {},
   "outputs": [],
   "source": [
    "k,v = next(a)\n",
    "print(k)\n",
    "v.loc[:,v.isna().any()]"
   ]
  },
  {
   "cell_type": "code",
   "execution_count": null,
   "metadata": {},
   "outputs": [],
   "source": [
    "k,v = next(a)\n",
    "print(k)\n",
    "v.loc[:,v.isna().any()]"
   ]
  },
  {
   "attachments": {},
   "cell_type": "markdown",
   "metadata": {},
   "source": [
    "plant_frame has a few ephemeral columns. Again, checking the raw EIA excel sheets shows that they really do only exist for 2011 and 2013"
   ]
  },
  {
   "cell_type": "code",
   "execution_count": null,
   "metadata": {},
   "outputs": [],
   "source": [
    "k,v = next(a)\n",
    "print(k)\n",
    "v.loc[:,v.isna().any()]"
   ]
  },
  {
   "cell_type": "code",
   "execution_count": null,
   "metadata": {},
   "outputs": [],
   "source": [
    "k,v = next(a)\n",
    "print(k)\n",
    "v.loc[:,v.isna().any()]"
   ]
  }
 ],
 "metadata": {
  "kernelspec": {
   "display_name": "Python 3",
   "language": "python",
   "name": "python3"
  },
  "language_info": {
   "codemirror_mode": {
    "name": "ipython",
    "version": 3
   },
   "file_extension": ".py",
   "mimetype": "text/x-python",
   "name": "python",
   "nbconvert_exporter": "python",
   "pygments_lexer": "ipython3",
   "version": "3.9.4"
  }
 },
 "nbformat": 4,
 "nbformat_minor": 4
}
