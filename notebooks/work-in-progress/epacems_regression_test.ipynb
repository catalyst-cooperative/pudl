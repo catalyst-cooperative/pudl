{
 "cells": [
  {
   "cell_type": "markdown",
   "id": "8b24b4ea-02f8-4777-a22f-5baa37d816c5",
   "metadata": {},
   "source": [
    "## EPACEMS Polarization Regression Testing"
   ]
  },
  {
   "cell_type": "code",
   "execution_count": null,
   "id": "db3cc7a5-9e53-4df4-b277-027993983550",
   "metadata": {},
   "outputs": [],
   "source": [
    "import polars as pl\n",
    "from polars.testing import assert_frame_equal\n",
    "\n",
    "from pudl.workspace.setup import PudlPaths"
   ]
  },
  {
   "cell_type": "markdown",
   "id": "bd8311d7-0dd0-4145-9b06-0ab00fd32aaa",
   "metadata": {},
   "source": [
    "### Scan table from nightly builds and local workspace\n",
    "Requires that you've materialized the latest version of the `core_epacems__hourly_emissions` asset."
   ]
  },
  {
   "cell_type": "code",
   "execution_count": null,
   "id": "22885df6-5c73-4f13-bcdc-338777591a57",
   "metadata": {},
   "outputs": [],
   "source": [
    "nightly_path = \"https://s3.us-west-2.amazonaws.com/pudl.catalyst.coop/nightly/core_epacems__hourly_emissions.parquet\"\n",
    "dev_path = PudlPaths().parquet_path(\"core_epacems__hourly_emissions\")\n",
    "\n",
    "nightly_lf = pl.scan_parquet(nightly_path)\n",
    "dev_path = pl.scan_parquet(dev_path)"
   ]
  },
  {
   "cell_type": "markdown",
   "id": "e6385958-e576-4e83-b34b-817f73b3994a",
   "metadata": {},
   "source": [
    "### Compare old and new versions\n",
    "Compare 1 year at a time to avoid memory issues. Currently `check_dtypes` leads to failures due to a mismatch between string and categorical columns. If we update the `Resource.enforce_schema` method to support Polars we could make it much easier to avoid typ"
   ]
  },
  {
   "cell_type": "code",
   "execution_count": null,
   "id": "76f14b87-9c2d-4456-b20c-fa5179546d6b",
   "metadata": {},
   "outputs": [],
   "source": [
    "import traceback\n",
    "pk_cols = [\n",
    "    \"plant_id_epa\",\n",
    "    \"emissions_unit_id_epa\",\n",
    "    \"operating_datetime_utc\",\n",
    "]\n",
    "for year, in dev_path.select(\"year\").unique().collect().iter_rows():\n",
    "    print(f\"Checking frames equal for year: {year}\")\n",
    "    try:\n",
    "        assert_frame_equal(\n",
    "            dev_path.filter(pl.col(\"year\") == year).sort(by=pk_cols),\n",
    "            nightly_lf.filter(pl.col(\"year\") == year).sort(by=pk_cols),\n",
    "            check_column_order=False,\n",
    "            # The nightly version has categorical cols where dev has string cols\n",
    "            # Need to modify existing schema enforcement to support Polars\n",
    "            check_dtypes=False,\n",
    "        )\n",
    "    except AssertionError as e:\n",
    "        print(f\"Failed validation for year: {year}\")\n",
    "        traceback.print_exc()"
   ]
  },
  {
   "cell_type": "code",
   "execution_count": null,
   "id": "904509f2-7c01-46c5-9975-2de74a55f3ab",
   "metadata": {},
   "outputs": [],
   "source": []
  }
 ],
 "metadata": {
  "kernelspec": {
   "display_name": "Python 3 (ipykernel)",
   "language": "python",
   "name": "python3"
  },
  "language_info": {
   "codemirror_mode": {
    "name": "ipython",
    "version": 3
   },
   "file_extension": ".py",
   "mimetype": "text/x-python",
   "name": "python",
   "nbconvert_exporter": "python",
   "pygments_lexer": "ipython3",
   "version": "3.13.9"
  }
 },
 "nbformat": 4,
 "nbformat_minor": 5
}
