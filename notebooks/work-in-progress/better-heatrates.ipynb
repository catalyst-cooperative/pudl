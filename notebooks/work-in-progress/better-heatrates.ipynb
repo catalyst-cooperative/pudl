{
 "cells": [
  {
   "attachments": {},
   "cell_type": "markdown",
   "metadata": {},
   "source": [
    "# Notebook Preamble"
   ]
  },
  {
   "cell_type": "code",
   "execution_count": 1,
   "metadata": {},
   "outputs": [],
   "source": [
    "%load_ext autoreload\n",
    "%autoreload 2"
   ]
  },
  {
   "cell_type": "code",
   "execution_count": 2,
   "metadata": {},
   "outputs": [],
   "source": [
    "# Standard libraries\n",
    "import logging\n",
    "import os\n",
    "import pathlib\n",
    "import sys\n",
    "\n",
    "# 3rd party libraries\n",
    "import matplotlib.pyplot as plt\n",
    "import matplotlib as mpl\n",
    "import numpy as np\n",
    "import pandas as pd\n",
    "import seaborn as sns\n",
    "import sqlalchemy as sa\n",
    "\n",
    "# Local libraries\n",
    "import pudl\n",
    "import pudl.constants as pc"
   ]
  },
  {
   "cell_type": "code",
   "execution_count": 3,
   "metadata": {},
   "outputs": [],
   "source": [
    "sns.set()\n",
    "%matplotlib inline\n",
    "mpl.rcParams['figure.figsize'] = (10,4)\n",
    "mpl.rcParams['figure.dpi'] = 100\n",
    "pd.options.display.max_columns = 100\n",
    "pd.options.display.max_rows = 100"
   ]
  },
  {
   "cell_type": "code",
   "execution_count": 4,
   "metadata": {},
   "outputs": [],
   "source": [
    "logger=logging.getLogger()\n",
    "logger.setLevel(logging.INFO)\n",
    "handler = logging.StreamHandler(stream=sys.stdout)\n",
    "formatter = logging.Formatter('%(message)s')\n",
    "handler.setFormatter(formatter)\n",
    "logger.handlers = [handler]"
   ]
  },
  {
   "attachments": {},
   "cell_type": "markdown",
   "metadata": {},
   "source": [
    "# Function Definitions"
   ]
  },
  {
   "attachments": {},
   "cell_type": "markdown",
   "metadata": {},
   "source": [
    "## `prep_gens()`"
   ]
  },
  {
   "cell_type": "code",
   "execution_count": 5,
   "metadata": {},
   "outputs": [],
   "source": [
    "def prep_gens(pudl_out, prime_mover_codes):\n",
    "    \"\"\"\n",
    "    Preproccessing function to look at generators by prime mover and year.\n",
    "    \"\"\"\n",
    "    gens_eia860 = pudl_out.gens_eia860()\n",
    "    # Generator selection criteria\n",
    "    working_gens = gens_eia860.loc[gens_eia860.prime_mover_code.isin(prime_mover_codes)]\n",
    "    # Calculate the annual generation by generator\n",
    "    net_gen_by_gen = (\n",
    "        pudl_out.gen_eia923()\n",
    "        .set_index(\"report_date\")\n",
    "        .groupby([pd.Grouper(freq=\"AS\"), \"plant_id_eia\", \"generator_id\"])\n",
    "        .net_generation_mwh.sum()\n",
    "        .to_frame()\n",
    "        .reset_index()\n",
    "    )\n",
    "    # Merge annual generation by generator into the working DF\n",
    "    return pd.merge(\n",
    "        working_gens,\n",
    "        net_gen_by_gen,\n",
    "        how=\"left\",\n",
    "        validate=\"1:1\",\n",
    "    )"
   ]
  },
  {
   "attachments": {},
   "cell_type": "markdown",
   "metadata": {},
   "source": [
    "## `unit_gen_coverage()`"
   ]
  },
  {
   "cell_type": "code",
   "execution_count": 6,
   "metadata": {},
   "outputs": [],
   "source": [
    "def unit_gen_coverage(prepped_gens):\n",
    "    \"\"\"\n",
    "    Characterize generator-level PUDL Unit ID coverage by year.\n",
    "    \n",
    "    For each year and fossil fuel prime mover code, calculate:\n",
    "    \n",
    "    * number & fraction of generator_id values that have a unit_id_pudl\n",
    "    * sum and fraction of overall capacity (MW) that has a unit_id_pudl\n",
    "    * sum and fraction of overall generation (MWh) associated with a\n",
    "      unit_id_pudl in the generation_eia923 table\n",
    "    \n",
    "    \"\"\"\n",
    "    working_gens = prepped_gens.copy()\n",
    "    # A boolean column indicating whether a record has a PUDL Unit ID\n",
    "    working_gens.loc[:, \"has_unit_id\"] = working_gens.unit_id_pudl.notna()\n",
    "    \n",
    "    def tot_frac(df, col):\n",
    "        return df.loc[:, (col, True)] / df[col].sum(axis=\"columns\")\n",
    "    \n",
    "    working_gens = (\n",
    "        working_gens.groupby([\"report_date\", \"prime_mover_code\", \"has_unit_id\"])\n",
    "        .agg(\n",
    "            num_gens=pd.NamedAgg(column=\"generator_id\", aggfunc=\"size\"),\n",
    "            capacity_mw=pd.NamedAgg(column=\"capacity_mw\", aggfunc=\"sum\"),\n",
    "            net_generation_mwh=pd.NamedAgg(column=\"net_generation_mwh\", aggfunc=\"sum\"),\n",
    "        )\n",
    "        .unstack(fill_value=0)\n",
    "        .assign(\n",
    "            num_gens_fraction=lambda x: tot_frac(x, \"num_gens\"),\n",
    "            capacity_mw_fraction=lambda x: tot_frac(x, \"capacity_mw\"),\n",
    "            net_generation_mwh_fraction=lambda x: tot_frac(x, \"net_generation_mwh\"),\n",
    "        )\n",
    "    )\n",
    "    return working_gens"
   ]
  },
  {
   "attachments": {},
   "cell_type": "markdown",
   "metadata": {},
   "source": [
    "## `chp_prevalence()`"
   ]
  },
  {
   "cell_type": "code",
   "execution_count": 7,
   "metadata": {},
   "outputs": [],
   "source": [
    "def chp_prevalence(gens_df):\n",
    "    \"\"\"\n",
    "    Assess the prevalence of Combined Heat & Power in Generators.\n",
    "    \n",
    "    Break down generators by year and prime mover, and within each group\n",
    "    calculate the proportion and total quantity associated with CHP per\n",
    "    \n",
    "    * number of generators\n",
    "    * capacity (MW)\n",
    "    * generation (MWh) in the generation_eia923 table\n",
    "    \"\"\"\n",
    "    gens_working = gens_df.copy()\n",
    "    # A boolean column indicating whether a record is associated with CHP\n",
    "    gens_working.loc[:, \"ass_chap\"] = gens_working.associated_combined_heat_power.astype(bool)\n",
    "    \n",
    "    def tot_frac(df, col):\n",
    "        return df.loc[:, (col, True)] / df[col].sum(axis=\"columns\")\n",
    "    \n",
    "    gens_working = (\n",
    "        gens_working.groupby([\"report_date\", \"prime_mover_code\", \"ass_chap\"])\n",
    "        .agg(\n",
    "            num_gens=pd.NamedAgg(column=\"generator_id\", aggfunc=\"size\"),\n",
    "            capacity_mw=pd.NamedAgg(column=\"capacity_mw\", aggfunc=\"sum\"),\n",
    "            net_generation_mwh=pd.NamedAgg(column=\"net_generation_mwh\", aggfunc=\"sum\"),\n",
    "        )\n",
    "        .unstack(fill_value=0)\n",
    "        .assign(\n",
    "            num_gens_fraction=lambda x: tot_frac(x, \"num_gens\"),\n",
    "            capacity_mw_fraction=lambda x: tot_frac(x, \"capacity_mw\"),\n",
    "            net_generation_mwh_fraction=lambda x: tot_frac(x, \"net_generation_mwh\"),\n",
    "        )\n",
    "    )\n",
    "    return gens_working "
   ]
  },
  {
   "attachments": {},
   "cell_type": "markdown",
   "metadata": {},
   "source": [
    "## `plot_unit_ids()`"
   ]
  },
  {
   "cell_type": "code",
   "execution_count": 8,
   "metadata": {},
   "outputs": [],
   "source": [
    "def plot_unit_ids(df, pm_codes):\n",
    "    for code in pm_codes:\n",
    "        data = (\n",
    "            df[df.prime_mover_code==code]\n",
    "            .groupby(\"report_date\")[\"unit_id_pudl\"]\n",
    "            .count()\n",
    "        )\n",
    "        plt.plot(data, label=code, linewidth=\"2\", markersize=\"4\", marker=\"o\")\n",
    "    plt.legend(loc=\"upper left\")\n",
    "    plt.ylabel(\"Generator Records with Unit IDs\")\n",
    "    plt.show();"
   ]
  },
  {
   "attachments": {},
   "cell_type": "markdown",
   "metadata": {},
   "source": [
    "# Pull data & set constants"
   ]
  },
  {
   "attachments": {},
   "cell_type": "markdown",
   "metadata": {},
   "source": [
    "## Notebook Constants"
   ]
  },
  {
   "cell_type": "code",
   "execution_count": 9,
   "metadata": {},
   "outputs": [],
   "source": [
    "THERMAL_PRIME_MOVERS = [ \"CT\", \"CS\", \"CA\", \"CC\", \"GT\", \"IC\", \"ST\", ]\n",
    "\n",
    "GENS_COLS = [\n",
    "    \"report_date\",\n",
    "    \"plant_id_eia\",\n",
    "    #\"plant_name_eia\",\n",
    "    \"unit_id_pudl\",\n",
    "    \"bga_source\",\n",
    "    \"generator_id\",\n",
    "    #\"capacity_mw\",\n",
    "    \"prime_mover_code\",\n",
    "    #\"energy_source_code_1\",\n",
    "    #\"energy_source_code_2\",\n",
    "    \"fuel_type_code_pudl\",\n",
    "    #\"technology_description\",\n",
    "    #\"associated_combined_heat_power\",\n",
    "]\n"
   ]
  },
  {
   "attachments": {},
   "cell_type": "markdown",
   "metadata": {
    "tags": []
   },
   "source": [
    "## Create PUDL output object"
   ]
  },
  {
   "cell_type": "code",
   "execution_count": 113,
   "metadata": {},
   "outputs": [
    {
     "data": {
      "text/plain": [
       "{'pudl_in': '/home/zane/code/catalyst/pudl-work',\n",
       " 'data_dir': '/home/zane/code/catalyst/pudl-work/data',\n",
       " 'settings_dir': '/home/zane/code/catalyst/pudl-work/settings',\n",
       " 'pudl_out': '/home/zane/code/catalyst/pudl-work',\n",
       " 'sqlite_dir': '/home/zane/code/catalyst/pudl-work/sqlite',\n",
       " 'parquet_dir': '/home/zane/code/catalyst/pudl-work/parquet',\n",
       " 'datapkg_dir': '/home/zane/code/catalyst/pudl-work/datapkg',\n",
       " 'ferc1_db': 'sqlite:////home/zane/code/catalyst/pudl-work/sqlite/ferc1.sqlite',\n",
       " 'pudl_db': 'sqlite:////home/zane/code/catalyst/pudl-work/sqlite/pudl.sqlite',\n",
       " 'censusdp1tract_db': 'sqlite:////home/zane/code/catalyst/pudl-work/sqlite/censusdp1tract.sqlite'}"
      ]
     },
     "metadata": {},
     "output_type": "display_data"
    }
   ],
   "source": [
    "\n",
    "from pudl.workspace.setup import PudlPaths\n",
    "\n",
    "# TODO(janrous): provide property for accessing ferc db?\n",
    "ferc1_engine = sa.create_engine(PudlPaths().sqlite_db_uri(\"ferc1\"))\n",
    "pudl_engine = sa.create_engine(PudlPaths().pudl_db)\n",
    "\n",
    "API_KEY_EIA = os.environ[\"API_KEY_EIA\"]\n",
    "\n",
    "pudl_out = pudl.output.pudltabl.PudlTabl(pudl_engine)"
   ]
  },
  {
   "attachments": {},
   "cell_type": "markdown",
   "metadata": {},
   "source": [
    "# Remaining PUDL Unit ID questions:\n",
    "* What is the output table describing these units going to look like?\n",
    "* Should it be several different well normalized tables defining different kinds of Unit IDs?\n",
    "* Should it be a single un-normalized table?\n",
    "* Should we back/forward fill the technology descriptions and prime mover codes? Esp. in older yeras?\n",
    "* Should we fill in pseudo-boiler IDs for the units that we've created, like the latter years of CCNG plants do?\n",
    "* Does every boiler that we know of (in the boiler entity table) mapped to generators in the BGA table? Or are there some orphaned, unassociated boilers?\n",
    "* Should we make this more extensive Unit ID assignment process optional in the generators_eia860 output table?"
   ]
  },
  {
   "cell_type": "code",
   "execution_count": 117,
   "metadata": {},
   "outputs": [
    {
     "name": "stdout",
     "output_type": "stream",
     "text": [
      "Selected 172517 ['CC', 'CS', 'GT', 'IC'] records lacking Unit IDs from 403834 records overall. \n",
      "Selected 1891 ['ST'] records lacking Unit IDs from 403834 records overall. \n",
      "Selected 3836 ST records lacking Unit IDs burning coal from 403834 records overall.\n",
      "Selected 1299 ST records lacking Unit IDs burning oil from 403834 records overall.\n",
      "Selected 4966 ST records lacking Unit IDs burning gas from 403834 records overall.\n",
      "Selected 2256 ST records lacking Unit IDs burning waste from 403834 records overall.\n",
      "CPU times: user 2min 23s, sys: 5.85 s, total: 2min 28s\n",
      "Wall time: 2min 29s\n"
     ]
    }
   ],
   "source": [
    "%%time\n",
    "pudl_out = pudl.output.pudltabl.PudlTabl(pudl_engine)\n",
    "gens_df = pudl_out.gens_eia860(unit_ids=True)"
   ]
  },
  {
   "cell_type": "code",
   "execution_count": 13,
   "metadata": {},
   "outputs": [
    {
     "ename": "AssertionError",
     "evalue": "",
     "output_type": "error",
     "traceback": [
      "\u001b[0;31m---------------------------------------------------------------------------\u001b[0m",
      "\u001b[0;31mAssertionError\u001b[0m                            Traceback (most recent call last)",
      "\u001b[0;32m<ipython-input-13-a871fdc9ebee>\u001b[0m in \u001b[0;36m<module>\u001b[0;34m\u001b[0m\n\u001b[0;32m----> 1\u001b[0;31m \u001b[0;32massert\u001b[0m \u001b[0;32mFalse\u001b[0m\u001b[0;34m\u001b[0m\u001b[0;34m\u001b[0m\u001b[0m\n\u001b[0m",
      "\u001b[0;31mAssertionError\u001b[0m: "
     ]
    }
   ],
   "source": [
    "assert False"
   ]
  },
  {
   "attachments": {},
   "cell_type": "markdown",
   "metadata": {},
   "source": [
    "# Net Generation Allocation"
   ]
  },
  {
   "cell_type": "code",
   "execution_count": null,
   "metadata": {},
   "outputs": [],
   "source": [
    "gf_cols = [\n",
    "    \"plant_id_eia\",\n",
    "    \"report_date\",\n",
    "    \"energy_source_code\",\n",
    "    \"prime_mover_code\",\n",
    "    \"net_generation_mwh\",\n",
    "    \"fuel_consumed_mmbtu_for_electricity\",\n",
    "]\n",
    "\n",
    "gens_cols = [\n",
    "    \"plant_id_eia\",\n",
    "    \"generator_id\",\n",
    "    \"report_date\",\n",
    "    \"energy_source_code_1\",\n",
    "    \"energy_source_code_2\",\n",
    "    \"energy_source_code_3\",\n",
    "    \"energy_source_code_4\",\n",
    "    \"energy_source_code_5\",\n",
    "    \"energy_source_code_6\",\n",
    "    \"capacity_mw\",\n",
    "    \"prime_mover_code\",\n",
    "]"
   ]
  },
  {
   "attachments": {},
   "cell_type": "markdown",
   "metadata": {},
   "source": [
    "# Cull fully reported units\n",
    "* In some plants, all of the generators report all of their fuel consumption and electricity generation in the `generation_eia923` and `boiler_fuel_eia923` tables. If they also don't have CHP, our current heat rate calculation should fully accommodate these plants already.\n",
    "* In other plants, all of the electricity generation and fuel consumption being reported in association with a particular type of prime mover (but maybe not all prime movers) are fully covered by the more granular boiler / generator reporting, and so those plant-prime combinations can be removed from the heat rate calculations based on the `generation_fuel_eia923` table data. So long as there's no CHP. This is a more general case of the bullet above, so maybe we should just do this as the first cut.\n",
    "* To identify these cases, we need to aggregate net generation and fuel consumption on the basis of `unit_id_pudl` and identify cases in which all generators of any prime mover type that is involved have been included in that aggregation, on an annual basis. In these cases the net generation and fuel consumption associated with those prime mover types can be safely removed from the `generation_fuel_eia923` table, leaving only fuel and electricity that hasn't been accounted for, or is only partially accounted for."
   ]
  },
  {
   "attachments": {},
   "cell_type": "markdown",
   "metadata": {},
   "source": [
    "# Assess New Unit ID coverage\n",
    "* Run the same assessment functions as we did above\n",
    "* Per generator\n",
    "* Per MW installed\n",
    "* Per MWh of net generation"
   ]
  },
  {
   "attachments": {},
   "cell_type": "markdown",
   "metadata": {},
   "source": [
    "# Heat rates by Plant-Prime\n",
    "* The `generation_fuel_eia923` table breaks down net generation & fuel consumption by plant and prime mover.\n",
    "* Can one calculate realistic heat rates on the basis of plant-prime? Or do they always need to have units?\n",
    "* Calculate the distribution of plant-prime heat rates and plot them to see what they look like.\n",
    "* It seems likely that this strategy probably won't work, and we'll need to do some kind of grouping into pseudo-units."
   ]
  },
  {
   "cell_type": "code",
   "execution_count": null,
   "metadata": {},
   "outputs": [],
   "source": [
    "gen_fuel = pudl_out.gf_eia923()"
   ]
  },
  {
   "cell_type": "code",
   "execution_count": null,
   "metadata": {},
   "outputs": [],
   "source": [
    "len(gen_fuel)"
   ]
  },
  {
   "cell_type": "code",
   "execution_count": null,
   "metadata": {},
   "outputs": [],
   "source": [
    "assert False"
   ]
  },
  {
   "attachments": {},
   "cell_type": "markdown",
   "metadata": {
    "tags": []
   },
   "source": [
    "# Combined Heat and Power\n",
    "* What fraction of generators, capacity, and generation are associated with generators that also do CHP?"
   ]
  },
  {
   "cell_type": "code",
   "execution_count": null,
   "metadata": {},
   "outputs": [],
   "source": [
    "gf_eia923 = pudl_out.gf_eia923()\n",
    "gf_eia923[\"fuel_ratio\"] = gf_eia923.fuel_consumed_for_electricity_mmbtu / gf_eia923.fuel_consumed_mmbtu\n",
    "gf_eia923[\"no_chp\"] = pd.Series(np.isclose(gf_eia923.fuel_ratio, 1.0))\n",
    "plt.hist(gf_eia923.fuel_ratio, bins=20)\n",
    "plt.yscale(\"log\")\n",
    "plt.xlabel(\"Fraction of fuel used for electricity\")\n",
    "plt.ylabel(\"Number of Records (log scale)\");"
   ]
  },
  {
   "cell_type": "code",
   "execution_count": null,
   "metadata": {},
   "outputs": [],
   "source": [
    "gf_eia923.groupby(\"report_date\")[[\"fuel_consumed_for_electricity_mmbtu\", \"fuel_consumed_mmbtu\"]].sum().plot()\n",
    "plt.ylim(0,5e9)\n",
    "plt.ylabel(\"Fuel Consumed [MMBTU]\");"
   ]
  },
  {
   "cell_type": "code",
   "execution_count": null,
   "metadata": {},
   "outputs": [],
   "source": [
    "plt.figure(figsize=(10,10))\n",
    "plt.scatter(\n",
    "    gf_eia923.fuel_consumed_mmbtu,\n",
    "    gf_eia923.fuel_consumed_for_electricity_mmbtu,\n",
    "    s=1, alpha=0.01, color=\"black\",\n",
    ")\n",
    "plt.xscale(\"log\")\n",
    "plt.yscale(\"log\")\n",
    "plt.xlim(1e3, 1e8)\n",
    "plt.ylim(1e3, 1e8)\n",
    "plt.xlabel(\"Total Fuel Consumed [MMBTU]\")\n",
    "plt.ylabel(\"Fuel Consumed for Electricity [MMBTU]\");"
   ]
  },
  {
   "cell_type": "code",
   "execution_count": null,
   "metadata": {
    "tags": []
   },
   "outputs": [],
   "source": [
    "chp_summary = chp_prevalence(prepped_gens)\n",
    "chp_summary"
   ]
  },
  {
   "attachments": {},
   "cell_type": "markdown",
   "metadata": {},
   "source": [
    "# Assess Existing Heat Rates\n",
    "* We need some way to compare different ways of calculating heat rates and choose between them.\n",
    "* We want to check both for their correctness, and their completeness.\n",
    "* Apparent correctness will depend on the type of generator / unit type. Need to define different expectations."
   ]
  },
  {
   "cell_type": "code",
   "execution_count": null,
   "metadata": {},
   "outputs": [],
   "source": [
    "%%time\n",
    "hr_by_unit = pudl_out.hr_by_unit()\n",
    "hr_by_unit.info()"
   ]
  },
  {
   "attachments": {},
   "cell_type": "markdown",
   "metadata": {},
   "source": [
    "## Compile Net Generation\n",
    "* **By generator**\n",
    "  * `net_generation_mwh` available from `generation_eia923` table\n",
    "  * Associated with `plant_id_eia` and `generator_id` columns directly.\n",
    "  * Can be associated with `unit_id_pudl` if the generator is part of an identified unit\n",
    "  * Can be associated with a `technology_description` and `prime_mover_code` based on the `generators_eia860` table.\n",
    "  * Can be associated with a list of energy sources based on `energy_source_N` in `generators_eia860` table.\n",
    "* **By plant-prime-fuel**\n",
    "  * `net_generation_mwh` is available from generation_fuel_eia923`"
   ]
  },
  {
   "attachments": {},
   "cell_type": "markdown",
   "metadata": {},
   "source": [
    "## Compile Fuel Consumption\n",
    "* **By boiler**\n",
    "  * `total_heat_content_mmbtu` and `fuel_type_code_pudl` are available by `plant_id_eia` and `boiler_id` in `boiler_fuel_eia923`\n",
    "  * This value can be be associated with a `unit_id_pudl` based on the BGA table.\n",
    "  * The heat consumed in here includes fuels both for electricity and steam (direct heat) outputs.\n",
    "* **By plant-prime-fuel**\n",
    "  * Available in `generation_fuel` and broken down as for CHP vs Electricity separately."
   ]
  },
  {
   "attachments": {},
   "cell_type": "markdown",
   "metadata": {},
   "source": [
    "## Identify Combined Cycle Units\n",
    "* Combined Cycle turbines show up in the generators table, but have no \"boiler\" so they don't end up in the boiler-generator-association\n",
    "* This means they don't get assigned `unit_id_pudl` values and are often lost.\n",
    "* However, they are identifiable based on `technology_description` in the generators table, and so can be associated with a plant.\n",
    "* Within a given plant, it's possible to combine all the natural gas that goes into a "
   ]
  },
  {
   "attachments": {},
   "cell_type": "markdown",
   "metadata": {},
   "source": [
    "## Questions:\n",
    "* Do all of the generators that show up in the generation table end up getting PUDL Unit IDs assigned?\n",
    "* Where are the heat inputs being reported for combined cycle units? Do they really exist after 2015? What is still missing?\n",
    "* Triage units / generators into: Easy, Hard, and Impossible. Work on Hard ones until diminishing returns. Assign impossible and too-hard ones the median values."
   ]
  },
  {
   "attachments": {},
   "cell_type": "markdown",
   "metadata": {},
   "source": [
    "## Tables of Interest:\n",
    "* `generation_eia923`\n",
    "* `generation_fuel_eia923`\n",
    "* `boiler_generator_assn_eia860`\n",
    "* `generators_eia860`\n",
    "* `generators_entity_eia`\n",
    "* `boiler_fuel_eia923`"
   ]
  },
  {
   "cell_type": "code",
   "execution_count": null,
   "metadata": {},
   "outputs": [],
   "source": [
    "gens_eia860_sql = \"\"\"\n",
    "SELECT report_date,\n",
    "       plant_id_eia,\n",
    "       generator_id,\n",
    "       capacity_mw,\n",
    "       energy_source_code_1,\n",
    "       energy_source_code_2,\n",
    "       energy_source_code_3,\n",
    "       energy_source_code_4,\n",
    "       energy_source_code_5,\n",
    "       energy_source_code_6,\n",
    "       fuel_type_code_pudl,\n",
    "       technology_description,\n",
    "FROM generators_eia860\n",
    "\"\"\"\n",
    "\n",
    "gens_entity_sql = \"\"\"\n",
    "SELECT report_date,\n",
    "       plant_id_eia,\n",
    "       generator_id,\n",
    "       prime_mover_code,\n",
    "       bypass_heat_recovery,\n",
    "       associated_combined_heat_and_power,\n",
    "FROM generators_entity_eia\n",
    "\"\"\"\n",
    "\n",
    "gen_eia923_sql = \"\"\"\n",
    "SELECT report_date,\n",
    "       plant_id_eia,\n",
    "       generator_id,\n",
    "       net_generation_mwh\n",
    "FROM generation_eia923\n",
    "\"\"\"\n",
    "\n",
    "gf_eia923_sql = \"\"\"\n",
    "SELECT report_date,\n",
    "       plant_id_eia,\n",
    "       nuclear_unit_id,\n",
    "       fuel_type,\n",
    "       fuel_type_code_pudl,\n",
    "       prime_mover_code,\n",
    "       fuel_consumed_mmbtu,\n",
    "       fuel_consumed_for_electricity_mmbtu,\n",
    "       net_generation_mwh\n",
    "FROM generation_fuel_eia923\n",
    "\"\"\"\n",
    "\n",
    "bga_sql = \"\"\"\n",
    "SELECT report_date,\n",
    "       plant_id_eia,\n",
    "       unit_id_pudl,\n",
    "       generator_id,\n",
    "       boiler_id\n",
    "FROM boiler_generator_assn_eia860\n",
    "\"\"\"\n",
    "\n",
    "bf_eia923_sql = \"\"\"\n",
    "SELECT report_date,\n",
    "       plant_id_eia,\n",
    "       boiler_id,\n",
    "       fuel_type_code,\n",
    "       fuel_type_code_pudl,\n",
    "       fuel_consumed_units,\n",
    "       fuel_mmbtu_per_unit\n",
    "FROM boiler_fuel_eia923\n",
    "\"\"\"\n"
   ]
  },
  {
   "attachments": {},
   "cell_type": "markdown",
   "metadata": {},
   "source": [
    "## Compile Fuel Consumption\n",
    "  * Reported by boiler in `boiler_fuel_eia923` and so can be associated "
   ]
  },
  {
   "attachments": {},
   "cell_type": "markdown",
   "metadata": {},
   "source": [
    "# Preliminary Data Wrangling\n",
    "Once all of the data is loaded and looks like it's in good shape, do any initial wrangling that's specific to this particular analysis. This should mostly make use of the higher level functions which were defined above. If this step takes a while, don't be shy about producing `logging` outputs."
   ]
  },
  {
   "cell_type": "code",
   "execution_count": null,
   "metadata": {},
   "outputs": [],
   "source": []
  },
  {
   "attachments": {},
   "cell_type": "markdown",
   "metadata": {},
   "source": [
    "# Data Analysis and Visualization\n",
    "* Now that you've got the required data in a usable form, you can tell the story of your analysis through a mix of visualizations, and further data wrangling steps.\n",
    "* This narrative should be readable, with figures that have titles, legends, and labeled axes as appropriate so others can understand what you're showing them.\n",
    "* The code should be concise and make use of the parameters and functions which you've defined above when possible. Functions should contain comprehensible chunks of work that make sense as one step in the story of the analysis."
   ]
  },
  {
   "cell_type": "code",
   "execution_count": null,
   "metadata": {},
   "outputs": [],
   "source": [
    "coal_ax = finite_distplot(mcoe_coal, \"heat_rate_mmbtu_mwh\", max_val=20)\n",
    "plt.title(\"Coal heat rate distribution\");"
   ]
  },
  {
   "cell_type": "code",
   "execution_count": null,
   "metadata": {},
   "outputs": [],
   "source": [
    "gas_ax = finite_distplot(mcoe_gas, \"heat_rate_mmbtu_mwh\", max_val=20)\n",
    "plt.title(\"Gas heat rate distribution\");"
   ]
  }
 ],
 "metadata": {
  "kernelspec": {
   "display_name": "Python 3 (ipykernel)",
   "language": "python",
   "name": "python3"
  },
  "language_info": {
   "codemirror_mode": {
    "name": "ipython",
    "version": 3
   },
   "file_extension": ".py",
   "mimetype": "text/x-python",
   "name": "python",
   "nbconvert_exporter": "python",
   "pygments_lexer": "ipython3",
   "version": "3.9.6"
  },
  "toc-autonumbering": true,
  "toc-showmarkdowntxt": false,
  "toc-showtags": false
 },
 "nbformat": 4,
 "nbformat_minor": 4
}
