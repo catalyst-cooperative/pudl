{
 "cells": [
  {
   "cell_type": "markdown",
   "id": "a2243237-6a7f-4f39-839f-79d314d79f31",
   "metadata": {},
   "source": [
    "# Prototype validation tools\n",
    "In developing a new data validation framework, it's important to demonstrate that existing validations can be translated into the new framework. This notebook will demonstrate a factory pattern for generating `asset_check`'s which will run [Great Expectations](https://docs.greatexpectations.io/docs/core/introduction/) under the hood for easy configurable validations."
   ]
  },
  {
   "cell_type": "code",
   "execution_count": null,
   "id": "15cd676a-977d-4dd6-9b69-2b48df71eea0",
   "metadata": {},
   "outputs": [],
   "source": [
    "!pip install great_expectations"
   ]
  },
  {
   "cell_type": "markdown",
   "id": "07ae2e83-02ea-420f-88ea-b74047d92177",
   "metadata": {},
   "source": [
    "## Helper tools\n",
    "Define some useful tools for prepping tests."
   ]
  },
  {
   "cell_type": "code",
   "execution_count": null,
   "id": "b73dff6e-4da3-461b-8f16-6fa642c8b6e0",
   "metadata": {},
   "outputs": [],
   "source": [
    "from pudl.etl import defs\n",
    "import pandas as pd\n",
    "\n",
    "def _get_asset(asset_key: str) -> pd.DataFrame:\n",
    "    return defs.load_asset_value(asset_key)"
   ]
  },
  {
   "cell_type": "markdown",
   "id": "c8bba4e9-4c66-48c7-87c3-59ffd4ee4e1c",
   "metadata": {},
   "source": [
    "## Define `asset_check` factory\n",
    "Define a fake `asset_check` factory to generate GX based tests. This won't create real `asset_check`'s because they can't easily be run in a notebook, but is meant to mirror what the API would look like."
   ]
  },
  {
   "cell_type": "code",
   "execution_count": null,
   "id": "073cc9cc-f593-4c65-b709-d552b098757e",
   "metadata": {},
   "outputs": [],
   "source": [
    "import great_expectations as gx\n",
    "from typing import Type, Any\n",
    "from dataclasses import dataclass\n",
    "\n",
    "@dataclass\n",
    "class ValidationResult:\n",
    "    \"\"\"This would be an AssetCheckResult in production.\"\"\"\n",
    "    passed: bool\n",
    "    metadata: dict\n",
    "    description: str | None\n",
    "    context: Any\n",
    "\n",
    "def validation_factory(\n",
    "    asset_name: str,\n",
    "    expectation: Type[gx.expectations.Expectation],\n",
    "    expectation_config: dict,\n",
    "    fast_etl_expectation_config: dict | None = None,\n",
    "    description: str | None = None,\n",
    "):\n",
    "    \"\"\"Return a function which will execute a great expectations expectation.\"\"\"\n",
    "    def _validation():\n",
    "        df = _get_asset(asset_name)\n",
    "\n",
    "        # Connect to data\n",
    "        context = gx.get_context()\n",
    "        batch = context.data_sources.pandas_default.read_dataframe(df)\n",
    "\n",
    "        # Create expectation (in actual asset_check factory this would check job name to supply correct config)\n",
    "        configured_expectation = expectation(**expectation_config)\n",
    "\n",
    "        # Run test\n",
    "        validation_result = batch.validate(configured_expectation)\n",
    "\n",
    "        return ValidationResult(\n",
    "            passed=validation_result.success,\n",
    "            description=description,\n",
    "            metadata=validation_result.result,\n",
    "            context=context,\n",
    "        )"
   ]
  },
  {
   "cell_type": "code",
   "execution_count": null,
   "id": "cba225da-7182-4fe3-9565-3c3296edc384",
   "metadata": {},
   "outputs": [],
   "source": [
    "validation = validation_factory(\n",
    "    \"out_ferc1__yearly_steam_plants_fuel_by_plant_sched402\",\n",
    "    gx.exp"
   ]
  }
 ],
 "metadata": {
  "kernelspec": {
   "display_name": "Python 3 (ipykernel)",
   "language": "python",
   "name": "python3"
  },
  "language_info": {
   "codemirror_mode": {
    "name": "ipython",
    "version": 3
   },
   "file_extension": ".py",
   "mimetype": "text/x-python",
   "name": "python",
   "nbconvert_exporter": "python",
   "pygments_lexer": "ipython3",
   "version": "3.12.7"
  }
 },
 "nbformat": 4,
 "nbformat_minor": 5
}
