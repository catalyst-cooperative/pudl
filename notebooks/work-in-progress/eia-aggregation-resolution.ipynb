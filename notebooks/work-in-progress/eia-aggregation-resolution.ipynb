{
 "cells": [
  {
   "cell_type": "code",
   "execution_count": 1,
   "id": "172d5124-0b84-4870-9bb2-a5acfc7ded31",
   "metadata": {},
   "outputs": [
    {
     "ename": "ValueError",
     "evalue": "denorm_generation_fuel_combined_AGG_eia923 needs one of these frequencies ['AS', 'MS'], but got None",
     "output_type": "error",
     "traceback": [
      "\u001b[0;31m---------------------------------------------------------------------------\u001b[0m",
      "\u001b[0;31mValueError\u001b[0m                                Traceback (most recent call last)",
      "Cell \u001b[0;32mIn[1], line 20\u001b[0m\n\u001b[1;32m     10\u001b[0m freq \u001b[38;5;241m=\u001b[39m \u001b[38;5;28;01mNone\u001b[39;00m\n\u001b[1;32m     12\u001b[0m pt \u001b[38;5;241m=\u001b[39m PudlTabl(\n\u001b[1;32m     13\u001b[0m         pudl_engine\u001b[38;5;241m=\u001b[39mpudl_engine,\n\u001b[1;32m     14\u001b[0m         freq\u001b[38;5;241m=\u001b[39mfreq,\n\u001b[0;32m   (...)\u001b[0m\n\u001b[1;32m     17\u001b[0m         fill_net_gen\u001b[38;5;241m=\u001b[39m\u001b[38;5;28;01mTrue\u001b[39;00m,\n\u001b[1;32m     18\u001b[0m     )\n\u001b[0;32m---> 20\u001b[0m \u001b[43mpt\u001b[49m\u001b[38;5;241;43m.\u001b[39;49m\u001b[43mgf_eia923\u001b[49m\u001b[43m(\u001b[49m\u001b[43m)\u001b[49m\n",
      "File \u001b[0;32m~/catalyst/pudl/src/pudl/output/pudltabl.py:286\u001b[0m, in \u001b[0;36mPudlTabl._get_table_from_db\u001b[0;34m(self, table_name, allowed_freqs, update)\u001b[0m\n\u001b[1;32m    278\u001b[0m \u001b[38;5;250m\u001b[39m\u001b[38;5;124;03m\"\"\"Grab output table from PUDL DB.\u001b[39;00m\n\u001b[1;32m    279\u001b[0m \n\u001b[1;32m    280\u001b[0m \u001b[38;5;124;03mArgs:\u001b[39;00m\n\u001b[0;32m   (...)\u001b[0m\n\u001b[1;32m    283\u001b[0m \u001b[38;5;124;03m    update: Ignored. Retained for backwards compatibility only.\u001b[39;00m\n\u001b[1;32m    284\u001b[0m \u001b[38;5;124;03m\"\"\"\u001b[39;00m\n\u001b[1;32m    285\u001b[0m \u001b[38;5;28;01mif\u001b[39;00m \u001b[38;5;28mself\u001b[39m\u001b[38;5;241m.\u001b[39mfreq \u001b[38;5;129;01mnot\u001b[39;00m \u001b[38;5;129;01min\u001b[39;00m allowed_freqs:\n\u001b[0;32m--> 286\u001b[0m     \u001b[38;5;28;01mraise\u001b[39;00m \u001b[38;5;167;01mValueError\u001b[39;00m(\n\u001b[1;32m    287\u001b[0m         \u001b[38;5;124mf\u001b[39m\u001b[38;5;124m\"\u001b[39m\u001b[38;5;132;01m{\u001b[39;00mtable_name\u001b[38;5;132;01m}\u001b[39;00m\u001b[38;5;124m needs one of these frequencies \u001b[39m\u001b[38;5;132;01m{\u001b[39;00mallowed_freqs\u001b[38;5;132;01m}\u001b[39;00m\u001b[38;5;124m, \u001b[39m\u001b[38;5;124m\"\u001b[39m\n\u001b[1;32m    288\u001b[0m         \u001b[38;5;124mf\u001b[39m\u001b[38;5;124m\"\u001b[39m\u001b[38;5;124mbut got \u001b[39m\u001b[38;5;132;01m{\u001b[39;00m\u001b[38;5;28mself\u001b[39m\u001b[38;5;241m.\u001b[39mfreq\u001b[38;5;132;01m}\u001b[39;00m\u001b[38;5;124m\"\u001b[39m\n\u001b[1;32m    289\u001b[0m     )\n\u001b[1;32m    290\u001b[0m \u001b[38;5;28;01mif\u001b[39;00m update:\n\u001b[1;32m    291\u001b[0m     logger\u001b[38;5;241m.\u001b[39mwarning(\n\u001b[1;32m    292\u001b[0m         \u001b[38;5;124m\"\u001b[39m\u001b[38;5;124mThe update parameter is deprecated and has no effect.\u001b[39m\u001b[38;5;124m\"\u001b[39m\n\u001b[1;32m    293\u001b[0m         \u001b[38;5;124m\"\u001b[39m\u001b[38;5;124mIt is retained for backwards compatibility only.\u001b[39m\u001b[38;5;124m\"\u001b[39m\n\u001b[1;32m    294\u001b[0m     )\n",
      "\u001b[0;31mValueError\u001b[0m: denorm_generation_fuel_combined_AGG_eia923 needs one of these frequencies ['AS', 'MS'], but got None"
     ]
    }
   ],
   "source": [
    "from pudl.output.pudltabl import PudlTabl\n",
    "from pudl.workspace.setup import PudlPaths\n",
    "\n",
    "import sqlalchemy as sa\n",
    "\n",
    "pps = PudlPaths()\n",
    "\n",
    "pudl_engine = sa.create_engine(pps.pudl_db)\n",
    "\n",
    "freq = None\n",
    "\n",
    "pt = PudlTabl(\n",
    "        pudl_engine=pudl_engine,\n",
    "        freq=freq,\n",
    "        fill_fuel_cost=True,\n",
    "        roll_fuel_cost=True,\n",
    "        fill_net_gen=True,\n",
    "    )\n",
    "\n",
    "pt.gf_eia923()"
   ]
  },
  {
   "cell_type": "markdown",
   "id": "cdf5d4ca-0382-4c89-a98c-33d972f1ff17",
   "metadata": {},
   "source": [
    "## desired output\n",
    "- None: denorm_generation_fuel_combined_MONTHLY_eia923\n",
    "- MS: denorm_generation_fuel_combined_MONTHLY_eia923\n",
    "- AS: denorm_generation_fuel_combined_YEARLY_eia923\n",
    "\n",
    "## options\n",
    "- Drop support for 'MS' and allow None and 'AS': This makes the most sense given the logic that is actually changing. We're only doing an annual aggregation.\n",
    "- Drop support for 'None' and allow 'MS' and 'AS': This makes less logical sense.\n",
    "- Support all three options but return the same thing for None and 'MS'. \n",
    "\n",
    "Either way, people might not love losing access to some of these aggregate options even though the data is mostly the same. The aggregated values are the same for None and 'MS' aggregations but the unaggregated tables contain some non numeric data that gets dropped during the aggregation. I think this change should happen when we rip out PudlTabl."
   ]
  },
  {
   "cell_type": "markdown",
   "id": "5d2e9d7c-c848-43a7-8667-37c917bd0e68",
   "metadata": {},
   "source": [
    "## Full validation tests stack trace: `eia-agg-validation.log`"
   ]
  },
  {
   "cell_type": "code",
   "execution_count": null,
   "id": "63688e79-fd4d-43bd-8831-bc7198b839a2",
   "metadata": {},
   "outputs": [],
   "source": []
  }
 ],
 "metadata": {
  "kernelspec": {
   "display_name": "Python 3 (ipykernel)",
   "language": "python",
   "name": "python3"
  },
  "language_info": {
   "codemirror_mode": {
    "name": "ipython",
    "version": 3
   },
   "file_extension": ".py",
   "mimetype": "text/x-python",
   "name": "python",
   "nbconvert_exporter": "python",
   "pygments_lexer": "ipython3",
   "version": "3.11.5"
  }
 },
 "nbformat": 4,
 "nbformat_minor": 5
}
