{
 "cells": [
  {
   "cell_type": "markdown",
   "id": "advised-nothing",
   "metadata": {},
   "source": [
    "# Test EIA860 validation for old years"
   ]
  },
  {
   "cell_type": "code",
   "execution_count": 1,
   "id": "major-animation",
   "metadata": {},
   "outputs": [],
   "source": [
    "%load_ext autoreload\n",
    "%autoreload 2"
   ]
  },
  {
   "cell_type": "code",
   "execution_count": 2,
   "id": "funded-potter",
   "metadata": {},
   "outputs": [],
   "source": [
    "# Standard libraries\n",
    "import logging\n",
    "import sys\n",
    "import os\n",
    "import pathlib\n",
    "\n",
    "# 3rd party libraries\n",
    "import geopandas as gpd\n",
    "import dask.dataframe as dd\n",
    "from dask.distributed import Client\n",
    "import matplotlib.pyplot as plt\n",
    "import matplotlib as mpl\n",
    "import numpy as np\n",
    "import pandas as pd\n",
    "import seaborn as sns\n",
    "import sqlalchemy as sa\n",
    "\n",
    "# Local libraries\n",
    "import pudl"
   ]
  },
  {
   "cell_type": "code",
   "execution_count": 3,
   "id": "herbal-affairs",
   "metadata": {},
   "outputs": [],
   "source": [
    "# Enable viewing of logging outputs\n",
    "logger=logging.getLogger()\n",
    "logger.setLevel(logging.INFO)\n",
    "handler = logging.StreamHandler(stream=sys.stdout)\n",
    "formatter = logging.Formatter('%(message)s')\n",
    "handler.setFormatter(formatter)\n",
    "logger.handlers = [handler]"
   ]
  },
  {
   "cell_type": "code",
   "execution_count": 4,
   "id": "whole-cookie",
   "metadata": {},
   "outputs": [],
   "source": [
    "# Display settings\n",
    "sns.set()\n",
    "%matplotlib inline\n",
    "mpl.rcParams['figure.dpi'] = 150\n",
    "pd.options.display.max_columns = 100\n",
    "pd.options.display.max_rows = 5"
   ]
  },
  {
   "cell_type": "code",
   "execution_count": 5,
   "id": "suspended-coach",
   "metadata": {},
   "outputs": [],
   "source": [
    "# Establish connection to pudl database\n",
    "pudl_settings = pudl.workspace.setup.get_defaults()\n",
    "pudl_engine = sa.create_engine(pudl_settings['pudl_db'])"
   ]
  },
  {
   "cell_type": "code",
   "execution_count": 6,
   "id": "moral-nursery",
   "metadata": {},
   "outputs": [],
   "source": [
    "# Change root directory to pytest test folder\n",
    "PUDL_REPO = pathlib.Path(\"/Users/aesharpe/Desktop/Work/Catalyst_Coop/pudl/\")\n",
    "os.chdir(PUDL_REPO / \"test\")\n",
    "\n",
    "# Import test file\n",
    "import validate.eia_test"
   ]
  },
  {
   "cell_type": "code",
   "execution_count": 21,
   "id": "bright-relation",
   "metadata": {},
   "outputs": [],
   "source": [
    "# Generate pudl_out_eia object -- change freq as desired for tests\n",
    "pudl_out_eia = pudl.output.pudltabl.PudlTabl(\n",
    "    pudl_engine=pudl_engine,\n",
    "    #freq=\"AS\",\n",
    "    fill_fuel_cost=True,\n",
    "    roll_fuel_cost=True,\n",
    "    fill_net_gen=True,\n",
    ")"
   ]
  },
  {
   "cell_type": "code",
   "execution_count": 22,
   "id": "moral-technical",
   "metadata": {},
   "outputs": [],
   "source": [
    "# Test parameters -- change for each test function\n",
    "row_params = (\n",
    "    \"df_name,cols\", [\n",
    "        (\"plants_eia860\", \"all\"),\n",
    "        (\"utils_eia860\", \"all\"),\n",
    "        (\"pu_eia860\", \"all\"),\n",
    "        (\"bga_eia860\", \"all\"),\n",
    "        (\"own_eia860\", \"all\"),\n",
    "        (\"gens_eia860\", \"all\"),\n",
    "        (\"gen_eia923\", \"all\"),\n",
    "        (\"gf_eia923\", \"all\"),\n",
    "        (\"bf_eia923\", \"all\"),\n",
    "        (\"frc_eia923\", \"all\"),\n",
    "    ]\n",
    ")\n",
    "\n",
    "def params_to_args(params):\n",
    "    keys = params[0].split(',')\n",
    "    dicts = []\n",
    "    for args in params[1]:\n",
    "        new_dict = {}\n",
    "        for key,arg in zip(keys,args):\n",
    "            new_dict[key] = arg\n",
    "        dicts.append(new_dict)\n",
    "    return dicts\n",
    "\n",
    "row_args = params_to_args(row_params)"
   ]
  },
  {
   "cell_type": "code",
   "execution_count": 23,
   "id": "velvet-westminster",
   "metadata": {},
   "outputs": [],
   "source": [
    "# Run test of desired function -- change out function as desired\n",
    "validate.eia_test.test_no_null_cols_eia(\n",
    "    pudl_out_eia=pudl_out_eia,\n",
    "    live_pudl_db=True,\n",
    "    **row_args[0]\n",
    ")"
   ]
  },
  {
   "cell_type": "markdown",
   "id": "australian-frederick",
   "metadata": {},
   "source": [
    "### SQL Access"
   ]
  },
  {
   "cell_type": "code",
   "execution_count": 24,
   "id": "tribal-extraction",
   "metadata": {},
   "outputs": [],
   "source": [
    "pudl_engine = sa.create_engine(pudl_settings[\"pudl_db\"])"
   ]
  },
  {
   "cell_type": "code",
   "execution_count": 25,
   "id": "after-fitness",
   "metadata": {},
   "outputs": [],
   "source": [
    "plants = pd.read_sql(\"plants_eia860\", pudl_engine)"
   ]
  },
  {
   "cell_type": "code",
   "execution_count": 26,
   "id": "muslim-boring",
   "metadata": {},
   "outputs": [
    {
     "data": {
      "text/plain": [
       "array([None, 'UNK', 'NAD83', 'NADS27', 'WGS84', 'NAD27', 'ukn', 'NAA',\n",
       "       '\"NA\"', '\"UNK\"', 'na', 'GPS', 'Pl', 'unk', 'NA', '\"NA\\'', 'nad83',\n",
       "       'w', '(UNK)', '646', 'HARNS', 'Unk'], dtype=object)"
      ]
     },
     "execution_count": 26,
     "metadata": {},
     "output_type": "execute_result"
    }
   ],
   "source": [
    "plants.datum.unique()"
   ]
  },
  {
   "cell_type": "code",
   "execution_count": null,
   "id": "bearing-destruction",
   "metadata": {},
   "outputs": [],
   "source": []
  }
 ],
 "metadata": {
  "kernelspec": {
   "display_name": "Python 3",
   "language": "python",
   "name": "python3"
  },
  "language_info": {
   "codemirror_mode": {
    "name": "ipython",
    "version": 3
   },
   "file_extension": ".py",
   "mimetype": "text/x-python",
   "name": "python",
   "nbconvert_exporter": "python",
   "pygments_lexer": "ipython3",
   "version": "3.8.6"
  }
 },
 "nbformat": 4,
 "nbformat_minor": 5
}
